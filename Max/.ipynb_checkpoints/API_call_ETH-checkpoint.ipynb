{
 "cells": [
  {
   "cell_type": "code",
   "execution_count": 127,
   "metadata": {},
   "outputs": [
    {
     "data": {
      "text/plain": [
       "True"
      ]
     },
     "execution_count": 127,
     "metadata": {},
     "output_type": "execute_result"
    }
   ],
   "source": [
    "# Initial imports\n",
    "import os\n",
    "import pandas as pd\n",
    "import numpy as np\n",
    "import requests\n",
    "from nltk.sentiment.vader import SentimentIntensityAnalyzer\n",
    "analyzer = SentimentIntensityAnalyzer()\n",
    "\n",
    "%matplotlib inline\n",
    "from dotenv import load_dotenv\n",
    "load_dotenv()"
   ]
  },
  {
   "cell_type": "code",
   "execution_count": 128,
   "metadata": {},
   "outputs": [],
   "source": [
    "# Reading the News API key enviroment variable\n",
    "api_key = os.getenv(\"crypto_news_key\")"
   ]
  },
  {
   "cell_type": "code",
   "execution_count": 129,
   "metadata": {},
   "outputs": [
    {
     "name": "stdout",
     "output_type": "stream",
     "text": [
      "API key:<class 'str'>\n"
     ]
    }
   ],
   "source": [
    "print(f\"API key:{type(api_key)}\")"
   ]
  },
  {
   "cell_type": "code",
   "execution_count": 130,
   "metadata": {},
   "outputs": [],
   "source": [
    "crypto_ticker_news = 'https://cryptonews-api.com/api/v1?tickers=ETH&items=50&date=yeartodate&sortby=oldestfirst&page=40&token='+ api_key"
   ]
  },
  {
   "cell_type": "code",
   "execution_count": 131,
   "metadata": {},
   "outputs": [],
   "source": [
    "response_ticker_news = requests.get(crypto_ticker_news)"
   ]
  },
  {
   "cell_type": "code",
   "execution_count": 132,
   "metadata": {},
   "outputs": [
    {
     "data": {
      "text/plain": [
       "<Response [200]>"
      ]
     },
     "execution_count": 132,
     "metadata": {},
     "output_type": "execute_result"
    }
   ],
   "source": [
    "response_ticker_news"
   ]
  },
  {
   "cell_type": "code",
   "execution_count": 117,
   "metadata": {},
   "outputs": [],
   "source": [
    "crypto_ticker_news_raw = response_ticker_news.json()"
   ]
  },
  {
   "cell_type": "code",
   "execution_count": 133,
   "metadata": {},
   "outputs": [
    {
     "data": {
      "text/plain": [
       "{'data': [{'news_url': 'https://u.today/btc-eth-and-xrp-price-analysis-for-march-20',\n",
       "   'image_url': 'https://crypto.snapi.dev/images/v1/9/x/6871-16826.jpeg',\n",
       "   'title': 'BTC, ETH and XRP Price Analysis for March 20',\n",
       "   'text': 'Can Bitcoin (BTC) rise faster than Ethereum (ETH) and XRP in the upcoming pump?',\n",
       "   'source_name': 'UToday',\n",
       "   'date': 'Sat, 20 Mar 2021 10:53:34 -0400',\n",
       "   'topics': ['tanalysis'],\n",
       "   'sentiment': 'Neutral',\n",
       "   'type': 'Article',\n",
       "   'tickers': ['BTC', 'ETH', 'XRP']},\n",
       "  {'news_url': 'https://coingape.com/analyst-predicts-eth-price-breakout-as-hs-pattern-reverses/',\n",
       "   'image_url': 'https://crypto.snapi.dev/images/v1/n/g/ethereum-eth-ath-1900-grayscale-trust-16827.jpg',\n",
       "   'title': 'Analyst Predicts ETH Price Breakout to $2500 As HS Pattern Reverses',\n",
       "   'text': 'ETH price is eyeing to test its ATH as the second-largest cryptocurrency price pattern moved out of forming a Head and Shoulder pattern seeing a trend reversal on the bullish side. A crypto analyst who goes by the Twitter name of Crypto Wolf pointed towards the failed Head and Shoulders pattern and predicted that ETH The post Analyst Predicts ETH Price Breakout to $2500 As HS Pattern Reverses appeared first on Coingape.',\n",
       "   'source_name': 'Coingape',\n",
       "   'date': 'Sat, 20 Mar 2021 11:05:56 -0400',\n",
       "   'topics': [],\n",
       "   'sentiment': 'Positive',\n",
       "   'type': 'Article',\n",
       "   'tickers': ['ETH']},\n",
       "  {'news_url': 'https://coingape.com/ethereum-mining-difficulty-registers-a-new-as-eth-price-targets-new-ath-of-2500/',\n",
       "   'image_url': 'https://crypto.snapi.dev/images/v1/p/q/ethereum-price-prediction-2021-16834.jpg',\n",
       "   'title': 'Ethereum Mining Difficulty Registers a New As ETH Price Targets New ATH of $2500',\n",
       "   'text': \"Ethereum network's mining difficulty peaked to a new all-time-high 5,950,622,727,915,080, breaking the previous ATH of 5,946,888,973,277,870. The rising mining difficulty comes at a time when there is a lot of discussion around Ethereum's rising gas fee and traders shifting to other platforms.\",\n",
       "   'source_name': 'Coingape',\n",
       "   'date': 'Sat, 20 Mar 2021 12:56:55 -0400',\n",
       "   'topics': ['mining'],\n",
       "   'sentiment': 'Neutral',\n",
       "   'type': 'Article',\n",
       "   'tickers': ['ETH']},\n",
       "  {'news_url': 'https://www.youtube.com/watch?v=xjuo7rF24Kg',\n",
       "   'image_url': 'https://crypto.snapi.dev/images/v1/5/l/only-ethereum-can-be-better-than-ethereum-interview-with-1inch-co-founder-16836.jpg',\n",
       "   'title': \"'Only Ethereum can be better than Ethereum' | Interview with 1inch co-founder\",\n",
       "   'text': 'Join Cointelegraph senior editor Alex Cohen and dive into the history, drama, and technological innovation behind the 1inch project in this exclusive Cointelegraph interview. 0:00 Intro 1:25 When did you realize the crypto industry needs a DEX aggregator?',\n",
       "   'source_name': 'Cointelegraph',\n",
       "   'date': 'Sat, 20 Mar 2021 13:00:15 -0400',\n",
       "   'topics': [],\n",
       "   'sentiment': 'Neutral',\n",
       "   'type': 'Video',\n",
       "   'tickers': ['ETH']},\n",
       "  {'news_url': 'https://www.cryptoglobe.com/latest/2021/03/crypto-analyst-explains-why-he-expects-ethereum-eth-to-go-to-10000-and-beyond/',\n",
       "   'image_url': 'https://crypto.snapi.dev/images/v1/c/o/ethereum-transaction-fees-bitcoin-16852.jpg',\n",
       "   'title': 'Crypto Analyst Explains Why He Expects Ethereum ($ETH) to go to $10,000 and Beyond',\n",
       "   'text': \"On Thursday (March 18), popular New Zealand-based crypto analyst and influencer Lark Davis (@TheCryptoLark\\xa0on Twitter) talked\\xa0about the reasons for his bullishness on Ethereum (ETH). Davis started by talking about the supply of Ethereum: “First, let's start off by talking about the supply of Ethereum right now. This week, we had the second biggest Ethereum outflow […]\",\n",
       "   'source_name': 'CryptoGlobe',\n",
       "   'date': 'Sat, 20 Mar 2021 18:05:16 -0400',\n",
       "   'topics': [],\n",
       "   'sentiment': 'Neutral',\n",
       "   'type': 'Article',\n",
       "   'tickers': ['ETH']}],\n",
       " 'total_pages': 40}"
      ]
     },
     "execution_count": 133,
     "metadata": {},
     "output_type": "execute_result"
    }
   ],
   "source": [
    "crypto_ticker_news_raw"
   ]
  },
  {
   "cell_type": "code",
   "execution_count": 119,
   "metadata": {},
   "outputs": [],
   "source": [
    "ticker_news_df = pd.DataFrame(data=crypto_ticker_news_raw['data'])"
   ]
  },
  {
   "cell_type": "code",
   "execution_count": 120,
   "metadata": {},
   "outputs": [
    {
     "data": {
      "text/html": [
       "<div>\n",
       "<style scoped>\n",
       "    .dataframe tbody tr th:only-of-type {\n",
       "        vertical-align: middle;\n",
       "    }\n",
       "\n",
       "    .dataframe tbody tr th {\n",
       "        vertical-align: top;\n",
       "    }\n",
       "\n",
       "    .dataframe thead th {\n",
       "        text-align: right;\n",
       "    }\n",
       "</style>\n",
       "<table border=\"1\" class=\"dataframe\">\n",
       "  <thead>\n",
       "    <tr style=\"text-align: right;\">\n",
       "      <th></th>\n",
       "      <th>news_url</th>\n",
       "      <th>image_url</th>\n",
       "      <th>title</th>\n",
       "      <th>text</th>\n",
       "      <th>source_name</th>\n",
       "      <th>date</th>\n",
       "      <th>topics</th>\n",
       "      <th>sentiment</th>\n",
       "      <th>type</th>\n",
       "      <th>tickers</th>\n",
       "    </tr>\n",
       "  </thead>\n",
       "  <tbody>\n",
       "    <tr>\n",
       "      <th>0</th>\n",
       "      <td>https://u.today/btc-eth-and-xrp-price-analysis...</td>\n",
       "      <td>https://crypto.snapi.dev/images/v1/9/x/6871-16...</td>\n",
       "      <td>BTC, ETH and XRP Price Analysis for March 20</td>\n",
       "      <td>Can Bitcoin (BTC) rise faster than Ethereum (E...</td>\n",
       "      <td>UToday</td>\n",
       "      <td>Sat, 20 Mar 2021 10:53:34 -0400</td>\n",
       "      <td>[tanalysis]</td>\n",
       "      <td>Neutral</td>\n",
       "      <td>Article</td>\n",
       "      <td>[BTC, ETH, XRP]</td>\n",
       "    </tr>\n",
       "    <tr>\n",
       "      <th>1</th>\n",
       "      <td>https://coingape.com/analyst-predicts-eth-pric...</td>\n",
       "      <td>https://crypto.snapi.dev/images/v1/n/g/ethereu...</td>\n",
       "      <td>Analyst Predicts ETH Price Breakout to $2500 A...</td>\n",
       "      <td>ETH price is eyeing to test its ATH as the sec...</td>\n",
       "      <td>Coingape</td>\n",
       "      <td>Sat, 20 Mar 2021 11:05:56 -0400</td>\n",
       "      <td>[]</td>\n",
       "      <td>Positive</td>\n",
       "      <td>Article</td>\n",
       "      <td>[ETH]</td>\n",
       "    </tr>\n",
       "    <tr>\n",
       "      <th>2</th>\n",
       "      <td>https://coingape.com/ethereum-mining-difficult...</td>\n",
       "      <td>https://crypto.snapi.dev/images/v1/p/q/ethereu...</td>\n",
       "      <td>Ethereum Mining Difficulty Registers a New As ...</td>\n",
       "      <td>Ethereum network's mining difficulty peaked to...</td>\n",
       "      <td>Coingape</td>\n",
       "      <td>Sat, 20 Mar 2021 12:56:55 -0400</td>\n",
       "      <td>[mining]</td>\n",
       "      <td>Neutral</td>\n",
       "      <td>Article</td>\n",
       "      <td>[ETH]</td>\n",
       "    </tr>\n",
       "    <tr>\n",
       "      <th>3</th>\n",
       "      <td>https://www.youtube.com/watch?v=xjuo7rF24Kg</td>\n",
       "      <td>https://crypto.snapi.dev/images/v1/5/l/only-et...</td>\n",
       "      <td>'Only Ethereum can be better than Ethereum' | ...</td>\n",
       "      <td>Join Cointelegraph senior editor Alex Cohen an...</td>\n",
       "      <td>Cointelegraph</td>\n",
       "      <td>Sat, 20 Mar 2021 13:00:15 -0400</td>\n",
       "      <td>[]</td>\n",
       "      <td>Neutral</td>\n",
       "      <td>Video</td>\n",
       "      <td>[ETH]</td>\n",
       "    </tr>\n",
       "    <tr>\n",
       "      <th>4</th>\n",
       "      <td>https://www.cryptoglobe.com/latest/2021/03/cry...</td>\n",
       "      <td>https://crypto.snapi.dev/images/v1/c/o/ethereu...</td>\n",
       "      <td>Crypto Analyst Explains Why He Expects Ethereu...</td>\n",
       "      <td>On Thursday (March 18), popular New Zealand-ba...</td>\n",
       "      <td>CryptoGlobe</td>\n",
       "      <td>Sat, 20 Mar 2021 18:05:16 -0400</td>\n",
       "      <td>[]</td>\n",
       "      <td>Neutral</td>\n",
       "      <td>Article</td>\n",
       "      <td>[ETH]</td>\n",
       "    </tr>\n",
       "  </tbody>\n",
       "</table>\n",
       "</div>"
      ],
      "text/plain": [
       "                                            news_url  \\\n",
       "0  https://u.today/btc-eth-and-xrp-price-analysis...   \n",
       "1  https://coingape.com/analyst-predicts-eth-pric...   \n",
       "2  https://coingape.com/ethereum-mining-difficult...   \n",
       "3        https://www.youtube.com/watch?v=xjuo7rF24Kg   \n",
       "4  https://www.cryptoglobe.com/latest/2021/03/cry...   \n",
       "\n",
       "                                           image_url  \\\n",
       "0  https://crypto.snapi.dev/images/v1/9/x/6871-16...   \n",
       "1  https://crypto.snapi.dev/images/v1/n/g/ethereu...   \n",
       "2  https://crypto.snapi.dev/images/v1/p/q/ethereu...   \n",
       "3  https://crypto.snapi.dev/images/v1/5/l/only-et...   \n",
       "4  https://crypto.snapi.dev/images/v1/c/o/ethereu...   \n",
       "\n",
       "                                               title  \\\n",
       "0       BTC, ETH and XRP Price Analysis for March 20   \n",
       "1  Analyst Predicts ETH Price Breakout to $2500 A...   \n",
       "2  Ethereum Mining Difficulty Registers a New As ...   \n",
       "3  'Only Ethereum can be better than Ethereum' | ...   \n",
       "4  Crypto Analyst Explains Why He Expects Ethereu...   \n",
       "\n",
       "                                                text    source_name  \\\n",
       "0  Can Bitcoin (BTC) rise faster than Ethereum (E...         UToday   \n",
       "1  ETH price is eyeing to test its ATH as the sec...       Coingape   \n",
       "2  Ethereum network's mining difficulty peaked to...       Coingape   \n",
       "3  Join Cointelegraph senior editor Alex Cohen an...  Cointelegraph   \n",
       "4  On Thursday (March 18), popular New Zealand-ba...    CryptoGlobe   \n",
       "\n",
       "                              date       topics sentiment     type  \\\n",
       "0  Sat, 20 Mar 2021 10:53:34 -0400  [tanalysis]   Neutral  Article   \n",
       "1  Sat, 20 Mar 2021 11:05:56 -0400           []  Positive  Article   \n",
       "2  Sat, 20 Mar 2021 12:56:55 -0400     [mining]   Neutral  Article   \n",
       "3  Sat, 20 Mar 2021 13:00:15 -0400           []   Neutral    Video   \n",
       "4  Sat, 20 Mar 2021 18:05:16 -0400           []   Neutral  Article   \n",
       "\n",
       "           tickers  \n",
       "0  [BTC, ETH, XRP]  \n",
       "1            [ETH]  \n",
       "2            [ETH]  \n",
       "3            [ETH]  \n",
       "4            [ETH]  "
      ]
     },
     "execution_count": 120,
     "metadata": {},
     "output_type": "execute_result"
    }
   ],
   "source": [
    "ticker_news_df.tail()"
   ]
  },
  {
   "cell_type": "code",
   "execution_count": 121,
   "metadata": {},
   "outputs": [],
   "source": [
    "ticker_recent_news_df = ticker_news_df.drop(columns = ['news_url','image_url','source_name',])"
   ]
  },
  {
   "cell_type": "code",
   "execution_count": 122,
   "metadata": {},
   "outputs": [
    {
     "data": {
      "text/html": [
       "<div>\n",
       "<style scoped>\n",
       "    .dataframe tbody tr th:only-of-type {\n",
       "        vertical-align: middle;\n",
       "    }\n",
       "\n",
       "    .dataframe tbody tr th {\n",
       "        vertical-align: top;\n",
       "    }\n",
       "\n",
       "    .dataframe thead th {\n",
       "        text-align: right;\n",
       "    }\n",
       "</style>\n",
       "<table border=\"1\" class=\"dataframe\">\n",
       "  <thead>\n",
       "    <tr style=\"text-align: right;\">\n",
       "      <th></th>\n",
       "      <th>title</th>\n",
       "      <th>text</th>\n",
       "      <th>date</th>\n",
       "      <th>topics</th>\n",
       "      <th>sentiment</th>\n",
       "      <th>type</th>\n",
       "      <th>tickers</th>\n",
       "    </tr>\n",
       "  </thead>\n",
       "  <tbody>\n",
       "    <tr>\n",
       "      <th>0</th>\n",
       "      <td>BTC, ETH and XRP Price Analysis for March 20</td>\n",
       "      <td>Can Bitcoin (BTC) rise faster than Ethereum (E...</td>\n",
       "      <td>Sat, 20 Mar 2021 10:53:34 -0400</td>\n",
       "      <td>[tanalysis]</td>\n",
       "      <td>Neutral</td>\n",
       "      <td>Article</td>\n",
       "      <td>[BTC, ETH, XRP]</td>\n",
       "    </tr>\n",
       "    <tr>\n",
       "      <th>1</th>\n",
       "      <td>Analyst Predicts ETH Price Breakout to $2500 A...</td>\n",
       "      <td>ETH price is eyeing to test its ATH as the sec...</td>\n",
       "      <td>Sat, 20 Mar 2021 11:05:56 -0400</td>\n",
       "      <td>[]</td>\n",
       "      <td>Positive</td>\n",
       "      <td>Article</td>\n",
       "      <td>[ETH]</td>\n",
       "    </tr>\n",
       "    <tr>\n",
       "      <th>2</th>\n",
       "      <td>Ethereum Mining Difficulty Registers a New As ...</td>\n",
       "      <td>Ethereum network's mining difficulty peaked to...</td>\n",
       "      <td>Sat, 20 Mar 2021 12:56:55 -0400</td>\n",
       "      <td>[mining]</td>\n",
       "      <td>Neutral</td>\n",
       "      <td>Article</td>\n",
       "      <td>[ETH]</td>\n",
       "    </tr>\n",
       "    <tr>\n",
       "      <th>3</th>\n",
       "      <td>'Only Ethereum can be better than Ethereum' | ...</td>\n",
       "      <td>Join Cointelegraph senior editor Alex Cohen an...</td>\n",
       "      <td>Sat, 20 Mar 2021 13:00:15 -0400</td>\n",
       "      <td>[]</td>\n",
       "      <td>Neutral</td>\n",
       "      <td>Video</td>\n",
       "      <td>[ETH]</td>\n",
       "    </tr>\n",
       "    <tr>\n",
       "      <th>4</th>\n",
       "      <td>Crypto Analyst Explains Why He Expects Ethereu...</td>\n",
       "      <td>On Thursday (March 18), popular New Zealand-ba...</td>\n",
       "      <td>Sat, 20 Mar 2021 18:05:16 -0400</td>\n",
       "      <td>[]</td>\n",
       "      <td>Neutral</td>\n",
       "      <td>Article</td>\n",
       "      <td>[ETH]</td>\n",
       "    </tr>\n",
       "  </tbody>\n",
       "</table>\n",
       "</div>"
      ],
      "text/plain": [
       "                                               title  \\\n",
       "0       BTC, ETH and XRP Price Analysis for March 20   \n",
       "1  Analyst Predicts ETH Price Breakout to $2500 A...   \n",
       "2  Ethereum Mining Difficulty Registers a New As ...   \n",
       "3  'Only Ethereum can be better than Ethereum' | ...   \n",
       "4  Crypto Analyst Explains Why He Expects Ethereu...   \n",
       "\n",
       "                                                text  \\\n",
       "0  Can Bitcoin (BTC) rise faster than Ethereum (E...   \n",
       "1  ETH price is eyeing to test its ATH as the sec...   \n",
       "2  Ethereum network's mining difficulty peaked to...   \n",
       "3  Join Cointelegraph senior editor Alex Cohen an...   \n",
       "4  On Thursday (March 18), popular New Zealand-ba...   \n",
       "\n",
       "                              date       topics sentiment     type  \\\n",
       "0  Sat, 20 Mar 2021 10:53:34 -0400  [tanalysis]   Neutral  Article   \n",
       "1  Sat, 20 Mar 2021 11:05:56 -0400           []  Positive  Article   \n",
       "2  Sat, 20 Mar 2021 12:56:55 -0400     [mining]   Neutral  Article   \n",
       "3  Sat, 20 Mar 2021 13:00:15 -0400           []   Neutral    Video   \n",
       "4  Sat, 20 Mar 2021 18:05:16 -0400           []   Neutral  Article   \n",
       "\n",
       "           tickers  \n",
       "0  [BTC, ETH, XRP]  \n",
       "1            [ETH]  \n",
       "2            [ETH]  \n",
       "3            [ETH]  \n",
       "4            [ETH]  "
      ]
     },
     "execution_count": 122,
     "metadata": {},
     "output_type": "execute_result"
    }
   ],
   "source": [
    "ticker_recent_news_df.head()"
   ]
  },
  {
   "cell_type": "code",
   "execution_count": 123,
   "metadata": {},
   "outputs": [
    {
     "data": {
      "text/plain": [
       "count           5\n",
       "unique          2\n",
       "top       Neutral\n",
       "freq            4\n",
       "Name: sentiment, dtype: object"
      ]
     },
     "execution_count": 123,
     "metadata": {},
     "output_type": "execute_result"
    }
   ],
   "source": [
    "ticker_recent_news_df.sentiment.describe()"
   ]
  },
  {
   "cell_type": "code",
   "execution_count": 124,
   "metadata": {},
   "outputs": [],
   "source": [
    "# Create the ETH sentiment scores DataFrame\n",
    "sentiments = []\n",
    "\n",
    "for data in crypto_ticker_news_raw['data']:\n",
    "    try:\n",
    "        date = data['date']\n",
    "        text = data[\"text\"]\n",
    "        results = analyzer.polarity_scores(text)\n",
    "        compound = results[\"compound\"]\n",
    "        tickers = data['tickers']\n",
    "        pos = results[\"pos\"]\n",
    "        neu = results[\"neu\"]\n",
    "        neg = results[\"neg\"]\n",
    "\n",
    "        sentiments.append({\n",
    "            \"date\": date,\n",
    "            \"text\": text,\n",
    "            \"tickers\":tickers,\n",
    "            \"Compound\": compound,\n",
    "            \"Positive\": pos,\n",
    "            \"Negative\": neg,\n",
    "            \"Neutral\": neu,\n",
    "        })\n",
    "    except AttributeError:\n",
    "        pass\n",
    "    \n",
    "events  = pd.DataFrame(sentiments)"
   ]
  },
  {
   "cell_type": "code",
   "execution_count": 125,
   "metadata": {},
   "outputs": [
    {
     "data": {
      "text/html": [
       "<div>\n",
       "<style scoped>\n",
       "    .dataframe tbody tr th:only-of-type {\n",
       "        vertical-align: middle;\n",
       "    }\n",
       "\n",
       "    .dataframe tbody tr th {\n",
       "        vertical-align: top;\n",
       "    }\n",
       "\n",
       "    .dataframe thead th {\n",
       "        text-align: right;\n",
       "    }\n",
       "</style>\n",
       "<table border=\"1\" class=\"dataframe\">\n",
       "  <thead>\n",
       "    <tr style=\"text-align: right;\">\n",
       "      <th></th>\n",
       "      <th>date</th>\n",
       "      <th>text</th>\n",
       "      <th>tickers</th>\n",
       "      <th>Compound</th>\n",
       "      <th>Positive</th>\n",
       "      <th>Negative</th>\n",
       "      <th>Neutral</th>\n",
       "    </tr>\n",
       "  </thead>\n",
       "  <tbody>\n",
       "    <tr>\n",
       "      <th>0</th>\n",
       "      <td>Sat, 20 Mar 2021 10:53:34 -0400</td>\n",
       "      <td>Can Bitcoin (BTC) rise faster than Ethereum (E...</td>\n",
       "      <td>[BTC, ETH, XRP]</td>\n",
       "      <td>0.0000</td>\n",
       "      <td>0.000</td>\n",
       "      <td>0.000</td>\n",
       "      <td>1.000</td>\n",
       "    </tr>\n",
       "    <tr>\n",
       "      <th>1</th>\n",
       "      <td>Sat, 20 Mar 2021 11:05:56 -0400</td>\n",
       "      <td>ETH price is eyeing to test its ATH as the sec...</td>\n",
       "      <td>[ETH]</td>\n",
       "      <td>-0.5106</td>\n",
       "      <td>0.000</td>\n",
       "      <td>0.046</td>\n",
       "      <td>0.954</td>\n",
       "    </tr>\n",
       "    <tr>\n",
       "      <th>2</th>\n",
       "      <td>Sat, 20 Mar 2021 12:56:55 -0400</td>\n",
       "      <td>Ethereum network's mining difficulty peaked to...</td>\n",
       "      <td>[ETH]</td>\n",
       "      <td>-0.5859</td>\n",
       "      <td>0.000</td>\n",
       "      <td>0.115</td>\n",
       "      <td>0.885</td>\n",
       "    </tr>\n",
       "    <tr>\n",
       "      <th>3</th>\n",
       "      <td>Sat, 20 Mar 2021 13:00:15 -0400</td>\n",
       "      <td>Join Cointelegraph senior editor Alex Cohen an...</td>\n",
       "      <td>[ETH]</td>\n",
       "      <td>0.6625</td>\n",
       "      <td>0.159</td>\n",
       "      <td>0.000</td>\n",
       "      <td>0.841</td>\n",
       "    </tr>\n",
       "    <tr>\n",
       "      <th>4</th>\n",
       "      <td>Sat, 20 Mar 2021 18:05:16 -0400</td>\n",
       "      <td>On Thursday (March 18), popular New Zealand-ba...</td>\n",
       "      <td>[ETH]</td>\n",
       "      <td>0.4215</td>\n",
       "      <td>0.047</td>\n",
       "      <td>0.000</td>\n",
       "      <td>0.953</td>\n",
       "    </tr>\n",
       "  </tbody>\n",
       "</table>\n",
       "</div>"
      ],
      "text/plain": [
       "                              date  \\\n",
       "0  Sat, 20 Mar 2021 10:53:34 -0400   \n",
       "1  Sat, 20 Mar 2021 11:05:56 -0400   \n",
       "2  Sat, 20 Mar 2021 12:56:55 -0400   \n",
       "3  Sat, 20 Mar 2021 13:00:15 -0400   \n",
       "4  Sat, 20 Mar 2021 18:05:16 -0400   \n",
       "\n",
       "                                                text          tickers  \\\n",
       "0  Can Bitcoin (BTC) rise faster than Ethereum (E...  [BTC, ETH, XRP]   \n",
       "1  ETH price is eyeing to test its ATH as the sec...            [ETH]   \n",
       "2  Ethereum network's mining difficulty peaked to...            [ETH]   \n",
       "3  Join Cointelegraph senior editor Alex Cohen an...            [ETH]   \n",
       "4  On Thursday (March 18), popular New Zealand-ba...            [ETH]   \n",
       "\n",
       "   Compound  Positive  Negative  Neutral  \n",
       "0    0.0000     0.000     0.000    1.000  \n",
       "1   -0.5106     0.000     0.046    0.954  \n",
       "2   -0.5859     0.000     0.115    0.885  \n",
       "3    0.6625     0.159     0.000    0.841  \n",
       "4    0.4215     0.047     0.000    0.953  "
      ]
     },
     "execution_count": 125,
     "metadata": {},
     "output_type": "execute_result"
    }
   ],
   "source": [
    "events"
   ]
  },
  {
   "cell_type": "code",
   "execution_count": 81,
   "metadata": {},
   "outputs": [],
   "source": [
    "upperbound =0.5\n",
    "lowerbound =-0.5\n",
    "\n",
    "events['bullish']=np.where(events['Compound']>upperbound,1.0,0.0)\n",
    "events['bearish']=np.where(events['Compound']<lowerbound,-1.0,0.0)\n",
    "events['signal']=events['bearish']+events['bullish']\n",
    "events=events.drop(columns = ['bullish','bearish','Compound'])"
   ]
  },
  {
   "cell_type": "code",
   "execution_count": 126,
   "metadata": {},
   "outputs": [],
   "source": [
    "#events"
   ]
  },
  {
   "cell_type": "code",
   "execution_count": null,
   "metadata": {},
   "outputs": [],
   "source": []
  }
 ],
 "metadata": {
  "kernelspec": {
   "display_name": "Python [conda env:pyvizenv] *",
   "language": "python",
   "name": "conda-env-pyvizenv-py"
  },
  "language_info": {
   "codemirror_mode": {
    "name": "ipython",
    "version": 3
   },
   "file_extension": ".py",
   "mimetype": "text/x-python",
   "name": "python",
   "nbconvert_exporter": "python",
   "pygments_lexer": "ipython3",
   "version": "3.7.9"
  }
 },
 "nbformat": 4,
 "nbformat_minor": 4
}
