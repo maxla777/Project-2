{
 "cells": [
  {
   "cell_type": "code",
   "execution_count": 1,
   "metadata": {},
   "outputs": [
    {
     "data": {
      "text/plain": [
       "True"
      ]
     },
     "execution_count": 1,
     "metadata": {},
     "output_type": "execute_result"
    }
   ],
   "source": [
    "# Initial imports\n",
    "import os\n",
    "import pandas as pd\n",
    "import requests\n",
    "from dotenv import load_dotenv\n",
    "load_dotenv()"
   ]
  },
  {
   "cell_type": "code",
   "execution_count": 2,
   "metadata": {},
   "outputs": [],
   "source": [
    "# Reading the News API key enviroment variable\n",
    "api_key = os.getenv(\"crypto_news_key\")"
   ]
  },
  {
   "cell_type": "code",
   "execution_count": 3,
   "metadata": {},
   "outputs": [
    {
     "name": "stdout",
     "output_type": "stream",
     "text": [
      "API key:<class 'str'>\n"
     ]
    }
   ],
   "source": [
    "print(f\"API key:{type(api_key)}\")"
   ]
  },
  {
   "cell_type": "code",
   "execution_count": 4,
   "metadata": {},
   "outputs": [],
   "source": [
    "#adjust page to get more data\n",
    "all_ticker_news = 'https://cryptonews-api.com/api/v1/category?section=alltickers&items=50&page=1&page=2&page=3&token='+ api_key"
   ]
  },
  {
   "cell_type": "code",
   "execution_count": 5,
   "metadata": {},
   "outputs": [],
   "source": [
    "response_all_ticker_news = requests.get(all_ticker_news)"
   ]
  },
  {
   "cell_type": "code",
   "execution_count": 6,
   "metadata": {},
   "outputs": [
    {
     "data": {
      "text/plain": [
       "<Response [200]>"
      ]
     },
     "execution_count": 6,
     "metadata": {},
     "output_type": "execute_result"
    }
   ],
   "source": [
    "response_all_ticker_news"
   ]
  },
  {
   "cell_type": "code",
   "execution_count": 7,
   "metadata": {},
   "outputs": [],
   "source": [
    "all_ticker_news_raw = response_all_ticker_news.json()"
   ]
  },
  {
   "cell_type": "code",
   "execution_count": 8,
   "metadata": {},
   "outputs": [],
   "source": [
    "all_ticker_news_df = pd.DataFrame(data = all_ticker_news_raw['data'])"
   ]
  },
  {
   "cell_type": "code",
   "execution_count": 9,
   "metadata": {},
   "outputs": [
    {
     "data": {
      "text/html": [
       "<div>\n",
       "<style scoped>\n",
       "    .dataframe tbody tr th:only-of-type {\n",
       "        vertical-align: middle;\n",
       "    }\n",
       "\n",
       "    .dataframe tbody tr th {\n",
       "        vertical-align: top;\n",
       "    }\n",
       "\n",
       "    .dataframe thead th {\n",
       "        text-align: right;\n",
       "    }\n",
       "</style>\n",
       "<table border=\"1\" class=\"dataframe\">\n",
       "  <thead>\n",
       "    <tr style=\"text-align: right;\">\n",
       "      <th></th>\n",
       "      <th>news_url</th>\n",
       "      <th>image_url</th>\n",
       "      <th>title</th>\n",
       "      <th>text</th>\n",
       "      <th>source_name</th>\n",
       "      <th>date</th>\n",
       "      <th>topics</th>\n",
       "      <th>sentiment</th>\n",
       "      <th>type</th>\n",
       "      <th>tickers</th>\n",
       "    </tr>\n",
       "  </thead>\n",
       "  <tbody>\n",
       "    <tr>\n",
       "      <th>0</th>\n",
       "      <td>https://cryptonews.com/news/a-crypto-vanity-dr...</td>\n",
       "      <td>https://crypto.snapi.dev/images/v1/k/q/076564e...</td>\n",
       "      <td>A Crypto Vanity Dream Now Features Musk, Beepl...</td>\n",
       "      <td>Source: Twitter/@beeple The year is but two an...</td>\n",
       "      <td>Cryptonews</td>\n",
       "      <td>Tue, 16 Mar 2021 05:11:00 -0400</td>\n",
       "      <td>[]</td>\n",
       "      <td>Neutral</td>\n",
       "      <td>Article</td>\n",
       "      <td>[DOGE]</td>\n",
       "    </tr>\n",
       "    <tr>\n",
       "      <th>1</th>\n",
       "      <td>https://ambcrypto.com/tezos-nem-neo-price-anal...</td>\n",
       "      <td>https://crypto.snapi.dev/images/v1/d/w/archite...</td>\n",
       "      <td>Tezos, NEM, Neo Price Analysis: 16 March</td>\n",
       "      <td>Losses in the Tezos market were cut short arou...</td>\n",
       "      <td>AMBCrypto</td>\n",
       "      <td>Tue, 16 Mar 2021 05:00:22 -0400</td>\n",
       "      <td>[tanalysis]</td>\n",
       "      <td>Neutral</td>\n",
       "      <td>Article</td>\n",
       "      <td>[NEO, XEM, XTZ]</td>\n",
       "    </tr>\n",
       "    <tr>\n",
       "      <th>2</th>\n",
       "      <td>https://beincrypto.com/ripple-asks-sec-produce...</td>\n",
       "      <td>https://crypto.snapi.dev/images/v1/a/g/bic-rip...</td>\n",
       "      <td>Ripple Asks SEC to Produce Documents Related t...</td>\n",
       "      <td>Ripple has filed a motion in the lawsuit made ...</td>\n",
       "      <td>BeInCrypto</td>\n",
       "      <td>Tue, 16 Mar 2021 04:44:00 -0400</td>\n",
       "      <td>[regulations]</td>\n",
       "      <td>Neutral</td>\n",
       "      <td>Article</td>\n",
       "      <td>[BTC, ETH, XRP]</td>\n",
       "    </tr>\n",
       "    <tr>\n",
       "      <th>3</th>\n",
       "      <td>https://u.today/ripple-giant-moves-785-million...</td>\n",
       "      <td>https://crypto.snapi.dev/images/v1/d/n/6811-16...</td>\n",
       "      <td>Ripple Giant Moves 785 Million XRP, While XRP ...</td>\n",
       "      <td>Over the past ten hours, almost 790 million XR...</td>\n",
       "      <td>UToday</td>\n",
       "      <td>Tue, 16 Mar 2021 04:41:52 -0400</td>\n",
       "      <td>[]</td>\n",
       "      <td>Neutral</td>\n",
       "      <td>Article</td>\n",
       "      <td>[XRP]</td>\n",
       "    </tr>\n",
       "    <tr>\n",
       "      <th>4</th>\n",
       "      <td>https://decrypt.co/61564/record-breaking-1-bil...</td>\n",
       "      <td>https://crypto.snapi.dev/images/v1/j/w/shutter...</td>\n",
       "      <td>Record Breaking $1 Billion Bitcoin Futures Liq...</td>\n",
       "      <td>After the hubris of the weekend, the markets c...</td>\n",
       "      <td>Decrypt</td>\n",
       "      <td>Tue, 16 Mar 2021 04:32:19 -0400</td>\n",
       "      <td>[futures]</td>\n",
       "      <td>Negative</td>\n",
       "      <td>Article</td>\n",
       "      <td>[BTC]</td>\n",
       "    </tr>\n",
       "  </tbody>\n",
       "</table>\n",
       "</div>"
      ],
      "text/plain": [
       "                                            news_url  \\\n",
       "0  https://cryptonews.com/news/a-crypto-vanity-dr...   \n",
       "1  https://ambcrypto.com/tezos-nem-neo-price-anal...   \n",
       "2  https://beincrypto.com/ripple-asks-sec-produce...   \n",
       "3  https://u.today/ripple-giant-moves-785-million...   \n",
       "4  https://decrypt.co/61564/record-breaking-1-bil...   \n",
       "\n",
       "                                           image_url  \\\n",
       "0  https://crypto.snapi.dev/images/v1/k/q/076564e...   \n",
       "1  https://crypto.snapi.dev/images/v1/d/w/archite...   \n",
       "2  https://crypto.snapi.dev/images/v1/a/g/bic-rip...   \n",
       "3  https://crypto.snapi.dev/images/v1/d/n/6811-16...   \n",
       "4  https://crypto.snapi.dev/images/v1/j/w/shutter...   \n",
       "\n",
       "                                               title  \\\n",
       "0  A Crypto Vanity Dream Now Features Musk, Beepl...   \n",
       "1           Tezos, NEM, Neo Price Analysis: 16 March   \n",
       "2  Ripple Asks SEC to Produce Documents Related t...   \n",
       "3  Ripple Giant Moves 785 Million XRP, While XRP ...   \n",
       "4  Record Breaking $1 Billion Bitcoin Futures Liq...   \n",
       "\n",
       "                                                text source_name  \\\n",
       "0  Source: Twitter/@beeple The year is but two an...  Cryptonews   \n",
       "1  Losses in the Tezos market were cut short arou...   AMBCrypto   \n",
       "2  Ripple has filed a motion in the lawsuit made ...  BeInCrypto   \n",
       "3  Over the past ten hours, almost 790 million XR...      UToday   \n",
       "4  After the hubris of the weekend, the markets c...     Decrypt   \n",
       "\n",
       "                              date         topics sentiment     type  \\\n",
       "0  Tue, 16 Mar 2021 05:11:00 -0400             []   Neutral  Article   \n",
       "1  Tue, 16 Mar 2021 05:00:22 -0400    [tanalysis]   Neutral  Article   \n",
       "2  Tue, 16 Mar 2021 04:44:00 -0400  [regulations]   Neutral  Article   \n",
       "3  Tue, 16 Mar 2021 04:41:52 -0400             []   Neutral  Article   \n",
       "4  Tue, 16 Mar 2021 04:32:19 -0400      [futures]  Negative  Article   \n",
       "\n",
       "           tickers  \n",
       "0           [DOGE]  \n",
       "1  [NEO, XEM, XTZ]  \n",
       "2  [BTC, ETH, XRP]  \n",
       "3            [XRP]  \n",
       "4            [BTC]  "
      ]
     },
     "execution_count": 9,
     "metadata": {},
     "output_type": "execute_result"
    }
   ],
   "source": [
    "all_ticker_news_df.head()"
   ]
  },
  {
   "cell_type": "code",
   "execution_count": 10,
   "metadata": {},
   "outputs": [
    {
     "data": {
      "text/html": [
       "<div>\n",
       "<style scoped>\n",
       "    .dataframe tbody tr th:only-of-type {\n",
       "        vertical-align: middle;\n",
       "    }\n",
       "\n",
       "    .dataframe tbody tr th {\n",
       "        vertical-align: top;\n",
       "    }\n",
       "\n",
       "    .dataframe thead th {\n",
       "        text-align: right;\n",
       "    }\n",
       "</style>\n",
       "<table border=\"1\" class=\"dataframe\">\n",
       "  <thead>\n",
       "    <tr style=\"text-align: right;\">\n",
       "      <th></th>\n",
       "      <th>title</th>\n",
       "      <th>text</th>\n",
       "      <th>date</th>\n",
       "      <th>topics</th>\n",
       "      <th>sentiment</th>\n",
       "      <th>type</th>\n",
       "      <th>tickers</th>\n",
       "    </tr>\n",
       "  </thead>\n",
       "  <tbody>\n",
       "    <tr>\n",
       "      <th>0</th>\n",
       "      <td>A Crypto Vanity Dream Now Features Musk, Beepl...</td>\n",
       "      <td>Source: Twitter/@beeple The year is but two an...</td>\n",
       "      <td>Tue, 16 Mar 2021 05:11:00 -0400</td>\n",
       "      <td>[]</td>\n",
       "      <td>Neutral</td>\n",
       "      <td>Article</td>\n",
       "      <td>[DOGE]</td>\n",
       "    </tr>\n",
       "    <tr>\n",
       "      <th>1</th>\n",
       "      <td>Tezos, NEM, Neo Price Analysis: 16 March</td>\n",
       "      <td>Losses in the Tezos market were cut short arou...</td>\n",
       "      <td>Tue, 16 Mar 2021 05:00:22 -0400</td>\n",
       "      <td>[tanalysis]</td>\n",
       "      <td>Neutral</td>\n",
       "      <td>Article</td>\n",
       "      <td>[NEO, XEM, XTZ]</td>\n",
       "    </tr>\n",
       "    <tr>\n",
       "      <th>2</th>\n",
       "      <td>Ripple Asks SEC to Produce Documents Related t...</td>\n",
       "      <td>Ripple has filed a motion in the lawsuit made ...</td>\n",
       "      <td>Tue, 16 Mar 2021 04:44:00 -0400</td>\n",
       "      <td>[regulations]</td>\n",
       "      <td>Neutral</td>\n",
       "      <td>Article</td>\n",
       "      <td>[BTC, ETH, XRP]</td>\n",
       "    </tr>\n",
       "    <tr>\n",
       "      <th>3</th>\n",
       "      <td>Ripple Giant Moves 785 Million XRP, While XRP ...</td>\n",
       "      <td>Over the past ten hours, almost 790 million XR...</td>\n",
       "      <td>Tue, 16 Mar 2021 04:41:52 -0400</td>\n",
       "      <td>[]</td>\n",
       "      <td>Neutral</td>\n",
       "      <td>Article</td>\n",
       "      <td>[XRP]</td>\n",
       "    </tr>\n",
       "    <tr>\n",
       "      <th>4</th>\n",
       "      <td>Record Breaking $1 Billion Bitcoin Futures Liq...</td>\n",
       "      <td>After the hubris of the weekend, the markets c...</td>\n",
       "      <td>Tue, 16 Mar 2021 04:32:19 -0400</td>\n",
       "      <td>[futures]</td>\n",
       "      <td>Negative</td>\n",
       "      <td>Article</td>\n",
       "      <td>[BTC]</td>\n",
       "    </tr>\n",
       "  </tbody>\n",
       "</table>\n",
       "</div>"
      ],
      "text/plain": [
       "                                               title  \\\n",
       "0  A Crypto Vanity Dream Now Features Musk, Beepl...   \n",
       "1           Tezos, NEM, Neo Price Analysis: 16 March   \n",
       "2  Ripple Asks SEC to Produce Documents Related t...   \n",
       "3  Ripple Giant Moves 785 Million XRP, While XRP ...   \n",
       "4  Record Breaking $1 Billion Bitcoin Futures Liq...   \n",
       "\n",
       "                                                text  \\\n",
       "0  Source: Twitter/@beeple The year is but two an...   \n",
       "1  Losses in the Tezos market were cut short arou...   \n",
       "2  Ripple has filed a motion in the lawsuit made ...   \n",
       "3  Over the past ten hours, almost 790 million XR...   \n",
       "4  After the hubris of the weekend, the markets c...   \n",
       "\n",
       "                              date         topics sentiment     type  \\\n",
       "0  Tue, 16 Mar 2021 05:11:00 -0400             []   Neutral  Article   \n",
       "1  Tue, 16 Mar 2021 05:00:22 -0400    [tanalysis]   Neutral  Article   \n",
       "2  Tue, 16 Mar 2021 04:44:00 -0400  [regulations]   Neutral  Article   \n",
       "3  Tue, 16 Mar 2021 04:41:52 -0400             []   Neutral  Article   \n",
       "4  Tue, 16 Mar 2021 04:32:19 -0400      [futures]  Negative  Article   \n",
       "\n",
       "           tickers  \n",
       "0           [DOGE]  \n",
       "1  [NEO, XEM, XTZ]  \n",
       "2  [BTC, ETH, XRP]  \n",
       "3            [XRP]  \n",
       "4            [BTC]  "
      ]
     },
     "execution_count": 10,
     "metadata": {},
     "output_type": "execute_result"
    }
   ],
   "source": [
    "all_ticker_news_df = all_ticker_news_df.drop(columns = ['news_url','image_url','source_name'])\n",
    "all_ticker_news_df.head()"
   ]
  },
  {
   "cell_type": "code",
   "execution_count": null,
   "metadata": {},
   "outputs": [],
   "source": []
  }
 ],
 "metadata": {
  "kernelspec": {
   "display_name": "Python [conda env:pyvizenv] *",
   "language": "python",
   "name": "conda-env-pyvizenv-py"
  },
  "language_info": {
   "codemirror_mode": {
    "name": "ipython",
    "version": 3
   },
   "file_extension": ".py",
   "mimetype": "text/x-python",
   "name": "python",
   "nbconvert_exporter": "python",
   "pygments_lexer": "ipython3",
   "version": "3.7.9"
  }
 },
 "nbformat": 4,
 "nbformat_minor": 4
}
