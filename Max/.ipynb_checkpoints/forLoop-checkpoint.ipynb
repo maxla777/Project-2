{
 "cells": [
  {
   "cell_type": "code",
   "execution_count": 1,
   "metadata": {},
   "outputs": [
    {
     "data": {
      "text/plain": [
       "True"
      ]
     },
     "execution_count": 1,
     "metadata": {},
     "output_type": "execute_result"
    }
   ],
   "source": [
    "# Initial imports\n",
    "import os\n",
    "import pandas as pd\n",
    "import numpy as np\n",
    "import requests\n",
    "import nltk\n",
    "from nltk.sentiment.vader import SentimentIntensityAnalyzer\n",
    "analyzer = SentimentIntensityAnalyzer()\n",
    "\n",
    "%matplotlib inline\n",
    "from dotenv import load_dotenv\n",
    "load_dotenv()\n"
   ]
  },
  {
   "cell_type": "code",
   "execution_count": 2,
   "metadata": {},
   "outputs": [],
   "source": [
    "# Reading the News API key enviroment variable\n",
    "api_key = os.getenv(\"crypto_news_key\")"
   ]
  },
  {
   "cell_type": "code",
   "execution_count": null,
   "metadata": {},
   "outputs": [],
   "source": []
  },
  {
   "cell_type": "code",
   "execution_count": 3,
   "metadata": {},
   "outputs": [],
   "source": [
    "#requests.get(request_url).json()"
   ]
  },
  {
   "cell_type": "code",
   "execution_count": 8,
   "metadata": {},
   "outputs": [
    {
     "ename": "IndentationError",
     "evalue": "unindent does not match any outer indentation level (<tokenize>, line 17)",
     "output_type": "error",
     "traceback": [
      "\u001b[1;36m  File \u001b[1;32m\"<tokenize>\"\u001b[1;36m, line \u001b[1;32m17\u001b[0m\n\u001b[1;33m    frames.append(pd.DataFrame(test['data']))\u001b[0m\n\u001b[1;37m    ^\u001b[0m\n\u001b[1;31mIndentationError\u001b[0m\u001b[1;31m:\u001b[0m unindent does not match any outer indentation level\n"
     ]
    }
   ],
   "source": []
  },
  {
   "cell_type": "code",
   "execution_count": 10,
   "metadata": {},
   "outputs": [
    {
     "data": {
      "text/html": [
       "<div>\n",
       "<style scoped>\n",
       "    .dataframe tbody tr th:only-of-type {\n",
       "        vertical-align: middle;\n",
       "    }\n",
       "\n",
       "    .dataframe tbody tr th {\n",
       "        vertical-align: top;\n",
       "    }\n",
       "\n",
       "    .dataframe thead th {\n",
       "        text-align: right;\n",
       "    }\n",
       "</style>\n",
       "<table border=\"1\" class=\"dataframe\">\n",
       "  <thead>\n",
       "    <tr style=\"text-align: right;\">\n",
       "      <th></th>\n",
       "      <th>date</th>\n",
       "      <th>text</th>\n",
       "      <th>tickers</th>\n",
       "      <th>compound</th>\n",
       "    </tr>\n",
       "  </thead>\n",
       "  <tbody>\n",
       "    <tr>\n",
       "      <th>0</th>\n",
       "      <td>2021-03-20</td>\n",
       "      <td>Can Bitcoin (BTC) rise faster than Ethereum (E...</td>\n",
       "      <td>['BTC', 'ETH', 'XRP']</td>\n",
       "      <td>{'neg': 0.0, 'neu': 1.0, 'pos': 0.0, 'compound...</td>\n",
       "    </tr>\n",
       "    <tr>\n",
       "      <th>1</th>\n",
       "      <td>2021-03-20</td>\n",
       "      <td>ETH price is eyeing to test its ATH as the sec...</td>\n",
       "      <td>['ETH']</td>\n",
       "      <td>{'neg': 0.046, 'neu': 0.954, 'pos': 0.0, 'comp...</td>\n",
       "    </tr>\n",
       "    <tr>\n",
       "      <th>2</th>\n",
       "      <td>2021-03-20</td>\n",
       "      <td>Ethereum network's mining difficulty peaked to...</td>\n",
       "      <td>['ETH']</td>\n",
       "      <td>{'neg': 0.115, 'neu': 0.885, 'pos': 0.0, 'comp...</td>\n",
       "    </tr>\n",
       "    <tr>\n",
       "      <th>3</th>\n",
       "      <td>2021-03-20</td>\n",
       "      <td>Join Cointelegraph senior editor Alex Cohen an...</td>\n",
       "      <td>['ETH']</td>\n",
       "      <td>{'neg': 0.0, 'neu': 0.841, 'pos': 0.159, 'comp...</td>\n",
       "    </tr>\n",
       "    <tr>\n",
       "      <th>4</th>\n",
       "      <td>2021-03-20</td>\n",
       "      <td>On Thursday (March 18), popular New Zealand-ba...</td>\n",
       "      <td>['ETH']</td>\n",
       "      <td>{'neg': 0.0, 'neu': 0.953, 'pos': 0.047, 'comp...</td>\n",
       "    </tr>\n",
       "    <tr>\n",
       "      <th>5</th>\n",
       "      <td>2021-03-21</td>\n",
       "      <td>Despite bitcoin's recent success, some fear th...</td>\n",
       "      <td>['BTC', 'ETH']</td>\n",
       "      <td>{'neg': 0.173, 'neu': 0.752, 'pos': 0.075, 'co...</td>\n",
       "    </tr>\n",
       "    <tr>\n",
       "      <th>6</th>\n",
       "      <td>2021-03-21</td>\n",
       "      <td>Ethereum (ETH/USD) continues to orbit the 1750...</td>\n",
       "      <td>['ETH']</td>\n",
       "      <td>{'neg': 0.0, 'neu': 0.938, 'pos': 0.062, 'comp...</td>\n",
       "    </tr>\n",
       "  </tbody>\n",
       "</table>\n",
       "</div>"
      ],
      "text/plain": [
       "         date                                               text  \\\n",
       "0  2021-03-20  Can Bitcoin (BTC) rise faster than Ethereum (E...   \n",
       "1  2021-03-20  ETH price is eyeing to test its ATH as the sec...   \n",
       "2  2021-03-20  Ethereum network's mining difficulty peaked to...   \n",
       "3  2021-03-20  Join Cointelegraph senior editor Alex Cohen an...   \n",
       "4  2021-03-20  On Thursday (March 18), popular New Zealand-ba...   \n",
       "5  2021-03-21  Despite bitcoin's recent success, some fear th...   \n",
       "6  2021-03-21  Ethereum (ETH/USD) continues to orbit the 1750...   \n",
       "\n",
       "                 tickers                                           compound  \n",
       "0  ['BTC', 'ETH', 'XRP']  {'neg': 0.0, 'neu': 1.0, 'pos': 0.0, 'compound...  \n",
       "1                ['ETH']  {'neg': 0.046, 'neu': 0.954, 'pos': 0.0, 'comp...  \n",
       "2                ['ETH']  {'neg': 0.115, 'neu': 0.885, 'pos': 0.0, 'comp...  \n",
       "3                ['ETH']  {'neg': 0.0, 'neu': 0.841, 'pos': 0.159, 'comp...  \n",
       "4                ['ETH']  {'neg': 0.0, 'neu': 0.953, 'pos': 0.047, 'comp...  \n",
       "5         ['BTC', 'ETH']  {'neg': 0.173, 'neu': 0.752, 'pos': 0.075, 'co...  \n",
       "6                ['ETH']  {'neg': 0.0, 'neu': 0.938, 'pos': 0.062, 'comp...  "
      ]
     },
     "execution_count": 10,
     "metadata": {},
     "output_type": "execute_result"
    }
   ],
   "source": [
    "frames = []\n",
    "\n",
    "for page in range(39,40):\n",
    "    request_url = f'https://cryptonews-api.com/api/v1?tickers=ETH&items=50&date=yeartodate&sortby=oldestfirst&page={page+1}&token='+ api_key\n",
    "    \n",
    "    \n",
    "    \n",
    "    \n",
    "    \n",
    "    try:\n",
    "        test=requests.get(request_url).json()\n",
    "\n",
    "        frames.append(pd.DataFrame(test['data']))\n",
    "   \n",
    "\n",
    "    except Exception as err:\n",
    "        \n",
    "        try:\n",
    "            test=requests.get(request_url).json()\n",
    "\n",
    "            frames.append(pd.DataFrame(test['data']))\n",
    "   \n",
    "\n",
    "        except Exception as err:\n",
    "            print (\"OOps: Something Else\",err)\n",
    "    \n",
    "    #event_df = pd.DataFrame(data = raw_crypto_events['data'])\n",
    "    #print(requests.get(request_url).json())\n",
    "#frames[]\n",
    "\n",
    "\n",
    "combined_df = pd.concat(frames,ignore_index=True, sort=False)\n",
    "\n",
    "#add re-indexing\n",
    "combined_df = combined_df.drop(columns = ['news_url','image_url','title','source_name','topics','sentiment','type'] )\n",
    "combined_df['compound'] = combined_df.text.apply(analyzer.polarity_scores)\n",
    "combined_df['date'] = pd.to_datetime(combined_df['date'],utc=True).dt.date\n",
    "combined_df.set_index(combined_df['date'], inplace=True)\n",
    "combined_df.drop(columns=['date'], inplace=True)\n",
    "\n",
    "\n",
    "combined_df.to_csv('ETH_TEXT.csv', index = True)\n",
    "\n",
    "#combined_df.head()\n",
    "\n",
    "pd.read_csv('ETH_TEXT.csv')\n",
    "#combined_df.head()"
   ]
  },
  {
   "cell_type": "code",
   "execution_count": null,
   "metadata": {},
   "outputs": [],
   "source": []
  }
 ],
 "metadata": {
  "kernelspec": {
   "display_name": "Python [conda env:pyvizenv] *",
   "language": "python",
   "name": "conda-env-pyvizenv-py"
  },
  "language_info": {
   "codemirror_mode": {
    "name": "ipython",
    "version": 3
   },
   "file_extension": ".py",
   "mimetype": "text/x-python",
   "name": "python",
   "nbconvert_exporter": "python",
   "pygments_lexer": "ipython3",
   "version": "3.7.9"
  }
 },
 "nbformat": 4,
 "nbformat_minor": 4
}
