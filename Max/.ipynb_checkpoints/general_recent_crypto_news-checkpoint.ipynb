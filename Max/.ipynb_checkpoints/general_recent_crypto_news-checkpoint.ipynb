{
 "cells": [
  {
   "cell_type": "code",
   "execution_count": 1,
   "metadata": {},
   "outputs": [
    {
     "data": {
      "text/plain": [
       "True"
      ]
     },
     "execution_count": 1,
     "metadata": {},
     "output_type": "execute_result"
    }
   ],
   "source": [
    "# Initial imports\n",
    "import os\n",
    "import pandas as pd\n",
    "import requests\n",
    "from dotenv import load_dotenv\n",
    "load_dotenv()"
   ]
  },
  {
   "cell_type": "code",
   "execution_count": 2,
   "metadata": {},
   "outputs": [],
   "source": [
    "# Reading the News API key enviroment variable\n",
    "api_key = os.getenv(\"crypto_news_key\")"
   ]
  },
  {
   "cell_type": "code",
   "execution_count": 3,
   "metadata": {},
   "outputs": [
    {
     "name": "stdout",
     "output_type": "stream",
     "text": [
      "API key:<class 'str'>\n"
     ]
    }
   ],
   "source": [
    "print(f\"API key:{type(api_key)}\")"
   ]
  },
  {
   "cell_type": "code",
   "execution_count": 4,
   "metadata": {},
   "outputs": [],
   "source": [
    "#data pull is from the last 4 or five days\n",
    "general_crypto_news_data = 'https://cryptonews-api.com/api/v1/category?section=general&items=50&token='+ api_key\n"
   ]
  },
  {
   "cell_type": "code",
   "execution_count": 5,
   "metadata": {},
   "outputs": [],
   "source": [
    "response_news = requests.get(general_crypto_news_data)"
   ]
  },
  {
   "cell_type": "code",
   "execution_count": 6,
   "metadata": {},
   "outputs": [
    {
     "data": {
      "text/plain": [
       "<Response [200]>"
      ]
     },
     "execution_count": 6,
     "metadata": {},
     "output_type": "execute_result"
    }
   ],
   "source": [
    "response_news"
   ]
  },
  {
   "cell_type": "code",
   "execution_count": 7,
   "metadata": {},
   "outputs": [],
   "source": [
    "news_data_raw = response_news.json()"
   ]
  },
  {
   "cell_type": "code",
   "execution_count": 8,
   "metadata": {},
   "outputs": [],
   "source": [
    "news_df = pd.DataFrame(data=news_data_raw['data'])"
   ]
  },
  {
   "cell_type": "code",
   "execution_count": 11,
   "metadata": {},
   "outputs": [
    {
     "data": {
      "text/html": [
       "<div>\n",
       "<style scoped>\n",
       "    .dataframe tbody tr th:only-of-type {\n",
       "        vertical-align: middle;\n",
       "    }\n",
       "\n",
       "    .dataframe tbody tr th {\n",
       "        vertical-align: top;\n",
       "    }\n",
       "\n",
       "    .dataframe thead th {\n",
       "        text-align: right;\n",
       "    }\n",
       "</style>\n",
       "<table border=\"1\" class=\"dataframe\">\n",
       "  <thead>\n",
       "    <tr style=\"text-align: right;\">\n",
       "      <th></th>\n",
       "      <th>news_url</th>\n",
       "      <th>image_url</th>\n",
       "      <th>title</th>\n",
       "      <th>text</th>\n",
       "      <th>source_name</th>\n",
       "      <th>date</th>\n",
       "      <th>topics</th>\n",
       "      <th>sentiment</th>\n",
       "      <th>type</th>\n",
       "    </tr>\n",
       "  </thead>\n",
       "  <tbody>\n",
       "    <tr>\n",
       "      <th>45</th>\n",
       "      <td>https://cryptoslate.com/beeple-nft-sold-for-69...</td>\n",
       "      <td>https://crypto.snapi.dev/images/v1/e/v/everyda...</td>\n",
       "      <td>‘Beeple' NFT sold for $69 million is the fourt...</td>\n",
       "      <td>Is money even real anymore? The NFT sector is ...</td>\n",
       "      <td>CryptoSlate</td>\n",
       "      <td>Fri, 12 Mar 2021 10:39:40 -0500</td>\n",
       "      <td>[]</td>\n",
       "      <td>Neutral</td>\n",
       "      <td>Article</td>\n",
       "    </tr>\n",
       "    <tr>\n",
       "      <th>46</th>\n",
       "      <td>https://beincrypto.com/bidens-stimulus-check-t...</td>\n",
       "      <td>https://crypto.snapi.dev/images/v1/e/s/bic-bid...</td>\n",
       "      <td>Biden's Stimulus Check to Push Crypto Market t...</td>\n",
       "      <td>On March 6, the House of Representatives appro...</td>\n",
       "      <td>BeInCrypto</td>\n",
       "      <td>Fri, 12 Mar 2021 10:32:50 -0500</td>\n",
       "      <td>[]</td>\n",
       "      <td>Positive</td>\n",
       "      <td>Article</td>\n",
       "    </tr>\n",
       "    <tr>\n",
       "      <th>47</th>\n",
       "      <td>https://modernconsensus.com/cryptocurrencies/b...</td>\n",
       "      <td>https://crypto.snapi.dev/images/v1/c/8/aronpw-...</td>\n",
       "      <td>Markets Report: Bitcoin aims for top 3 weekly ...</td>\n",
       "      <td>The past week's trading has been one big guess...</td>\n",
       "      <td>Modern Consensus</td>\n",
       "      <td>Fri, 12 Mar 2021 09:42:59 -0500</td>\n",
       "      <td>[]</td>\n",
       "      <td>Neutral</td>\n",
       "      <td>Article</td>\n",
       "    </tr>\n",
       "    <tr>\n",
       "      <th>48</th>\n",
       "      <td>https://ambcrypto.com/poltergeist-exchange-par...</td>\n",
       "      <td>https://crypto.snapi.dev/images/v1/n/p/polterg...</td>\n",
       "      <td>Poltergeist exchange partners with ghost by Mc...</td>\n",
       "      <td>Poltergeist Exchange has partnered with GHOST ...</td>\n",
       "      <td>AMBCrypto</td>\n",
       "      <td>Fri, 12 Mar 2021 09:00:23 -0500</td>\n",
       "      <td>[stablecoins]</td>\n",
       "      <td>Positive</td>\n",
       "      <td>Article</td>\n",
       "    </tr>\n",
       "    <tr>\n",
       "      <th>49</th>\n",
       "      <td>https://cointelegraph.com/news/binance-reporte...</td>\n",
       "      <td>https://crypto.snapi.dev/images/v1/8/4/840-ahr...</td>\n",
       "      <td>Binance reportedly under CFTC investigation ov...</td>\n",
       "      <td>The world's largest cryptocurrency exchange is...</td>\n",
       "      <td>Cointelegraph</td>\n",
       "      <td>Fri, 12 Mar 2021 09:00:10 -0500</td>\n",
       "      <td>[]</td>\n",
       "      <td>Neutral</td>\n",
       "      <td>Article</td>\n",
       "    </tr>\n",
       "  </tbody>\n",
       "</table>\n",
       "</div>"
      ],
      "text/plain": [
       "                                             news_url  \\\n",
       "45  https://cryptoslate.com/beeple-nft-sold-for-69...   \n",
       "46  https://beincrypto.com/bidens-stimulus-check-t...   \n",
       "47  https://modernconsensus.com/cryptocurrencies/b...   \n",
       "48  https://ambcrypto.com/poltergeist-exchange-par...   \n",
       "49  https://cointelegraph.com/news/binance-reporte...   \n",
       "\n",
       "                                            image_url  \\\n",
       "45  https://crypto.snapi.dev/images/v1/e/v/everyda...   \n",
       "46  https://crypto.snapi.dev/images/v1/e/s/bic-bid...   \n",
       "47  https://crypto.snapi.dev/images/v1/c/8/aronpw-...   \n",
       "48  https://crypto.snapi.dev/images/v1/n/p/polterg...   \n",
       "49  https://crypto.snapi.dev/images/v1/8/4/840-ahr...   \n",
       "\n",
       "                                                title  \\\n",
       "45  ‘Beeple' NFT sold for $69 million is the fourt...   \n",
       "46  Biden's Stimulus Check to Push Crypto Market t...   \n",
       "47  Markets Report: Bitcoin aims for top 3 weekly ...   \n",
       "48  Poltergeist exchange partners with ghost by Mc...   \n",
       "49  Binance reportedly under CFTC investigation ov...   \n",
       "\n",
       "                                                 text       source_name  \\\n",
       "45  Is money even real anymore? The NFT sector is ...       CryptoSlate   \n",
       "46  On March 6, the House of Representatives appro...        BeInCrypto   \n",
       "47  The past week's trading has been one big guess...  Modern Consensus   \n",
       "48  Poltergeist Exchange has partnered with GHOST ...         AMBCrypto   \n",
       "49  The world's largest cryptocurrency exchange is...     Cointelegraph   \n",
       "\n",
       "                               date         topics sentiment     type  \n",
       "45  Fri, 12 Mar 2021 10:39:40 -0500             []   Neutral  Article  \n",
       "46  Fri, 12 Mar 2021 10:32:50 -0500             []  Positive  Article  \n",
       "47  Fri, 12 Mar 2021 09:42:59 -0500             []   Neutral  Article  \n",
       "48  Fri, 12 Mar 2021 09:00:23 -0500  [stablecoins]  Positive  Article  \n",
       "49  Fri, 12 Mar 2021 09:00:10 -0500             []   Neutral  Article  "
      ]
     },
     "execution_count": 11,
     "metadata": {},
     "output_type": "execute_result"
    }
   ],
   "source": [
    "news_df.tail()"
   ]
  },
  {
   "cell_type": "code",
   "execution_count": 22,
   "metadata": {},
   "outputs": [
    {
     "data": {
      "text/html": [
       "<div>\n",
       "<style scoped>\n",
       "    .dataframe tbody tr th:only-of-type {\n",
       "        vertical-align: middle;\n",
       "    }\n",
       "\n",
       "    .dataframe tbody tr th {\n",
       "        vertical-align: top;\n",
       "    }\n",
       "\n",
       "    .dataframe thead th {\n",
       "        text-align: right;\n",
       "    }\n",
       "</style>\n",
       "<table border=\"1\" class=\"dataframe\">\n",
       "  <thead>\n",
       "    <tr style=\"text-align: right;\">\n",
       "      <th></th>\n",
       "      <th>title</th>\n",
       "      <th>text</th>\n",
       "      <th>date</th>\n",
       "      <th>sentiment</th>\n",
       "      <th>type</th>\n",
       "    </tr>\n",
       "  </thead>\n",
       "  <tbody>\n",
       "    <tr>\n",
       "      <th>0</th>\n",
       "      <td>A $5.7 Million Crypto Heist Leaves Social Toke...</td>\n",
       "      <td>It appears to have been due to a compromised R...</td>\n",
       "      <td>Sun, 14 Mar 2021 14:35:54 -0400</td>\n",
       "      <td>Negative</td>\n",
       "      <td>Article</td>\n",
       "    </tr>\n",
       "    <tr>\n",
       "      <th>1</th>\n",
       "      <td>Social token platform Roll suffers exploit, to...</td>\n",
       "      <td>Roll, a platform for issuing social tokens on ...</td>\n",
       "      <td>Sun, 14 Mar 2021 13:37:03 -0400</td>\n",
       "      <td>Negative</td>\n",
       "      <td>Article</td>\n",
       "    </tr>\n",
       "    <tr>\n",
       "      <th>2</th>\n",
       "      <td>The superheated NFTs? A crypto market niche ti...</td>\n",
       "      <td>A pyramid scheme where “somebody will be burnt...</td>\n",
       "      <td>Sun, 14 Mar 2021 10:07:00 -0400</td>\n",
       "      <td>Neutral</td>\n",
       "      <td>Article</td>\n",
       "    </tr>\n",
       "    <tr>\n",
       "      <th>3</th>\n",
       "      <td>9 Crypto Assets Have Massive Potential in Marc...</td>\n",
       "      <td>Altcoin Daily host and crypto analyst Austin A...</td>\n",
       "      <td>Sun, 14 Mar 2021 04:04:11 -0400</td>\n",
       "      <td>Positive</td>\n",
       "      <td>Article</td>\n",
       "    </tr>\n",
       "    <tr>\n",
       "      <th>4</th>\n",
       "      <td>Turkish authorities arrest 18 Chinese national...</td>\n",
       "      <td>While the cryptocurrency market was witnessing...</td>\n",
       "      <td>Sat, 13 Mar 2021 08:45:19 -0500</td>\n",
       "      <td>Negative</td>\n",
       "      <td>Article</td>\n",
       "    </tr>\n",
       "  </tbody>\n",
       "</table>\n",
       "</div>"
      ],
      "text/plain": [
       "                                               title  \\\n",
       "0  A $5.7 Million Crypto Heist Leaves Social Toke...   \n",
       "1  Social token platform Roll suffers exploit, to...   \n",
       "2  The superheated NFTs? A crypto market niche ti...   \n",
       "3  9 Crypto Assets Have Massive Potential in Marc...   \n",
       "4  Turkish authorities arrest 18 Chinese national...   \n",
       "\n",
       "                                                text  \\\n",
       "0  It appears to have been due to a compromised R...   \n",
       "1  Roll, a platform for issuing social tokens on ...   \n",
       "2  A pyramid scheme where “somebody will be burnt...   \n",
       "3  Altcoin Daily host and crypto analyst Austin A...   \n",
       "4  While the cryptocurrency market was witnessing...   \n",
       "\n",
       "                              date sentiment     type  \n",
       "0  Sun, 14 Mar 2021 14:35:54 -0400  Negative  Article  \n",
       "1  Sun, 14 Mar 2021 13:37:03 -0400  Negative  Article  \n",
       "2  Sun, 14 Mar 2021 10:07:00 -0400   Neutral  Article  \n",
       "3  Sun, 14 Mar 2021 04:04:11 -0400  Positive  Article  \n",
       "4  Sat, 13 Mar 2021 08:45:19 -0500  Negative  Article  "
      ]
     },
     "execution_count": 22,
     "metadata": {},
     "output_type": "execute_result"
    }
   ],
   "source": [
    "general_recent_news_df = news_df.drop(columns = ['news_url','image_url','source_name'])\n",
    "general_recent_news_df.head()"
   ]
  },
  {
   "cell_type": "code",
   "execution_count": null,
   "metadata": {},
   "outputs": [],
   "source": []
  }
 ],
 "metadata": {
  "kernelspec": {
   "display_name": "Python 3",
   "language": "python",
   "name": "python3"
  },
  "language_info": {
   "codemirror_mode": {
    "name": "ipython",
    "version": 3
   },
   "file_extension": ".py",
   "mimetype": "text/x-python",
   "name": "python",
   "nbconvert_exporter": "python",
   "pygments_lexer": "ipython3",
   "version": "3.7.9"
  }
 },
 "nbformat": 4,
 "nbformat_minor": 4
}
