{
 "cells": [
  {
   "cell_type": "code",
   "execution_count": 1,
   "metadata": {},
   "outputs": [
    {
     "data": {
      "text/plain": [
       "True"
      ]
     },
     "execution_count": 1,
     "metadata": {},
     "output_type": "execute_result"
    }
   ],
   "source": [
    "# Initial imports\n",
    "import os\n",
    "import pandas as pd\n",
    "import requests\n",
    "from dotenv import load_dotenv\n",
    "load_dotenv()"
   ]
  },
  {
   "cell_type": "code",
   "execution_count": 2,
   "metadata": {},
   "outputs": [],
   "source": [
    "# Reading the News API key enviroment variable\n",
    "api_key = os.getenv(\"crypto_news_key\")"
   ]
  },
  {
   "cell_type": "code",
   "execution_count": 3,
   "metadata": {},
   "outputs": [
    {
     "name": "stdout",
     "output_type": "stream",
     "text": [
      "API key:<class 'str'>\n"
     ]
    }
   ],
   "source": [
    "print(f\"API key:{type(api_key)}\")"
   ]
  },
  {
   "cell_type": "code",
   "execution_count": 4,
   "metadata": {},
   "outputs": [],
   "source": [
    "crypto_ticker_news = 'https://cryptonews-api.com/api/v1?tickers=BTC,ETH,XRP,ADA&items=50&token='+ api_key"
   ]
  },
  {
   "cell_type": "code",
   "execution_count": 5,
   "metadata": {},
   "outputs": [],
   "source": [
    "response_ticker_news = requests.get(crypto_ticker_news)"
   ]
  },
  {
   "cell_type": "code",
   "execution_count": 6,
   "metadata": {},
   "outputs": [
    {
     "data": {
      "text/plain": [
       "<Response [200]>"
      ]
     },
     "execution_count": 6,
     "metadata": {},
     "output_type": "execute_result"
    }
   ],
   "source": [
    "response_ticker_news"
   ]
  },
  {
   "cell_type": "code",
   "execution_count": 7,
   "metadata": {},
   "outputs": [],
   "source": [
    "crypto_ticker_news_raw = response_ticker_news.json()"
   ]
  },
  {
   "cell_type": "code",
   "execution_count": 8,
   "metadata": {},
   "outputs": [],
   "source": [
    "ticker_news_df = pd.DataFrame(data=crypto_ticker_news_raw['data'])"
   ]
  },
  {
   "cell_type": "code",
   "execution_count": 9,
   "metadata": {},
   "outputs": [
    {
     "data": {
      "text/html": [
       "<div>\n",
       "<style scoped>\n",
       "    .dataframe tbody tr th:only-of-type {\n",
       "        vertical-align: middle;\n",
       "    }\n",
       "\n",
       "    .dataframe tbody tr th {\n",
       "        vertical-align: top;\n",
       "    }\n",
       "\n",
       "    .dataframe thead th {\n",
       "        text-align: right;\n",
       "    }\n",
       "</style>\n",
       "<table border=\"1\" class=\"dataframe\">\n",
       "  <thead>\n",
       "    <tr style=\"text-align: right;\">\n",
       "      <th></th>\n",
       "      <th>news_url</th>\n",
       "      <th>image_url</th>\n",
       "      <th>title</th>\n",
       "      <th>text</th>\n",
       "      <th>source_name</th>\n",
       "      <th>date</th>\n",
       "      <th>topics</th>\n",
       "      <th>sentiment</th>\n",
       "      <th>type</th>\n",
       "      <th>tickers</th>\n",
       "    </tr>\n",
       "  </thead>\n",
       "  <tbody>\n",
       "    <tr>\n",
       "      <th>45</th>\n",
       "      <td>https://modernconsensus.com/cryptocurrencies/b...</td>\n",
       "      <td>https://crypto.snapi.dev/images/v1/i/i/altcoin...</td>\n",
       "      <td>Markets Report: Bitcoin puts in $54K low but s...</td>\n",
       "      <td>Bitcoin stayed lower on March 16 as the week's...</td>\n",
       "      <td>Modern Consensus</td>\n",
       "      <td>Tue, 16 Mar 2021 10:26:48 -0400</td>\n",
       "      <td>[]</td>\n",
       "      <td>Positive</td>\n",
       "      <td>Article</td>\n",
       "      <td>[BTC]</td>\n",
       "    </tr>\n",
       "    <tr>\n",
       "      <th>46</th>\n",
       "      <td>https://u.today/judge-denies-xrp-holders-motio...</td>\n",
       "      <td>https://crypto.snapi.dev/images/v1/e/b/6817-16...</td>\n",
       "      <td>Judge Denies XRP Holders' Motion to Intervene ...</td>\n",
       "      <td>XRP holders have lost their bid to intervene i...</td>\n",
       "      <td>UToday</td>\n",
       "      <td>Tue, 16 Mar 2021 10:17:39 -0400</td>\n",
       "      <td>[regulations]</td>\n",
       "      <td>Negative</td>\n",
       "      <td>Article</td>\n",
       "      <td>[XRP]</td>\n",
       "    </tr>\n",
       "    <tr>\n",
       "      <th>47</th>\n",
       "      <td>https://ambcrypto.com/this-is-what-some-econom...</td>\n",
       "      <td>https://crypto.snapi.dev/images/v1/p/t/dmitry-...</td>\n",
       "      <td>This is what some economists are getting wrong...</td>\n",
       "      <td>The intrinsic value of an asset determines its...</td>\n",
       "      <td>AMBCrypto</td>\n",
       "      <td>Tue, 16 Mar 2021 10:00:10 -0400</td>\n",
       "      <td>[]</td>\n",
       "      <td>Neutral</td>\n",
       "      <td>Article</td>\n",
       "      <td>[BTC]</td>\n",
       "    </tr>\n",
       "    <tr>\n",
       "      <th>48</th>\n",
       "      <td>https://cryptodaily.co.uk/2021/03/Investing-le...</td>\n",
       "      <td>https://crypto.snapi.dev/images/v1/k/g/marks-1...</td>\n",
       "      <td>Investing legend Howard Marks changes his mind...</td>\n",
       "      <td>Back in 2017 the legendary investor Howard Mar...</td>\n",
       "      <td>Crypto Daily</td>\n",
       "      <td>Tue, 16 Mar 2021 09:15:00 -0400</td>\n",
       "      <td>[]</td>\n",
       "      <td>Neutral</td>\n",
       "      <td>Article</td>\n",
       "      <td>[BTC]</td>\n",
       "    </tr>\n",
       "    <tr>\n",
       "      <th>49</th>\n",
       "      <td>https://cryptonews.com/news/bitcoin-and-ethere...</td>\n",
       "      <td>https://crypto.snapi.dev/images/v1/g/s/bic-top...</td>\n",
       "      <td>Bitcoin and Ethereum Looking For Buyers, XRP O...</td>\n",
       "      <td>Bitcoin price recovered from the USD 53,200 zo...</td>\n",
       "      <td>Cryptonews</td>\n",
       "      <td>Tue, 16 Mar 2021 08:58:14 -0400</td>\n",
       "      <td>[]</td>\n",
       "      <td>Positive</td>\n",
       "      <td>Article</td>\n",
       "      <td>[BTC, ETH, XRP]</td>\n",
       "    </tr>\n",
       "  </tbody>\n",
       "</table>\n",
       "</div>"
      ],
      "text/plain": [
       "                                             news_url  \\\n",
       "45  https://modernconsensus.com/cryptocurrencies/b...   \n",
       "46  https://u.today/judge-denies-xrp-holders-motio...   \n",
       "47  https://ambcrypto.com/this-is-what-some-econom...   \n",
       "48  https://cryptodaily.co.uk/2021/03/Investing-le...   \n",
       "49  https://cryptonews.com/news/bitcoin-and-ethere...   \n",
       "\n",
       "                                            image_url  \\\n",
       "45  https://crypto.snapi.dev/images/v1/i/i/altcoin...   \n",
       "46  https://crypto.snapi.dev/images/v1/e/b/6817-16...   \n",
       "47  https://crypto.snapi.dev/images/v1/p/t/dmitry-...   \n",
       "48  https://crypto.snapi.dev/images/v1/k/g/marks-1...   \n",
       "49  https://crypto.snapi.dev/images/v1/g/s/bic-top...   \n",
       "\n",
       "                                                title  \\\n",
       "45  Markets Report: Bitcoin puts in $54K low but s...   \n",
       "46  Judge Denies XRP Holders' Motion to Intervene ...   \n",
       "47  This is what some economists are getting wrong...   \n",
       "48  Investing legend Howard Marks changes his mind...   \n",
       "49  Bitcoin and Ethereum Looking For Buyers, XRP O...   \n",
       "\n",
       "                                                 text       source_name  \\\n",
       "45  Bitcoin stayed lower on March 16 as the week's...  Modern Consensus   \n",
       "46  XRP holders have lost their bid to intervene i...            UToday   \n",
       "47  The intrinsic value of an asset determines its...         AMBCrypto   \n",
       "48  Back in 2017 the legendary investor Howard Mar...      Crypto Daily   \n",
       "49  Bitcoin price recovered from the USD 53,200 zo...        Cryptonews   \n",
       "\n",
       "                               date         topics sentiment     type  \\\n",
       "45  Tue, 16 Mar 2021 10:26:48 -0400             []  Positive  Article   \n",
       "46  Tue, 16 Mar 2021 10:17:39 -0400  [regulations]  Negative  Article   \n",
       "47  Tue, 16 Mar 2021 10:00:10 -0400             []   Neutral  Article   \n",
       "48  Tue, 16 Mar 2021 09:15:00 -0400             []   Neutral  Article   \n",
       "49  Tue, 16 Mar 2021 08:58:14 -0400             []  Positive  Article   \n",
       "\n",
       "            tickers  \n",
       "45            [BTC]  \n",
       "46            [XRP]  \n",
       "47            [BTC]  \n",
       "48            [BTC]  \n",
       "49  [BTC, ETH, XRP]  "
      ]
     },
     "execution_count": 9,
     "metadata": {},
     "output_type": "execute_result"
    }
   ],
   "source": [
    "ticker_news_df.tail()"
   ]
  },
  {
   "cell_type": "code",
   "execution_count": 10,
   "metadata": {},
   "outputs": [],
   "source": [
    "ticker_recent_news_df = ticker_news_df.drop(columns = ['news_url','image_url','source_name',])"
   ]
  },
  {
   "cell_type": "code",
   "execution_count": 11,
   "metadata": {},
   "outputs": [
    {
     "data": {
      "text/html": [
       "<div>\n",
       "<style scoped>\n",
       "    .dataframe tbody tr th:only-of-type {\n",
       "        vertical-align: middle;\n",
       "    }\n",
       "\n",
       "    .dataframe tbody tr th {\n",
       "        vertical-align: top;\n",
       "    }\n",
       "\n",
       "    .dataframe thead th {\n",
       "        text-align: right;\n",
       "    }\n",
       "</style>\n",
       "<table border=\"1\" class=\"dataframe\">\n",
       "  <thead>\n",
       "    <tr style=\"text-align: right;\">\n",
       "      <th></th>\n",
       "      <th>title</th>\n",
       "      <th>text</th>\n",
       "      <th>date</th>\n",
       "      <th>topics</th>\n",
       "      <th>sentiment</th>\n",
       "      <th>type</th>\n",
       "      <th>tickers</th>\n",
       "    </tr>\n",
       "  </thead>\n",
       "  <tbody>\n",
       "    <tr>\n",
       "      <th>0</th>\n",
       "      <td>Bitcoin's hiccup liquidates $500M of longs in ...</td>\n",
       "      <td>One explanation is that many new and inexperie...</td>\n",
       "      <td>Tue, 16 Mar 2021 20:13:14 -0400</td>\n",
       "      <td>[]</td>\n",
       "      <td>Neutral</td>\n",
       "      <td>Article</td>\n",
       "      <td>[BTC]</td>\n",
       "    </tr>\n",
       "    <tr>\n",
       "      <th>1</th>\n",
       "      <td>Biden's Rumored OCC Pick Is a Bitcoin Skeptic</td>\n",
       "      <td>The new frontrunner to lead top banking regula...</td>\n",
       "      <td>Tue, 16 Mar 2021 19:15:54 -0400</td>\n",
       "      <td>[]</td>\n",
       "      <td>Negative</td>\n",
       "      <td>Article</td>\n",
       "      <td>[BTC]</td>\n",
       "    </tr>\n",
       "    <tr>\n",
       "      <th>2</th>\n",
       "      <td>Online tire and wheel retailer accepts Dogecoi...</td>\n",
       "      <td>It seems like all companies these days want to...</td>\n",
       "      <td>Tue, 16 Mar 2021 18:30:57 -0400</td>\n",
       "      <td>[]</td>\n",
       "      <td>Positive</td>\n",
       "      <td>Article</td>\n",
       "      <td>[BTC, DOGE, ETH]</td>\n",
       "    </tr>\n",
       "    <tr>\n",
       "      <th>3</th>\n",
       "      <td>Trump's former economic advisor explains why B...</td>\n",
       "      <td>On its way down, the price of Bitcoin often co...</td>\n",
       "      <td>Tue, 16 Mar 2021 17:30:48 -0400</td>\n",
       "      <td>[]</td>\n",
       "      <td>Negative</td>\n",
       "      <td>Article</td>\n",
       "      <td>[BTC]</td>\n",
       "    </tr>\n",
       "    <tr>\n",
       "      <th>4</th>\n",
       "      <td>Bitcoin and Crypto Outperforming Everything El...</td>\n",
       "      <td>Macro guru Raoul Pal says that investing in an...</td>\n",
       "      <td>Tue, 16 Mar 2021 17:15:16 -0400</td>\n",
       "      <td>[]</td>\n",
       "      <td>Positive</td>\n",
       "      <td>Article</td>\n",
       "      <td>[BTC]</td>\n",
       "    </tr>\n",
       "  </tbody>\n",
       "</table>\n",
       "</div>"
      ],
      "text/plain": [
       "                                               title  \\\n",
       "0  Bitcoin's hiccup liquidates $500M of longs in ...   \n",
       "1      Biden's Rumored OCC Pick Is a Bitcoin Skeptic   \n",
       "2  Online tire and wheel retailer accepts Dogecoi...   \n",
       "3  Trump's former economic advisor explains why B...   \n",
       "4  Bitcoin and Crypto Outperforming Everything El...   \n",
       "\n",
       "                                                text  \\\n",
       "0  One explanation is that many new and inexperie...   \n",
       "1  The new frontrunner to lead top banking regula...   \n",
       "2  It seems like all companies these days want to...   \n",
       "3  On its way down, the price of Bitcoin often co...   \n",
       "4  Macro guru Raoul Pal says that investing in an...   \n",
       "\n",
       "                              date topics sentiment     type           tickers  \n",
       "0  Tue, 16 Mar 2021 20:13:14 -0400     []   Neutral  Article             [BTC]  \n",
       "1  Tue, 16 Mar 2021 19:15:54 -0400     []  Negative  Article             [BTC]  \n",
       "2  Tue, 16 Mar 2021 18:30:57 -0400     []  Positive  Article  [BTC, DOGE, ETH]  \n",
       "3  Tue, 16 Mar 2021 17:30:48 -0400     []  Negative  Article             [BTC]  \n",
       "4  Tue, 16 Mar 2021 17:15:16 -0400     []  Positive  Article             [BTC]  "
      ]
     },
     "execution_count": 11,
     "metadata": {},
     "output_type": "execute_result"
    }
   ],
   "source": [
    "ticker_recent_news_df.head()"
   ]
  },
  {
   "cell_type": "code",
   "execution_count": 13,
   "metadata": {},
   "outputs": [
    {
     "data": {
      "text/plain": [
       "count           50\n",
       "unique           3\n",
       "top       Positive\n",
       "freq            25\n",
       "Name: sentiment, dtype: object"
      ]
     },
     "execution_count": 13,
     "metadata": {},
     "output_type": "execute_result"
    }
   ],
   "source": [
    "ticker_recent_news_df.sentiment.describe()"
   ]
  },
  {
   "cell_type": "code",
   "execution_count": null,
   "metadata": {},
   "outputs": [],
   "source": []
  }
 ],
 "metadata": {
  "kernelspec": {
   "display_name": "Python [conda env:pyvizenv] *",
   "language": "python",
   "name": "conda-env-pyvizenv-py"
  },
  "language_info": {
   "codemirror_mode": {
    "name": "ipython",
    "version": 3
   },
   "file_extension": ".py",
   "mimetype": "text/x-python",
   "name": "python",
   "nbconvert_exporter": "python",
   "pygments_lexer": "ipython3",
   "version": "3.7.9"
  }
 },
 "nbformat": 4,
 "nbformat_minor": 4
}
