{
 "cells": [
  {
   "cell_type": "code",
   "execution_count": 10,
   "metadata": {},
   "outputs": [
    {
     "data": {
      "text/plain": [
       "True"
      ]
     },
     "execution_count": 10,
     "metadata": {},
     "output_type": "execute_result"
    }
   ],
   "source": [
    "# Initial imports\n",
    "import os\n",
    "import pandas as pd\n",
    "import requests\n",
    "from dotenv import load_dotenv\n",
    "load_dotenv()"
   ]
  },
  {
   "cell_type": "code",
   "execution_count": 11,
   "metadata": {},
   "outputs": [],
   "source": [
    "# Reading the News API key enviroment variable\n",
    "api_key = os.getenv(\"crypto_news_key\")"
   ]
  },
  {
   "cell_type": "code",
   "execution_count": 12,
   "metadata": {},
   "outputs": [
    {
     "name": "stdout",
     "output_type": "stream",
     "text": [
      "API key:<class 'str'>\n"
     ]
    }
   ],
   "source": [
    "print(f\"API key:{type(api_key)}\")"
   ]
  },
  {
   "cell_type": "code",
   "execution_count": 13,
   "metadata": {},
   "outputs": [],
   "source": []
  },
  {
   "cell_type": "code",
   "execution_count": 14,
   "metadata": {},
   "outputs": [],
   "source": [
    "response_ticker_news = requests.get(crypto_ticker_news)"
   ]
  },
  {
   "cell_type": "code",
   "execution_count": 15,
   "metadata": {},
   "outputs": [
    {
     "data": {
      "text/plain": [
       "<Response [200]>"
      ]
     },
     "execution_count": 15,
     "metadata": {},
     "output_type": "execute_result"
    }
   ],
   "source": [
    "response_ticker_news"
   ]
  },
  {
   "cell_type": "code",
   "execution_count": 16,
   "metadata": {},
   "outputs": [],
   "source": [
    "crypto_ticker_news_raw = response_ticker_news.json()"
   ]
  },
  {
   "cell_type": "code",
   "execution_count": 17,
   "metadata": {},
   "outputs": [],
   "source": [
    "ticker_news_df = pd.DataFrame(data=crypto_ticker_news_raw['data'])"
   ]
  },
  {
   "cell_type": "code",
   "execution_count": 19,
   "metadata": {},
   "outputs": [
    {
     "data": {
      "text/html": [
       "<div>\n",
       "<style scoped>\n",
       "    .dataframe tbody tr th:only-of-type {\n",
       "        vertical-align: middle;\n",
       "    }\n",
       "\n",
       "    .dataframe tbody tr th {\n",
       "        vertical-align: top;\n",
       "    }\n",
       "\n",
       "    .dataframe thead th {\n",
       "        text-align: right;\n",
       "    }\n",
       "</style>\n",
       "<table border=\"1\" class=\"dataframe\">\n",
       "  <thead>\n",
       "    <tr style=\"text-align: right;\">\n",
       "      <th></th>\n",
       "      <th>news_url</th>\n",
       "      <th>image_url</th>\n",
       "      <th>title</th>\n",
       "      <th>text</th>\n",
       "      <th>source_name</th>\n",
       "      <th>date</th>\n",
       "      <th>topics</th>\n",
       "      <th>sentiment</th>\n",
       "      <th>type</th>\n",
       "      <th>tickers</th>\n",
       "    </tr>\n",
       "  </thead>\n",
       "  <tbody>\n",
       "    <tr>\n",
       "      <th>45</th>\n",
       "      <td>https://cryptopotato.com/bitcoin-price-analysi...</td>\n",
       "      <td>https://crypto.snapi.dev/images/v1/p/n/bitcoin...</td>\n",
       "      <td>Bitcoin Price Analysis: After Breaking ATH, Th...</td>\n",
       "      <td>Bitcoin set a new ATH today after surging by o...</td>\n",
       "      <td>CryptoPotato</td>\n",
       "      <td>Sat, 13 Mar 2021 10:46:06 -0500</td>\n",
       "      <td>[tanalysis]</td>\n",
       "      <td>Neutral</td>\n",
       "      <td>Article</td>\n",
       "      <td>[BTC]</td>\n",
       "    </tr>\n",
       "    <tr>\n",
       "      <th>46</th>\n",
       "      <td>https://u.today/btc-bnb-ada-dot-and-uni-price-...</td>\n",
       "      <td>https://crypto.snapi.dev/images/v1/t/y/6783-15...</td>\n",
       "      <td>BTC, BNB, ADA, DOT and UNI Price Analysis for ...</td>\n",
       "      <td>Can Bitcoin (BTC) keep growing faster than alt...</td>\n",
       "      <td>UToday</td>\n",
       "      <td>Sat, 13 Mar 2021 09:53:09 -0500</td>\n",
       "      <td>[tanalysis]</td>\n",
       "      <td>Neutral</td>\n",
       "      <td>Article</td>\n",
       "      <td>[ADA, BNB, BTC, DOT, UNI]</td>\n",
       "    </tr>\n",
       "    <tr>\n",
       "      <th>47</th>\n",
       "      <td>https://www.reuters.com/article/us-crypto-curr...</td>\n",
       "      <td>https://crypto.snapi.dev/images/v1/g/y/m02d202...</td>\n",
       "      <td>Bitcoin hits $60,000 in record high</td>\n",
       "      <td>Bitcoin, the world's biggest cryptocurrency, o...</td>\n",
       "      <td>Reuters</td>\n",
       "      <td>Sat, 13 Mar 2021 09:49:00 -0500</td>\n",
       "      <td>[]</td>\n",
       "      <td>Positive</td>\n",
       "      <td>Article</td>\n",
       "      <td>[BTC]</td>\n",
       "    </tr>\n",
       "    <tr>\n",
       "      <th>48</th>\n",
       "      <td>https://u.today/bitcoin-btc-mining-hardware-pr...</td>\n",
       "      <td>https://crypto.snapi.dev/images/v1/g/x/bitfury...</td>\n",
       "      <td>Bitcoin (BTC) Mining Hardware Producer Bitmain...</td>\n",
       "      <td>Chinese crypto journalist and insider Colin Wu...</td>\n",
       "      <td>UToday</td>\n",
       "      <td>Sat, 13 Mar 2021 09:40:30 -0500</td>\n",
       "      <td>[mining]</td>\n",
       "      <td>Neutral</td>\n",
       "      <td>Article</td>\n",
       "      <td>[BTC]</td>\n",
       "    </tr>\n",
       "    <tr>\n",
       "      <th>49</th>\n",
       "      <td>https://coingape.com/bitcoin-btc-price-reaches...</td>\n",
       "      <td>https://crypto.snapi.dev/images/v1/b/u/6776-15...</td>\n",
       "      <td>Bitcoin (BTC) Price Reaches $60k; Max Keiser P...</td>\n",
       "      <td>After a brief period of consolidation, Bitcoin...</td>\n",
       "      <td>Coingape</td>\n",
       "      <td>Sat, 13 Mar 2021 09:36:48 -0500</td>\n",
       "      <td>[]</td>\n",
       "      <td>Positive</td>\n",
       "      <td>Article</td>\n",
       "      <td>[BTC]</td>\n",
       "    </tr>\n",
       "  </tbody>\n",
       "</table>\n",
       "</div>"
      ],
      "text/plain": [
       "                                             news_url  \\\n",
       "45  https://cryptopotato.com/bitcoin-price-analysi...   \n",
       "46  https://u.today/btc-bnb-ada-dot-and-uni-price-...   \n",
       "47  https://www.reuters.com/article/us-crypto-curr...   \n",
       "48  https://u.today/bitcoin-btc-mining-hardware-pr...   \n",
       "49  https://coingape.com/bitcoin-btc-price-reaches...   \n",
       "\n",
       "                                            image_url  \\\n",
       "45  https://crypto.snapi.dev/images/v1/p/n/bitcoin...   \n",
       "46  https://crypto.snapi.dev/images/v1/t/y/6783-15...   \n",
       "47  https://crypto.snapi.dev/images/v1/g/y/m02d202...   \n",
       "48  https://crypto.snapi.dev/images/v1/g/x/bitfury...   \n",
       "49  https://crypto.snapi.dev/images/v1/b/u/6776-15...   \n",
       "\n",
       "                                                title  \\\n",
       "45  Bitcoin Price Analysis: After Breaking ATH, Th...   \n",
       "46  BTC, BNB, ADA, DOT and UNI Price Analysis for ...   \n",
       "47                Bitcoin hits $60,000 in record high   \n",
       "48  Bitcoin (BTC) Mining Hardware Producer Bitmain...   \n",
       "49  Bitcoin (BTC) Price Reaches $60k; Max Keiser P...   \n",
       "\n",
       "                                                 text   source_name  \\\n",
       "45  Bitcoin set a new ATH today after surging by o...  CryptoPotato   \n",
       "46  Can Bitcoin (BTC) keep growing faster than alt...        UToday   \n",
       "47  Bitcoin, the world's biggest cryptocurrency, o...       Reuters   \n",
       "48  Chinese crypto journalist and insider Colin Wu...        UToday   \n",
       "49  After a brief period of consolidation, Bitcoin...      Coingape   \n",
       "\n",
       "                               date       topics sentiment     type  \\\n",
       "45  Sat, 13 Mar 2021 10:46:06 -0500  [tanalysis]   Neutral  Article   \n",
       "46  Sat, 13 Mar 2021 09:53:09 -0500  [tanalysis]   Neutral  Article   \n",
       "47  Sat, 13 Mar 2021 09:49:00 -0500           []  Positive  Article   \n",
       "48  Sat, 13 Mar 2021 09:40:30 -0500     [mining]   Neutral  Article   \n",
       "49  Sat, 13 Mar 2021 09:36:48 -0500           []  Positive  Article   \n",
       "\n",
       "                      tickers  \n",
       "45                      [BTC]  \n",
       "46  [ADA, BNB, BTC, DOT, UNI]  \n",
       "47                      [BTC]  \n",
       "48                      [BTC]  \n",
       "49                      [BTC]  "
      ]
     },
     "execution_count": 19,
     "metadata": {},
     "output_type": "execute_result"
    }
   ],
   "source": [
    "ticker_news_df.tail()"
   ]
  },
  {
   "cell_type": "code",
   "execution_count": 21,
   "metadata": {},
   "outputs": [],
   "source": [
    "ticker_recent_news_df = ticker_news_df.drop(columns = ['news_url','image_url','source_name',])"
   ]
  },
  {
   "cell_type": "code",
   "execution_count": 22,
   "metadata": {},
   "outputs": [
    {
     "data": {
      "text/html": [
       "<div>\n",
       "<style scoped>\n",
       "    .dataframe tbody tr th:only-of-type {\n",
       "        vertical-align: middle;\n",
       "    }\n",
       "\n",
       "    .dataframe tbody tr th {\n",
       "        vertical-align: top;\n",
       "    }\n",
       "\n",
       "    .dataframe thead th {\n",
       "        text-align: right;\n",
       "    }\n",
       "</style>\n",
       "<table border=\"1\" class=\"dataframe\">\n",
       "  <thead>\n",
       "    <tr style=\"text-align: right;\">\n",
       "      <th></th>\n",
       "      <th>title</th>\n",
       "      <th>text</th>\n",
       "      <th>date</th>\n",
       "      <th>topics</th>\n",
       "      <th>sentiment</th>\n",
       "      <th>type</th>\n",
       "      <th>tickers</th>\n",
       "    </tr>\n",
       "  </thead>\n",
       "  <tbody>\n",
       "    <tr>\n",
       "      <th>0</th>\n",
       "      <td>French Lawmaker Signs Petition to Allow Centra...</td>\n",
       "      <td>A French parliament member has signed a petiti...</td>\n",
       "      <td>Sun, 14 Mar 2021 15:30:07 -0400</td>\n",
       "      <td>[]</td>\n",
       "      <td>Positive</td>\n",
       "      <td>Article</td>\n",
       "      <td>[BTC]</td>\n",
       "    </tr>\n",
       "    <tr>\n",
       "      <th>1</th>\n",
       "      <td>Top 5 cryptocurrencies to watch this week: BTC...</td>\n",
       "      <td>If Bitcoin can hold $58,000 as support, altcoi...</td>\n",
       "      <td>Sun, 14 Mar 2021 15:20:00 -0400</td>\n",
       "      <td>[]</td>\n",
       "      <td>Neutral</td>\n",
       "      <td>Article</td>\n",
       "      <td>[BTC, ETH, XMR]</td>\n",
       "    </tr>\n",
       "    <tr>\n",
       "      <th>2</th>\n",
       "      <td>Weekend Roundup: Bitcoin at $60,000, Was Roll ...</td>\n",
       "      <td>Bitcoin ATH over $60,000 The weekend started w...</td>\n",
       "      <td>Sun, 14 Mar 2021 15:13:19 -0400</td>\n",
       "      <td>[]</td>\n",
       "      <td>Neutral</td>\n",
       "      <td>Article</td>\n",
       "      <td>[BTC]</td>\n",
       "    </tr>\n",
       "    <tr>\n",
       "      <th>3</th>\n",
       "      <td>Top 5 Cryptocurrencies Besides Bitcoin to Look...</td>\n",
       "      <td>With yet another strong week behind us in the ...</td>\n",
       "      <td>Sun, 14 Mar 2021 14:18:44 -0400</td>\n",
       "      <td>[]</td>\n",
       "      <td>Positive</td>\n",
       "      <td>Article</td>\n",
       "      <td>[ADA, ENJ, ETH, SUSHI]</td>\n",
       "    </tr>\n",
       "    <tr>\n",
       "      <th>4</th>\n",
       "      <td>Over 100 Companies to Shift from Ethereum to C...</td>\n",
       "      <td>Cardano's Charles Hoskinson compares Uniswap t...</td>\n",
       "      <td>Sun, 14 Mar 2021 14:03:00 -0400</td>\n",
       "      <td>[]</td>\n",
       "      <td>Neutral</td>\n",
       "      <td>Article</td>\n",
       "      <td>[ADA, ETH]</td>\n",
       "    </tr>\n",
       "  </tbody>\n",
       "</table>\n",
       "</div>"
      ],
      "text/plain": [
       "                                               title  \\\n",
       "0  French Lawmaker Signs Petition to Allow Centra...   \n",
       "1  Top 5 cryptocurrencies to watch this week: BTC...   \n",
       "2  Weekend Roundup: Bitcoin at $60,000, Was Roll ...   \n",
       "3  Top 5 Cryptocurrencies Besides Bitcoin to Look...   \n",
       "4  Over 100 Companies to Shift from Ethereum to C...   \n",
       "\n",
       "                                                text  \\\n",
       "0  A French parliament member has signed a petiti...   \n",
       "1  If Bitcoin can hold $58,000 as support, altcoi...   \n",
       "2  Bitcoin ATH over $60,000 The weekend started w...   \n",
       "3  With yet another strong week behind us in the ...   \n",
       "4  Cardano's Charles Hoskinson compares Uniswap t...   \n",
       "\n",
       "                              date topics sentiment     type  \\\n",
       "0  Sun, 14 Mar 2021 15:30:07 -0400     []  Positive  Article   \n",
       "1  Sun, 14 Mar 2021 15:20:00 -0400     []   Neutral  Article   \n",
       "2  Sun, 14 Mar 2021 15:13:19 -0400     []   Neutral  Article   \n",
       "3  Sun, 14 Mar 2021 14:18:44 -0400     []  Positive  Article   \n",
       "4  Sun, 14 Mar 2021 14:03:00 -0400     []   Neutral  Article   \n",
       "\n",
       "                  tickers  \n",
       "0                   [BTC]  \n",
       "1         [BTC, ETH, XMR]  \n",
       "2                   [BTC]  \n",
       "3  [ADA, ENJ, ETH, SUSHI]  \n",
       "4              [ADA, ETH]  "
      ]
     },
     "execution_count": 22,
     "metadata": {},
     "output_type": "execute_result"
    }
   ],
   "source": [
    "ticker_recent_news_df.head()"
   ]
  },
  {
   "cell_type": "code",
   "execution_count": null,
   "metadata": {},
   "outputs": [],
   "source": []
  }
 ],
 "metadata": {
  "kernelspec": {
   "display_name": "Python [conda env:pyvizenv] *",
   "language": "python",
   "name": "conda-env-pyvizenv-py"
  },
  "language_info": {
   "codemirror_mode": {
    "name": "ipython",
    "version": 3
   },
   "file_extension": ".py",
   "mimetype": "text/x-python",
   "name": "python",
   "nbconvert_exporter": "python",
   "pygments_lexer": "ipython3",
   "version": "3.7.9"
  }
 },
 "nbformat": 4,
 "nbformat_minor": 4
}
