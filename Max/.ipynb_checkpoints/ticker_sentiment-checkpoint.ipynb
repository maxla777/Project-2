{
 "cells": [
  {
   "cell_type": "code",
   "execution_count": 1,
   "metadata": {},
   "outputs": [
    {
     "data": {
      "text/plain": [
       "True"
      ]
     },
     "execution_count": 1,
     "metadata": {},
     "output_type": "execute_result"
    }
   ],
   "source": [
    "# Initial imports\n",
    "import os\n",
    "import pandas as pd\n",
    "import requests\n",
    "from dotenv import load_dotenv\n",
    "load_dotenv()"
   ]
  },
  {
   "cell_type": "code",
   "execution_count": 2,
   "metadata": {},
   "outputs": [],
   "source": [
    "# Reading the News API key enviroment variable\n",
    "api_key = os.getenv(\"crypto_news_key\")"
   ]
  },
  {
   "cell_type": "code",
   "execution_count": 3,
   "metadata": {},
   "outputs": [
    {
     "name": "stdout",
     "output_type": "stream",
     "text": [
      "API key:<class 'str'>\n"
     ]
    }
   ],
   "source": [
    "print(f\"API key:{type(api_key)}\")"
   ]
  },
  {
   "cell_type": "code",
   "execution_count": 4,
   "metadata": {},
   "outputs": [],
   "source": [
    "#Retrieve the daily sentiment of Tickers and General Crypto News. Use the &date= Parameter to specify your desired date range. For Individual tickers/symbols use below endpoint:\n",
    "ticker_sentiment = 'https://cryptonews-api.com/api/v1/stat?&tickers=BTC&date=last30days&token='+api_key"
   ]
  },
  {
   "cell_type": "code",
   "execution_count": 5,
   "metadata": {},
   "outputs": [],
   "source": [
    "response_ticker_sentiment = requests.get(ticker_sentiment)"
   ]
  },
  {
   "cell_type": "code",
   "execution_count": 6,
   "metadata": {},
   "outputs": [
    {
     "data": {
      "text/plain": [
       "<Response [200]>"
      ]
     },
     "execution_count": 6,
     "metadata": {},
     "output_type": "execute_result"
    }
   ],
   "source": [
    "response_ticker_sentiment"
   ]
  },
  {
   "cell_type": "code",
   "execution_count": 7,
   "metadata": {},
   "outputs": [],
   "source": [
    "raw_ticker_sentiment = response_ticker_sentiment.json()\n"
   ]
  },
  {
   "cell_type": "code",
   "execution_count": 10,
   "metadata": {},
   "outputs": [
    {
     "data": {
      "text/plain": [
       "{'total': {'BTC': {'Total Positive': 890,\n",
       "   'Total Negative': 343,\n",
       "   'Total Neutral': 810,\n",
       "   'Sentiment Score': 0.798}},\n",
       " 'data': {'2021-03-16': {'BTC': {'Neutral': 26,\n",
       "    'Positive': 17,\n",
       "    'Negative': 17,\n",
       "    'sentiment_score': 0.433}},\n",
       "  '2021-03-15': {'BTC': {'Neutral': 27,\n",
       "    'Positive': 24,\n",
       "    'Negative': 22,\n",
       "    'sentiment_score': 0.411}},\n",
       "  '2021-03-14': {'BTC': {'Neutral': 10,\n",
       "    'Positive': 12,\n",
       "    'Negative': 1,\n",
       "    'sentiment_score': 1.152}},\n",
       "  '2021-03-13': {'BTC': {'Neutral': 17,\n",
       "    'Positive': 26,\n",
       "    'Negative': 0,\n",
       "    'sentiment_score': 1.302}},\n",
       "  '2021-03-12': {'BTC': {'Neutral': 35,\n",
       "    'Positive': 20,\n",
       "    'Negative': 3,\n",
       "    'sentiment_score': 1.043}},\n",
       "  '2021-03-11': {'BTC': {'Neutral': 35,\n",
       "    'Positive': 28,\n",
       "    'Negative': 4,\n",
       "    'sentiment_score': 1.06}},\n",
       "  '2021-03-10': {'BTC': {'Neutral': 26,\n",
       "    'Positive': 37,\n",
       "    'Negative': 3,\n",
       "    'sentiment_score': 1.167}},\n",
       "  '2021-03-09': {'BTC': {'Neutral': 24,\n",
       "    'Positive': 35,\n",
       "    'Negative': 6,\n",
       "    'sentiment_score': 1.038}},\n",
       "  '2021-03-08': {'BTC': {'Neutral': 30,\n",
       "    'Positive': 32,\n",
       "    'Negative': 5,\n",
       "    'sentiment_score': 1.052}},\n",
       "  '2021-03-07': {'BTC': {'Neutral': 13,\n",
       "    'Positive': 13,\n",
       "    'Negative': 2,\n",
       "    'sentiment_score': 1.054}},\n",
       "  '2021-03-06': {'BTC': {'Neutral': 14,\n",
       "    'Positive': 6,\n",
       "    'Negative': 4,\n",
       "    'sentiment_score': 0.708}},\n",
       "  '2021-03-05': {'BTC': {'Neutral': 34,\n",
       "    'Positive': 24,\n",
       "    'Negative': 13,\n",
       "    'sentiment_score': 0.711}},\n",
       "  '2021-03-04': {'BTC': {'Neutral': 31,\n",
       "    'Positive': 19,\n",
       "    'Negative': 13,\n",
       "    'sentiment_score': 0.635}},\n",
       "  '2021-03-03': {'BTC': {'Neutral': 36,\n",
       "    'Positive': 28,\n",
       "    'Negative': 7,\n",
       "    'sentiment_score': 0.951}},\n",
       "  '2021-03-02': {'BTC': {'Neutral': 16,\n",
       "    'Positive': 40,\n",
       "    'Negative': 10,\n",
       "    'sentiment_score': 0.924}},\n",
       "  '2021-03-01': {'BTC': {'Neutral': 36,\n",
       "    'Positive': 51,\n",
       "    'Negative': 16,\n",
       "    'sentiment_score': 0.859}},\n",
       "  '2021-02-28': {'BTC': {'Neutral': 21,\n",
       "    'Positive': 6,\n",
       "    'Negative': 13,\n",
       "    'sentiment_score': 0.263}},\n",
       "  '2021-02-27': {'BTC': {'Neutral': 22,\n",
       "    'Positive': 9,\n",
       "    'Negative': 9,\n",
       "    'sentiment_score': 0.55}},\n",
       "  '2021-02-26': {'BTC': {'Neutral': 37,\n",
       "    'Positive': 14,\n",
       "    'Negative': 23,\n",
       "    'sentiment_score': 0.318}},\n",
       "  '2021-02-25': {'BTC': {'Neutral': 44,\n",
       "    'Positive': 26,\n",
       "    'Negative': 15,\n",
       "    'sentiment_score': 0.712}},\n",
       "  '2021-02-24': {'BTC': {'Neutral': 28,\n",
       "    'Positive': 50,\n",
       "    'Negative': 16,\n",
       "    'sentiment_score': 0.84}},\n",
       "  '2021-02-23': {'BTC': {'Neutral': 41,\n",
       "    'Positive': 23,\n",
       "    'Negative': 36,\n",
       "    'sentiment_score': 0.215}},\n",
       "  '2021-02-22': {'BTC': {'Neutral': 27,\n",
       "    'Positive': 19,\n",
       "    'Negative': 42,\n",
       "    'sentiment_score': -0.085}},\n",
       "  '2021-02-21': {'BTC': {'Neutral': 17,\n",
       "    'Positive': 15,\n",
       "    'Negative': 4,\n",
       "    'sentiment_score': 0.931}},\n",
       "  '2021-02-20': {'BTC': {'Neutral': 23,\n",
       "    'Positive': 14,\n",
       "    'Negative': 3,\n",
       "    'sentiment_score': 0.988}},\n",
       "  '2021-02-19': {'BTC': {'Neutral': 30,\n",
       "    'Positive': 69,\n",
       "    'Negative': 7,\n",
       "    'sentiment_score': 1.16}},\n",
       "  '2021-02-18': {'BTC': {'Neutral': 36,\n",
       "    'Positive': 38,\n",
       "    'Negative': 10,\n",
       "    'sentiment_score': 0.929}},\n",
       "  '2021-02-17': {'BTC': {'Neutral': 31,\n",
       "    'Positive': 80,\n",
       "    'Negative': 17,\n",
       "    'sentiment_score': 0.98}},\n",
       "  '2021-02-16': {'BTC': {'Neutral': 23,\n",
       "    'Positive': 85,\n",
       "    'Negative': 8,\n",
       "    'sentiment_score': 1.194}},\n",
       "  '2021-02-15': {'BTC': {'Neutral': 20,\n",
       "    'Positive': 30,\n",
       "    'Negative': 14,\n",
       "    'sentiment_score': 0.688}}},\n",
       " 'total_pages': 1}"
      ]
     },
     "execution_count": 10,
     "metadata": {},
     "output_type": "execute_result"
    }
   ],
   "source": [
    "raw_ticker_sentiment"
   ]
  },
  {
   "cell_type": "code",
   "execution_count": 8,
   "metadata": {},
   "outputs": [],
   "source": [
    "ticker_sentiment_df = pd.DataFrame(data = raw_ticker_sentiment['data'])"
   ]
  },
  {
   "cell_type": "code",
   "execution_count": 9,
   "metadata": {},
   "outputs": [
    {
     "data": {
      "text/html": [
       "<div>\n",
       "<style scoped>\n",
       "    .dataframe tbody tr th:only-of-type {\n",
       "        vertical-align: middle;\n",
       "    }\n",
       "\n",
       "    .dataframe tbody tr th {\n",
       "        vertical-align: top;\n",
       "    }\n",
       "\n",
       "    .dataframe thead th {\n",
       "        text-align: right;\n",
       "    }\n",
       "</style>\n",
       "<table border=\"1\" class=\"dataframe\">\n",
       "  <thead>\n",
       "    <tr style=\"text-align: right;\">\n",
       "      <th></th>\n",
       "      <th>2021-03-16</th>\n",
       "      <th>2021-03-15</th>\n",
       "      <th>2021-03-14</th>\n",
       "      <th>2021-03-13</th>\n",
       "      <th>2021-03-12</th>\n",
       "      <th>2021-03-11</th>\n",
       "      <th>2021-03-10</th>\n",
       "      <th>2021-03-09</th>\n",
       "      <th>2021-03-08</th>\n",
       "      <th>2021-03-07</th>\n",
       "      <th>...</th>\n",
       "      <th>2021-02-24</th>\n",
       "      <th>2021-02-23</th>\n",
       "      <th>2021-02-22</th>\n",
       "      <th>2021-02-21</th>\n",
       "      <th>2021-02-20</th>\n",
       "      <th>2021-02-19</th>\n",
       "      <th>2021-02-18</th>\n",
       "      <th>2021-02-17</th>\n",
       "      <th>2021-02-16</th>\n",
       "      <th>2021-02-15</th>\n",
       "    </tr>\n",
       "  </thead>\n",
       "  <tbody>\n",
       "    <tr>\n",
       "      <th>BTC</th>\n",
       "      <td>{'Neutral': 26, 'Positive': 17, 'Negative': 17...</td>\n",
       "      <td>{'Neutral': 27, 'Positive': 24, 'Negative': 22...</td>\n",
       "      <td>{'Neutral': 10, 'Positive': 12, 'Negative': 1,...</td>\n",
       "      <td>{'Neutral': 17, 'Positive': 26, 'Negative': 0,...</td>\n",
       "      <td>{'Neutral': 35, 'Positive': 20, 'Negative': 3,...</td>\n",
       "      <td>{'Neutral': 35, 'Positive': 28, 'Negative': 4,...</td>\n",
       "      <td>{'Neutral': 26, 'Positive': 37, 'Negative': 3,...</td>\n",
       "      <td>{'Neutral': 24, 'Positive': 35, 'Negative': 6,...</td>\n",
       "      <td>{'Neutral': 30, 'Positive': 32, 'Negative': 5,...</td>\n",
       "      <td>{'Neutral': 13, 'Positive': 13, 'Negative': 2,...</td>\n",
       "      <td>...</td>\n",
       "      <td>{'Neutral': 28, 'Positive': 50, 'Negative': 16...</td>\n",
       "      <td>{'Neutral': 41, 'Positive': 23, 'Negative': 36...</td>\n",
       "      <td>{'Neutral': 27, 'Positive': 19, 'Negative': 42...</td>\n",
       "      <td>{'Neutral': 17, 'Positive': 15, 'Negative': 4,...</td>\n",
       "      <td>{'Neutral': 23, 'Positive': 14, 'Negative': 3,...</td>\n",
       "      <td>{'Neutral': 30, 'Positive': 69, 'Negative': 7,...</td>\n",
       "      <td>{'Neutral': 36, 'Positive': 38, 'Negative': 10...</td>\n",
       "      <td>{'Neutral': 31, 'Positive': 80, 'Negative': 17...</td>\n",
       "      <td>{'Neutral': 23, 'Positive': 85, 'Negative': 8,...</td>\n",
       "      <td>{'Neutral': 20, 'Positive': 30, 'Negative': 14...</td>\n",
       "    </tr>\n",
       "  </tbody>\n",
       "</table>\n",
       "<p>1 rows × 30 columns</p>\n",
       "</div>"
      ],
      "text/plain": [
       "                                            2021-03-16  \\\n",
       "BTC  {'Neutral': 26, 'Positive': 17, 'Negative': 17...   \n",
       "\n",
       "                                            2021-03-15  \\\n",
       "BTC  {'Neutral': 27, 'Positive': 24, 'Negative': 22...   \n",
       "\n",
       "                                            2021-03-14  \\\n",
       "BTC  {'Neutral': 10, 'Positive': 12, 'Negative': 1,...   \n",
       "\n",
       "                                            2021-03-13  \\\n",
       "BTC  {'Neutral': 17, 'Positive': 26, 'Negative': 0,...   \n",
       "\n",
       "                                            2021-03-12  \\\n",
       "BTC  {'Neutral': 35, 'Positive': 20, 'Negative': 3,...   \n",
       "\n",
       "                                            2021-03-11  \\\n",
       "BTC  {'Neutral': 35, 'Positive': 28, 'Negative': 4,...   \n",
       "\n",
       "                                            2021-03-10  \\\n",
       "BTC  {'Neutral': 26, 'Positive': 37, 'Negative': 3,...   \n",
       "\n",
       "                                            2021-03-09  \\\n",
       "BTC  {'Neutral': 24, 'Positive': 35, 'Negative': 6,...   \n",
       "\n",
       "                                            2021-03-08  \\\n",
       "BTC  {'Neutral': 30, 'Positive': 32, 'Negative': 5,...   \n",
       "\n",
       "                                            2021-03-07  ...  \\\n",
       "BTC  {'Neutral': 13, 'Positive': 13, 'Negative': 2,...  ...   \n",
       "\n",
       "                                            2021-02-24  \\\n",
       "BTC  {'Neutral': 28, 'Positive': 50, 'Negative': 16...   \n",
       "\n",
       "                                            2021-02-23  \\\n",
       "BTC  {'Neutral': 41, 'Positive': 23, 'Negative': 36...   \n",
       "\n",
       "                                            2021-02-22  \\\n",
       "BTC  {'Neutral': 27, 'Positive': 19, 'Negative': 42...   \n",
       "\n",
       "                                            2021-02-21  \\\n",
       "BTC  {'Neutral': 17, 'Positive': 15, 'Negative': 4,...   \n",
       "\n",
       "                                            2021-02-20  \\\n",
       "BTC  {'Neutral': 23, 'Positive': 14, 'Negative': 3,...   \n",
       "\n",
       "                                            2021-02-19  \\\n",
       "BTC  {'Neutral': 30, 'Positive': 69, 'Negative': 7,...   \n",
       "\n",
       "                                            2021-02-18  \\\n",
       "BTC  {'Neutral': 36, 'Positive': 38, 'Negative': 10...   \n",
       "\n",
       "                                            2021-02-17  \\\n",
       "BTC  {'Neutral': 31, 'Positive': 80, 'Negative': 17...   \n",
       "\n",
       "                                            2021-02-16  \\\n",
       "BTC  {'Neutral': 23, 'Positive': 85, 'Negative': 8,...   \n",
       "\n",
       "                                            2021-02-15  \n",
       "BTC  {'Neutral': 20, 'Positive': 30, 'Negative': 14...  \n",
       "\n",
       "[1 rows x 30 columns]"
      ]
     },
     "execution_count": 9,
     "metadata": {},
     "output_type": "execute_result"
    }
   ],
   "source": [
    "ticker_sentiment_df.tail()"
   ]
  },
  {
   "cell_type": "code",
   "execution_count": null,
   "metadata": {},
   "outputs": [],
   "source": []
  },
  {
   "cell_type": "code",
   "execution_count": null,
   "metadata": {},
   "outputs": [],
   "source": []
  }
 ],
 "metadata": {
  "kernelspec": {
   "display_name": "Python [conda env:pyvizenv] *",
   "language": "python",
   "name": "conda-env-pyvizenv-py"
  },
  "language_info": {
   "codemirror_mode": {
    "name": "ipython",
    "version": 3
   },
   "file_extension": ".py",
   "mimetype": "text/x-python",
   "name": "python",
   "nbconvert_exporter": "python",
   "pygments_lexer": "ipython3",
   "version": "3.7.9"
  }
 },
 "nbformat": 4,
 "nbformat_minor": 4
}
