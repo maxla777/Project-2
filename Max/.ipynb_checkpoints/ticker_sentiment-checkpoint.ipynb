{
 "cells": [
  {
   "cell_type": "code",
   "execution_count": 18,
   "metadata": {},
   "outputs": [
    {
     "data": {
      "text/plain": [
       "True"
      ]
     },
     "execution_count": 18,
     "metadata": {},
     "output_type": "execute_result"
    }
   ],
   "source": [
    "# Initial imports\n",
    "import os\n",
    "import pandas as pd\n",
    "import requests\n",
    "from dotenv import load_dotenv\n",
    "load_dotenv()"
   ]
  },
  {
   "cell_type": "code",
   "execution_count": 19,
   "metadata": {},
   "outputs": [],
   "source": [
    "# Reading the News API key enviroment variable\n",
    "api_key = os.getenv(\"crypto_news_key\")"
   ]
  },
  {
   "cell_type": "code",
   "execution_count": 20,
   "metadata": {},
   "outputs": [
    {
     "name": "stdout",
     "output_type": "stream",
     "text": [
      "API key:<class 'str'>\n"
     ]
    }
   ],
   "source": [
    "print(f\"API key:{type(api_key)}\")"
   ]
  },
  {
   "cell_type": "code",
   "execution_count": 24,
   "metadata": {},
   "outputs": [],
   "source": [
    "#Retrieve the daily sentiment of Tickers and General Crypto News. Use the &date= Parameter to specify your desired date range. For Individual tickers/symbols use below endpoint:\n",
    "ticker_sentiment = 'https://cryptonews-api.com/api/v1/stat?&tickers=ETH&date=12012020-12072020&token='+api_key\n",
    "\n",
    "#For All Tickers/symbols use below endpoint. --- Can also set parameters to specific topis/words/entities\n",
    "#ticker_sentiment = 'https://cryptonews-api.com/api/v1/stat?&section=alltickers&date=last7days&token='+ api_key"
   ]
  },
  {
   "cell_type": "code",
   "execution_count": 25,
   "metadata": {},
   "outputs": [],
   "source": [
    "response_ticker_sentiment = requests.get(ticker_sentiment)"
   ]
  },
  {
   "cell_type": "code",
   "execution_count": 26,
   "metadata": {},
   "outputs": [
    {
     "data": {
      "text/plain": [
       "<Response [200]>"
      ]
     },
     "execution_count": 26,
     "metadata": {},
     "output_type": "execute_result"
    }
   ],
   "source": [
    "response_ticker_sentiment"
   ]
  },
  {
   "cell_type": "code",
   "execution_count": 27,
   "metadata": {},
   "outputs": [],
   "source": [
    "raw_ticker_sentiment = response_ticker_sentiment.json()\n"
   ]
  },
  {
   "cell_type": "code",
   "execution_count": 28,
   "metadata": {},
   "outputs": [
    {
     "data": {
      "text/plain": [
       "{'total': {'ETH': {'Total Positive': 44,\n",
       "   'Total Negative': 6,\n",
       "   'Total Neutral': 14,\n",
       "   'Sentiment Score': 1.109}},\n",
       " 'data': {'2020-12-07': {'ETH': {'Neutral': 7,\n",
       "    'Positive': 16,\n",
       "    'Negative': 1,\n",
       "    'sentiment_score': 1.229}},\n",
       "  '2020-12-06': {'ETH': {'Neutral': 1,\n",
       "    'Positive': 10,\n",
       "    'Negative': 0,\n",
       "    'sentiment_score': 1.455}},\n",
       "  '2020-12-05': {'ETH': {'Neutral': 0,\n",
       "    'Positive': 5,\n",
       "    'Negative': 1,\n",
       "    'sentiment_score': 1}},\n",
       "  '2020-12-04': {'ETH': {'Neutral': 4,\n",
       "    'Positive': 7,\n",
       "    'Negative': 4,\n",
       "    'sentiment_score': 0.567}},\n",
       "  '2020-12-03': {'ETH': {'Neutral': 1,\n",
       "    'Positive': 3,\n",
       "    'Negative': 0,\n",
       "    'sentiment_score': 1.375}},\n",
       "  '2020-12-02': {'ETH': {'Neutral': 0,\n",
       "    'Positive': 1,\n",
       "    'Negative': 0,\n",
       "    'sentiment_score': 1.5}},\n",
       "  '2020-12-01': {'ETH': {'Neutral': 1,\n",
       "    'Positive': 2,\n",
       "    'Negative': 0,\n",
       "    'sentiment_score': 1.333}}},\n",
       " 'total_pages': 1}"
      ]
     },
     "execution_count": 28,
     "metadata": {},
     "output_type": "execute_result"
    }
   ],
   "source": [
    "raw_ticker_sentiment"
   ]
  },
  {
   "cell_type": "code",
   "execution_count": 29,
   "metadata": {},
   "outputs": [],
   "source": [
    "ticker_sentiment_df = pd.DataFrame(data = raw_ticker_sentiment['data'])"
   ]
  },
  {
   "cell_type": "code",
   "execution_count": 30,
   "metadata": {},
   "outputs": [
    {
     "data": {
      "text/html": [
       "<div>\n",
       "<style scoped>\n",
       "    .dataframe tbody tr th:only-of-type {\n",
       "        vertical-align: middle;\n",
       "    }\n",
       "\n",
       "    .dataframe tbody tr th {\n",
       "        vertical-align: top;\n",
       "    }\n",
       "\n",
       "    .dataframe thead th {\n",
       "        text-align: right;\n",
       "    }\n",
       "</style>\n",
       "<table border=\"1\" class=\"dataframe\">\n",
       "  <thead>\n",
       "    <tr style=\"text-align: right;\">\n",
       "      <th></th>\n",
       "      <th>2020-12-07</th>\n",
       "      <th>2020-12-06</th>\n",
       "      <th>2020-12-05</th>\n",
       "      <th>2020-12-04</th>\n",
       "      <th>2020-12-03</th>\n",
       "      <th>2020-12-02</th>\n",
       "      <th>2020-12-01</th>\n",
       "    </tr>\n",
       "  </thead>\n",
       "  <tbody>\n",
       "    <tr>\n",
       "      <th>ETH</th>\n",
       "      <td>{'Neutral': 7, 'Positive': 16, 'Negative': 1, ...</td>\n",
       "      <td>{'Neutral': 1, 'Positive': 10, 'Negative': 0, ...</td>\n",
       "      <td>{'Neutral': 0, 'Positive': 5, 'Negative': 1, '...</td>\n",
       "      <td>{'Neutral': 4, 'Positive': 7, 'Negative': 4, '...</td>\n",
       "      <td>{'Neutral': 1, 'Positive': 3, 'Negative': 0, '...</td>\n",
       "      <td>{'Neutral': 0, 'Positive': 1, 'Negative': 0, '...</td>\n",
       "      <td>{'Neutral': 1, 'Positive': 2, 'Negative': 0, '...</td>\n",
       "    </tr>\n",
       "  </tbody>\n",
       "</table>\n",
       "</div>"
      ],
      "text/plain": [
       "                                            2020-12-07  \\\n",
       "ETH  {'Neutral': 7, 'Positive': 16, 'Negative': 1, ...   \n",
       "\n",
       "                                            2020-12-06  \\\n",
       "ETH  {'Neutral': 1, 'Positive': 10, 'Negative': 0, ...   \n",
       "\n",
       "                                            2020-12-05  \\\n",
       "ETH  {'Neutral': 0, 'Positive': 5, 'Negative': 1, '...   \n",
       "\n",
       "                                            2020-12-04  \\\n",
       "ETH  {'Neutral': 4, 'Positive': 7, 'Negative': 4, '...   \n",
       "\n",
       "                                            2020-12-03  \\\n",
       "ETH  {'Neutral': 1, 'Positive': 3, 'Negative': 0, '...   \n",
       "\n",
       "                                            2020-12-02  \\\n",
       "ETH  {'Neutral': 0, 'Positive': 1, 'Negative': 0, '...   \n",
       "\n",
       "                                            2020-12-01  \n",
       "ETH  {'Neutral': 1, 'Positive': 2, 'Negative': 0, '...  "
      ]
     },
     "execution_count": 30,
     "metadata": {},
     "output_type": "execute_result"
    }
   ],
   "source": [
    "ticker_sentiment_df.tail()"
   ]
  },
  {
   "cell_type": "code",
   "execution_count": null,
   "metadata": {},
   "outputs": [],
   "source": []
  },
  {
   "cell_type": "code",
   "execution_count": null,
   "metadata": {},
   "outputs": [],
   "source": []
  }
 ],
 "metadata": {
  "kernelspec": {
   "display_name": "Python [conda env:pyvizenv] *",
   "language": "python",
   "name": "conda-env-pyvizenv-py"
  },
  "language_info": {
   "codemirror_mode": {
    "name": "ipython",
    "version": 3
   },
   "file_extension": ".py",
   "mimetype": "text/x-python",
   "name": "python",
   "nbconvert_exporter": "python",
   "pygments_lexer": "ipython3",
   "version": "3.7.9"
  }
 },
 "nbformat": 4,
 "nbformat_minor": 4
}
