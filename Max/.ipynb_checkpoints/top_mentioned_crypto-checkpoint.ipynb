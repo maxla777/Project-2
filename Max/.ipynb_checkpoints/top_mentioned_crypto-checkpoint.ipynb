{
 "cells": [
  {
   "cell_type": "code",
   "execution_count": 1,
   "metadata": {},
   "outputs": [
    {
     "data": {
      "text/plain": [
       "True"
      ]
     },
     "execution_count": 1,
     "metadata": {},
     "output_type": "execute_result"
    }
   ],
   "source": [
    "# Initial imports\n",
    "import os\n",
    "import pandas as pd\n",
    "import requests\n",
    "from dotenv import load_dotenv\n",
    "load_dotenv()"
   ]
  },
  {
   "cell_type": "code",
   "execution_count": 2,
   "metadata": {},
   "outputs": [],
   "source": [
    "# Reading the News API key enviroment variable\n",
    "api_key = os.getenv(\"crypto_news_key\")"
   ]
  },
  {
   "cell_type": "code",
   "execution_count": 3,
   "metadata": {},
   "outputs": [
    {
     "name": "stdout",
     "output_type": "stream",
     "text": [
      "API key:<class 'str'>\n"
     ]
    }
   ],
   "source": [
    "print(f\"API key:{type(api_key)}\")"
   ]
  },
  {
   "cell_type": "code",
   "execution_count": 4,
   "metadata": {},
   "outputs": [],
   "source": [
    "#Retrieve the top 10 most mentioned tickers. Use the &date= parameter to specify your desired date range.\n"
   ]
  },
  {
   "cell_type": "code",
   "execution_count": 5,
   "metadata": {},
   "outputs": [],
   "source": [
    "response_top_mentioned_crypto_tickers = requests.get(top_mentioned_crypto_tickers)"
   ]
  },
  {
   "cell_type": "code",
   "execution_count": 6,
   "metadata": {},
   "outputs": [
    {
     "data": {
      "text/plain": [
       "{'data': {'all': [{'total_mentions': 385,\n",
       "    'positive_mentions': 188,\n",
       "    'negative_mentions': 21,\n",
       "    'neutral_mentions': 176,\n",
       "    'ticker': 'BTC',\n",
       "    'name': 'Bitcoin',\n",
       "    'sentiment_score': 1.108},\n",
       "   {'total_mentions': 116,\n",
       "    'positive_mentions': 40,\n",
       "    'negative_mentions': 6,\n",
       "    'neutral_mentions': 70,\n",
       "    'ticker': 'ETH',\n",
       "    'name': 'Ethereum',\n",
       "    'sentiment_score': 1.043},\n",
       "   {'total_mentions': 82,\n",
       "    'positive_mentions': 9,\n",
       "    'negative_mentions': 22,\n",
       "    'neutral_mentions': 51,\n",
       "    'ticker': 'XRP',\n",
       "    'name': 'Ripple',\n",
       "    'sentiment_score': 0.384},\n",
       "   {'total_mentions': 26,\n",
       "    'positive_mentions': 8,\n",
       "    'negative_mentions': 2,\n",
       "    'neutral_mentions': 16,\n",
       "    'ticker': 'DOGE',\n",
       "    'name': 'Dogecoin',\n",
       "    'sentiment_score': 0.962},\n",
       "   {'total_mentions': 24,\n",
       "    'positive_mentions': 7,\n",
       "    'negative_mentions': 4,\n",
       "    'neutral_mentions': 13,\n",
       "    'ticker': 'ADA',\n",
       "    'name': 'Cardano',\n",
       "    'sentiment_score': 0.729},\n",
       "   {'total_mentions': 21,\n",
       "    'positive_mentions': 5,\n",
       "    'negative_mentions': 0,\n",
       "    'neutral_mentions': 16,\n",
       "    'ticker': 'BNB',\n",
       "    'name': 'Binance Coin',\n",
       "    'sentiment_score': 1.119},\n",
       "   {'total_mentions': 19,\n",
       "    'positive_mentions': 4,\n",
       "    'negative_mentions': 0,\n",
       "    'neutral_mentions': 15,\n",
       "    'ticker': 'DOT',\n",
       "    'name': 'Polkadot',\n",
       "    'sentiment_score': 1.105},\n",
       "   {'total_mentions': 16,\n",
       "    'positive_mentions': 6,\n",
       "    'negative_mentions': 0,\n",
       "    'neutral_mentions': 10,\n",
       "    'ticker': 'MATIC',\n",
       "    'name': 'Polygon',\n",
       "    'sentiment_score': 1.188},\n",
       "   {'total_mentions': 15,\n",
       "    'positive_mentions': 3,\n",
       "    'negative_mentions': 0,\n",
       "    'neutral_mentions': 12,\n",
       "    'ticker': 'UNI',\n",
       "    'name': 'Uniswap',\n",
       "    'sentiment_score': 1.1},\n",
       "   {'total_mentions': 15,\n",
       "    'positive_mentions': 2,\n",
       "    'negative_mentions': 1,\n",
       "    'neutral_mentions': 12,\n",
       "    'ticker': 'LTC',\n",
       "    'name': 'Litecoin',\n",
       "    'sentiment_score': 0.9}]}}"
      ]
     },
     "execution_count": 6,
     "metadata": {},
     "output_type": "execute_result"
    }
   ],
   "source": [
    "response_top_mentioned_crypto_tickers.json()"
   ]
  },
  {
   "cell_type": "code",
   "execution_count": 9,
   "metadata": {},
   "outputs": [],
   "source": [
    "top_mentioned_crypto_raw = response_top_mentioned_crypto_tickers.json()"
   ]
  },
  {
   "cell_type": "code",
   "execution_count": 10,
   "metadata": {},
   "outputs": [],
   "source": [
    "top_mentioned_crypto_df = pd.DataFrame(data = top_mentioned_crypto_raw['data'])"
   ]
  },
  {
   "cell_type": "code",
   "execution_count": 11,
   "metadata": {},
   "outputs": [
    {
     "data": {
      "text/html": [
       "<div>\n",
       "<style scoped>\n",
       "    .dataframe tbody tr th:only-of-type {\n",
       "        vertical-align: middle;\n",
       "    }\n",
       "\n",
       "    .dataframe tbody tr th {\n",
       "        vertical-align: top;\n",
       "    }\n",
       "\n",
       "    .dataframe thead th {\n",
       "        text-align: right;\n",
       "    }\n",
       "</style>\n",
       "<table border=\"1\" class=\"dataframe\">\n",
       "  <thead>\n",
       "    <tr style=\"text-align: right;\">\n",
       "      <th></th>\n",
       "      <th>all</th>\n",
       "    </tr>\n",
       "  </thead>\n",
       "  <tbody>\n",
       "    <tr>\n",
       "      <th>0</th>\n",
       "      <td>{'total_mentions': 385, 'positive_mentions': 1...</td>\n",
       "    </tr>\n",
       "    <tr>\n",
       "      <th>1</th>\n",
       "      <td>{'total_mentions': 116, 'positive_mentions': 4...</td>\n",
       "    </tr>\n",
       "    <tr>\n",
       "      <th>2</th>\n",
       "      <td>{'total_mentions': 82, 'positive_mentions': 9,...</td>\n",
       "    </tr>\n",
       "    <tr>\n",
       "      <th>3</th>\n",
       "      <td>{'total_mentions': 26, 'positive_mentions': 8,...</td>\n",
       "    </tr>\n",
       "    <tr>\n",
       "      <th>4</th>\n",
       "      <td>{'total_mentions': 24, 'positive_mentions': 7,...</td>\n",
       "    </tr>\n",
       "    <tr>\n",
       "      <th>5</th>\n",
       "      <td>{'total_mentions': 21, 'positive_mentions': 5,...</td>\n",
       "    </tr>\n",
       "    <tr>\n",
       "      <th>6</th>\n",
       "      <td>{'total_mentions': 19, 'positive_mentions': 4,...</td>\n",
       "    </tr>\n",
       "    <tr>\n",
       "      <th>7</th>\n",
       "      <td>{'total_mentions': 16, 'positive_mentions': 6,...</td>\n",
       "    </tr>\n",
       "    <tr>\n",
       "      <th>8</th>\n",
       "      <td>{'total_mentions': 15, 'positive_mentions': 3,...</td>\n",
       "    </tr>\n",
       "    <tr>\n",
       "      <th>9</th>\n",
       "      <td>{'total_mentions': 15, 'positive_mentions': 2,...</td>\n",
       "    </tr>\n",
       "  </tbody>\n",
       "</table>\n",
       "</div>"
      ],
      "text/plain": [
       "                                                 all\n",
       "0  {'total_mentions': 385, 'positive_mentions': 1...\n",
       "1  {'total_mentions': 116, 'positive_mentions': 4...\n",
       "2  {'total_mentions': 82, 'positive_mentions': 9,...\n",
       "3  {'total_mentions': 26, 'positive_mentions': 8,...\n",
       "4  {'total_mentions': 24, 'positive_mentions': 7,...\n",
       "5  {'total_mentions': 21, 'positive_mentions': 5,...\n",
       "6  {'total_mentions': 19, 'positive_mentions': 4,...\n",
       "7  {'total_mentions': 16, 'positive_mentions': 6,...\n",
       "8  {'total_mentions': 15, 'positive_mentions': 3,...\n",
       "9  {'total_mentions': 15, 'positive_mentions': 2,..."
      ]
     },
     "execution_count": 11,
     "metadata": {},
     "output_type": "execute_result"
    }
   ],
   "source": [
    "top_mentioned_crypto_df"
   ]
  },
  {
   "cell_type": "code",
   "execution_count": null,
   "metadata": {},
   "outputs": [],
   "source": []
  }
 ],
 "metadata": {
  "kernelspec": {
   "display_name": "Python [conda env:pyvizenv] *",
   "language": "python",
   "name": "conda-env-pyvizenv-py"
  },
  "language_info": {
   "codemirror_mode": {
    "name": "ipython",
    "version": 3
   },
   "file_extension": ".py",
   "mimetype": "text/x-python",
   "name": "python",
   "nbconvert_exporter": "python",
   "pygments_lexer": "ipython3",
   "version": "3.7.9"
  }
 },
 "nbformat": 4,
 "nbformat_minor": 4
}
