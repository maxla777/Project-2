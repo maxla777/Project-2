{
 "cells": [
  {
   "cell_type": "code",
   "execution_count": 44,
   "metadata": {},
   "outputs": [
    {
     "data": {
      "text/plain": [
       "True"
      ]
     },
     "execution_count": 44,
     "metadata": {},
     "output_type": "execute_result"
    }
   ],
   "source": [
    "# Initial imports\n",
    "import os\n",
    "import pandas as pd\n",
    "import requests\n",
    "from dotenv import load_dotenv\n",
    "load_dotenv()"
   ]
  },
  {
   "cell_type": "code",
   "execution_count": 45,
   "metadata": {},
   "outputs": [],
   "source": [
    "# Reading the News API key enviroment variable\n",
    "api_key = os.getenv(\"crypto_news_key\")"
   ]
  },
  {
   "cell_type": "code",
   "execution_count": 46,
   "metadata": {},
   "outputs": [
    {
     "name": "stdout",
     "output_type": "stream",
     "text": [
      "API key:<class 'str'>\n"
     ]
    }
   ],
   "source": [
    "print(f\"API key:{type(api_key)}\")"
   ]
  },
  {
   "cell_type": "code",
   "execution_count": 47,
   "metadata": {},
   "outputs": [],
   "source": [
    "#adjust page to get more data\n"
   ]
  },
  {
   "cell_type": "code",
   "execution_count": 48,
   "metadata": {},
   "outputs": [],
   "source": [
    "response_all_ticker_news = requests.get(all_ticker_news)"
   ]
  },
  {
   "cell_type": "code",
   "execution_count": 49,
   "metadata": {},
   "outputs": [
    {
     "data": {
      "text/plain": [
       "<Response [200]>"
      ]
     },
     "execution_count": 49,
     "metadata": {},
     "output_type": "execute_result"
    }
   ],
   "source": [
    "response_all_ticker_news"
   ]
  },
  {
   "cell_type": "code",
   "execution_count": 35,
   "metadata": {},
   "outputs": [],
   "source": [
    "all_ticker_news_raw = response_all_ticker_news.json()"
   ]
  },
  {
   "cell_type": "code",
   "execution_count": 36,
   "metadata": {},
   "outputs": [],
   "source": [
    "all_ticker_news_df = pd.DataFrame(data = all_ticker_news_raw['data'])"
   ]
  },
  {
   "cell_type": "code",
   "execution_count": 38,
   "metadata": {},
   "outputs": [
    {
     "data": {
      "text/html": [
       "<div>\n",
       "<style scoped>\n",
       "    .dataframe tbody tr th:only-of-type {\n",
       "        vertical-align: middle;\n",
       "    }\n",
       "\n",
       "    .dataframe tbody tr th {\n",
       "        vertical-align: top;\n",
       "    }\n",
       "\n",
       "    .dataframe thead th {\n",
       "        text-align: right;\n",
       "    }\n",
       "</style>\n",
       "<table border=\"1\" class=\"dataframe\">\n",
       "  <thead>\n",
       "    <tr style=\"text-align: right;\">\n",
       "      <th></th>\n",
       "      <th>news_url</th>\n",
       "      <th>image_url</th>\n",
       "      <th>title</th>\n",
       "      <th>text</th>\n",
       "      <th>source_name</th>\n",
       "      <th>date</th>\n",
       "      <th>topics</th>\n",
       "      <th>sentiment</th>\n",
       "      <th>type</th>\n",
       "      <th>tickers</th>\n",
       "    </tr>\n",
       "  </thead>\n",
       "  <tbody>\n",
       "    <tr>\n",
       "      <th>0</th>\n",
       "      <td>https://cryptopotato.com/bitcoin-price-just-br...</td>\n",
       "      <td>https://crypto.snapi.dev/images/v1/z/j/bitcoin...</td>\n",
       "      <td>Bitcoin Price Just Broke $58,500 Setting New A...</td>\n",
       "      <td>It took bitcoin less than a month to finally b...</td>\n",
       "      <td>CryptoPotato</td>\n",
       "      <td>Sat, 13 Mar 2021 05:18:01 -0500</td>\n",
       "      <td>[]</td>\n",
       "      <td>Positive</td>\n",
       "      <td>Article</td>\n",
       "      <td>[BTC]</td>\n",
       "    </tr>\n",
       "    <tr>\n",
       "      <th>1</th>\n",
       "      <td>https://dailyhodl.com/2021/03/13/ethereum-crea...</td>\n",
       "      <td>https://crypto.snapi.dev/images/v1/g/l/glass-e...</td>\n",
       "      <td>Ethereum Creator Vitalik Buterin Says 100X Boo...</td>\n",
       "      <td>Ethereum co-founder Vitalik Buterin reveals th...</td>\n",
       "      <td>The Daily Hodl</td>\n",
       "      <td>Sat, 13 Mar 2021 05:05:31 -0500</td>\n",
       "      <td>[]</td>\n",
       "      <td>Positive</td>\n",
       "      <td>Article</td>\n",
       "      <td>[ETH]</td>\n",
       "    </tr>\n",
       "    <tr>\n",
       "      <th>2</th>\n",
       "      <td>https://cryptopotato.com/bitcoin-starts-the-we...</td>\n",
       "      <td>https://crypto.snapi.dev/images/v1/s/h/bitcoin...</td>\n",
       "      <td>Bitcoin Starts the Weekend Less Than $1K From ...</td>\n",
       "      <td>Despite slumping to $55,000 intraday, bitcoin ...</td>\n",
       "      <td>CryptoPotato</td>\n",
       "      <td>Sat, 13 Mar 2021 04:07:17 -0500</td>\n",
       "      <td>[]</td>\n",
       "      <td>Neutral</td>\n",
       "      <td>Article</td>\n",
       "      <td>[BTC]</td>\n",
       "    </tr>\n",
       "    <tr>\n",
       "      <th>3</th>\n",
       "      <td>https://u.today/elon-musk-says-coinbase-should...</td>\n",
       "      <td>https://crypto.snapi.dev/images/v1/s/w/6778-15...</td>\n",
       "      <td>Elon Musk Says Coinbase Should List Dogecoin</td>\n",
       "      <td>Tesla CEO Elon Musk believes that soon-to-be-p...</td>\n",
       "      <td>UToday</td>\n",
       "      <td>Sat, 13 Mar 2021 03:32:00 -0500</td>\n",
       "      <td>[]</td>\n",
       "      <td>Neutral</td>\n",
       "      <td>Article</td>\n",
       "      <td>[DOGE]</td>\n",
       "    </tr>\n",
       "    <tr>\n",
       "      <th>4</th>\n",
       "      <td>https://dailyhodl.com/2021/03/13/crypto-whales...</td>\n",
       "      <td>https://crypto.snapi.dev/images/v1/j/h/btc-acc...</td>\n",
       "      <td>Crypto Whales Pounce on Bitcoin, Mount One of ...</td>\n",
       "      <td>Crypto whales are accumulating Bitcoin at an a...</td>\n",
       "      <td>The Daily Hodl</td>\n",
       "      <td>Sat, 13 Mar 2021 03:04:41 -0500</td>\n",
       "      <td>[whales]</td>\n",
       "      <td>Positive</td>\n",
       "      <td>Article</td>\n",
       "      <td>[BTC]</td>\n",
       "    </tr>\n",
       "  </tbody>\n",
       "</table>\n",
       "</div>"
      ],
      "text/plain": [
       "                                            news_url  \\\n",
       "0  https://cryptopotato.com/bitcoin-price-just-br...   \n",
       "1  https://dailyhodl.com/2021/03/13/ethereum-crea...   \n",
       "2  https://cryptopotato.com/bitcoin-starts-the-we...   \n",
       "3  https://u.today/elon-musk-says-coinbase-should...   \n",
       "4  https://dailyhodl.com/2021/03/13/crypto-whales...   \n",
       "\n",
       "                                           image_url  \\\n",
       "0  https://crypto.snapi.dev/images/v1/z/j/bitcoin...   \n",
       "1  https://crypto.snapi.dev/images/v1/g/l/glass-e...   \n",
       "2  https://crypto.snapi.dev/images/v1/s/h/bitcoin...   \n",
       "3  https://crypto.snapi.dev/images/v1/s/w/6778-15...   \n",
       "4  https://crypto.snapi.dev/images/v1/j/h/btc-acc...   \n",
       "\n",
       "                                               title  \\\n",
       "0  Bitcoin Price Just Broke $58,500 Setting New A...   \n",
       "1  Ethereum Creator Vitalik Buterin Says 100X Boo...   \n",
       "2  Bitcoin Starts the Weekend Less Than $1K From ...   \n",
       "3       Elon Musk Says Coinbase Should List Dogecoin   \n",
       "4  Crypto Whales Pounce on Bitcoin, Mount One of ...   \n",
       "\n",
       "                                                text     source_name  \\\n",
       "0  It took bitcoin less than a month to finally b...    CryptoPotato   \n",
       "1  Ethereum co-founder Vitalik Buterin reveals th...  The Daily Hodl   \n",
       "2  Despite slumping to $55,000 intraday, bitcoin ...    CryptoPotato   \n",
       "3  Tesla CEO Elon Musk believes that soon-to-be-p...          UToday   \n",
       "4  Crypto whales are accumulating Bitcoin at an a...  The Daily Hodl   \n",
       "\n",
       "                              date    topics sentiment     type tickers  \n",
       "0  Sat, 13 Mar 2021 05:18:01 -0500        []  Positive  Article   [BTC]  \n",
       "1  Sat, 13 Mar 2021 05:05:31 -0500        []  Positive  Article   [ETH]  \n",
       "2  Sat, 13 Mar 2021 04:07:17 -0500        []   Neutral  Article   [BTC]  \n",
       "3  Sat, 13 Mar 2021 03:32:00 -0500        []   Neutral  Article  [DOGE]  \n",
       "4  Sat, 13 Mar 2021 03:04:41 -0500  [whales]  Positive  Article   [BTC]  "
      ]
     },
     "execution_count": 38,
     "metadata": {},
     "output_type": "execute_result"
    }
   ],
   "source": [
    "all_ticker_news_df.head()"
   ]
  },
  {
   "cell_type": "code",
   "execution_count": 42,
   "metadata": {},
   "outputs": [
    {
     "data": {
      "text/html": [
       "<div>\n",
       "<style scoped>\n",
       "    .dataframe tbody tr th:only-of-type {\n",
       "        vertical-align: middle;\n",
       "    }\n",
       "\n",
       "    .dataframe tbody tr th {\n",
       "        vertical-align: top;\n",
       "    }\n",
       "\n",
       "    .dataframe thead th {\n",
       "        text-align: right;\n",
       "    }\n",
       "</style>\n",
       "<table border=\"1\" class=\"dataframe\">\n",
       "  <thead>\n",
       "    <tr style=\"text-align: right;\">\n",
       "      <th></th>\n",
       "      <th>title</th>\n",
       "      <th>text</th>\n",
       "      <th>date</th>\n",
       "      <th>topics</th>\n",
       "      <th>sentiment</th>\n",
       "      <th>type</th>\n",
       "      <th>tickers</th>\n",
       "    </tr>\n",
       "  </thead>\n",
       "  <tbody>\n",
       "    <tr>\n",
       "      <th>0</th>\n",
       "      <td>Bitcoin Price Just Broke $58,500 Setting New A...</td>\n",
       "      <td>It took bitcoin less than a month to finally b...</td>\n",
       "      <td>Sat, 13 Mar 2021 05:18:01 -0500</td>\n",
       "      <td>[]</td>\n",
       "      <td>Positive</td>\n",
       "      <td>Article</td>\n",
       "      <td>[BTC]</td>\n",
       "    </tr>\n",
       "    <tr>\n",
       "      <th>1</th>\n",
       "      <td>Ethereum Creator Vitalik Buterin Says 100X Boo...</td>\n",
       "      <td>Ethereum co-founder Vitalik Buterin reveals th...</td>\n",
       "      <td>Sat, 13 Mar 2021 05:05:31 -0500</td>\n",
       "      <td>[]</td>\n",
       "      <td>Positive</td>\n",
       "      <td>Article</td>\n",
       "      <td>[ETH]</td>\n",
       "    </tr>\n",
       "    <tr>\n",
       "      <th>2</th>\n",
       "      <td>Bitcoin Starts the Weekend Less Than $1K From ...</td>\n",
       "      <td>Despite slumping to $55,000 intraday, bitcoin ...</td>\n",
       "      <td>Sat, 13 Mar 2021 04:07:17 -0500</td>\n",
       "      <td>[]</td>\n",
       "      <td>Neutral</td>\n",
       "      <td>Article</td>\n",
       "      <td>[BTC]</td>\n",
       "    </tr>\n",
       "    <tr>\n",
       "      <th>3</th>\n",
       "      <td>Elon Musk Says Coinbase Should List Dogecoin</td>\n",
       "      <td>Tesla CEO Elon Musk believes that soon-to-be-p...</td>\n",
       "      <td>Sat, 13 Mar 2021 03:32:00 -0500</td>\n",
       "      <td>[]</td>\n",
       "      <td>Neutral</td>\n",
       "      <td>Article</td>\n",
       "      <td>[DOGE]</td>\n",
       "    </tr>\n",
       "    <tr>\n",
       "      <th>4</th>\n",
       "      <td>Crypto Whales Pounce on Bitcoin, Mount One of ...</td>\n",
       "      <td>Crypto whales are accumulating Bitcoin at an a...</td>\n",
       "      <td>Sat, 13 Mar 2021 03:04:41 -0500</td>\n",
       "      <td>[whales]</td>\n",
       "      <td>Positive</td>\n",
       "      <td>Article</td>\n",
       "      <td>[BTC]</td>\n",
       "    </tr>\n",
       "  </tbody>\n",
       "</table>\n",
       "</div>"
      ],
      "text/plain": [
       "                                               title  \\\n",
       "0  Bitcoin Price Just Broke $58,500 Setting New A...   \n",
       "1  Ethereum Creator Vitalik Buterin Says 100X Boo...   \n",
       "2  Bitcoin Starts the Weekend Less Than $1K From ...   \n",
       "3       Elon Musk Says Coinbase Should List Dogecoin   \n",
       "4  Crypto Whales Pounce on Bitcoin, Mount One of ...   \n",
       "\n",
       "                                                text  \\\n",
       "0  It took bitcoin less than a month to finally b...   \n",
       "1  Ethereum co-founder Vitalik Buterin reveals th...   \n",
       "2  Despite slumping to $55,000 intraday, bitcoin ...   \n",
       "3  Tesla CEO Elon Musk believes that soon-to-be-p...   \n",
       "4  Crypto whales are accumulating Bitcoin at an a...   \n",
       "\n",
       "                              date    topics sentiment     type tickers  \n",
       "0  Sat, 13 Mar 2021 05:18:01 -0500        []  Positive  Article   [BTC]  \n",
       "1  Sat, 13 Mar 2021 05:05:31 -0500        []  Positive  Article   [ETH]  \n",
       "2  Sat, 13 Mar 2021 04:07:17 -0500        []   Neutral  Article   [BTC]  \n",
       "3  Sat, 13 Mar 2021 03:32:00 -0500        []   Neutral  Article  [DOGE]  \n",
       "4  Sat, 13 Mar 2021 03:04:41 -0500  [whales]  Positive  Article   [BTC]  "
      ]
     },
     "execution_count": 42,
     "metadata": {},
     "output_type": "execute_result"
    }
   ],
   "source": [
    "all_ticker_news_df = all_ticker_news_df.drop(columns = ['news_url','image_url','source_name'])\n",
    "all_ticker_news_df.head()"
   ]
  },
  {
   "cell_type": "code",
   "execution_count": null,
   "metadata": {},
   "outputs": [],
   "source": []
  }
 ],
 "metadata": {
  "kernelspec": {
   "display_name": "Python [conda env:pyvizenv] *",
   "language": "python",
   "name": "conda-env-pyvizenv-py"
  },
  "language_info": {
   "codemirror_mode": {
    "name": "ipython",
    "version": 3
   },
   "file_extension": ".py",
   "mimetype": "text/x-python",
   "name": "python",
   "nbconvert_exporter": "python",
   "pygments_lexer": "ipython3",
   "version": "3.7.9"
  }
 },
 "nbformat": 4,
 "nbformat_minor": 4
}
