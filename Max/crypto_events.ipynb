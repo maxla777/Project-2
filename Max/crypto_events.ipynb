{
 "cells": [
  {
   "cell_type": "code",
   "execution_count": 1,
   "metadata": {},
   "outputs": [
    {
     "data": {
      "text/plain": [
       "True"
      ]
     },
     "execution_count": 1,
     "metadata": {},
     "output_type": "execute_result"
    }
   ],
   "source": [
    "# Initial imports\n",
    "import os\n",
    "import pandas as pd\n",
    "import requests\n",
    "from dotenv import load_dotenv\n",
    "load_dotenv()"
   ]
  },
  {
   "cell_type": "code",
   "execution_count": 2,
   "metadata": {},
   "outputs": [],
   "source": [
    "# Reading the News API key enviroment variable\n",
    "api_key = os.getenv(\"crypto_news_key\")"
   ]
  },
  {
   "cell_type": "code",
   "execution_count": 3,
   "metadata": {},
   "outputs": [
    {
     "name": "stdout",
     "output_type": "stream",
     "text": [
      "API key:<class 'str'>\n"
     ]
    }
   ],
   "source": [
    "print(f\"API key:{type(api_key)}\")"
   ]
  },
  {
   "cell_type": "code",
   "execution_count": 4,
   "metadata": {},
   "outputs": [],
   "source": [
    "#Retrieve the latest news events and eventIDs. Events are important headlines that are receiving a significant amount of news coverage.\n",
    "crypto_events = 'https://cryptonews-api.com/api/v1/events?&token='+ api_key"
   ]
  },
  {
   "cell_type": "code",
   "execution_count": 5,
   "metadata": {},
   "outputs": [],
   "source": [
    "response_crypto_events = requests.get(crypto_events)"
   ]
  },
  {
   "cell_type": "code",
   "execution_count": 6,
   "metadata": {},
   "outputs": [
    {
     "data": {
      "text/plain": [
       "<Response [200]>"
      ]
     },
     "execution_count": 6,
     "metadata": {},
     "output_type": "execute_result"
    }
   ],
   "source": [
    "response_crypto_events"
   ]
  },
  {
   "cell_type": "code",
   "execution_count": 7,
   "metadata": {},
   "outputs": [],
   "source": [
    "raw_crypto_events = response_crypto_events.json()"
   ]
  },
  {
   "cell_type": "code",
   "execution_count": 8,
   "metadata": {},
   "outputs": [],
   "source": [
    "events_df = pd.DataFrame(data = raw_crypto_events['data'])"
   ]
  },
  {
   "cell_type": "code",
   "execution_count": 9,
   "metadata": {},
   "outputs": [
    {
     "data": {
      "text/html": [
       "<div>\n",
       "<style scoped>\n",
       "    .dataframe tbody tr th:only-of-type {\n",
       "        vertical-align: middle;\n",
       "    }\n",
       "\n",
       "    .dataframe tbody tr th {\n",
       "        vertical-align: top;\n",
       "    }\n",
       "\n",
       "    .dataframe thead th {\n",
       "        text-align: right;\n",
       "    }\n",
       "</style>\n",
       "<table border=\"1\" class=\"dataframe\">\n",
       "  <thead>\n",
       "    <tr style=\"text-align: right;\">\n",
       "      <th></th>\n",
       "      <th>event_name</th>\n",
       "      <th>event_id</th>\n",
       "      <th>news_items</th>\n",
       "      <th>date</th>\n",
       "      <th>tickers</th>\n",
       "    </tr>\n",
       "  </thead>\n",
       "  <tbody>\n",
       "    <tr>\n",
       "      <th>0</th>\n",
       "      <td>Ripple Asks Court to Force SEC to Produce Docu...</td>\n",
       "      <td>B100</td>\n",
       "      <td>4</td>\n",
       "      <td>Tue, 16 Mar 2021 12:00:00 -0400</td>\n",
       "      <td>[XRP, BTC, ETH]</td>\n",
       "    </tr>\n",
       "    <tr>\n",
       "      <th>1</th>\n",
       "      <td>Bitcoin falls after weekend rally tops $61K</td>\n",
       "      <td>B99</td>\n",
       "      <td>10</td>\n",
       "      <td>Mon, 15 Mar 2021 20:26:00 -0400</td>\n",
       "      <td>[BTC]</td>\n",
       "    </tr>\n",
       "    <tr>\n",
       "      <th>2</th>\n",
       "      <td>Americans could spend $40 Billion in stimulus ...</td>\n",
       "      <td>B98</td>\n",
       "      <td>7</td>\n",
       "      <td>Mon, 15 Mar 2021 18:00:00 -0400</td>\n",
       "      <td>[BTC]</td>\n",
       "    </tr>\n",
       "    <tr>\n",
       "      <th>3</th>\n",
       "      <td>Another DeFi Hack: PancakeSwap, Cream Finance ...</td>\n",
       "      <td>B97</td>\n",
       "      <td>11</td>\n",
       "      <td>Mon, 15 Mar 2021 12:59:00 -0400</td>\n",
       "      <td>[CAKE, CREAM]</td>\n",
       "    </tr>\n",
       "    <tr>\n",
       "      <th>4</th>\n",
       "      <td>India To Introduce All Out Cryptocurrency Ban ...</td>\n",
       "      <td>B96</td>\n",
       "      <td>13</td>\n",
       "      <td>Mon, 15 Mar 2021 07:00:00 -0400</td>\n",
       "      <td>[]</td>\n",
       "    </tr>\n",
       "  </tbody>\n",
       "</table>\n",
       "</div>"
      ],
      "text/plain": [
       "                                          event_name event_id  news_items  \\\n",
       "0  Ripple Asks Court to Force SEC to Produce Docu...     B100           4   \n",
       "1        Bitcoin falls after weekend rally tops $61K      B99          10   \n",
       "2  Americans could spend $40 Billion in stimulus ...      B98           7   \n",
       "3  Another DeFi Hack: PancakeSwap, Cream Finance ...      B97          11   \n",
       "4  India To Introduce All Out Cryptocurrency Ban ...      B96          13   \n",
       "\n",
       "                              date          tickers  \n",
       "0  Tue, 16 Mar 2021 12:00:00 -0400  [XRP, BTC, ETH]  \n",
       "1  Mon, 15 Mar 2021 20:26:00 -0400            [BTC]  \n",
       "2  Mon, 15 Mar 2021 18:00:00 -0400            [BTC]  \n",
       "3  Mon, 15 Mar 2021 12:59:00 -0400    [CAKE, CREAM]  \n",
       "4  Mon, 15 Mar 2021 07:00:00 -0400               []  "
      ]
     },
     "execution_count": 9,
     "metadata": {},
     "output_type": "execute_result"
    }
   ],
   "source": [
    "events_df.head()"
   ]
  },
  {
   "cell_type": "code",
   "execution_count": null,
   "metadata": {},
   "outputs": [],
   "source": []
  }
 ],
 "metadata": {
  "kernelspec": {
   "display_name": "Python [conda env:pyvizenv] *",
   "language": "python",
   "name": "conda-env-pyvizenv-py"
  },
  "language_info": {
   "codemirror_mode": {
    "name": "ipython",
    "version": 3
   },
   "file_extension": ".py",
   "mimetype": "text/x-python",
   "name": "python",
   "nbconvert_exporter": "python",
   "pygments_lexer": "ipython3",
   "version": "3.7.9"
  }
 },
 "nbformat": 4,
 "nbformat_minor": 4
}
