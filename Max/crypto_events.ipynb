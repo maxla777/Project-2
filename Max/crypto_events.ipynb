{
 "cells": [
  {
   "cell_type": "code",
   "execution_count": 1,
   "metadata": {},
   "outputs": [
    {
     "data": {
      "text/plain": [
       "True"
      ]
     },
     "execution_count": 1,
     "metadata": {},
     "output_type": "execute_result"
    }
   ],
   "source": [
    "# Initial imports\n",
    "import os\n",
    "import pandas as pd\n",
    "import requests\n",
    "from dotenv import load_dotenv\n",
    "load_dotenv()"
   ]
  },
  {
   "cell_type": "code",
   "execution_count": 2,
   "metadata": {},
   "outputs": [],
   "source": [
    "# Reading the News API key enviroment variable\n",
    "api_key = os.getenv(\"crypto_news_key\")"
   ]
  },
  {
   "cell_type": "code",
   "execution_count": 3,
   "metadata": {},
   "outputs": [
    {
     "name": "stdout",
     "output_type": "stream",
     "text": [
      "API key:<class 'str'>\n"
     ]
    }
   ],
   "source": [
    "print(f\"API key:{type(api_key)}\")"
   ]
  },
  {
   "cell_type": "code",
   "execution_count": 4,
   "metadata": {},
   "outputs": [],
   "source": [
    "#Retrieve the latest news events and eventIDs. Events are important headlines that are receiving a significant amount of news coverage.\n"
   ]
  },
  {
   "cell_type": "code",
   "execution_count": 5,
   "metadata": {},
   "outputs": [],
   "source": [
    "response_crypto_events = requests.get(crypto_events)"
   ]
  },
  {
   "cell_type": "code",
   "execution_count": 6,
   "metadata": {},
   "outputs": [
    {
     "data": {
      "text/plain": [
       "<Response [200]>"
      ]
     },
     "execution_count": 6,
     "metadata": {},
     "output_type": "execute_result"
    }
   ],
   "source": [
    "response_crypto_events"
   ]
  },
  {
   "cell_type": "code",
   "execution_count": 7,
   "metadata": {},
   "outputs": [],
   "source": [
    "raw_crypto_events = response_crypto_events.json()"
   ]
  },
  {
   "cell_type": "code",
   "execution_count": 8,
   "metadata": {},
   "outputs": [],
   "source": [
    "events_df = pd.DataFrame(data = raw_crypto_events['data'])"
   ]
  },
  {
   "cell_type": "code",
   "execution_count": 9,
   "metadata": {},
   "outputs": [
    {
     "data": {
      "text/html": [
       "<div>\n",
       "<style scoped>\n",
       "    .dataframe tbody tr th:only-of-type {\n",
       "        vertical-align: middle;\n",
       "    }\n",
       "\n",
       "    .dataframe tbody tr th {\n",
       "        vertical-align: top;\n",
       "    }\n",
       "\n",
       "    .dataframe thead th {\n",
       "        text-align: right;\n",
       "    }\n",
       "</style>\n",
       "<table border=\"1\" class=\"dataframe\">\n",
       "  <thead>\n",
       "    <tr style=\"text-align: right;\">\n",
       "      <th></th>\n",
       "      <th>event_name</th>\n",
       "      <th>event_id</th>\n",
       "      <th>news_items</th>\n",
       "      <th>date</th>\n",
       "      <th>tickers</th>\n",
       "    </tr>\n",
       "  </thead>\n",
       "  <tbody>\n",
       "    <tr>\n",
       "      <th>0</th>\n",
       "      <td>Bitcoin Reaches New All-Time High, Taps $60,000</td>\n",
       "      <td>B95</td>\n",
       "      <td>19</td>\n",
       "      <td>Sat, 13 Mar 2021 08:00:00 -0500</td>\n",
       "      <td>[BTC]</td>\n",
       "    </tr>\n",
       "    <tr>\n",
       "      <th>1</th>\n",
       "      <td>Microstrategy Purchases Additional 262 Bitcoin...</td>\n",
       "      <td>B94</td>\n",
       "      <td>7</td>\n",
       "      <td>Fri, 12 Mar 2021 23:00:00 -0500</td>\n",
       "      <td>[BTC]</td>\n",
       "    </tr>\n",
       "    <tr>\n",
       "      <th>2</th>\n",
       "      <td>Binance reportedly under CFTC investigation ov...</td>\n",
       "      <td>B93</td>\n",
       "      <td>6</td>\n",
       "      <td>Fri, 12 Mar 2021 09:11:00 -0500</td>\n",
       "      <td>[]</td>\n",
       "    </tr>\n",
       "    <tr>\n",
       "      <th>3</th>\n",
       "      <td>U.S. SEC Now Seeks Personal Information of Rip...</td>\n",
       "      <td>B92</td>\n",
       "      <td>10</td>\n",
       "      <td>Fri, 12 Mar 2021 05:48:00 -0500</td>\n",
       "      <td>[XRP]</td>\n",
       "    </tr>\n",
       "    <tr>\n",
       "      <th>4</th>\n",
       "      <td>Bitcoin breaks $57,000 as on-chain data turns ...</td>\n",
       "      <td>B91</td>\n",
       "      <td>7</td>\n",
       "      <td>Thu, 11 Mar 2021 15:18:00 -0500</td>\n",
       "      <td>[BTC]</td>\n",
       "    </tr>\n",
       "  </tbody>\n",
       "</table>\n",
       "</div>"
      ],
      "text/plain": [
       "                                          event_name event_id  news_items  \\\n",
       "0    Bitcoin Reaches New All-Time High, Taps $60,000      B95          19   \n",
       "1  Microstrategy Purchases Additional 262 Bitcoin...      B94           7   \n",
       "2  Binance reportedly under CFTC investigation ov...      B93           6   \n",
       "3  U.S. SEC Now Seeks Personal Information of Rip...      B92          10   \n",
       "4  Bitcoin breaks $57,000 as on-chain data turns ...      B91           7   \n",
       "\n",
       "                              date tickers  \n",
       "0  Sat, 13 Mar 2021 08:00:00 -0500   [BTC]  \n",
       "1  Fri, 12 Mar 2021 23:00:00 -0500   [BTC]  \n",
       "2  Fri, 12 Mar 2021 09:11:00 -0500      []  \n",
       "3  Fri, 12 Mar 2021 05:48:00 -0500   [XRP]  \n",
       "4  Thu, 11 Mar 2021 15:18:00 -0500   [BTC]  "
      ]
     },
     "execution_count": 9,
     "metadata": {},
     "output_type": "execute_result"
    }
   ],
   "source": [
    "events_df.head()"
   ]
  },
  {
   "cell_type": "code",
   "execution_count": null,
   "metadata": {},
   "outputs": [],
   "source": []
  }
 ],
 "metadata": {
  "kernelspec": {
   "display_name": "Python [conda env:pyvizenv] *",
   "language": "python",
   "name": "conda-env-pyvizenv-py"
  },
  "language_info": {
   "codemirror_mode": {
    "name": "ipython",
    "version": 3
   },
   "file_extension": ".py",
   "mimetype": "text/x-python",
   "name": "python",
   "nbconvert_exporter": "python",
   "pygments_lexer": "ipython3",
   "version": "3.7.9"
  }
 },
 "nbformat": 4,
 "nbformat_minor": 4
}
