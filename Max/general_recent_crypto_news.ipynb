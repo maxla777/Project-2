{
 "cells": [
  {
   "cell_type": "code",
   "execution_count": 11,
   "metadata": {},
   "outputs": [
    {
     "data": {
      "text/plain": [
       "True"
      ]
     },
     "execution_count": 11,
     "metadata": {},
     "output_type": "execute_result"
    }
   ],
   "source": [
    "# Initial imports\n",
    "import os\n",
    "import pandas as pd\n",
    "import requests\n",
    "from dotenv import load_dotenv\n",
    "load_dotenv()"
   ]
  },
  {
   "cell_type": "code",
   "execution_count": 12,
   "metadata": {},
   "outputs": [],
   "source": [
    "# Reading the News API key enviroment variable\n",
    "api_key = os.getenv(\"crypto_news_key\")"
   ]
  },
  {
   "cell_type": "code",
   "execution_count": 13,
   "metadata": {},
   "outputs": [
    {
     "name": "stdout",
     "output_type": "stream",
     "text": [
      "API key:<class 'str'>\n"
     ]
    }
   ],
   "source": [
    "print(f\"API key:{type(api_key)}\")"
   ]
  },
  {
   "cell_type": "code",
   "execution_count": 14,
   "metadata": {},
   "outputs": [],
   "source": []
  },
  {
   "cell_type": "code",
   "execution_count": 15,
   "metadata": {},
   "outputs": [],
   "source": [
    "response_news = requests.get(general_crypto_news_data)"
   ]
  },
  {
   "cell_type": "code",
   "execution_count": 16,
   "metadata": {},
   "outputs": [
    {
     "data": {
      "text/plain": [
       "<Response [200]>"
      ]
     },
     "execution_count": 16,
     "metadata": {},
     "output_type": "execute_result"
    }
   ],
   "source": [
    "response_news"
   ]
  },
  {
   "cell_type": "code",
   "execution_count": 17,
   "metadata": {},
   "outputs": [],
   "source": [
    "news_data_raw = response_news.json()"
   ]
  },
  {
   "cell_type": "code",
   "execution_count": 18,
   "metadata": {},
   "outputs": [],
   "source": [
    "news_df = pd.DataFrame(data=news_data_raw['data'])"
   ]
  },
  {
   "cell_type": "code",
   "execution_count": 19,
   "metadata": {},
   "outputs": [
    {
     "data": {
      "text/html": [
       "<div>\n",
       "<style scoped>\n",
       "    .dataframe tbody tr th:only-of-type {\n",
       "        vertical-align: middle;\n",
       "    }\n",
       "\n",
       "    .dataframe tbody tr th {\n",
       "        vertical-align: top;\n",
       "    }\n",
       "\n",
       "    .dataframe thead th {\n",
       "        text-align: right;\n",
       "    }\n",
       "</style>\n",
       "<table border=\"1\" class=\"dataframe\">\n",
       "  <thead>\n",
       "    <tr style=\"text-align: right;\">\n",
       "      <th></th>\n",
       "      <th>news_url</th>\n",
       "      <th>image_url</th>\n",
       "      <th>title</th>\n",
       "      <th>text</th>\n",
       "      <th>source_name</th>\n",
       "      <th>date</th>\n",
       "      <th>topics</th>\n",
       "      <th>sentiment</th>\n",
       "      <th>type</th>\n",
       "    </tr>\n",
       "  </thead>\n",
       "  <tbody>\n",
       "    <tr>\n",
       "      <th>45</th>\n",
       "      <td>https://decrypt.co/60931/why-jp-morgans-new-cr...</td>\n",
       "      <td>https://crypto.snapi.dev/images/v1/j/p/jp-morg...</td>\n",
       "      <td>Why JP Morgan's New Crypto ‘Basket' Doesn't In...</td>\n",
       "      <td>Investors can buy structured notes tied to 11 ...</td>\n",
       "      <td>Decrypt</td>\n",
       "      <td>Wed, 10 Mar 2021 18:03:50 -0500</td>\n",
       "      <td>[]</td>\n",
       "      <td>Neutral</td>\n",
       "      <td>Article</td>\n",
       "    </tr>\n",
       "    <tr>\n",
       "      <th>46</th>\n",
       "      <td>https://beincrypto.com/top-5-people-making-wav...</td>\n",
       "      <td>https://crypto.snapi.dev/images/v1/y/u/bic-soc...</td>\n",
       "      <td>Top 5 People Making Waves in Crypto Market Thi...</td>\n",
       "      <td>Non-fungible tokens (NFTs) have absolutely exp...</td>\n",
       "      <td>BeInCrypto</td>\n",
       "      <td>Wed, 10 Mar 2021 14:29:27 -0500</td>\n",
       "      <td>[]</td>\n",
       "      <td>Positive</td>\n",
       "      <td>Article</td>\n",
       "    </tr>\n",
       "    <tr>\n",
       "      <th>47</th>\n",
       "      <td>https://beincrypto.com/new-zealand-fintech-com...</td>\n",
       "      <td>https://crypto.snapi.dev/images/v1/7/z/bic-gen...</td>\n",
       "      <td>New Zealand Fintech Company Set To Launch Stab...</td>\n",
       "      <td>Stable coins have become the quintessential cu...</td>\n",
       "      <td>BeInCrypto</td>\n",
       "      <td>Wed, 10 Mar 2021 14:06:43 -0500</td>\n",
       "      <td>[stablecoins]</td>\n",
       "      <td>Positive</td>\n",
       "      <td>Article</td>\n",
       "    </tr>\n",
       "    <tr>\n",
       "      <th>48</th>\n",
       "      <td>https://cointelegraph.com/news/new-zealand-fir...</td>\n",
       "      <td>https://crypto.snapi.dev/images/v1/5/v/840-ahr...</td>\n",
       "      <td>New Zealand firm launches stablecoin backed by...</td>\n",
       "      <td>\"Techemynt felt it was an ideal time to fill t...</td>\n",
       "      <td>Cointelegraph</td>\n",
       "      <td>Wed, 10 Mar 2021 13:15:00 -0500</td>\n",
       "      <td>[stablecoins]</td>\n",
       "      <td>Positive</td>\n",
       "      <td>Article</td>\n",
       "    </tr>\n",
       "    <tr>\n",
       "      <th>49</th>\n",
       "      <td>https://cryptopotato.com/recent-job-postings-h...</td>\n",
       "      <td>https://crypto.snapi.dev/images/v1/g/r/graysca...</td>\n",
       "      <td>Recent Job Postings Hints: Is Grayscale Lookin...</td>\n",
       "      <td>While US regulators have rejected all Bitcoin ...</td>\n",
       "      <td>CryptoPotato</td>\n",
       "      <td>Wed, 10 Mar 2021 13:00:08 -0500</td>\n",
       "      <td>[]</td>\n",
       "      <td>Positive</td>\n",
       "      <td>Article</td>\n",
       "    </tr>\n",
       "  </tbody>\n",
       "</table>\n",
       "</div>"
      ],
      "text/plain": [
       "                                             news_url  \\\n",
       "45  https://decrypt.co/60931/why-jp-morgans-new-cr...   \n",
       "46  https://beincrypto.com/top-5-people-making-wav...   \n",
       "47  https://beincrypto.com/new-zealand-fintech-com...   \n",
       "48  https://cointelegraph.com/news/new-zealand-fir...   \n",
       "49  https://cryptopotato.com/recent-job-postings-h...   \n",
       "\n",
       "                                            image_url  \\\n",
       "45  https://crypto.snapi.dev/images/v1/j/p/jp-morg...   \n",
       "46  https://crypto.snapi.dev/images/v1/y/u/bic-soc...   \n",
       "47  https://crypto.snapi.dev/images/v1/7/z/bic-gen...   \n",
       "48  https://crypto.snapi.dev/images/v1/5/v/840-ahr...   \n",
       "49  https://crypto.snapi.dev/images/v1/g/r/graysca...   \n",
       "\n",
       "                                                title  \\\n",
       "45  Why JP Morgan's New Crypto ‘Basket' Doesn't In...   \n",
       "46  Top 5 People Making Waves in Crypto Market Thi...   \n",
       "47  New Zealand Fintech Company Set To Launch Stab...   \n",
       "48  New Zealand firm launches stablecoin backed by...   \n",
       "49  Recent Job Postings Hints: Is Grayscale Lookin...   \n",
       "\n",
       "                                                 text    source_name  \\\n",
       "45  Investors can buy structured notes tied to 11 ...        Decrypt   \n",
       "46  Non-fungible tokens (NFTs) have absolutely exp...     BeInCrypto   \n",
       "47  Stable coins have become the quintessential cu...     BeInCrypto   \n",
       "48  \"Techemynt felt it was an ideal time to fill t...  Cointelegraph   \n",
       "49  While US regulators have rejected all Bitcoin ...   CryptoPotato   \n",
       "\n",
       "                               date         topics sentiment     type  \n",
       "45  Wed, 10 Mar 2021 18:03:50 -0500             []   Neutral  Article  \n",
       "46  Wed, 10 Mar 2021 14:29:27 -0500             []  Positive  Article  \n",
       "47  Wed, 10 Mar 2021 14:06:43 -0500  [stablecoins]  Positive  Article  \n",
       "48  Wed, 10 Mar 2021 13:15:00 -0500  [stablecoins]  Positive  Article  \n",
       "49  Wed, 10 Mar 2021 13:00:08 -0500             []  Positive  Article  "
      ]
     },
     "execution_count": 19,
     "metadata": {},
     "output_type": "execute_result"
    }
   ],
   "source": [
    "news_df.tail()"
   ]
  },
  {
   "cell_type": "code",
   "execution_count": 22,
   "metadata": {},
   "outputs": [
    {
     "data": {
      "text/html": [
       "<div>\n",
       "<style scoped>\n",
       "    .dataframe tbody tr th:only-of-type {\n",
       "        vertical-align: middle;\n",
       "    }\n",
       "\n",
       "    .dataframe tbody tr th {\n",
       "        vertical-align: top;\n",
       "    }\n",
       "\n",
       "    .dataframe thead th {\n",
       "        text-align: right;\n",
       "    }\n",
       "</style>\n",
       "<table border=\"1\" class=\"dataframe\">\n",
       "  <thead>\n",
       "    <tr style=\"text-align: right;\">\n",
       "      <th></th>\n",
       "      <th>title</th>\n",
       "      <th>text</th>\n",
       "      <th>date</th>\n",
       "      <th>sentiment</th>\n",
       "      <th>type</th>\n",
       "    </tr>\n",
       "  </thead>\n",
       "  <tbody>\n",
       "    <tr>\n",
       "      <th>0</th>\n",
       "      <td>A $5.7 Million Crypto Heist Leaves Social Toke...</td>\n",
       "      <td>It appears to have been due to a compromised R...</td>\n",
       "      <td>Sun, 14 Mar 2021 14:35:54 -0400</td>\n",
       "      <td>Negative</td>\n",
       "      <td>Article</td>\n",
       "    </tr>\n",
       "    <tr>\n",
       "      <th>1</th>\n",
       "      <td>Social token platform Roll suffers exploit, to...</td>\n",
       "      <td>Roll, a platform for issuing social tokens on ...</td>\n",
       "      <td>Sun, 14 Mar 2021 13:37:03 -0400</td>\n",
       "      <td>Negative</td>\n",
       "      <td>Article</td>\n",
       "    </tr>\n",
       "    <tr>\n",
       "      <th>2</th>\n",
       "      <td>The superheated NFTs? A crypto market niche ti...</td>\n",
       "      <td>A pyramid scheme where “somebody will be burnt...</td>\n",
       "      <td>Sun, 14 Mar 2021 10:07:00 -0400</td>\n",
       "      <td>Neutral</td>\n",
       "      <td>Article</td>\n",
       "    </tr>\n",
       "    <tr>\n",
       "      <th>3</th>\n",
       "      <td>9 Crypto Assets Have Massive Potential in Marc...</td>\n",
       "      <td>Altcoin Daily host and crypto analyst Austin A...</td>\n",
       "      <td>Sun, 14 Mar 2021 04:04:11 -0400</td>\n",
       "      <td>Positive</td>\n",
       "      <td>Article</td>\n",
       "    </tr>\n",
       "    <tr>\n",
       "      <th>4</th>\n",
       "      <td>Turkish authorities arrest 18 Chinese national...</td>\n",
       "      <td>While the cryptocurrency market was witnessing...</td>\n",
       "      <td>Sat, 13 Mar 2021 08:45:19 -0500</td>\n",
       "      <td>Negative</td>\n",
       "      <td>Article</td>\n",
       "    </tr>\n",
       "  </tbody>\n",
       "</table>\n",
       "</div>"
      ],
      "text/plain": [
       "                                               title  \\\n",
       "0  A $5.7 Million Crypto Heist Leaves Social Toke...   \n",
       "1  Social token platform Roll suffers exploit, to...   \n",
       "2  The superheated NFTs? A crypto market niche ti...   \n",
       "3  9 Crypto Assets Have Massive Potential in Marc...   \n",
       "4  Turkish authorities arrest 18 Chinese national...   \n",
       "\n",
       "                                                text  \\\n",
       "0  It appears to have been due to a compromised R...   \n",
       "1  Roll, a platform for issuing social tokens on ...   \n",
       "2  A pyramid scheme where “somebody will be burnt...   \n",
       "3  Altcoin Daily host and crypto analyst Austin A...   \n",
       "4  While the cryptocurrency market was witnessing...   \n",
       "\n",
       "                              date sentiment     type  \n",
       "0  Sun, 14 Mar 2021 14:35:54 -0400  Negative  Article  \n",
       "1  Sun, 14 Mar 2021 13:37:03 -0400  Negative  Article  \n",
       "2  Sun, 14 Mar 2021 10:07:00 -0400   Neutral  Article  \n",
       "3  Sun, 14 Mar 2021 04:04:11 -0400  Positive  Article  \n",
       "4  Sat, 13 Mar 2021 08:45:19 -0500  Negative  Article  "
      ]
     },
     "execution_count": 22,
     "metadata": {},
     "output_type": "execute_result"
    }
   ],
   "source": [
    "general_recent_news_df = news_df.drop(columns = ['news_url','image_url','source_name'])\n",
    "general_recent_news_df.head()"
   ]
  },
  {
   "cell_type": "code",
   "execution_count": null,
   "metadata": {},
   "outputs": [],
   "source": []
  }
 ],
 "metadata": {
  "kernelspec": {
   "display_name": "Python 3",
   "language": "python",
   "name": "python3"
  },
  "language_info": {
   "codemirror_mode": {
    "name": "ipython",
    "version": 3
   },
   "file_extension": ".py",
   "mimetype": "text/x-python",
   "name": "python",
   "nbconvert_exporter": "python",
   "pygments_lexer": "ipython3",
   "version": "3.7.9"
  }
 },
 "nbformat": 4,
 "nbformat_minor": 4
}
