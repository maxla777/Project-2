{
 "cells": [
  {
   "cell_type": "code",
   "execution_count": 15,
   "metadata": {},
   "outputs": [
    {
     "data": {
      "text/plain": [
       "True"
      ]
     },
     "execution_count": 15,
     "metadata": {},
     "output_type": "execute_result"
    }
   ],
   "source": [
    "# Initial imports\n",
    "import os\n",
    "import pandas as pd\n",
    "import requests\n",
    "from dotenv import load_dotenv\n",
    "load_dotenv()"
   ]
  },
  {
   "cell_type": "code",
   "execution_count": 16,
   "metadata": {},
   "outputs": [],
   "source": [
    "# Reading the News API key enviroment variable\n",
    "api_key = os.getenv(\"crypto_news_key\")"
   ]
  },
  {
   "cell_type": "code",
   "execution_count": 17,
   "metadata": {},
   "outputs": [
    {
     "name": "stdout",
     "output_type": "stream",
     "text": [
      "API key:<class 'str'>\n"
     ]
    }
   ],
   "source": [
    "print(f\"API key:{type(api_key)}\")"
   ]
  },
  {
   "cell_type": "code",
   "execution_count": 18,
   "metadata": {},
   "outputs": [],
   "source": [
    "#data pull is from the last 4 or five days\n",
    "general_crypto_news_data = 'https://cryptonews-api.com/api/v1/category?section=general&items=50&token='+ api_key\n"
   ]
  },
  {
   "cell_type": "code",
   "execution_count": 19,
   "metadata": {},
   "outputs": [],
   "source": [
    "response_news = requests.get(general_crypto_news_data)"
   ]
  },
  {
   "cell_type": "code",
   "execution_count": 20,
   "metadata": {},
   "outputs": [
    {
     "data": {
      "text/plain": [
       "<Response [200]>"
      ]
     },
     "execution_count": 20,
     "metadata": {},
     "output_type": "execute_result"
    }
   ],
   "source": [
    "response_news"
   ]
  },
  {
   "cell_type": "code",
   "execution_count": 21,
   "metadata": {},
   "outputs": [],
   "source": [
    "news_data_raw = response_news.json()"
   ]
  },
  {
   "cell_type": "code",
   "execution_count": 22,
   "metadata": {},
   "outputs": [],
   "source": [
    "news_df = pd.DataFrame(data=news_data_raw['data'])"
   ]
  },
  {
   "cell_type": "code",
   "execution_count": 23,
   "metadata": {},
   "outputs": [
    {
     "data": {
      "text/html": [
       "<div>\n",
       "<style scoped>\n",
       "    .dataframe tbody tr th:only-of-type {\n",
       "        vertical-align: middle;\n",
       "    }\n",
       "\n",
       "    .dataframe tbody tr th {\n",
       "        vertical-align: top;\n",
       "    }\n",
       "\n",
       "    .dataframe thead th {\n",
       "        text-align: right;\n",
       "    }\n",
       "</style>\n",
       "<table border=\"1\" class=\"dataframe\">\n",
       "  <thead>\n",
       "    <tr style=\"text-align: right;\">\n",
       "      <th></th>\n",
       "      <th>news_url</th>\n",
       "      <th>image_url</th>\n",
       "      <th>title</th>\n",
       "      <th>text</th>\n",
       "      <th>source_name</th>\n",
       "      <th>date</th>\n",
       "      <th>topics</th>\n",
       "      <th>sentiment</th>\n",
       "      <th>type</th>\n",
       "    </tr>\n",
       "  </thead>\n",
       "  <tbody>\n",
       "    <tr>\n",
       "      <th>45</th>\n",
       "      <td>https://cryptonews.com/news/6-000-xrp-holders-...</td>\n",
       "      <td>https://crypto.snapi.dev/images/v1/h/e/f9b7d45...</td>\n",
       "      <td>6,000+ XRP Holders Want to Testify, Bitcoin St...</td>\n",
       "      <td>Get your daily, bite-sized digest of cryptoass...</td>\n",
       "      <td>Cryptonews</td>\n",
       "      <td>Mon, 15 Mar 2021 13:37:00 -0400</td>\n",
       "      <td>[]</td>\n",
       "      <td>Neutral</td>\n",
       "      <td>Article</td>\n",
       "    </tr>\n",
       "    <tr>\n",
       "      <th>46</th>\n",
       "      <td>https://cryptodaily.co.uk/2021/03/traders-arena</td>\n",
       "      <td>https://crypto.snapi.dev/images/v1/p/r/price-1...</td>\n",
       "      <td>There's a New Challenge in the Crypto Area</td>\n",
       "      <td>If you are a big fan of Bitcoin trading, then ...</td>\n",
       "      <td>Crypto Daily</td>\n",
       "      <td>Mon, 15 Mar 2021 13:30:00 -0400</td>\n",
       "      <td>[]</td>\n",
       "      <td>Negative</td>\n",
       "      <td>Article</td>\n",
       "    </tr>\n",
       "    <tr>\n",
       "      <th>47</th>\n",
       "      <td>https://beincrypto.com/several-binance-smart-c...</td>\n",
       "      <td>https://crypto.snapi.dev/images/v1/z/x/bic-rec...</td>\n",
       "      <td>Several Binance Smart Chain Projects Under DNS...</td>\n",
       "      <td>A DNS attack can take several forms. However, ...</td>\n",
       "      <td>BeInCrypto</td>\n",
       "      <td>Mon, 15 Mar 2021 12:11:31 -0400</td>\n",
       "      <td>[]</td>\n",
       "      <td>Negative</td>\n",
       "      <td>Article</td>\n",
       "    </tr>\n",
       "    <tr>\n",
       "      <th>48</th>\n",
       "      <td>https://dailyhodl.com/2021/03/15/vast-majority...</td>\n",
       "      <td>https://crypto.snapi.dev/images/v1/l/a/last-mi...</td>\n",
       "      <td>Vast Majority of Accredited Investors Plan To ...</td>\n",
       "      <td>The bulk of accredited investors are consideri...</td>\n",
       "      <td>The Daily Hodl</td>\n",
       "      <td>Mon, 15 Mar 2021 12:10:47 -0400</td>\n",
       "      <td>[]</td>\n",
       "      <td>Positive</td>\n",
       "      <td>Article</td>\n",
       "    </tr>\n",
       "    <tr>\n",
       "      <th>49</th>\n",
       "      <td>https://u.today/financial-services-company-dis...</td>\n",
       "      <td>https://crypto.snapi.dev/images/v1/b/j/6805-16...</td>\n",
       "      <td>Financial Services Company Discloses $1 Millio...</td>\n",
       "      <td>Another public company now has a six-figure su...</td>\n",
       "      <td>UToday</td>\n",
       "      <td>Mon, 15 Mar 2021 12:05:05 -0400</td>\n",
       "      <td>[]</td>\n",
       "      <td>Positive</td>\n",
       "      <td>Article</td>\n",
       "    </tr>\n",
       "  </tbody>\n",
       "</table>\n",
       "</div>"
      ],
      "text/plain": [
       "                                             news_url  \\\n",
       "45  https://cryptonews.com/news/6-000-xrp-holders-...   \n",
       "46    https://cryptodaily.co.uk/2021/03/traders-arena   \n",
       "47  https://beincrypto.com/several-binance-smart-c...   \n",
       "48  https://dailyhodl.com/2021/03/15/vast-majority...   \n",
       "49  https://u.today/financial-services-company-dis...   \n",
       "\n",
       "                                            image_url  \\\n",
       "45  https://crypto.snapi.dev/images/v1/h/e/f9b7d45...   \n",
       "46  https://crypto.snapi.dev/images/v1/p/r/price-1...   \n",
       "47  https://crypto.snapi.dev/images/v1/z/x/bic-rec...   \n",
       "48  https://crypto.snapi.dev/images/v1/l/a/last-mi...   \n",
       "49  https://crypto.snapi.dev/images/v1/b/j/6805-16...   \n",
       "\n",
       "                                                title  \\\n",
       "45  6,000+ XRP Holders Want to Testify, Bitcoin St...   \n",
       "46         There's a New Challenge in the Crypto Area   \n",
       "47  Several Binance Smart Chain Projects Under DNS...   \n",
       "48  Vast Majority of Accredited Investors Plan To ...   \n",
       "49  Financial Services Company Discloses $1 Millio...   \n",
       "\n",
       "                                                 text     source_name  \\\n",
       "45  Get your daily, bite-sized digest of cryptoass...      Cryptonews   \n",
       "46  If you are a big fan of Bitcoin trading, then ...    Crypto Daily   \n",
       "47  A DNS attack can take several forms. However, ...      BeInCrypto   \n",
       "48  The bulk of accredited investors are consideri...  The Daily Hodl   \n",
       "49  Another public company now has a six-figure su...          UToday   \n",
       "\n",
       "                               date topics sentiment     type  \n",
       "45  Mon, 15 Mar 2021 13:37:00 -0400     []   Neutral  Article  \n",
       "46  Mon, 15 Mar 2021 13:30:00 -0400     []  Negative  Article  \n",
       "47  Mon, 15 Mar 2021 12:11:31 -0400     []  Negative  Article  \n",
       "48  Mon, 15 Mar 2021 12:10:47 -0400     []  Positive  Article  \n",
       "49  Mon, 15 Mar 2021 12:05:05 -0400     []  Positive  Article  "
      ]
     },
     "execution_count": 23,
     "metadata": {},
     "output_type": "execute_result"
    }
   ],
   "source": [
    "news_df.tail()"
   ]
  },
  {
   "cell_type": "code",
   "execution_count": 24,
   "metadata": {},
   "outputs": [
    {
     "data": {
      "text/html": [
       "<div>\n",
       "<style scoped>\n",
       "    .dataframe tbody tr th:only-of-type {\n",
       "        vertical-align: middle;\n",
       "    }\n",
       "\n",
       "    .dataframe tbody tr th {\n",
       "        vertical-align: top;\n",
       "    }\n",
       "\n",
       "    .dataframe thead th {\n",
       "        text-align: right;\n",
       "    }\n",
       "</style>\n",
       "<table border=\"1\" class=\"dataframe\">\n",
       "  <thead>\n",
       "    <tr style=\"text-align: right;\">\n",
       "      <th></th>\n",
       "      <th>title</th>\n",
       "      <th>text</th>\n",
       "      <th>date</th>\n",
       "      <th>topics</th>\n",
       "      <th>sentiment</th>\n",
       "      <th>type</th>\n",
       "    </tr>\n",
       "  </thead>\n",
       "  <tbody>\n",
       "    <tr>\n",
       "      <th>0</th>\n",
       "      <td>Messari CEO thinks a fresh wave of crypto regu...</td>\n",
       "      <td>After nearly a decade of progress since Bitcoi...</td>\n",
       "      <td>Thu, 18 Mar 2021 18:00:00 -0400</td>\n",
       "      <td>[regulations]</td>\n",
       "      <td>Negative</td>\n",
       "      <td>Article</td>\n",
       "    </tr>\n",
       "    <tr>\n",
       "      <th>1</th>\n",
       "      <td>Digital Dollar Would Have to Coexist With Cash...</td>\n",
       "      <td>Jerome Powell today said that a central bank d...</td>\n",
       "      <td>Thu, 18 Mar 2021 17:01:07 -0400</td>\n",
       "      <td>[digital dollar]</td>\n",
       "      <td>Neutral</td>\n",
       "      <td>Article</td>\n",
       "    </tr>\n",
       "    <tr>\n",
       "      <th>2</th>\n",
       "      <td>Hawaiian House Democrats ask the state regulat...</td>\n",
       "      <td>Hawaiian House Democrats are requesting the De...</td>\n",
       "      <td>Thu, 18 Mar 2021 16:59:51 -0400</td>\n",
       "      <td>[regulations]</td>\n",
       "      <td>Positive</td>\n",
       "      <td>Article</td>\n",
       "    </tr>\n",
       "    <tr>\n",
       "      <th>3</th>\n",
       "      <td>CBDCs won't entirely replace cash if the US Fe...</td>\n",
       "      <td>The U.S. does not want cash to go extinct in t...</td>\n",
       "      <td>Thu, 18 Mar 2021 16:57:22 -0400</td>\n",
       "      <td>[]</td>\n",
       "      <td>Neutral</td>\n",
       "      <td>Article</td>\n",
       "    </tr>\n",
       "    <tr>\n",
       "      <th>4</th>\n",
       "      <td>Building digital dollar requires private secto...</td>\n",
       "      <td>The chairman of the Federal Reserve said today...</td>\n",
       "      <td>Thu, 18 Mar 2021 16:47:27 -0400</td>\n",
       "      <td>[digital dollar]</td>\n",
       "      <td>Neutral</td>\n",
       "      <td>Article</td>\n",
       "    </tr>\n",
       "  </tbody>\n",
       "</table>\n",
       "</div>"
      ],
      "text/plain": [
       "                                               title  \\\n",
       "0  Messari CEO thinks a fresh wave of crypto regu...   \n",
       "1  Digital Dollar Would Have to Coexist With Cash...   \n",
       "2  Hawaiian House Democrats ask the state regulat...   \n",
       "3  CBDCs won't entirely replace cash if the US Fe...   \n",
       "4  Building digital dollar requires private secto...   \n",
       "\n",
       "                                                text  \\\n",
       "0  After nearly a decade of progress since Bitcoi...   \n",
       "1  Jerome Powell today said that a central bank d...   \n",
       "2  Hawaiian House Democrats are requesting the De...   \n",
       "3  The U.S. does not want cash to go extinct in t...   \n",
       "4  The chairman of the Federal Reserve said today...   \n",
       "\n",
       "                              date            topics sentiment     type  \n",
       "0  Thu, 18 Mar 2021 18:00:00 -0400     [regulations]  Negative  Article  \n",
       "1  Thu, 18 Mar 2021 17:01:07 -0400  [digital dollar]   Neutral  Article  \n",
       "2  Thu, 18 Mar 2021 16:59:51 -0400     [regulations]  Positive  Article  \n",
       "3  Thu, 18 Mar 2021 16:57:22 -0400                []   Neutral  Article  \n",
       "4  Thu, 18 Mar 2021 16:47:27 -0400  [digital dollar]   Neutral  Article  "
      ]
     },
     "execution_count": 24,
     "metadata": {},
     "output_type": "execute_result"
    }
   ],
   "source": [
    "general_recent_news_df = news_df.drop(columns = ['news_url','image_url','source_name'])\n",
    "general_recent_news_df.head()"
   ]
  },
  {
   "cell_type": "code",
   "execution_count": 25,
   "metadata": {},
   "outputs": [],
   "source": [
    "from nltk.tokenize import word_tokenize, sent_tokenize\n",
    "from nltk.corpus import stopwords\n",
    "from nltk.stem import WordNetLemmatizer, PorterStemmer\n",
    "from string import punctuation\n",
    "import re"
   ]
  },
  {
   "cell_type": "code",
   "execution_count": 26,
   "metadata": {},
   "outputs": [],
   "source": [
    "# Instantiate the lemmatizer\n",
    "wnl = WordNetLemmatizer() \n",
    "\n",
    "# Create a list of stopwords\n",
    "stop = stopwords.words('english')\n",
    "\n",
    "# Expand the default stopwords list if necessary\n",
    "stop.append(\"u\")\n",
    "stop.append(\"it'\")\n",
    "stop.append(\"'s\")\n",
    "stop.append(\"n't\")\n",
    "stop.append('…')\n",
    "stop.append(\"\\`\")\n",
    "stop.append('``')\n",
    "stop.append('char')\n",
    "stop.append(\"''\")\n",
    "stop = set(stop)"
   ]
  },
  {
   "cell_type": "code",
   "execution_count": 27,
   "metadata": {},
   "outputs": [],
   "source": [
    "# Complete the tokenizer function\n",
    "def tokenizer(text):\n",
    "    \"\"\"Tokenizes text.\"\"\"\n",
    "    \n",
    "    # Create a list of the words\n",
    "    words = word_tokenize(text)\n",
    "\n",
    "    # Convert the words to lowercase\n",
    "    words = list(filter(lambda w: w.lower(), words))\n",
    "    \n",
    "    # Remove the punctuation\n",
    "    words = list(filter(lambda t: t not in punctuation, words))\n",
    "    \n",
    "    # Remove the stopwords\n",
    "    words = list(filter(lambda t: t.lower() not in stop, words))\n",
    "    \n",
    "    # Lemmatize Words into root words\n",
    "    tokens = [wnl.lemmatize(word) for word in words]\n",
    "    \n",
    "    return tokens\n"
   ]
  },
  {
   "cell_type": "code",
   "execution_count": 29,
   "metadata": {},
   "outputs": [
    {
     "data": {
      "text/html": [
       "<div>\n",
       "<style scoped>\n",
       "    .dataframe tbody tr th:only-of-type {\n",
       "        vertical-align: middle;\n",
       "    }\n",
       "\n",
       "    .dataframe tbody tr th {\n",
       "        vertical-align: top;\n",
       "    }\n",
       "\n",
       "    .dataframe thead th {\n",
       "        text-align: right;\n",
       "    }\n",
       "</style>\n",
       "<table border=\"1\" class=\"dataframe\">\n",
       "  <thead>\n",
       "    <tr style=\"text-align: right;\">\n",
       "      <th></th>\n",
       "      <th>title</th>\n",
       "      <th>text</th>\n",
       "      <th>date</th>\n",
       "      <th>topics</th>\n",
       "      <th>sentiment</th>\n",
       "      <th>type</th>\n",
       "      <th>tokens</th>\n",
       "    </tr>\n",
       "  </thead>\n",
       "  <tbody>\n",
       "    <tr>\n",
       "      <th>0</th>\n",
       "      <td>Messari CEO thinks a fresh wave of crypto regu...</td>\n",
       "      <td>After nearly a decade of progress since Bitcoi...</td>\n",
       "      <td>Thu, 18 Mar 2021 18:00:00 -0400</td>\n",
       "      <td>[regulations]</td>\n",
       "      <td>Negative</td>\n",
       "      <td>Article</td>\n",
       "      <td>[nearly, decade, progress, since, Bitcoin, inc...</td>\n",
       "    </tr>\n",
       "    <tr>\n",
       "      <th>1</th>\n",
       "      <td>Digital Dollar Would Have to Coexist With Cash...</td>\n",
       "      <td>Jerome Powell today said that a central bank d...</td>\n",
       "      <td>Thu, 18 Mar 2021 17:01:07 -0400</td>\n",
       "      <td>[digital dollar]</td>\n",
       "      <td>Neutral</td>\n",
       "      <td>Article</td>\n",
       "      <td>[Jerome, Powell, today, said, central, bank, d...</td>\n",
       "    </tr>\n",
       "    <tr>\n",
       "      <th>2</th>\n",
       "      <td>Hawaiian House Democrats ask the state regulat...</td>\n",
       "      <td>Hawaiian House Democrats are requesting the De...</td>\n",
       "      <td>Thu, 18 Mar 2021 16:59:51 -0400</td>\n",
       "      <td>[regulations]</td>\n",
       "      <td>Positive</td>\n",
       "      <td>Article</td>\n",
       "      <td>[Hawaiian, House, Democrats, requesting, Depar...</td>\n",
       "    </tr>\n",
       "    <tr>\n",
       "      <th>3</th>\n",
       "      <td>CBDCs won't entirely replace cash if the US Fe...</td>\n",
       "      <td>The U.S. does not want cash to go extinct in t...</td>\n",
       "      <td>Thu, 18 Mar 2021 16:57:22 -0400</td>\n",
       "      <td>[]</td>\n",
       "      <td>Neutral</td>\n",
       "      <td>Article</td>\n",
       "      <td>[U.S., want, cash, go, extinct, presence, CBDC...</td>\n",
       "    </tr>\n",
       "    <tr>\n",
       "      <th>4</th>\n",
       "      <td>Building digital dollar requires private secto...</td>\n",
       "      <td>The chairman of the Federal Reserve said today...</td>\n",
       "      <td>Thu, 18 Mar 2021 16:47:27 -0400</td>\n",
       "      <td>[digital dollar]</td>\n",
       "      <td>Neutral</td>\n",
       "      <td>Article</td>\n",
       "      <td>[chairman, Federal, Reserve, said, today, U.S....</td>\n",
       "    </tr>\n",
       "  </tbody>\n",
       "</table>\n",
       "</div>"
      ],
      "text/plain": [
       "                                               title  \\\n",
       "0  Messari CEO thinks a fresh wave of crypto regu...   \n",
       "1  Digital Dollar Would Have to Coexist With Cash...   \n",
       "2  Hawaiian House Democrats ask the state regulat...   \n",
       "3  CBDCs won't entirely replace cash if the US Fe...   \n",
       "4  Building digital dollar requires private secto...   \n",
       "\n",
       "                                                text  \\\n",
       "0  After nearly a decade of progress since Bitcoi...   \n",
       "1  Jerome Powell today said that a central bank d...   \n",
       "2  Hawaiian House Democrats are requesting the De...   \n",
       "3  The U.S. does not want cash to go extinct in t...   \n",
       "4  The chairman of the Federal Reserve said today...   \n",
       "\n",
       "                              date            topics sentiment     type  \\\n",
       "0  Thu, 18 Mar 2021 18:00:00 -0400     [regulations]  Negative  Article   \n",
       "1  Thu, 18 Mar 2021 17:01:07 -0400  [digital dollar]   Neutral  Article   \n",
       "2  Thu, 18 Mar 2021 16:59:51 -0400     [regulations]  Positive  Article   \n",
       "3  Thu, 18 Mar 2021 16:57:22 -0400                []   Neutral  Article   \n",
       "4  Thu, 18 Mar 2021 16:47:27 -0400  [digital dollar]   Neutral  Article   \n",
       "\n",
       "                                              tokens  \n",
       "0  [nearly, decade, progress, since, Bitcoin, inc...  \n",
       "1  [Jerome, Powell, today, said, central, bank, d...  \n",
       "2  [Hawaiian, House, Democrats, requesting, Depar...  \n",
       "3  [U.S., want, cash, go, extinct, presence, CBDC...  \n",
       "4  [chairman, Federal, Reserve, said, today, U.S....  "
      ]
     },
     "execution_count": 29,
     "metadata": {},
     "output_type": "execute_result"
    }
   ],
   "source": [
    "general_recent_news_df['tokens']=general_recent_news_df.text.apply(tokenizer)\n",
    "general_recent_news_df.head()"
   ]
  },
  {
   "cell_type": "code",
   "execution_count": null,
   "metadata": {},
   "outputs": [],
   "source": []
  }
 ],
 "metadata": {
  "kernelspec": {
   "display_name": "Python 3",
   "language": "python",
   "name": "python3"
  },
  "language_info": {
   "codemirror_mode": {
    "name": "ipython",
    "version": 3
   },
   "file_extension": ".py",
   "mimetype": "text/x-python",
   "name": "python",
   "nbconvert_exporter": "python",
   "pygments_lexer": "ipython3",
   "version": "3.7.9"
  }
 },
 "nbformat": 4,
 "nbformat_minor": 4
}
