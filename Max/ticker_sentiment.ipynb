{
 "cells": [
  {
   "cell_type": "code",
   "execution_count": 1,
   "metadata": {},
   "outputs": [
    {
     "data": {
      "text/plain": [
       "True"
      ]
     },
     "execution_count": 1,
     "metadata": {},
     "output_type": "execute_result"
    }
   ],
   "source": [
    "# Initial imports\n",
    "import os\n",
    "import pandas as pd\n",
    "import requests\n",
    "from dotenv import load_dotenv\n",
    "load_dotenv()"
   ]
  },
  {
   "cell_type": "code",
   "execution_count": 2,
   "metadata": {},
   "outputs": [],
   "source": [
    "# Reading the News API key enviroment variable\n",
    "api_key = os.getenv(\"crypto_news_key\")"
   ]
  },
  {
   "cell_type": "code",
   "execution_count": 3,
   "metadata": {},
   "outputs": [
    {
     "name": "stdout",
     "output_type": "stream",
     "text": [
      "API key:<class 'str'>\n"
     ]
    }
   ],
   "source": [
    "print(f\"API key:{type(api_key)}\")"
   ]
  },
  {
   "cell_type": "code",
   "execution_count": 4,
   "metadata": {},
   "outputs": [],
   "source": [
    "#Retrieve the daily sentiment of Tickers and General Crypto News. Use the &date= Parameter to specify your desired date range. For Individual tickers/symbols use below endpoint:\n",
    "#ticker_sentiment = 'https://cryptonews-api.com/api/v1/stat?&tickers=BTC&date=last30days&token='+api_key\n",
    "\n",
    "#For All Tickers/symbols use below endpoint. --- Can also set parameters to specific topis/words/entities\n",
    "ticker_sentiment = 'https://cryptonews-api.com/api/v1/stat?&section=alltickers&date=last7days&token='+ api_key"
   ]
  },
  {
   "cell_type": "code",
   "execution_count": 5,
   "metadata": {},
   "outputs": [],
   "source": [
    "response_ticker_sentiment = requests.get(ticker_sentiment)"
   ]
  },
  {
   "cell_type": "code",
   "execution_count": 6,
   "metadata": {},
   "outputs": [
    {
     "data": {
      "text/plain": [
       "<Response [200]>"
      ]
     },
     "execution_count": 6,
     "metadata": {},
     "output_type": "execute_result"
    }
   ],
   "source": [
    "response_ticker_sentiment"
   ]
  },
  {
   "cell_type": "code",
   "execution_count": 7,
   "metadata": {},
   "outputs": [],
   "source": [
    "raw_ticker_sentiment = response_ticker_sentiment.json()\n"
   ]
  },
  {
   "cell_type": "code",
   "execution_count": 8,
   "metadata": {},
   "outputs": [
    {
     "data": {
      "text/plain": [
       "{'total': {'Total Positive': 440,\n",
       "  'Total Negative': 128,\n",
       "  'Total Neutral': 550,\n",
       "  'Sentiment Score': 0.911},\n",
       " 'data': {'2021-03-18': {'Neutral': 69,\n",
       "   'Positive': 83,\n",
       "   'Negative': 16,\n",
       "   'sentiment_score': 1.009},\n",
       "  '2021-03-17': {'Neutral': 101,\n",
       "   'Positive': 143,\n",
       "   'Negative': 22,\n",
       "   'sentiment_score': 1.062},\n",
       "  '2021-03-16': {'Neutral': 84,\n",
       "   'Positive': 68,\n",
       "   'Negative': 28,\n",
       "   'sentiment_score': 0.8},\n",
       "  '2021-03-15': {'Neutral': 90,\n",
       "   'Positive': 45,\n",
       "   'Negative': 46,\n",
       "   'sentiment_score': 0.489},\n",
       "  '2021-03-14': {'Neutral': 51,\n",
       "   'Positive': 30,\n",
       "   'Negative': 2,\n",
       "   'sentiment_score': 1.12},\n",
       "  '2021-03-13': {'Neutral': 65,\n",
       "   'Positive': 30,\n",
       "   'Negative': 1,\n",
       "   'sentiment_score': 1.13},\n",
       "  '2021-03-12': {'Neutral': 90,\n",
       "   'Positive': 41,\n",
       "   'Negative': 13,\n",
       "   'sentiment_score': 0.917}},\n",
       " 'total_pages': 1}"
      ]
     },
     "execution_count": 8,
     "metadata": {},
     "output_type": "execute_result"
    }
   ],
   "source": [
    "raw_ticker_sentiment"
   ]
  },
  {
   "cell_type": "code",
   "execution_count": 8,
   "metadata": {},
   "outputs": [],
   "source": [
    "ticker_sentiment_df = pd.DataFrame(data = raw_ticker_sentiment['data'])"
   ]
  },
  {
   "cell_type": "code",
   "execution_count": 9,
   "metadata": {},
   "outputs": [
    {
     "data": {
      "text/html": [
       "<div>\n",
       "<style scoped>\n",
       "    .dataframe tbody tr th:only-of-type {\n",
       "        vertical-align: middle;\n",
       "    }\n",
       "\n",
       "    .dataframe tbody tr th {\n",
       "        vertical-align: top;\n",
       "    }\n",
       "\n",
       "    .dataframe thead th {\n",
       "        text-align: right;\n",
       "    }\n",
       "</style>\n",
       "<table border=\"1\" class=\"dataframe\">\n",
       "  <thead>\n",
       "    <tr style=\"text-align: right;\">\n",
       "      <th></th>\n",
       "      <th>2021-03-16</th>\n",
       "      <th>2021-03-15</th>\n",
       "      <th>2021-03-14</th>\n",
       "      <th>2021-03-13</th>\n",
       "      <th>2021-03-12</th>\n",
       "      <th>2021-03-11</th>\n",
       "      <th>2021-03-10</th>\n",
       "      <th>2021-03-09</th>\n",
       "      <th>2021-03-08</th>\n",
       "      <th>2021-03-07</th>\n",
       "      <th>...</th>\n",
       "      <th>2021-02-24</th>\n",
       "      <th>2021-02-23</th>\n",
       "      <th>2021-02-22</th>\n",
       "      <th>2021-02-21</th>\n",
       "      <th>2021-02-20</th>\n",
       "      <th>2021-02-19</th>\n",
       "      <th>2021-02-18</th>\n",
       "      <th>2021-02-17</th>\n",
       "      <th>2021-02-16</th>\n",
       "      <th>2021-02-15</th>\n",
       "    </tr>\n",
       "  </thead>\n",
       "  <tbody>\n",
       "    <tr>\n",
       "      <th>BTC</th>\n",
       "      <td>{'Neutral': 26, 'Positive': 17, 'Negative': 17...</td>\n",
       "      <td>{'Neutral': 27, 'Positive': 24, 'Negative': 22...</td>\n",
       "      <td>{'Neutral': 10, 'Positive': 12, 'Negative': 1,...</td>\n",
       "      <td>{'Neutral': 17, 'Positive': 26, 'Negative': 0,...</td>\n",
       "      <td>{'Neutral': 35, 'Positive': 20, 'Negative': 3,...</td>\n",
       "      <td>{'Neutral': 35, 'Positive': 28, 'Negative': 4,...</td>\n",
       "      <td>{'Neutral': 26, 'Positive': 37, 'Negative': 3,...</td>\n",
       "      <td>{'Neutral': 24, 'Positive': 35, 'Negative': 6,...</td>\n",
       "      <td>{'Neutral': 30, 'Positive': 32, 'Negative': 5,...</td>\n",
       "      <td>{'Neutral': 13, 'Positive': 13, 'Negative': 2,...</td>\n",
       "      <td>...</td>\n",
       "      <td>{'Neutral': 28, 'Positive': 50, 'Negative': 16...</td>\n",
       "      <td>{'Neutral': 41, 'Positive': 23, 'Negative': 36...</td>\n",
       "      <td>{'Neutral': 27, 'Positive': 19, 'Negative': 42...</td>\n",
       "      <td>{'Neutral': 17, 'Positive': 15, 'Negative': 4,...</td>\n",
       "      <td>{'Neutral': 23, 'Positive': 14, 'Negative': 3,...</td>\n",
       "      <td>{'Neutral': 30, 'Positive': 69, 'Negative': 7,...</td>\n",
       "      <td>{'Neutral': 36, 'Positive': 38, 'Negative': 10...</td>\n",
       "      <td>{'Neutral': 31, 'Positive': 80, 'Negative': 17...</td>\n",
       "      <td>{'Neutral': 23, 'Positive': 85, 'Negative': 8,...</td>\n",
       "      <td>{'Neutral': 20, 'Positive': 30, 'Negative': 14...</td>\n",
       "    </tr>\n",
       "  </tbody>\n",
       "</table>\n",
       "<p>1 rows × 30 columns</p>\n",
       "</div>"
      ],
      "text/plain": [
       "                                            2021-03-16  \\\n",
       "BTC  {'Neutral': 26, 'Positive': 17, 'Negative': 17...   \n",
       "\n",
       "                                            2021-03-15  \\\n",
       "BTC  {'Neutral': 27, 'Positive': 24, 'Negative': 22...   \n",
       "\n",
       "                                            2021-03-14  \\\n",
       "BTC  {'Neutral': 10, 'Positive': 12, 'Negative': 1,...   \n",
       "\n",
       "                                            2021-03-13  \\\n",
       "BTC  {'Neutral': 17, 'Positive': 26, 'Negative': 0,...   \n",
       "\n",
       "                                            2021-03-12  \\\n",
       "BTC  {'Neutral': 35, 'Positive': 20, 'Negative': 3,...   \n",
       "\n",
       "                                            2021-03-11  \\\n",
       "BTC  {'Neutral': 35, 'Positive': 28, 'Negative': 4,...   \n",
       "\n",
       "                                            2021-03-10  \\\n",
       "BTC  {'Neutral': 26, 'Positive': 37, 'Negative': 3,...   \n",
       "\n",
       "                                            2021-03-09  \\\n",
       "BTC  {'Neutral': 24, 'Positive': 35, 'Negative': 6,...   \n",
       "\n",
       "                                            2021-03-08  \\\n",
       "BTC  {'Neutral': 30, 'Positive': 32, 'Negative': 5,...   \n",
       "\n",
       "                                            2021-03-07  ...  \\\n",
       "BTC  {'Neutral': 13, 'Positive': 13, 'Negative': 2,...  ...   \n",
       "\n",
       "                                            2021-02-24  \\\n",
       "BTC  {'Neutral': 28, 'Positive': 50, 'Negative': 16...   \n",
       "\n",
       "                                            2021-02-23  \\\n",
       "BTC  {'Neutral': 41, 'Positive': 23, 'Negative': 36...   \n",
       "\n",
       "                                            2021-02-22  \\\n",
       "BTC  {'Neutral': 27, 'Positive': 19, 'Negative': 42...   \n",
       "\n",
       "                                            2021-02-21  \\\n",
       "BTC  {'Neutral': 17, 'Positive': 15, 'Negative': 4,...   \n",
       "\n",
       "                                            2021-02-20  \\\n",
       "BTC  {'Neutral': 23, 'Positive': 14, 'Negative': 3,...   \n",
       "\n",
       "                                            2021-02-19  \\\n",
       "BTC  {'Neutral': 30, 'Positive': 69, 'Negative': 7,...   \n",
       "\n",
       "                                            2021-02-18  \\\n",
       "BTC  {'Neutral': 36, 'Positive': 38, 'Negative': 10...   \n",
       "\n",
       "                                            2021-02-17  \\\n",
       "BTC  {'Neutral': 31, 'Positive': 80, 'Negative': 17...   \n",
       "\n",
       "                                            2021-02-16  \\\n",
       "BTC  {'Neutral': 23, 'Positive': 85, 'Negative': 8,...   \n",
       "\n",
       "                                            2021-02-15  \n",
       "BTC  {'Neutral': 20, 'Positive': 30, 'Negative': 14...  \n",
       "\n",
       "[1 rows x 30 columns]"
      ]
     },
     "execution_count": 9,
     "metadata": {},
     "output_type": "execute_result"
    }
   ],
   "source": [
    "ticker_sentiment_df.tail()"
   ]
  },
  {
   "cell_type": "code",
   "execution_count": null,
   "metadata": {},
   "outputs": [],
   "source": []
  },
  {
   "cell_type": "code",
   "execution_count": null,
   "metadata": {},
   "outputs": [],
   "source": []
  }
 ],
 "metadata": {
  "kernelspec": {
   "display_name": "Python [conda env:pyvizenv] *",
   "language": "python",
   "name": "conda-env-pyvizenv-py"
  },
  "language_info": {
   "codemirror_mode": {
    "name": "ipython",
    "version": 3
   },
   "file_extension": ".py",
   "mimetype": "text/x-python",
   "name": "python",
   "nbconvert_exporter": "python",
   "pygments_lexer": "ipython3",
   "version": "3.7.9"
  }
 },
 "nbformat": 4,
 "nbformat_minor": 4
}
