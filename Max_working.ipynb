{
 "cells": [
  {
   "cell_type": "code",
   "execution_count": 1,
   "metadata": {},
   "outputs": [
    {
     "data": {
      "text/plain": [
       "True"
      ]
     },
     "execution_count": 1,
     "metadata": {},
     "output_type": "execute_result"
    }
   ],
   "source": [
    "# Initial imports\n",
    "import os\n",
    "import pandas as pd\n",
    "import requests\n",
    "\n",
    "from dotenv import load_dotenv\n",
    "load_dotenv()"
   ]
  },
  {
   "cell_type": "code",
   "execution_count": 2,
   "metadata": {},
   "outputs": [],
   "source": [
    "# Reading the News API key enviroment variable\n",
    "api_key = os.getenv(\"crypto_news_key\")"
   ]
  },
  {
   "cell_type": "code",
   "execution_count": 3,
   "metadata": {},
   "outputs": [
    {
     "name": "stdout",
     "output_type": "stream",
     "text": [
      "API key:<class 'str'>\n"
     ]
    }
   ],
   "source": [
    "print(f\"API key:{type(api_key)}\")"
   ]
  },
  {
   "cell_type": "code",
   "execution_count": 4,
   "metadata": {},
   "outputs": [],
   "source": [
    "crypto_news_data = 'https://cryptonews-api.com/api/v1/category?section=general&items=50&token=lbwxakweqqvlwk0c7qsyynyh2hocmkfgisqq8ggc'"
   ]
  },
  {
   "cell_type": "code",
   "execution_count": 5,
   "metadata": {},
   "outputs": [],
   "source": [
    "response_news = requests.get(crypto_news_data)"
   ]
  },
  {
   "cell_type": "code",
   "execution_count": 6,
   "metadata": {},
   "outputs": [
    {
     "data": {
      "text/plain": [
       "<Response [200]>"
      ]
     },
     "execution_count": 6,
     "metadata": {},
     "output_type": "execute_result"
    }
   ],
   "source": [
    "response_news"
   ]
  },
  {
   "cell_type": "code",
   "execution_count": 7,
   "metadata": {},
   "outputs": [],
   "source": [
    "news_data_raw = response_news.json()"
   ]
  },
  {
   "cell_type": "code",
   "execution_count": 8,
   "metadata": {},
   "outputs": [],
   "source": [
    "news_df = pd.DataFrame(data=news_data_raw['data'])"
   ]
  },
  {
   "cell_type": "code",
   "execution_count": 10,
   "metadata": {},
   "outputs": [
    {
     "data": {
      "text/html": [
       "<div>\n",
       "<style scoped>\n",
       "    .dataframe tbody tr th:only-of-type {\n",
       "        vertical-align: middle;\n",
       "    }\n",
       "\n",
       "    .dataframe tbody tr th {\n",
       "        vertical-align: top;\n",
       "    }\n",
       "\n",
       "    .dataframe thead th {\n",
       "        text-align: right;\n",
       "    }\n",
       "</style>\n",
       "<table border=\"1\" class=\"dataframe\">\n",
       "  <thead>\n",
       "    <tr style=\"text-align: right;\">\n",
       "      <th></th>\n",
       "      <th>news_url</th>\n",
       "      <th>image_url</th>\n",
       "      <th>title</th>\n",
       "      <th>text</th>\n",
       "      <th>source_name</th>\n",
       "      <th>date</th>\n",
       "      <th>topics</th>\n",
       "      <th>sentiment</th>\n",
       "      <th>type</th>\n",
       "    </tr>\n",
       "  </thead>\n",
       "  <tbody>\n",
       "    <tr>\n",
       "      <th>45</th>\n",
       "      <td>https://cryptopotato.com/recent-job-postings-h...</td>\n",
       "      <td>https://crypto.snapi.dev/images/v1/g/r/graysca...</td>\n",
       "      <td>Recent Job Postings Hints: Is Grayscale Lookin...</td>\n",
       "      <td>While US regulators have rejected all Bitcoin ...</td>\n",
       "      <td>CryptoPotato</td>\n",
       "      <td>Wed, 10 Mar 2021 13:00:08 -0500</td>\n",
       "      <td>[]</td>\n",
       "      <td>Positive</td>\n",
       "      <td>Article</td>\n",
       "    </tr>\n",
       "    <tr>\n",
       "      <th>46</th>\n",
       "      <td>https://cointelegraph.com/news/blockchain-grou...</td>\n",
       "      <td>https://crypto.snapi.dev/images/v1/8/4/840-ahr...</td>\n",
       "      <td>Blockchain group INATBA reiterates concerns ov...</td>\n",
       "      <td>The International Association for Trusted Bloc...</td>\n",
       "      <td>Cointelegraph</td>\n",
       "      <td>Wed, 10 Mar 2021 12:15:00 -0500</td>\n",
       "      <td>[regulations]</td>\n",
       "      <td>Negative</td>\n",
       "      <td>Article</td>\n",
       "    </tr>\n",
       "    <tr>\n",
       "      <th>47</th>\n",
       "      <td>https://decrypt.co/60883/wyoming-bill-granting...</td>\n",
       "      <td>https://crypto.snapi.dev/images/v1/s/h/shutter...</td>\n",
       "      <td>Wyoming Bill Granting Crypto DAOs Legality Nea...</td>\n",
       "      <td>Landmark legislation allowing decentralized au...</td>\n",
       "      <td>Decrypt</td>\n",
       "      <td>Wed, 10 Mar 2021 11:45:24 -0500</td>\n",
       "      <td>[regulations]</td>\n",
       "      <td>Positive</td>\n",
       "      <td>Article</td>\n",
       "    </tr>\n",
       "    <tr>\n",
       "      <th>48</th>\n",
       "      <td>https://cryptopotato.com/jpmorgan-to-launch-ex...</td>\n",
       "      <td>https://crypto.snapi.dev/images/v1/j/p/jpmorga...</td>\n",
       "      <td>JPMorgan to Launch Exposure Basket for Crypto-...</td>\n",
       "      <td>The popular U.S. bank plans to give investors ...</td>\n",
       "      <td>CryptoPotato</td>\n",
       "      <td>Wed, 10 Mar 2021 10:44:53 -0500</td>\n",
       "      <td>[]</td>\n",
       "      <td>Positive</td>\n",
       "      <td>Article</td>\n",
       "    </tr>\n",
       "    <tr>\n",
       "      <th>49</th>\n",
       "      <td>https://ambcrypto.com/usa-may-have-missed-the-...</td>\n",
       "      <td>https://crypto.snapi.dev/images/v1/e/r/erij-e1...</td>\n",
       "      <td>USA may have ‘missed the boat' a bit on the qu...</td>\n",
       "      <td>United States' SEC Commissioner Hester Peirce ...</td>\n",
       "      <td>AMBCrypto</td>\n",
       "      <td>Wed, 10 Mar 2021 10:30:16 -0500</td>\n",
       "      <td>[regulations]</td>\n",
       "      <td>Neutral</td>\n",
       "      <td>Article</td>\n",
       "    </tr>\n",
       "  </tbody>\n",
       "</table>\n",
       "</div>"
      ],
      "text/plain": [
       "                                             news_url  \\\n",
       "45  https://cryptopotato.com/recent-job-postings-h...   \n",
       "46  https://cointelegraph.com/news/blockchain-grou...   \n",
       "47  https://decrypt.co/60883/wyoming-bill-granting...   \n",
       "48  https://cryptopotato.com/jpmorgan-to-launch-ex...   \n",
       "49  https://ambcrypto.com/usa-may-have-missed-the-...   \n",
       "\n",
       "                                            image_url  \\\n",
       "45  https://crypto.snapi.dev/images/v1/g/r/graysca...   \n",
       "46  https://crypto.snapi.dev/images/v1/8/4/840-ahr...   \n",
       "47  https://crypto.snapi.dev/images/v1/s/h/shutter...   \n",
       "48  https://crypto.snapi.dev/images/v1/j/p/jpmorga...   \n",
       "49  https://crypto.snapi.dev/images/v1/e/r/erij-e1...   \n",
       "\n",
       "                                                title  \\\n",
       "45  Recent Job Postings Hints: Is Grayscale Lookin...   \n",
       "46  Blockchain group INATBA reiterates concerns ov...   \n",
       "47  Wyoming Bill Granting Crypto DAOs Legality Nea...   \n",
       "48  JPMorgan to Launch Exposure Basket for Crypto-...   \n",
       "49  USA may have ‘missed the boat' a bit on the qu...   \n",
       "\n",
       "                                                 text    source_name  \\\n",
       "45  While US regulators have rejected all Bitcoin ...   CryptoPotato   \n",
       "46  The International Association for Trusted Bloc...  Cointelegraph   \n",
       "47  Landmark legislation allowing decentralized au...        Decrypt   \n",
       "48  The popular U.S. bank plans to give investors ...   CryptoPotato   \n",
       "49  United States' SEC Commissioner Hester Peirce ...      AMBCrypto   \n",
       "\n",
       "                               date         topics sentiment     type  \n",
       "45  Wed, 10 Mar 2021 13:00:08 -0500             []  Positive  Article  \n",
       "46  Wed, 10 Mar 2021 12:15:00 -0500  [regulations]  Negative  Article  \n",
       "47  Wed, 10 Mar 2021 11:45:24 -0500  [regulations]  Positive  Article  \n",
       "48  Wed, 10 Mar 2021 10:44:53 -0500             []  Positive  Article  \n",
       "49  Wed, 10 Mar 2021 10:30:16 -0500  [regulations]   Neutral  Article  "
      ]
     },
     "execution_count": 10,
     "metadata": {},
     "output_type": "execute_result"
    }
   ],
   "source": [
    "news_df.tail()"
   ]
  },
  {
   "cell_type": "code",
   "execution_count": null,
   "metadata": {},
   "outputs": [],
   "source": []
  }
 ],
 "metadata": {
  "kernelspec": {
   "display_name": "Python 3",
   "language": "python",
   "name": "python3"
  },
  "language_info": {
   "codemirror_mode": {
    "name": "ipython",
    "version": 3
   },
   "file_extension": ".py",
   "mimetype": "text/x-python",
   "name": "python",
   "nbconvert_exporter": "python",
   "pygments_lexer": "ipython3",
   "version": "3.7.9"
  }
 },
 "nbformat": 4,
 "nbformat_minor": 4
}
