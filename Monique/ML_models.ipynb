{
  "nbformat": 4,
  "nbformat_minor": 0,
  "metadata": {
    "colab": {
      "name": "ML_models.ipynb",
      "provenance": [],
      "collapsed_sections": [],
      "mount_file_id": "1bk_nXBY25mnFd0hPcYXMRtHTZG8t8gb3",
      "authorship_tag": "ABX9TyNNo2FjlY9998xkxI9lAvu7",
      "include_colab_link": true
    },
    "kernelspec": {
      "name": "python3",
      "display_name": "Python 3"
    }
  },
  "cells": [
    {
      "cell_type": "markdown",
      "metadata": {
        "id": "view-in-github",
        "colab_type": "text"
      },
      "source": [
        "<a href=\"https://colab.research.google.com/github/maxla777/Project-2/blob/Monique/Monique/ML_models.ipynb\" target=\"_parent\"><img src=\"https://colab.research.google.com/assets/colab-badge.svg\" alt=\"Open In Colab\"/></a>"
      ]
    },
    {
      "cell_type": "markdown",
      "metadata": {
        "id": "qAMDp0ITiRri"
      },
      "source": [
        "Fundamental Analysis\r\n",
        "\r\n",
        "Market cap = current price * circulating supply\r\n",
        "1.    NVT Ratio - (Network Value (market cap)) / Daily USD volume\r\n",
        "    * NVT indicates whether a coin's price is overvalued or undervalued\r\n",
        "    * NVT is a good indicator for revealing speculative value and possible bubbles\r\n",
        "2.    MVRV Ratio - (Market cap) / (Realized cap)\r\n",
        "    *   Good instrument for estimating if market participants are in profit or not\r\n",
        "    *   MVRV is an excellent tool for determining if bitcoin is overvalued or undervalued during market cycles\r\n",
        "    *   Negative MVRV ratio indicates market participants being not in profit, or minimally in profit \r\n",
        "    *   Positive MVRV indicates asset holders likely being in profit\r\n",
        "\r\n"
      ]
    },
    {
      "cell_type": "code",
      "metadata": {
        "colab": {
          "base_uri": "https://localhost:8080/",
          "height": 224
        },
        "id": "FwjCBgPjmMxA",
        "outputId": "989f0bae-620d-49cd-c3af-7da99c163281"
      },
      "source": [
        "import pandas as pd\r\n",
        "from pathlib import Path\r\n",
        "csv_path = Path('/content/sample_data/california_housing_train.csv')\r\n",
        "housing_data_df=pd.read_csv(csv_path)\r\n",
        "housing_data_df.head()"
      ],
      "execution_count": null,
      "outputs": [
        {
          "output_type": "execute_result",
          "data": {
            "text/html": [
              "<div>\n",
              "<style scoped>\n",
              "    .dataframe tbody tr th:only-of-type {\n",
              "        vertical-align: middle;\n",
              "    }\n",
              "\n",
              "    .dataframe tbody tr th {\n",
              "        vertical-align: top;\n",
              "    }\n",
              "\n",
              "    .dataframe thead th {\n",
              "        text-align: right;\n",
              "    }\n",
              "</style>\n",
              "<table border=\"1\" class=\"dataframe\">\n",
              "  <thead>\n",
              "    <tr style=\"text-align: right;\">\n",
              "      <th></th>\n",
              "      <th>longitude</th>\n",
              "      <th>latitude</th>\n",
              "      <th>housing_median_age</th>\n",
              "      <th>total_rooms</th>\n",
              "      <th>total_bedrooms</th>\n",
              "      <th>population</th>\n",
              "      <th>households</th>\n",
              "      <th>median_income</th>\n",
              "      <th>median_house_value</th>\n",
              "    </tr>\n",
              "  </thead>\n",
              "  <tbody>\n",
              "    <tr>\n",
              "      <th>0</th>\n",
              "      <td>-114.31</td>\n",
              "      <td>34.19</td>\n",
              "      <td>15.0</td>\n",
              "      <td>5612.0</td>\n",
              "      <td>1283.0</td>\n",
              "      <td>1015.0</td>\n",
              "      <td>472.0</td>\n",
              "      <td>1.4936</td>\n",
              "      <td>66900.0</td>\n",
              "    </tr>\n",
              "    <tr>\n",
              "      <th>1</th>\n",
              "      <td>-114.47</td>\n",
              "      <td>34.40</td>\n",
              "      <td>19.0</td>\n",
              "      <td>7650.0</td>\n",
              "      <td>1901.0</td>\n",
              "      <td>1129.0</td>\n",
              "      <td>463.0</td>\n",
              "      <td>1.8200</td>\n",
              "      <td>80100.0</td>\n",
              "    </tr>\n",
              "    <tr>\n",
              "      <th>2</th>\n",
              "      <td>-114.56</td>\n",
              "      <td>33.69</td>\n",
              "      <td>17.0</td>\n",
              "      <td>720.0</td>\n",
              "      <td>174.0</td>\n",
              "      <td>333.0</td>\n",
              "      <td>117.0</td>\n",
              "      <td>1.6509</td>\n",
              "      <td>85700.0</td>\n",
              "    </tr>\n",
              "    <tr>\n",
              "      <th>3</th>\n",
              "      <td>-114.57</td>\n",
              "      <td>33.64</td>\n",
              "      <td>14.0</td>\n",
              "      <td>1501.0</td>\n",
              "      <td>337.0</td>\n",
              "      <td>515.0</td>\n",
              "      <td>226.0</td>\n",
              "      <td>3.1917</td>\n",
              "      <td>73400.0</td>\n",
              "    </tr>\n",
              "    <tr>\n",
              "      <th>4</th>\n",
              "      <td>-114.57</td>\n",
              "      <td>33.57</td>\n",
              "      <td>20.0</td>\n",
              "      <td>1454.0</td>\n",
              "      <td>326.0</td>\n",
              "      <td>624.0</td>\n",
              "      <td>262.0</td>\n",
              "      <td>1.9250</td>\n",
              "      <td>65500.0</td>\n",
              "    </tr>\n",
              "  </tbody>\n",
              "</table>\n",
              "</div>"
            ],
            "text/plain": [
              "   longitude  latitude  ...  median_income  median_house_value\n",
              "0    -114.31     34.19  ...         1.4936             66900.0\n",
              "1    -114.47     34.40  ...         1.8200             80100.0\n",
              "2    -114.56     33.69  ...         1.6509             85700.0\n",
              "3    -114.57     33.64  ...         3.1917             73400.0\n",
              "4    -114.57     33.57  ...         1.9250             65500.0\n",
              "\n",
              "[5 rows x 9 columns]"
            ]
          },
          "metadata": {
            "tags": []
          },
          "execution_count": 6
        }
      ]
    },
    {
      "cell_type": "code",
      "metadata": {
        "id": "9DIZ7utLmvn8"
      },
      "source": [
        "x_var_list = ['total_rooms', 'total_bedrooms', 'households']\r\n"
      ],
      "execution_count": null,
      "outputs": []
    },
    {
      "cell_type": "markdown",
      "metadata": {
        "id": "PaTitxthU7yh"
      },
      "source": [
        "AdaBoost"
      ]
    },
    {
      "cell_type": "code",
      "metadata": {
        "id": "8KQD3WDoGlDu"
      },
      "source": [
        "from sklearn.model_selection import cross_val_score\r\n",
        "from sklearn.ensemble import AdaBoostClassifier"
      ],
      "execution_count": null,
      "outputs": []
    },
    {
      "cell_type": "code",
      "metadata": {
        "id": "Uqhr3xDSVcef"
      },
      "source": [
        "# Usage from scikit learn documentation\r\n",
        "# To update to fit our project\r\n",
        "# from sklearn.model_selection import cross_val_score\r\n",
        "# from sklearn.datasets import load_iris\r\n",
        "# from sklearn.ensemble import AdaBoostClassifier\r\n",
        "\r\n",
        "# X, y = load_iris(return_X_y=True)\r\n",
        "# clf = AdaBoostClassifier(n_estimators=100)\r\n",
        "# scores = cross_val_score(clf, X, y, cv=5)\r\n",
        "# scores.mean()"
      ],
      "execution_count": null,
      "outputs": []
    },
    {
      "cell_type": "markdown",
      "metadata": {
        "id": "Fzdzw0jyVBC6"
      },
      "source": [
        "Random Forest"
      ]
    },
    {
      "cell_type": "code",
      "metadata": {
        "id": "PzyM8iljVDR8"
      },
      "source": [
        "from sklearn.ensemble import RandomForestClassifier\r\n",
        "from sklearn.datasets import make_classification"
      ],
      "execution_count": null,
      "outputs": []
    },
    {
      "cell_type": "code",
      "metadata": {
        "id": "pL2vnbw4WGYv"
      },
      "source": [
        "# Fit a SKLearn linear regression using just the training set (X_train, y_train):\r\n",
        "# model = RandomForestClassifier(n_estimators=100, max_depth=3, random_state=0)\r\n",
        "# model.fit(X_train, y_train)\r\n",
        "\r\n",
        "# Make a prediction of \"y\" values from the X_test dataset\r\n",
        "# predictions = model.predict(X_test)\r\n",
        "\r\n",
        "# Assemble actual y data (Y_test) with predicted y data (from just above) into two columns in a dataframe:\r\n",
        "# Results = y_test.to_frame()\r\n",
        "# Results[\"Predicted Value\"] = predictions\r\n",
        "# Results"
      ],
      "execution_count": null,
      "outputs": []
    }
  ]
}