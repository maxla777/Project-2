{
  "nbformat": 4,
  "nbformat_minor": 0,
  "metadata": {
    "colab": {
      "name": "ML_models.ipynb",
      "provenance": [],
      "authorship_tag": "ABX9TyNEO4bv/8Xu2btLearPcUD2",
      "include_colab_link": true
    },
    "kernelspec": {
      "name": "python3",
      "display_name": "Python 3"
    }
  },
  "cells": [
    {
      "cell_type": "markdown",
      "metadata": {
        "id": "view-in-github",
        "colab_type": "text"
      },
      "source": [
        "<a href=\"https://colab.research.google.com/github/maxla777/Project-2/blob/Monique/Monique/ML_models.ipynb\" target=\"_parent\"><img src=\"https://colab.research.google.com/assets/colab-badge.svg\" alt=\"Open In Colab\"/></a>"
      ]
    },
    {
      "cell_type": "markdown",
      "metadata": {
        "id": "PaTitxthU7yh"
      },
      "source": [
        "AdaBoost"
      ]
    },
    {
      "cell_type": "code",
      "metadata": {
        "id": "8KQD3WDoGlDu"
      },
      "source": [
        "from sklearn.model_selection import cross_val_score\r\n",
        "from sklearn.ensemble import AdaBoostClassifier"
      ],
      "execution_count": 1,
      "outputs": []
    },
    {
      "cell_type": "code",
      "metadata": {
        "id": "Uqhr3xDSVcef"
      },
      "source": [
        "# Usage from scikit learn documentation\r\n",
        "# To update to fit our project\r\n",
        "# from sklearn.model_selection import cross_val_score\r\n",
        "# from sklearn.datasets import load_iris\r\n",
        "# from sklearn.ensemble import AdaBoostClassifier\r\n",
        "\r\n",
        "# X, y = load_iris(return_X_y=True)\r\n",
        "# clf = AdaBoostClassifier(n_estimators=100)\r\n",
        "# scores = cross_val_score(clf, X, y, cv=5)\r\n",
        "# scores.mean()"
      ],
      "execution_count": 2,
      "outputs": []
    },
    {
      "cell_type": "markdown",
      "metadata": {
        "id": "Fzdzw0jyVBC6"
      },
      "source": [
        "Random Forest"
      ]
    },
    {
      "cell_type": "code",
      "metadata": {
        "id": "PzyM8iljVDR8"
      },
      "source": [
        "from sklearn.ensemble import RandomForestClassifier\r\n",
        "from sklearn.datasets import make_classification"
      ],
      "execution_count": 3,
      "outputs": []
    },
    {
      "cell_type": "code",
      "metadata": {
        "id": "pL2vnbw4WGYv"
      },
      "source": [
        "# Fit a SKLearn linear regression using just the training set (X_train, y_train):\r\n",
        "# model = RandomForestClassifier(n_estimators=100, max_depth=3, random_state=0)\r\n",
        "# model.fit(X_train, y_train)\r\n",
        "\r\n",
        "# Make a prediction of \"y\" values from the X_test dataset\r\n",
        "# predictions = model.predict(X_test)\r\n",
        "\r\n",
        "# Assemble actual y data (Y_test) with predicted y data (from just above) into two columns in a dataframe:\r\n",
        "# Results = y_test.to_frame()\r\n",
        "# Results[\"Predicted Value\"] = predictions\r\n",
        "# Results"
      ],
      "execution_count": null,
      "outputs": []
    }
  ]
}