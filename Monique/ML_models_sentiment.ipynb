{
  "nbformat": 4,
  "nbformat_minor": 0,
  "metadata": {
    "colab": {
      "name": "ML_models_sentiment.ipynb",
      "provenance": [],
      "collapsed_sections": []
    },
    "kernelspec": {
      "name": "python3",
      "display_name": "Python 3"
    }
  },
  "cells": [
    {
      "cell_type": "markdown",
      "metadata": {
        "id": "view-in-github"
      },
      "source": [
        "<a href=\"https://colab.research.google.com/github/maxla777/Project-2/blob/Monique/Monique/ML_models.ipynb\" target=\"_parent\"><img src=\"https://colab.research.google.com/assets/colab-badge.svg\" alt=\"Open In Colab\"/></a>"
      ]
    },
    {
      "cell_type": "code",
      "metadata": {
        "id": "znboOVVmH1OV",
        "colab": {
          "base_uri": "https://localhost:8080/"
        },
        "outputId": "8ece1f4b-bda6-4863-fffc-11c1dc9f2759"
      },
      "source": [
        "# Mount Google Drive with Colab Notebook\n",
        "from google.colab import drive\n",
        "drive.mount('/content/drive')"
      ],
      "execution_count": 1,
      "outputs": [
        {
          "output_type": "stream",
          "text": [
            "Drive already mounted at /content/drive; to attempt to forcibly remount, call drive.mount(\"/content/drive\", force_remount=True).\n"
          ],
          "name": "stdout"
        }
      ]
    },
    {
      "cell_type": "code",
      "metadata": {
        "id": "FwjCBgPjmMxA"
      },
      "source": [
        "# Import the needed libraries\n",
        "import pandas as pd\n",
        "import numpy as np\n",
        "from pathlib import Path\n",
        "import matplotlib.pyplot as plt\n",
        "%matplotlib inline"
      ],
      "execution_count": 2,
      "outputs": []
    },
    {
      "cell_type": "code",
      "metadata": {
        "id": "8KQD3WDoGlDu"
      },
      "source": [
        "# Import to scale the data\n",
        "from sklearn.preprocessing import StandardScaler\n",
        "\n",
        "# Imports for the AdaBoost Classifier\n",
        "from sklearn.ensemble import AdaBoostClassifier\n",
        "from sklearn.tree import DecisionTreeClassifier\n",
        "\n",
        "# Import Random Forest Classifier\n",
        "from sklearn.ensemble import RandomForestClassifier\n",
        "\n",
        "# Imports for evaluation metrics\n",
        "from sklearn.metrics import confusion_matrix, balanced_accuracy_score, accuracy_score, classification_report, precision_recall_curve, roc_auc_score, hamming_loss, jaccard_score, matthews_corrcoef"
      ],
      "execution_count": 3,
      "outputs": []
    },
    {
      "cell_type": "markdown",
      "metadata": {
        "id": "FhQZZjrIXlez"
      },
      "source": [
        "# Data Preparation"
      ]
    },
    {
      "cell_type": "code",
      "metadata": {
        "colab": {
          "base_uri": "https://localhost:8080/",
          "height": 235
        },
        "id": "28bSNabN_rmS",
        "outputId": "577c9e96-d0fb-4352-aa8a-48c2ba7dc6a9"
      },
      "source": [
        "# Load the sentiment signals data and check the data\n",
        "# Set the file path\n",
        "csv_path = Path('/content/drive/MyDrive/Colab Notebooks/ETH_bull_bear_signals.csv')\n",
        "# Read the data\n",
        "df_crypto_news=pd.read_csv(csv_path)\n",
        "# Set the date column as the index\n",
        "df_crypto_news.set_index(pd.to_datetime(df_crypto_news['date'], infer_datetime_format=True), inplace=True)\n",
        "# Drop the date column since the date is now the index\n",
        "df_crypto_news.drop(columns=['date'], inplace=True)\n",
        "# Display the DataFrame - first few rows\n",
        "df_crypto_news.head()"
      ],
      "execution_count": 4,
      "outputs": [
        {
          "output_type": "execute_result",
          "data": {
            "text/html": [
              "<div>\n",
              "<style scoped>\n",
              "    .dataframe tbody tr th:only-of-type {\n",
              "        vertical-align: middle;\n",
              "    }\n",
              "\n",
              "    .dataframe tbody tr th {\n",
              "        vertical-align: top;\n",
              "    }\n",
              "\n",
              "    .dataframe thead th {\n",
              "        text-align: right;\n",
              "    }\n",
              "</style>\n",
              "<table border=\"1\" class=\"dataframe\">\n",
              "  <thead>\n",
              "    <tr style=\"text-align: right;\">\n",
              "      <th></th>\n",
              "      <th>signal</th>\n",
              "    </tr>\n",
              "    <tr>\n",
              "      <th>date</th>\n",
              "      <th></th>\n",
              "    </tr>\n",
              "  </thead>\n",
              "  <tbody>\n",
              "    <tr>\n",
              "      <th>2020-12-01</th>\n",
              "      <td>1.0</td>\n",
              "    </tr>\n",
              "    <tr>\n",
              "      <th>2020-12-02</th>\n",
              "      <td>0.0</td>\n",
              "    </tr>\n",
              "    <tr>\n",
              "      <th>2020-12-03</th>\n",
              "      <td>0.0</td>\n",
              "    </tr>\n",
              "    <tr>\n",
              "      <th>2020-12-04</th>\n",
              "      <td>1.0</td>\n",
              "    </tr>\n",
              "    <tr>\n",
              "      <th>2020-12-05</th>\n",
              "      <td>0.0</td>\n",
              "    </tr>\n",
              "  </tbody>\n",
              "</table>\n",
              "</div>"
            ],
            "text/plain": [
              "            signal\n",
              "date              \n",
              "2020-12-01     1.0\n",
              "2020-12-02     0.0\n",
              "2020-12-03     0.0\n",
              "2020-12-04     1.0\n",
              "2020-12-05     0.0"
            ]
          },
          "metadata": {
            "tags": []
          },
          "execution_count": 4
        }
      ]
    },
    {
      "cell_type": "code",
      "metadata": {
        "colab": {
          "base_uri": "https://localhost:8080/",
          "height": 235
        },
        "id": "9Z4Zv02TBbZm",
        "outputId": "302c298f-58e4-425a-a790-f6b14bbe0bb6"
      },
      "source": [
        "# Display the DataFrame - last few rows\n",
        "df_crypto_news.tail()"
      ],
      "execution_count": 5,
      "outputs": [
        {
          "output_type": "execute_result",
          "data": {
            "text/html": [
              "<div>\n",
              "<style scoped>\n",
              "    .dataframe tbody tr th:only-of-type {\n",
              "        vertical-align: middle;\n",
              "    }\n",
              "\n",
              "    .dataframe tbody tr th {\n",
              "        vertical-align: top;\n",
              "    }\n",
              "\n",
              "    .dataframe thead th {\n",
              "        text-align: right;\n",
              "    }\n",
              "</style>\n",
              "<table border=\"1\" class=\"dataframe\">\n",
              "  <thead>\n",
              "    <tr style=\"text-align: right;\">\n",
              "      <th></th>\n",
              "      <th>signal</th>\n",
              "    </tr>\n",
              "    <tr>\n",
              "      <th>date</th>\n",
              "      <th></th>\n",
              "    </tr>\n",
              "  </thead>\n",
              "  <tbody>\n",
              "    <tr>\n",
              "      <th>2021-03-17</th>\n",
              "      <td>0.0</td>\n",
              "    </tr>\n",
              "    <tr>\n",
              "      <th>2021-03-18</th>\n",
              "      <td>0.0</td>\n",
              "    </tr>\n",
              "    <tr>\n",
              "      <th>2021-03-19</th>\n",
              "      <td>0.0</td>\n",
              "    </tr>\n",
              "    <tr>\n",
              "      <th>2021-03-20</th>\n",
              "      <td>-1.0</td>\n",
              "    </tr>\n",
              "    <tr>\n",
              "      <th>2021-03-21</th>\n",
              "      <td>-1.0</td>\n",
              "    </tr>\n",
              "  </tbody>\n",
              "</table>\n",
              "</div>"
            ],
            "text/plain": [
              "            signal\n",
              "date              \n",
              "2021-03-17     0.0\n",
              "2021-03-18     0.0\n",
              "2021-03-19     0.0\n",
              "2021-03-20    -1.0\n",
              "2021-03-21    -1.0"
            ]
          },
          "metadata": {
            "tags": []
          },
          "execution_count": 5
        }
      ]
    },
    {
      "cell_type": "code",
      "metadata": {
        "colab": {
          "base_uri": "https://localhost:8080/",
          "height": 235
        },
        "id": "U0jCV9xHB1dO",
        "outputId": "a719f9da-15f1-452a-a373-0dde1be18cf2"
      },
      "source": [
        "# Load the Positive Return data\n",
        "# Set the file path\n",
        "csv_path = Path('/content/drive/MyDrive/Colab Notebooks/kraken_pull_EthExample_03202021.csv')\n",
        "# Read the data\n",
        "df_eth_returns=pd.read_csv(csv_path)\n",
        "# Set the Date column as the index\n",
        "df_eth_returns.set_index(pd.to_datetime(df_eth_returns['Date'], infer_datetime_format=True), inplace=True)\n",
        "# Drop the Date column since it has been set as the index\n",
        "df_eth_returns.drop(columns=['Date'], inplace=True)\n",
        "# Copy the Positive Return column only and write over the DataFrame\n",
        "df_eth_returns = df_eth_returns[['Positive Return']].copy()\n",
        "# Display the DataFrame - the first few rows\n",
        "df_eth_returns.head()"
      ],
      "execution_count": 6,
      "outputs": [
        {
          "output_type": "execute_result",
          "data": {
            "text/html": [
              "<div>\n",
              "<style scoped>\n",
              "    .dataframe tbody tr th:only-of-type {\n",
              "        vertical-align: middle;\n",
              "    }\n",
              "\n",
              "    .dataframe tbody tr th {\n",
              "        vertical-align: top;\n",
              "    }\n",
              "\n",
              "    .dataframe thead th {\n",
              "        text-align: right;\n",
              "    }\n",
              "</style>\n",
              "<table border=\"1\" class=\"dataframe\">\n",
              "  <thead>\n",
              "    <tr style=\"text-align: right;\">\n",
              "      <th></th>\n",
              "      <th>Positive Return</th>\n",
              "    </tr>\n",
              "    <tr>\n",
              "      <th>Date</th>\n",
              "      <th></th>\n",
              "    </tr>\n",
              "  </thead>\n",
              "  <tbody>\n",
              "    <tr>\n",
              "      <th>2019-04-21</th>\n",
              "      <td>0.0</td>\n",
              "    </tr>\n",
              "    <tr>\n",
              "      <th>2019-04-22</th>\n",
              "      <td>1.0</td>\n",
              "    </tr>\n",
              "    <tr>\n",
              "      <th>2019-04-23</th>\n",
              "      <td>0.0</td>\n",
              "    </tr>\n",
              "    <tr>\n",
              "      <th>2019-04-24</th>\n",
              "      <td>0.0</td>\n",
              "    </tr>\n",
              "    <tr>\n",
              "      <th>2019-04-25</th>\n",
              "      <td>0.0</td>\n",
              "    </tr>\n",
              "  </tbody>\n",
              "</table>\n",
              "</div>"
            ],
            "text/plain": [
              "            Positive Return\n",
              "Date                       \n",
              "2019-04-21              0.0\n",
              "2019-04-22              1.0\n",
              "2019-04-23              0.0\n",
              "2019-04-24              0.0\n",
              "2019-04-25              0.0"
            ]
          },
          "metadata": {
            "tags": []
          },
          "execution_count": 6
        }
      ]
    },
    {
      "cell_type": "code",
      "metadata": {
        "colab": {
          "base_uri": "https://localhost:8080/",
          "height": 235
        },
        "id": "UUqbtytlDHih",
        "outputId": "2fe6556f-8147-4c7d-f04a-32152052b2ac"
      },
      "source": [
        "# Display the DataFrame - the last few rows\n",
        "df_eth_returns.tail()"
      ],
      "execution_count": 7,
      "outputs": [
        {
          "output_type": "execute_result",
          "data": {
            "text/html": [
              "<div>\n",
              "<style scoped>\n",
              "    .dataframe tbody tr th:only-of-type {\n",
              "        vertical-align: middle;\n",
              "    }\n",
              "\n",
              "    .dataframe tbody tr th {\n",
              "        vertical-align: top;\n",
              "    }\n",
              "\n",
              "    .dataframe thead th {\n",
              "        text-align: right;\n",
              "    }\n",
              "</style>\n",
              "<table border=\"1\" class=\"dataframe\">\n",
              "  <thead>\n",
              "    <tr style=\"text-align: right;\">\n",
              "      <th></th>\n",
              "      <th>Positive Return</th>\n",
              "    </tr>\n",
              "    <tr>\n",
              "      <th>Date</th>\n",
              "      <th></th>\n",
              "    </tr>\n",
              "  </thead>\n",
              "  <tbody>\n",
              "    <tr>\n",
              "      <th>2021-03-16</th>\n",
              "      <td>1.0</td>\n",
              "    </tr>\n",
              "    <tr>\n",
              "      <th>2021-03-17</th>\n",
              "      <td>1.0</td>\n",
              "    </tr>\n",
              "    <tr>\n",
              "      <th>2021-03-18</th>\n",
              "      <td>0.0</td>\n",
              "    </tr>\n",
              "    <tr>\n",
              "      <th>2021-03-19</th>\n",
              "      <td>1.0</td>\n",
              "    </tr>\n",
              "    <tr>\n",
              "      <th>2021-03-20</th>\n",
              "      <td>1.0</td>\n",
              "    </tr>\n",
              "  </tbody>\n",
              "</table>\n",
              "</div>"
            ],
            "text/plain": [
              "            Positive Return\n",
              "Date                       \n",
              "2021-03-16              1.0\n",
              "2021-03-17              1.0\n",
              "2021-03-18              0.0\n",
              "2021-03-19              1.0\n",
              "2021-03-20              1.0"
            ]
          },
          "metadata": {
            "tags": []
          },
          "execution_count": 7
        }
      ]
    },
    {
      "cell_type": "code",
      "metadata": {
        "id": "g1dgJDiijHt0",
        "colab": {
          "base_uri": "https://localhost:8080/"
        },
        "outputId": "337501d7-8221-46b6-d2d1-f2e3278be7c0"
      },
      "source": [
        "# Set x variable list of features\n",
        "x_var_list = ['signal']\n",
        "\n",
        "# Construct training start and end dates\n",
        "training_start = df_crypto_news.index.min().strftime(format= '%Y-%m-%d')\n",
        "training_end = '2021-02-15'\n",
        "\n",
        "# Construct testing start and end dates\n",
        "testing_start =  '2021-02-16'\n",
        "testing_end = df_eth_returns.index.max().strftime(format= '%Y-%m-%d')\n",
        "\n",
        "# Construct the X_train and y_train datasets\n",
        "X_train = df_crypto_news[x_var_list][training_start:training_end]\n",
        "y_train = df_eth_returns['Positive Return'][training_start:training_end]\n",
        "\n",
        "# Construct the X test and y test datasets\n",
        "X_test = df_crypto_news[x_var_list][testing_start:testing_end]\n",
        "y_test = df_eth_returns['Positive Return'][testing_start:testing_end]\n",
        "\n",
        "# Print training and testing start/end dates\n",
        "print(f\"Training Start: {training_start}\")\n",
        "print(f\"Training End: {training_end}\")\n",
        "print(f\"Testing Start: {testing_start}\")\n",
        "print(f\"Testing End: {testing_end}\")"
      ],
      "execution_count": 8,
      "outputs": [
        {
          "output_type": "stream",
          "text": [
            "Training Start: 2020-12-01\n",
            "Training End: 2021-02-15\n",
            "Testing Start: 2021-02-16\n",
            "Testing End: 2021-03-20\n"
          ],
          "name": "stdout"
        }
      ]
    },
    {
      "cell_type": "code",
      "metadata": {
        "id": "yhOlcEedqsiq"
      },
      "source": [
        "#Create the StandardScaler instance\n",
        "scaler = StandardScaler()"
      ],
      "execution_count": 9,
      "outputs": []
    },
    {
      "cell_type": "code",
      "metadata": {
        "id": "ZpSXpsbDqz4C"
      },
      "source": [
        "# Fit the Standard Scaler with the training data\n",
        "X_scaler = scaler.fit(X_train)"
      ],
      "execution_count": 10,
      "outputs": []
    },
    {
      "cell_type": "code",
      "metadata": {
        "id": "Pu9QmrSAq38x"
      },
      "source": [
        "# Scale the training and testing data\n",
        "X_train_scaled = X_scaler.transform(X_train)\n",
        "X_test_scaled = X_scaler.transform(X_test)"
      ],
      "execution_count": 11,
      "outputs": []
    },
    {
      "cell_type": "markdown",
      "metadata": {
        "id": "_BeLWs1hNR-a"
      },
      "source": [
        "# Evaluation Metrics Functions"
      ]
    },
    {
      "cell_type": "code",
      "metadata": {
        "id": "Z6CqmJBWNP33"
      },
      "source": [
        "# Create function to calculate and display the confusion matrix\n",
        "def get_confusion_matrix(y_test, predictions):\n",
        "  cm = confusion_matrix(y_test, predictions) # calculate the confusion matrix\n",
        "  # Create a DataFrame for the confusion matrix\n",
        "  cm_df = pd.DataFrame(\n",
        "      cm, index=['Actual Not Positive', 'Actual Positive'],\n",
        "      columns=['Predicted Not Positive', 'Predicted Positive']\n",
        "  )\n",
        "  # Print a header for the confusion matrix\n",
        "  print(\"Confusion Matrix\")\n",
        "  # Display the confusion matrix\n",
        "  display(cm_df)"
      ],
      "execution_count": 12,
      "outputs": []
    },
    {
      "cell_type": "code",
      "metadata": {
        "id": "YB9GpIhUP5CQ"
      },
      "source": [
        "# Create a function to calculate and display the evaluation metrics\n",
        "def get_scores(X_test, y_test, predictions, model):\n",
        "  # Calculate the accuracy score\n",
        "  acc_score = accuracy_score(y_test, predictions)\n",
        "  # Calculate the balanced accuracy score\n",
        "  bal_acc_score = balanced_accuracy_score(y_test, predictions)\n",
        "  # Predict the class probabilities\n",
        "  probs = model.predict_proba(X_test)[:,1]\n",
        "  # Calculate the precision-recall pairs\n",
        "  precision, recall, _ = precision_recall_curve(y_test, probs, pos_label=1)\n",
        "  # Calculate the area under the curve AUPRC\n",
        "  auprc_score = roc_auc_score(y_test, probs)\n",
        "  # Calculate the Matthews correlation coefficient MCC\n",
        "  MCC_score = matthews_corrcoef(y_test, predictions)\n",
        "  # Calculate the Jaccard similarity coefficient\n",
        "  J_score = jaccard_score(y_test, predictions)\n",
        "  # Calculate the average Hamming loss\n",
        "  H_loss = hamming_loss(y_test, predictions)\n",
        "  # Create a DataFrame for the accuracy, balanced accuracy, MCC, Jaccard, and average Hamming loss scores\n",
        "  scores_df = pd.DataFrame(\n",
        "      [acc_score, bal_acc_score, MCC_score, J_score, H_loss], \n",
        "      index=['Accuray', 'Balanced Accuracy', 'Matthews Correlation Coefficient', 'Jaccard Similarity Coefficient', 'Average Hamming Loss'],\n",
        "      columns=['Scores']\n",
        "  )\n",
        "  # Create a classification report\n",
        "  class_report = classification_report(y_test, predictions, target_names= ['Not Positive', 'Positive'])\n",
        "  # Set up to plot the precision-recall curve\n",
        "  plt.plot(recall, precision, marker='o')\n",
        "  # Display the scores DataFrame\n",
        "  display(scores_df)\n",
        "  # Print the classification report\n",
        "  print('Classification Report:')\n",
        "  print(class_report)\n",
        "  # Print the precision-recall curve header\n",
        "  print('Precision-Recall Curve')\n",
        "  # Print the area under the curve score\n",
        "  print('Area Under the Curve:', auprc_score)\n",
        "  # Show the precision-recall curve plot\n",
        "  plt.show()"
      ],
      "execution_count": 13,
      "outputs": []
    },
    {
      "cell_type": "markdown",
      "metadata": {
        "id": "PaTitxthU7yh"
      },
      "source": [
        "# AdaBoost"
      ]
    },
    {
      "cell_type": "code",
      "metadata": {
        "id": "Uqhr3xDSVcef",
        "colab": {
          "base_uri": "https://localhost:8080/",
          "height": 1000
        },
        "outputId": "5717ad86-6a40-4cf2-ec31-18bbd07884fe"
      },
      "source": [
        "# Fit a SKLearn linear regression using the training set (X_train, y_train):\n",
        "AB_model = AdaBoostClassifier(\n",
        "    DecisionTreeClassifier(max_depth=1),\n",
        "    n_estimators=100,\n",
        "    learning_rate=1,\n",
        "    random_state=0\n",
        ")\n",
        "AB_model.fit(X_train, y_train)\n",
        "\n",
        "# Make a prediction of \"y\" values from the X_test dataset\n",
        "AB_predictions = AB_model.predict(X_test)\n",
        "\n",
        "# Assemble actual y data (y_test) with predicted y data (from just above) into two columns in a dataframe:\n",
        "Results = y_test.to_frame()\n",
        "Results[\"Predicted Value\"] = AB_predictions\n",
        "Results"
      ],
      "execution_count": 14,
      "outputs": [
        {
          "output_type": "execute_result",
          "data": {
            "text/html": [
              "<div>\n",
              "<style scoped>\n",
              "    .dataframe tbody tr th:only-of-type {\n",
              "        vertical-align: middle;\n",
              "    }\n",
              "\n",
              "    .dataframe tbody tr th {\n",
              "        vertical-align: top;\n",
              "    }\n",
              "\n",
              "    .dataframe thead th {\n",
              "        text-align: right;\n",
              "    }\n",
              "</style>\n",
              "<table border=\"1\" class=\"dataframe\">\n",
              "  <thead>\n",
              "    <tr style=\"text-align: right;\">\n",
              "      <th></th>\n",
              "      <th>Positive Return</th>\n",
              "      <th>Predicted Value</th>\n",
              "    </tr>\n",
              "    <tr>\n",
              "      <th>Date</th>\n",
              "      <th></th>\n",
              "      <th></th>\n",
              "    </tr>\n",
              "  </thead>\n",
              "  <tbody>\n",
              "    <tr>\n",
              "      <th>2021-02-16</th>\n",
              "      <td>1.0</td>\n",
              "      <td>1.0</td>\n",
              "    </tr>\n",
              "    <tr>\n",
              "      <th>2021-02-17</th>\n",
              "      <td>1.0</td>\n",
              "      <td>1.0</td>\n",
              "    </tr>\n",
              "    <tr>\n",
              "      <th>2021-02-18</th>\n",
              "      <td>1.0</td>\n",
              "      <td>1.0</td>\n",
              "    </tr>\n",
              "    <tr>\n",
              "      <th>2021-02-19</th>\n",
              "      <td>1.0</td>\n",
              "      <td>0.0</td>\n",
              "    </tr>\n",
              "    <tr>\n",
              "      <th>2021-02-20</th>\n",
              "      <td>0.0</td>\n",
              "      <td>1.0</td>\n",
              "    </tr>\n",
              "    <tr>\n",
              "      <th>2021-02-21</th>\n",
              "      <td>1.0</td>\n",
              "      <td>1.0</td>\n",
              "    </tr>\n",
              "    <tr>\n",
              "      <th>2021-02-22</th>\n",
              "      <td>0.0</td>\n",
              "      <td>1.0</td>\n",
              "    </tr>\n",
              "    <tr>\n",
              "      <th>2021-02-23</th>\n",
              "      <td>0.0</td>\n",
              "      <td>1.0</td>\n",
              "    </tr>\n",
              "    <tr>\n",
              "      <th>2021-02-24</th>\n",
              "      <td>1.0</td>\n",
              "      <td>1.0</td>\n",
              "    </tr>\n",
              "    <tr>\n",
              "      <th>2021-02-25</th>\n",
              "      <td>0.0</td>\n",
              "      <td>1.0</td>\n",
              "    </tr>\n",
              "    <tr>\n",
              "      <th>2021-02-26</th>\n",
              "      <td>0.0</td>\n",
              "      <td>1.0</td>\n",
              "    </tr>\n",
              "    <tr>\n",
              "      <th>2021-02-27</th>\n",
              "      <td>1.0</td>\n",
              "      <td>1.0</td>\n",
              "    </tr>\n",
              "    <tr>\n",
              "      <th>2021-02-28</th>\n",
              "      <td>0.0</td>\n",
              "      <td>1.0</td>\n",
              "    </tr>\n",
              "    <tr>\n",
              "      <th>2021-03-01</th>\n",
              "      <td>1.0</td>\n",
              "      <td>1.0</td>\n",
              "    </tr>\n",
              "    <tr>\n",
              "      <th>2021-03-02</th>\n",
              "      <td>0.0</td>\n",
              "      <td>1.0</td>\n",
              "    </tr>\n",
              "    <tr>\n",
              "      <th>2021-03-03</th>\n",
              "      <td>1.0</td>\n",
              "      <td>1.0</td>\n",
              "    </tr>\n",
              "    <tr>\n",
              "      <th>2021-03-04</th>\n",
              "      <td>0.0</td>\n",
              "      <td>0.0</td>\n",
              "    </tr>\n",
              "    <tr>\n",
              "      <th>2021-03-05</th>\n",
              "      <td>0.0</td>\n",
              "      <td>0.0</td>\n",
              "    </tr>\n",
              "    <tr>\n",
              "      <th>2021-03-06</th>\n",
              "      <td>1.0</td>\n",
              "      <td>1.0</td>\n",
              "    </tr>\n",
              "    <tr>\n",
              "      <th>2021-03-07</th>\n",
              "      <td>1.0</td>\n",
              "      <td>0.0</td>\n",
              "    </tr>\n",
              "    <tr>\n",
              "      <th>2021-03-08</th>\n",
              "      <td>1.0</td>\n",
              "      <td>1.0</td>\n",
              "    </tr>\n",
              "    <tr>\n",
              "      <th>2021-03-09</th>\n",
              "      <td>1.0</td>\n",
              "      <td>1.0</td>\n",
              "    </tr>\n",
              "    <tr>\n",
              "      <th>2021-03-10</th>\n",
              "      <td>0.0</td>\n",
              "      <td>1.0</td>\n",
              "    </tr>\n",
              "    <tr>\n",
              "      <th>2021-03-11</th>\n",
              "      <td>1.0</td>\n",
              "      <td>1.0</td>\n",
              "    </tr>\n",
              "    <tr>\n",
              "      <th>2021-03-12</th>\n",
              "      <td>0.0</td>\n",
              "      <td>1.0</td>\n",
              "    </tr>\n",
              "    <tr>\n",
              "      <th>2021-03-13</th>\n",
              "      <td>1.0</td>\n",
              "      <td>1.0</td>\n",
              "    </tr>\n",
              "    <tr>\n",
              "      <th>2021-03-14</th>\n",
              "      <td>0.0</td>\n",
              "      <td>0.0</td>\n",
              "    </tr>\n",
              "    <tr>\n",
              "      <th>2021-03-15</th>\n",
              "      <td>0.0</td>\n",
              "      <td>1.0</td>\n",
              "    </tr>\n",
              "    <tr>\n",
              "      <th>2021-03-16</th>\n",
              "      <td>1.0</td>\n",
              "      <td>1.0</td>\n",
              "    </tr>\n",
              "    <tr>\n",
              "      <th>2021-03-17</th>\n",
              "      <td>1.0</td>\n",
              "      <td>1.0</td>\n",
              "    </tr>\n",
              "    <tr>\n",
              "      <th>2021-03-18</th>\n",
              "      <td>0.0</td>\n",
              "      <td>1.0</td>\n",
              "    </tr>\n",
              "    <tr>\n",
              "      <th>2021-03-19</th>\n",
              "      <td>1.0</td>\n",
              "      <td>1.0</td>\n",
              "    </tr>\n",
              "    <tr>\n",
              "      <th>2021-03-20</th>\n",
              "      <td>1.0</td>\n",
              "      <td>1.0</td>\n",
              "    </tr>\n",
              "  </tbody>\n",
              "</table>\n",
              "</div>"
            ],
            "text/plain": [
              "            Positive Return  Predicted Value\n",
              "Date                                        \n",
              "2021-02-16              1.0              1.0\n",
              "2021-02-17              1.0              1.0\n",
              "2021-02-18              1.0              1.0\n",
              "2021-02-19              1.0              0.0\n",
              "2021-02-20              0.0              1.0\n",
              "2021-02-21              1.0              1.0\n",
              "2021-02-22              0.0              1.0\n",
              "2021-02-23              0.0              1.0\n",
              "2021-02-24              1.0              1.0\n",
              "2021-02-25              0.0              1.0\n",
              "2021-02-26              0.0              1.0\n",
              "2021-02-27              1.0              1.0\n",
              "2021-02-28              0.0              1.0\n",
              "2021-03-01              1.0              1.0\n",
              "2021-03-02              0.0              1.0\n",
              "2021-03-03              1.0              1.0\n",
              "2021-03-04              0.0              0.0\n",
              "2021-03-05              0.0              0.0\n",
              "2021-03-06              1.0              1.0\n",
              "2021-03-07              1.0              0.0\n",
              "2021-03-08              1.0              1.0\n",
              "2021-03-09              1.0              1.0\n",
              "2021-03-10              0.0              1.0\n",
              "2021-03-11              1.0              1.0\n",
              "2021-03-12              0.0              1.0\n",
              "2021-03-13              1.0              1.0\n",
              "2021-03-14              0.0              0.0\n",
              "2021-03-15              0.0              1.0\n",
              "2021-03-16              1.0              1.0\n",
              "2021-03-17              1.0              1.0\n",
              "2021-03-18              0.0              1.0\n",
              "2021-03-19              1.0              1.0\n",
              "2021-03-20              1.0              1.0"
            ]
          },
          "metadata": {
            "tags": []
          },
          "execution_count": 14
        }
      ]
    },
    {
      "cell_type": "code",
      "metadata": {
        "colab": {
          "base_uri": "https://localhost:8080/"
        },
        "id": "ez10YLNKjpuS",
        "outputId": "58e23239-eb49-4641-a689-48e064002b0e"
      },
      "source": [
        "print(AB_model.get_params()) # looked at parameters and experimented with them to see if they made significant differences"
      ],
      "execution_count": 15,
      "outputs": [
        {
          "output_type": "stream",
          "text": [
            "{'algorithm': 'SAMME.R', 'base_estimator__ccp_alpha': 0.0, 'base_estimator__class_weight': None, 'base_estimator__criterion': 'gini', 'base_estimator__max_depth': 1, 'base_estimator__max_features': None, 'base_estimator__max_leaf_nodes': None, 'base_estimator__min_impurity_decrease': 0.0, 'base_estimator__min_impurity_split': None, 'base_estimator__min_samples_leaf': 1, 'base_estimator__min_samples_split': 2, 'base_estimator__min_weight_fraction_leaf': 0.0, 'base_estimator__presort': 'deprecated', 'base_estimator__random_state': None, 'base_estimator__splitter': 'best', 'base_estimator': DecisionTreeClassifier(ccp_alpha=0.0, class_weight=None, criterion='gini',\n",
            "                       max_depth=1, max_features=None, max_leaf_nodes=None,\n",
            "                       min_impurity_decrease=0.0, min_impurity_split=None,\n",
            "                       min_samples_leaf=1, min_samples_split=2,\n",
            "                       min_weight_fraction_leaf=0.0, presort='deprecated',\n",
            "                       random_state=None, splitter='best'), 'learning_rate': 1, 'n_estimators': 100, 'random_state': 0}\n"
          ],
          "name": "stdout"
        }
      ]
    },
    {
      "cell_type": "code",
      "metadata": {
        "colab": {
          "base_uri": "https://localhost:8080/",
          "height": 640
        },
        "id": "uNJ9j7TLEWps",
        "outputId": "56faf413-ce6a-4dbd-878e-0436ec262e6b"
      },
      "source": [
        "# Assigned the results to the AB_Results variable and plotted the data\n",
        "AB_Results = Results[['Positive Return','Predicted Value']]\n",
        "AB_Results.plot(figsize=(20,10))"
      ],
      "execution_count": 16,
      "outputs": [
        {
          "output_type": "execute_result",
          "data": {
            "text/plain": [
              "<matplotlib.axes._subplots.AxesSubplot at 0x7f397bbecd50>"
            ]
          },
          "metadata": {
            "tags": []
          },
          "execution_count": 16
        },
        {
          "output_type": "display_data",
          "data": {
            "image/png": "[encoded data removed]",
            "text/plain": [
              "<Figure size 1440x720 with 1 Axes>"
            ]
          },
          "metadata": {
            "tags": [],
            "needs_background": "light"
          }
        }
      ]
    },
    {
      "cell_type": "markdown",
      "metadata": {
        "id": "AUr3ujhsJRGZ"
      },
      "source": [
        "## Features"
      ]
    },
    {
      "cell_type": "code",
      "metadata": {
        "colab": {
          "base_uri": "https://localhost:8080/"
        },
        "id": "PakhnpGnSMxe",
        "outputId": "e8e5e983-7226-46b8-8601-52025a9d680a"
      },
      "source": [
        "# Looked at the feature importances of the model\n",
        "AB_importances = AB_model.feature_importances_\n",
        "\n",
        "AB_importances_sorted = sorted(zip(AB_model.feature_importances_, df_crypto_news[x_var_list].columns), reverse=True)\n",
        "AB_importances_sorted"
      ],
      "execution_count": 17,
      "outputs": [
        {
          "output_type": "execute_result",
          "data": {
            "text/plain": [
              "[(0.17, 'signal')]"
            ]
          },
          "metadata": {
            "tags": []
          },
          "execution_count": 17
        }
      ]
    },
    {
      "cell_type": "markdown",
      "metadata": {
        "id": "TvhPOPq9JIID"
      },
      "source": [
        "## Metrics"
      ]
    },
    {
      "cell_type": "code",
      "metadata": {
        "colab": {
          "base_uri": "https://localhost:8080/",
          "height": 128
        },
        "id": "6rB0XJrAPSfK",
        "outputId": "3b8951d6-8b57-4b14-e05e-85713b9d818a"
      },
      "source": [
        "get_confusion_matrix(y_test, AB_predictions)"
      ],
      "execution_count": 18,
      "outputs": [
        {
          "output_type": "stream",
          "text": [
            "Confusion Matrix\n"
          ],
          "name": "stdout"
        },
        {
          "output_type": "display_data",
          "data": {
            "text/html": [
              "<div>\n",
              "<style scoped>\n",
              "    .dataframe tbody tr th:only-of-type {\n",
              "        vertical-align: middle;\n",
              "    }\n",
              "\n",
              "    .dataframe tbody tr th {\n",
              "        vertical-align: top;\n",
              "    }\n",
              "\n",
              "    .dataframe thead th {\n",
              "        text-align: right;\n",
              "    }\n",
              "</style>\n",
              "<table border=\"1\" class=\"dataframe\">\n",
              "  <thead>\n",
              "    <tr style=\"text-align: right;\">\n",
              "      <th></th>\n",
              "      <th>Predicted Not Positive</th>\n",
              "      <th>Predicted Positive</th>\n",
              "    </tr>\n",
              "  </thead>\n",
              "  <tbody>\n",
              "    <tr>\n",
              "      <th>Actual Not Positive</th>\n",
              "      <td>3</td>\n",
              "      <td>11</td>\n",
              "    </tr>\n",
              "    <tr>\n",
              "      <th>Actual Positive</th>\n",
              "      <td>2</td>\n",
              "      <td>17</td>\n",
              "    </tr>\n",
              "  </tbody>\n",
              "</table>\n",
              "</div>"
            ],
            "text/plain": [
              "                     Predicted Not Positive  Predicted Positive\n",
              "Actual Not Positive                       3                  11\n",
              "Actual Positive                           2                  17"
            ]
          },
          "metadata": {
            "tags": []
          }
        }
      ]
    },
    {
      "cell_type": "code",
      "metadata": {
        "colab": {
          "base_uri": "https://localhost:8080/",
          "height": 656
        },
        "id": "v_49Oh6OY9bE",
        "outputId": "fbaa39a4-b22f-43e5-c92a-060af415d159"
      },
      "source": [
        "get_scores(X_test, y_test, AB_predictions, AB_model)"
      ],
      "execution_count": 19,
      "outputs": [
        {
          "output_type": "display_data",
          "data": {
            "text/html": [
              "<div>\n",
              "<style scoped>\n",
              "    .dataframe tbody tr th:only-of-type {\n",
              "        vertical-align: middle;\n",
              "    }\n",
              "\n",
              "    .dataframe tbody tr th {\n",
              "        vertical-align: top;\n",
              "    }\n",
              "\n",
              "    .dataframe thead th {\n",
              "        text-align: right;\n",
              "    }\n",
              "</style>\n",
              "<table border=\"1\" class=\"dataframe\">\n",
              "  <thead>\n",
              "    <tr style=\"text-align: right;\">\n",
              "      <th></th>\n",
              "      <th>Scores</th>\n",
              "    </tr>\n",
              "  </thead>\n",
              "  <tbody>\n",
              "    <tr>\n",
              "      <th>Accuray</th>\n",
              "      <td>0.606061</td>\n",
              "    </tr>\n",
              "    <tr>\n",
              "      <th>Balanced Accuracy</th>\n",
              "      <td>0.554511</td>\n",
              "    </tr>\n",
              "    <tr>\n",
              "      <th>Matthews Correlation Coefficient</th>\n",
              "      <td>0.150277</td>\n",
              "    </tr>\n",
              "    <tr>\n",
              "      <th>Jaccard Similarity Coefficient</th>\n",
              "      <td>0.566667</td>\n",
              "    </tr>\n",
              "    <tr>\n",
              "      <th>Average Hamming Loss</th>\n",
              "      <td>0.393939</td>\n",
              "    </tr>\n",
              "  </tbody>\n",
              "</table>\n",
              "</div>"
            ],
            "text/plain": [
              "                                    Scores\n",
              "Accuray                           0.606061\n",
              "Balanced Accuracy                 0.554511\n",
              "Matthews Correlation Coefficient  0.150277\n",
              "Jaccard Similarity Coefficient    0.566667\n",
              "Average Hamming Loss              0.393939"
            ]
          },
          "metadata": {
            "tags": []
          }
        },
        {
          "output_type": "stream",
          "text": [
            "Classification Report:\n",
            "              precision    recall  f1-score   support\n",
            "\n",
            "Not Positive       0.60      0.21      0.32        14\n",
            "    Positive       0.61      0.89      0.72        19\n",
            "\n",
            "    accuracy                           0.61        33\n",
            "   macro avg       0.60      0.55      0.52        33\n",
            "weighted avg       0.60      0.61      0.55        33\n",
            "\n",
            "Precision-Recall Curve\n",
            "Area Under the Curve: 0.6428571428571428\n"
          ],
          "name": "stdout"
        },
        {
          "output_type": "display_data",
          "data": {
            "image/png": "[encoded data removed]",
            "text/plain": [
              "<Figure size 432x288 with 1 Axes>"
            ]
          },
          "metadata": {
            "tags": [],
            "needs_background": "light"
          }
        }
      ]
    },
    {
      "cell_type": "markdown",
      "metadata": {
        "id": "YO38Uo4c7NJO"
      },
      "source": [
        "## Save Model"
      ]
    },
    {
      "cell_type": "code",
      "metadata": {
        "id": "JNPZ7-c63ZXD"
      },
      "source": [
        "# Save the model once satisfied with results\n",
        "# from joblib import dump, load\n",
        "# dump(AB_model, 'AdaBoost_model.joblib') \n",
        "\n",
        "# Load saved model to use on other datasets\n",
        "# AB_model = load('AdaBoost_model.joblib') \n"
      ],
      "execution_count": 20,
      "outputs": []
    },
    {
      "cell_type": "markdown",
      "metadata": {
        "id": "Fzdzw0jyVBC6"
      },
      "source": [
        "# Random Forest"
      ]
    },
    {
      "cell_type": "code",
      "metadata": {
        "id": "pL2vnbw4WGYv",
        "colab": {
          "base_uri": "https://localhost:8080/",
          "height": 1000
        },
        "outputId": "a86aa6ae-4959-48c0-d655-8eabface1923"
      },
      "source": [
        "# Fit a SKLearn linear regression using just the training set (X_train, y_train):\n",
        "RF_model = RandomForestClassifier(n_estimators=100, \n",
        "                               max_depth=1,\n",
        "                               criterion='gini', # gini or entropy, gini is default\n",
        "                               random_state=0)\n",
        "RF_model.fit(X_train, y_train)\n",
        "\n",
        "# Make a prediction of \"y\" values from the X_test dataset\n",
        "RF_predictions = RF_model.predict(X_test)\n",
        "\n",
        "# Assemble actual y data (y_test) with predicted y data (from just above) into two columns in a dataframe:\n",
        "Results = y_test.to_frame()\n",
        "Results[\"Predicted Value\"] = RF_predictions\n",
        "Results"
      ],
      "execution_count": 21,
      "outputs": [
        {
          "output_type": "execute_result",
          "data": {
            "text/html": [
              "<div>\n",
              "<style scoped>\n",
              "    .dataframe tbody tr th:only-of-type {\n",
              "        vertical-align: middle;\n",
              "    }\n",
              "\n",
              "    .dataframe tbody tr th {\n",
              "        vertical-align: top;\n",
              "    }\n",
              "\n",
              "    .dataframe thead th {\n",
              "        text-align: right;\n",
              "    }\n",
              "</style>\n",
              "<table border=\"1\" class=\"dataframe\">\n",
              "  <thead>\n",
              "    <tr style=\"text-align: right;\">\n",
              "      <th></th>\n",
              "      <th>Positive Return</th>\n",
              "      <th>Predicted Value</th>\n",
              "    </tr>\n",
              "    <tr>\n",
              "      <th>Date</th>\n",
              "      <th></th>\n",
              "      <th></th>\n",
              "    </tr>\n",
              "  </thead>\n",
              "  <tbody>\n",
              "    <tr>\n",
              "      <th>2021-02-16</th>\n",
              "      <td>1.0</td>\n",
              "      <td>1.0</td>\n",
              "    </tr>\n",
              "    <tr>\n",
              "      <th>2021-02-17</th>\n",
              "      <td>1.0</td>\n",
              "      <td>1.0</td>\n",
              "    </tr>\n",
              "    <tr>\n",
              "      <th>2021-02-18</th>\n",
              "      <td>1.0</td>\n",
              "      <td>1.0</td>\n",
              "    </tr>\n",
              "    <tr>\n",
              "      <th>2021-02-19</th>\n",
              "      <td>1.0</td>\n",
              "      <td>0.0</td>\n",
              "    </tr>\n",
              "    <tr>\n",
              "      <th>2021-02-20</th>\n",
              "      <td>0.0</td>\n",
              "      <td>1.0</td>\n",
              "    </tr>\n",
              "    <tr>\n",
              "      <th>2021-02-21</th>\n",
              "      <td>1.0</td>\n",
              "      <td>1.0</td>\n",
              "    </tr>\n",
              "    <tr>\n",
              "      <th>2021-02-22</th>\n",
              "      <td>0.0</td>\n",
              "      <td>1.0</td>\n",
              "    </tr>\n",
              "    <tr>\n",
              "      <th>2021-02-23</th>\n",
              "      <td>0.0</td>\n",
              "      <td>1.0</td>\n",
              "    </tr>\n",
              "    <tr>\n",
              "      <th>2021-02-24</th>\n",
              "      <td>1.0</td>\n",
              "      <td>1.0</td>\n",
              "    </tr>\n",
              "    <tr>\n",
              "      <th>2021-02-25</th>\n",
              "      <td>0.0</td>\n",
              "      <td>1.0</td>\n",
              "    </tr>\n",
              "    <tr>\n",
              "      <th>2021-02-26</th>\n",
              "      <td>0.0</td>\n",
              "      <td>1.0</td>\n",
              "    </tr>\n",
              "    <tr>\n",
              "      <th>2021-02-27</th>\n",
              "      <td>1.0</td>\n",
              "      <td>1.0</td>\n",
              "    </tr>\n",
              "    <tr>\n",
              "      <th>2021-02-28</th>\n",
              "      <td>0.0</td>\n",
              "      <td>1.0</td>\n",
              "    </tr>\n",
              "    <tr>\n",
              "      <th>2021-03-01</th>\n",
              "      <td>1.0</td>\n",
              "      <td>1.0</td>\n",
              "    </tr>\n",
              "    <tr>\n",
              "      <th>2021-03-02</th>\n",
              "      <td>0.0</td>\n",
              "      <td>1.0</td>\n",
              "    </tr>\n",
              "    <tr>\n",
              "      <th>2021-03-03</th>\n",
              "      <td>1.0</td>\n",
              "      <td>1.0</td>\n",
              "    </tr>\n",
              "    <tr>\n",
              "      <th>2021-03-04</th>\n",
              "      <td>0.0</td>\n",
              "      <td>0.0</td>\n",
              "    </tr>\n",
              "    <tr>\n",
              "      <th>2021-03-05</th>\n",
              "      <td>0.0</td>\n",
              "      <td>0.0</td>\n",
              "    </tr>\n",
              "    <tr>\n",
              "      <th>2021-03-06</th>\n",
              "      <td>1.0</td>\n",
              "      <td>1.0</td>\n",
              "    </tr>\n",
              "    <tr>\n",
              "      <th>2021-03-07</th>\n",
              "      <td>1.0</td>\n",
              "      <td>0.0</td>\n",
              "    </tr>\n",
              "    <tr>\n",
              "      <th>2021-03-08</th>\n",
              "      <td>1.0</td>\n",
              "      <td>1.0</td>\n",
              "    </tr>\n",
              "    <tr>\n",
              "      <th>2021-03-09</th>\n",
              "      <td>1.0</td>\n",
              "      <td>1.0</td>\n",
              "    </tr>\n",
              "    <tr>\n",
              "      <th>2021-03-10</th>\n",
              "      <td>0.0</td>\n",
              "      <td>1.0</td>\n",
              "    </tr>\n",
              "    <tr>\n",
              "      <th>2021-03-11</th>\n",
              "      <td>1.0</td>\n",
              "      <td>1.0</td>\n",
              "    </tr>\n",
              "    <tr>\n",
              "      <th>2021-03-12</th>\n",
              "      <td>0.0</td>\n",
              "      <td>1.0</td>\n",
              "    </tr>\n",
              "    <tr>\n",
              "      <th>2021-03-13</th>\n",
              "      <td>1.0</td>\n",
              "      <td>1.0</td>\n",
              "    </tr>\n",
              "    <tr>\n",
              "      <th>2021-03-14</th>\n",
              "      <td>0.0</td>\n",
              "      <td>0.0</td>\n",
              "    </tr>\n",
              "    <tr>\n",
              "      <th>2021-03-15</th>\n",
              "      <td>0.0</td>\n",
              "      <td>1.0</td>\n",
              "    </tr>\n",
              "    <tr>\n",
              "      <th>2021-03-16</th>\n",
              "      <td>1.0</td>\n",
              "      <td>1.0</td>\n",
              "    </tr>\n",
              "    <tr>\n",
              "      <th>2021-03-17</th>\n",
              "      <td>1.0</td>\n",
              "      <td>1.0</td>\n",
              "    </tr>\n",
              "    <tr>\n",
              "      <th>2021-03-18</th>\n",
              "      <td>0.0</td>\n",
              "      <td>1.0</td>\n",
              "    </tr>\n",
              "    <tr>\n",
              "      <th>2021-03-19</th>\n",
              "      <td>1.0</td>\n",
              "      <td>1.0</td>\n",
              "    </tr>\n",
              "    <tr>\n",
              "      <th>2021-03-20</th>\n",
              "      <td>1.0</td>\n",
              "      <td>1.0</td>\n",
              "    </tr>\n",
              "  </tbody>\n",
              "</table>\n",
              "</div>"
            ],
            "text/plain": [
              "            Positive Return  Predicted Value\n",
              "Date                                        \n",
              "2021-02-16              1.0              1.0\n",
              "2021-02-17              1.0              1.0\n",
              "2021-02-18              1.0              1.0\n",
              "2021-02-19              1.0              0.0\n",
              "2021-02-20              0.0              1.0\n",
              "2021-02-21              1.0              1.0\n",
              "2021-02-22              0.0              1.0\n",
              "2021-02-23              0.0              1.0\n",
              "2021-02-24              1.0              1.0\n",
              "2021-02-25              0.0              1.0\n",
              "2021-02-26              0.0              1.0\n",
              "2021-02-27              1.0              1.0\n",
              "2021-02-28              0.0              1.0\n",
              "2021-03-01              1.0              1.0\n",
              "2021-03-02              0.0              1.0\n",
              "2021-03-03              1.0              1.0\n",
              "2021-03-04              0.0              0.0\n",
              "2021-03-05              0.0              0.0\n",
              "2021-03-06              1.0              1.0\n",
              "2021-03-07              1.0              0.0\n",
              "2021-03-08              1.0              1.0\n",
              "2021-03-09              1.0              1.0\n",
              "2021-03-10              0.0              1.0\n",
              "2021-03-11              1.0              1.0\n",
              "2021-03-12              0.0              1.0\n",
              "2021-03-13              1.0              1.0\n",
              "2021-03-14              0.0              0.0\n",
              "2021-03-15              0.0              1.0\n",
              "2021-03-16              1.0              1.0\n",
              "2021-03-17              1.0              1.0\n",
              "2021-03-18              0.0              1.0\n",
              "2021-03-19              1.0              1.0\n",
              "2021-03-20              1.0              1.0"
            ]
          },
          "metadata": {
            "tags": []
          },
          "execution_count": 21
        }
      ]
    },
    {
      "cell_type": "code",
      "metadata": {
        "colab": {
          "base_uri": "https://localhost:8080/"
        },
        "id": "nmil4q8ljzZm",
        "outputId": "ee84f34b-8621-4a48-d7fa-4bd93114f283"
      },
      "source": [
        "print(RF_model.get_params()) # looked at parameters and experimented with them to see if they made significant differences"
      ],
      "execution_count": 22,
      "outputs": [
        {
          "output_type": "stream",
          "text": [
            "{'bootstrap': True, 'ccp_alpha': 0.0, 'class_weight': None, 'criterion': 'gini', 'max_depth': 1, 'max_features': 'auto', 'max_leaf_nodes': None, 'max_samples': None, 'min_impurity_decrease': 0.0, 'min_impurity_split': None, 'min_samples_leaf': 1, 'min_samples_split': 2, 'min_weight_fraction_leaf': 0.0, 'n_estimators': 100, 'n_jobs': None, 'oob_score': False, 'random_state': 0, 'verbose': 0, 'warm_start': False}\n"
          ],
          "name": "stdout"
        }
      ]
    },
    {
      "cell_type": "code",
      "metadata": {
        "colab": {
          "base_uri": "https://localhost:8080/",
          "height": 640
        },
        "id": "ri8mFJtpFp0i",
        "outputId": "60e6118d-8968-477a-e51d-d99e8d0b440c"
      },
      "source": [
        "RF_Results = Results[['Positive Return','Predicted Value']]\n",
        "RF_Results.plot(figsize=(20,10))"
      ],
      "execution_count": 23,
      "outputs": [
        {
          "output_type": "execute_result",
          "data": {
            "text/plain": [
              "<matplotlib.axes._subplots.AxesSubplot at 0x7f3979324850>"
            ]
          },
          "metadata": {
            "tags": []
          },
          "execution_count": 23
        },
        {
          "output_type": "display_data",
          "data": {
            "image/png": "[encoded data removed]",
            "text/plain": [
              "<Figure size 1440x720 with 1 Axes>"
            ]
          },
          "metadata": {
            "tags": [],
            "needs_background": "light"
          }
        }
      ]
    },
    {
      "cell_type": "markdown",
      "metadata": {
        "id": "1FRmPtq-WYPN"
      },
      "source": [
        "## Features"
      ]
    },
    {
      "cell_type": "code",
      "metadata": {
        "colab": {
          "base_uri": "https://localhost:8080/"
        },
        "id": "h6hJMkVMV02l",
        "outputId": "5850cee0-ce7a-405c-e4e1-4f896dfc2846"
      },
      "source": [
        "RF_importances = RF_model.feature_importances_\n",
        "\n",
        "RF_importances_sorted = sorted(zip(RF_model.feature_importances_, df_crypto_news[x_var_list].columns), reverse=True)\n",
        "RF_importances_sorted"
      ],
      "execution_count": 24,
      "outputs": [
        {
          "output_type": "execute_result",
          "data": {
            "text/plain": [
              "[(1.0, 'signal')]"
            ]
          },
          "metadata": {
            "tags": []
          },
          "execution_count": 24
        }
      ]
    },
    {
      "cell_type": "markdown",
      "metadata": {
        "id": "d5Nw08wVWc09"
      },
      "source": [
        "## Metrics"
      ]
    },
    {
      "cell_type": "code",
      "metadata": {
        "colab": {
          "base_uri": "https://localhost:8080/",
          "height": 128
        },
        "id": "zMmtcDMSfsTP",
        "outputId": "2aee8cb2-f827-43a0-a1e1-efb95c299bc1"
      },
      "source": [
        "get_confusion_matrix(y_test, RF_predictions)"
      ],
      "execution_count": 25,
      "outputs": [
        {
          "output_type": "stream",
          "text": [
            "Confusion Matrix\n"
          ],
          "name": "stdout"
        },
        {
          "output_type": "display_data",
          "data": {
            "text/html": [
              "<div>\n",
              "<style scoped>\n",
              "    .dataframe tbody tr th:only-of-type {\n",
              "        vertical-align: middle;\n",
              "    }\n",
              "\n",
              "    .dataframe tbody tr th {\n",
              "        vertical-align: top;\n",
              "    }\n",
              "\n",
              "    .dataframe thead th {\n",
              "        text-align: right;\n",
              "    }\n",
              "</style>\n",
              "<table border=\"1\" class=\"dataframe\">\n",
              "  <thead>\n",
              "    <tr style=\"text-align: right;\">\n",
              "      <th></th>\n",
              "      <th>Predicted Not Positive</th>\n",
              "      <th>Predicted Positive</th>\n",
              "    </tr>\n",
              "  </thead>\n",
              "  <tbody>\n",
              "    <tr>\n",
              "      <th>Actual Not Positive</th>\n",
              "      <td>3</td>\n",
              "      <td>11</td>\n",
              "    </tr>\n",
              "    <tr>\n",
              "      <th>Actual Positive</th>\n",
              "      <td>2</td>\n",
              "      <td>17</td>\n",
              "    </tr>\n",
              "  </tbody>\n",
              "</table>\n",
              "</div>"
            ],
            "text/plain": [
              "                     Predicted Not Positive  Predicted Positive\n",
              "Actual Not Positive                       3                  11\n",
              "Actual Positive                           2                  17"
            ]
          },
          "metadata": {
            "tags": []
          }
        }
      ]
    },
    {
      "cell_type": "code",
      "metadata": {
        "colab": {
          "base_uri": "https://localhost:8080/",
          "height": 656
        },
        "id": "7DJ5QC3HfzPu",
        "outputId": "a03c066c-719e-4cc9-e106-d30dc8dc4690"
      },
      "source": [
        "get_scores(X_test, y_test, RF_predictions, RF_model)"
      ],
      "execution_count": 26,
      "outputs": [
        {
          "output_type": "display_data",
          "data": {
            "text/html": [
              "<div>\n",
              "<style scoped>\n",
              "    .dataframe tbody tr th:only-of-type {\n",
              "        vertical-align: middle;\n",
              "    }\n",
              "\n",
              "    .dataframe tbody tr th {\n",
              "        vertical-align: top;\n",
              "    }\n",
              "\n",
              "    .dataframe thead th {\n",
              "        text-align: right;\n",
              "    }\n",
              "</style>\n",
              "<table border=\"1\" class=\"dataframe\">\n",
              "  <thead>\n",
              "    <tr style=\"text-align: right;\">\n",
              "      <th></th>\n",
              "      <th>Scores</th>\n",
              "    </tr>\n",
              "  </thead>\n",
              "  <tbody>\n",
              "    <tr>\n",
              "      <th>Accuray</th>\n",
              "      <td>0.606061</td>\n",
              "    </tr>\n",
              "    <tr>\n",
              "      <th>Balanced Accuracy</th>\n",
              "      <td>0.554511</td>\n",
              "    </tr>\n",
              "    <tr>\n",
              "      <th>Matthews Correlation Coefficient</th>\n",
              "      <td>0.150277</td>\n",
              "    </tr>\n",
              "    <tr>\n",
              "      <th>Jaccard Similarity Coefficient</th>\n",
              "      <td>0.566667</td>\n",
              "    </tr>\n",
              "    <tr>\n",
              "      <th>Average Hamming Loss</th>\n",
              "      <td>0.393939</td>\n",
              "    </tr>\n",
              "  </tbody>\n",
              "</table>\n",
              "</div>"
            ],
            "text/plain": [
              "                                    Scores\n",
              "Accuray                           0.606061\n",
              "Balanced Accuracy                 0.554511\n",
              "Matthews Correlation Coefficient  0.150277\n",
              "Jaccard Similarity Coefficient    0.566667\n",
              "Average Hamming Loss              0.393939"
            ]
          },
          "metadata": {
            "tags": []
          }
        },
        {
          "output_type": "stream",
          "text": [
            "Classification Report:\n",
            "              precision    recall  f1-score   support\n",
            "\n",
            "Not Positive       0.60      0.21      0.32        14\n",
            "    Positive       0.61      0.89      0.72        19\n",
            "\n",
            "    accuracy                           0.61        33\n",
            "   macro avg       0.60      0.55      0.52        33\n",
            "weighted avg       0.60      0.61      0.55        33\n",
            "\n",
            "Precision-Recall Curve\n",
            "Area Under the Curve: 0.6428571428571428\n"
          ],
          "name": "stdout"
        },
        {
          "output_type": "display_data",
          "data": {
            "image/png": "[encoded data removed]",
            "text/plain": [
              "<Figure size 432x288 with 1 Axes>"
            ]
          },
          "metadata": {
            "tags": [],
            "needs_background": "light"
          }
        }
      ]
    },
    {
      "cell_type": "markdown",
      "metadata": {
        "id": "9wBlKfGn7ewX"
      },
      "source": [
        "## Save Random Forest Model"
      ]
    },
    {
      "cell_type": "code",
      "metadata": {
        "id": "4-eiG6WL7Yyy"
      },
      "source": [
        "# Save the model once satisfied with results\n",
        "# from joblib import dump, load\n",
        "# dump(RF_model, 'RandomForest_model.joblib') \n",
        "\n",
        "# Load saved model to use on other datasets\n",
        "# RF_model = load('RandomForest_model.joblib') \n"
      ],
      "execution_count": 27,
      "outputs": []
    }
  ]
}