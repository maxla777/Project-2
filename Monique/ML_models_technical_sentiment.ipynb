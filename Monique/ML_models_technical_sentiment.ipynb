{
  "nbformat": 4,
  "nbformat_minor": 0,
  "metadata": {
    "colab": {
      "name": "ML_models_technical_sentiment.ipynb",
      "provenance": [],
      "collapsed_sections": []
    },
    "kernelspec": {
      "name": "python3",
      "display_name": "Python 3"
    }
  },
  "cells": [
    {
      "cell_type": "markdown",
      "metadata": {
        "id": "view-in-github"
      },
      "source": [
        "<a href=\"https://colab.research.google.com/github/maxla777/Project-2/blob/Monique/Monique/ML_models.ipynb\" target=\"_parent\"><img src=\"https://colab.research.google.com/assets/colab-badge.svg\" alt=\"Open In Colab\"/></a>"
      ]
    },
    {
      "cell_type": "code",
      "metadata": {
        "id": "znboOVVmH1OV",
        "colab": {
          "base_uri": "https://localhost:8080/"
        },
        "outputId": "dd3028d1-53d8-420c-fa97-deedb77c9bf1"
      },
      "source": [
        "from google.colab import drive\n",
        "drive.mount('/content/drive')"
      ],
      "execution_count": 1,
      "outputs": [
        {
          "output_type": "stream",
          "text": [
            "Drive already mounted at /content/drive; to attempt to forcibly remount, call drive.mount(\"/content/drive\", force_remount=True).\n"
          ],
          "name": "stdout"
        }
      ]
    },
    {
      "cell_type": "code",
      "metadata": {
        "id": "FwjCBgPjmMxA"
      },
      "source": [
        "import pandas as pd\n",
        "import numpy as np\n",
        "from pathlib import Path\n",
        "import matplotlib.pyplot as plt\n",
        "%matplotlib inline"
      ],
      "execution_count": 2,
      "outputs": []
    },
    {
      "cell_type": "markdown",
      "metadata": {
        "id": "FhQZZjrIXlez"
      },
      "source": [
        "# Machine Learning Models"
      ]
    },
    {
      "cell_type": "code",
      "metadata": {
        "colab": {
          "base_uri": "https://localhost:8080/",
          "height": 235
        },
        "id": "28bSNabN_rmS",
        "outputId": "287b93a9-b9d8-4f18-98f2-7de9a89b3ea1"
      },
      "source": [
        "csv_path = Path('/content/drive/MyDrive/Colab Notebooks/ETH_bull_bear_signals.csv')\n",
        "df_crypto_news=pd.read_csv(csv_path)\n",
        "df_crypto_news.set_index(pd.to_datetime(df_crypto_news['date'], infer_datetime_format=True), inplace=True)\n",
        "df_crypto_news.drop(columns=['date'], inplace=True)\n",
        "df_crypto_news.head()"
      ],
      "execution_count": 3,
      "outputs": [
        {
          "output_type": "execute_result",
          "data": {
            "text/html": [
              "<div>\n",
              "<style scoped>\n",
              "    .dataframe tbody tr th:only-of-type {\n",
              "        vertical-align: middle;\n",
              "    }\n",
              "\n",
              "    .dataframe tbody tr th {\n",
              "        vertical-align: top;\n",
              "    }\n",
              "\n",
              "    .dataframe thead th {\n",
              "        text-align: right;\n",
              "    }\n",
              "</style>\n",
              "<table border=\"1\" class=\"dataframe\">\n",
              "  <thead>\n",
              "    <tr style=\"text-align: right;\">\n",
              "      <th></th>\n",
              "      <th>signal</th>\n",
              "    </tr>\n",
              "    <tr>\n",
              "      <th>date</th>\n",
              "      <th></th>\n",
              "    </tr>\n",
              "  </thead>\n",
              "  <tbody>\n",
              "    <tr>\n",
              "      <th>2020-12-01</th>\n",
              "      <td>1.0</td>\n",
              "    </tr>\n",
              "    <tr>\n",
              "      <th>2020-12-02</th>\n",
              "      <td>0.0</td>\n",
              "    </tr>\n",
              "    <tr>\n",
              "      <th>2020-12-03</th>\n",
              "      <td>0.0</td>\n",
              "    </tr>\n",
              "    <tr>\n",
              "      <th>2020-12-04</th>\n",
              "      <td>1.0</td>\n",
              "    </tr>\n",
              "    <tr>\n",
              "      <th>2020-12-05</th>\n",
              "      <td>0.0</td>\n",
              "    </tr>\n",
              "  </tbody>\n",
              "</table>\n",
              "</div>"
            ],
            "text/plain": [
              "            signal\n",
              "date              \n",
              "2020-12-01     1.0\n",
              "2020-12-02     0.0\n",
              "2020-12-03     0.0\n",
              "2020-12-04     1.0\n",
              "2020-12-05     0.0"
            ]
          },
          "metadata": {
            "tags": []
          },
          "execution_count": 3
        }
      ]
    },
    {
      "cell_type": "code",
      "metadata": {
        "colab": {
          "base_uri": "https://localhost:8080/",
          "height": 235
        },
        "id": "9Z4Zv02TBbZm",
        "outputId": "2e57891e-4185-4806-8b1f-9180cc949b50"
      },
      "source": [
        "df_crypto_news.tail()"
      ],
      "execution_count": 4,
      "outputs": [
        {
          "output_type": "execute_result",
          "data": {
            "text/html": [
              "<div>\n",
              "<style scoped>\n",
              "    .dataframe tbody tr th:only-of-type {\n",
              "        vertical-align: middle;\n",
              "    }\n",
              "\n",
              "    .dataframe tbody tr th {\n",
              "        vertical-align: top;\n",
              "    }\n",
              "\n",
              "    .dataframe thead th {\n",
              "        text-align: right;\n",
              "    }\n",
              "</style>\n",
              "<table border=\"1\" class=\"dataframe\">\n",
              "  <thead>\n",
              "    <tr style=\"text-align: right;\">\n",
              "      <th></th>\n",
              "      <th>signal</th>\n",
              "    </tr>\n",
              "    <tr>\n",
              "      <th>date</th>\n",
              "      <th></th>\n",
              "    </tr>\n",
              "  </thead>\n",
              "  <tbody>\n",
              "    <tr>\n",
              "      <th>2021-03-17</th>\n",
              "      <td>0.0</td>\n",
              "    </tr>\n",
              "    <tr>\n",
              "      <th>2021-03-18</th>\n",
              "      <td>0.0</td>\n",
              "    </tr>\n",
              "    <tr>\n",
              "      <th>2021-03-19</th>\n",
              "      <td>0.0</td>\n",
              "    </tr>\n",
              "    <tr>\n",
              "      <th>2021-03-20</th>\n",
              "      <td>-1.0</td>\n",
              "    </tr>\n",
              "    <tr>\n",
              "      <th>2021-03-21</th>\n",
              "      <td>-1.0</td>\n",
              "    </tr>\n",
              "  </tbody>\n",
              "</table>\n",
              "</div>"
            ],
            "text/plain": [
              "            signal\n",
              "date              \n",
              "2021-03-17     0.0\n",
              "2021-03-18     0.0\n",
              "2021-03-19     0.0\n",
              "2021-03-20    -1.0\n",
              "2021-03-21    -1.0"
            ]
          },
          "metadata": {
            "tags": []
          },
          "execution_count": 4
        }
      ]
    },
    {
      "cell_type": "code",
      "metadata": {
        "colab": {
          "base_uri": "https://localhost:8080/",
          "height": 235
        },
        "id": "U0jCV9xHB1dO",
        "outputId": "7933a3b7-d6ef-4517-f1d9-6b5631d34d00"
      },
      "source": [
        "csv_path = Path('/content/drive/MyDrive/Colab Notebooks/kraken_pull_EthExample_03202021.csv')\n",
        "df_eth_returns=pd.read_csv(csv_path)\n",
        "df_eth_returns.set_index(pd.to_datetime(df_eth_returns['Date'], infer_datetime_format=True), inplace=True)\n",
        "df_eth_returns.drop(columns=['Date'], inplace=True)\n",
        "df_eth_returns = df_eth_returns[['crossover_signal', 'vol_trend_signal', 'bollinger_signal', 'RSI_signal','Positive Return']].copy()\n",
        "df_eth_returns['sentiment_signal'] = df_crypto_news[['signal']].copy()\n",
        "df_eth_returns.head()"
      ],
      "execution_count": 5,
      "outputs": [
        {
          "output_type": "execute_result",
          "data": {
            "text/html": [
              "<div>\n",
              "<style scoped>\n",
              "    .dataframe tbody tr th:only-of-type {\n",
              "        vertical-align: middle;\n",
              "    }\n",
              "\n",
              "    .dataframe tbody tr th {\n",
              "        vertical-align: top;\n",
              "    }\n",
              "\n",
              "    .dataframe thead th {\n",
              "        text-align: right;\n",
              "    }\n",
              "</style>\n",
              "<table border=\"1\" class=\"dataframe\">\n",
              "  <thead>\n",
              "    <tr style=\"text-align: right;\">\n",
              "      <th></th>\n",
              "      <th>crossover_signal</th>\n",
              "      <th>vol_trend_signal</th>\n",
              "      <th>bollinger_signal</th>\n",
              "      <th>RSI_signal</th>\n",
              "      <th>Positive Return</th>\n",
              "      <th>sentiment_signal</th>\n",
              "    </tr>\n",
              "    <tr>\n",
              "      <th>Date</th>\n",
              "      <th></th>\n",
              "      <th></th>\n",
              "      <th></th>\n",
              "      <th></th>\n",
              "      <th></th>\n",
              "      <th></th>\n",
              "    </tr>\n",
              "  </thead>\n",
              "  <tbody>\n",
              "    <tr>\n",
              "      <th>2019-04-21</th>\n",
              "      <td>1.0</td>\n",
              "      <td>1.0</td>\n",
              "      <td>0.0</td>\n",
              "      <td>0.0</td>\n",
              "      <td>0.0</td>\n",
              "      <td>NaN</td>\n",
              "    </tr>\n",
              "    <tr>\n",
              "      <th>2019-04-22</th>\n",
              "      <td>1.0</td>\n",
              "      <td>1.0</td>\n",
              "      <td>0.0</td>\n",
              "      <td>0.0</td>\n",
              "      <td>1.0</td>\n",
              "      <td>NaN</td>\n",
              "    </tr>\n",
              "    <tr>\n",
              "      <th>2019-04-23</th>\n",
              "      <td>1.0</td>\n",
              "      <td>1.0</td>\n",
              "      <td>0.0</td>\n",
              "      <td>0.0</td>\n",
              "      <td>0.0</td>\n",
              "      <td>NaN</td>\n",
              "    </tr>\n",
              "    <tr>\n",
              "      <th>2019-04-24</th>\n",
              "      <td>1.0</td>\n",
              "      <td>1.0</td>\n",
              "      <td>0.0</td>\n",
              "      <td>0.0</td>\n",
              "      <td>0.0</td>\n",
              "      <td>NaN</td>\n",
              "    </tr>\n",
              "    <tr>\n",
              "      <th>2019-04-25</th>\n",
              "      <td>1.0</td>\n",
              "      <td>1.0</td>\n",
              "      <td>0.0</td>\n",
              "      <td>0.0</td>\n",
              "      <td>0.0</td>\n",
              "      <td>NaN</td>\n",
              "    </tr>\n",
              "  </tbody>\n",
              "</table>\n",
              "</div>"
            ],
            "text/plain": [
              "            crossover_signal  ...  sentiment_signal\n",
              "Date                          ...                  \n",
              "2019-04-21               1.0  ...               NaN\n",
              "2019-04-22               1.0  ...               NaN\n",
              "2019-04-23               1.0  ...               NaN\n",
              "2019-04-24               1.0  ...               NaN\n",
              "2019-04-25               1.0  ...               NaN\n",
              "\n",
              "[5 rows x 6 columns]"
            ]
          },
          "metadata": {
            "tags": []
          },
          "execution_count": 5
        }
      ]
    },
    {
      "cell_type": "code",
      "metadata": {
        "colab": {
          "base_uri": "https://localhost:8080/",
          "height": 235
        },
        "id": "UUqbtytlDHih",
        "outputId": "0aa04262-383f-4d4c-a0fe-dd8639c27884"
      },
      "source": [
        "df_eth_returns.tail()"
      ],
      "execution_count": 6,
      "outputs": [
        {
          "output_type": "execute_result",
          "data": {
            "text/html": [
              "<div>\n",
              "<style scoped>\n",
              "    .dataframe tbody tr th:only-of-type {\n",
              "        vertical-align: middle;\n",
              "    }\n",
              "\n",
              "    .dataframe tbody tr th {\n",
              "        vertical-align: top;\n",
              "    }\n",
              "\n",
              "    .dataframe thead th {\n",
              "        text-align: right;\n",
              "    }\n",
              "</style>\n",
              "<table border=\"1\" class=\"dataframe\">\n",
              "  <thead>\n",
              "    <tr style=\"text-align: right;\">\n",
              "      <th></th>\n",
              "      <th>crossover_signal</th>\n",
              "      <th>vol_trend_signal</th>\n",
              "      <th>bollinger_signal</th>\n",
              "      <th>RSI_signal</th>\n",
              "      <th>Positive Return</th>\n",
              "      <th>sentiment_signal</th>\n",
              "    </tr>\n",
              "    <tr>\n",
              "      <th>Date</th>\n",
              "      <th></th>\n",
              "      <th></th>\n",
              "      <th></th>\n",
              "      <th></th>\n",
              "      <th></th>\n",
              "      <th></th>\n",
              "    </tr>\n",
              "  </thead>\n",
              "  <tbody>\n",
              "    <tr>\n",
              "      <th>2021-03-16</th>\n",
              "      <td>1.0</td>\n",
              "      <td>1.0</td>\n",
              "      <td>0.0</td>\n",
              "      <td>0.0</td>\n",
              "      <td>1.0</td>\n",
              "      <td>-1.0</td>\n",
              "    </tr>\n",
              "    <tr>\n",
              "      <th>2021-03-17</th>\n",
              "      <td>1.0</td>\n",
              "      <td>1.0</td>\n",
              "      <td>0.0</td>\n",
              "      <td>0.0</td>\n",
              "      <td>1.0</td>\n",
              "      <td>0.0</td>\n",
              "    </tr>\n",
              "    <tr>\n",
              "      <th>2021-03-18</th>\n",
              "      <td>1.0</td>\n",
              "      <td>1.0</td>\n",
              "      <td>0.0</td>\n",
              "      <td>0.0</td>\n",
              "      <td>0.0</td>\n",
              "      <td>0.0</td>\n",
              "    </tr>\n",
              "    <tr>\n",
              "      <th>2021-03-19</th>\n",
              "      <td>1.0</td>\n",
              "      <td>1.0</td>\n",
              "      <td>0.0</td>\n",
              "      <td>0.0</td>\n",
              "      <td>1.0</td>\n",
              "      <td>0.0</td>\n",
              "    </tr>\n",
              "    <tr>\n",
              "      <th>2021-03-20</th>\n",
              "      <td>1.0</td>\n",
              "      <td>1.0</td>\n",
              "      <td>0.0</td>\n",
              "      <td>0.0</td>\n",
              "      <td>1.0</td>\n",
              "      <td>-1.0</td>\n",
              "    </tr>\n",
              "  </tbody>\n",
              "</table>\n",
              "</div>"
            ],
            "text/plain": [
              "            crossover_signal  ...  sentiment_signal\n",
              "Date                          ...                  \n",
              "2021-03-16               1.0  ...              -1.0\n",
              "2021-03-17               1.0  ...               0.0\n",
              "2021-03-18               1.0  ...               0.0\n",
              "2021-03-19               1.0  ...               0.0\n",
              "2021-03-20               1.0  ...              -1.0\n",
              "\n",
              "[5 rows x 6 columns]"
            ]
          },
          "metadata": {
            "tags": []
          },
          "execution_count": 6
        }
      ]
    },
    {
      "cell_type": "code",
      "metadata": {
        "id": "g1dgJDiijHt0",
        "colab": {
          "base_uri": "https://localhost:8080/"
        },
        "outputId": "eea7f119-65fa-4a77-bd51-0253c8db704b"
      },
      "source": [
        "# Set x variable list of features\n",
        "x_var_list = ['crossover_signal', 'vol_trend_signal', 'bollinger_signal', 'RSI_signal','sentiment_signal']\n",
        "\n",
        "# Construct training start and end dates\n",
        "training_start = df_crypto_news.index.min().strftime(format= '%Y-%m-%d')\n",
        "training_end = '2021-02-15'\n",
        "\n",
        "# Construct testing start and end dates\n",
        "testing_start =  '2021-02-16'\n",
        "testing_end = df_eth_returns.index.max().strftime(format= '%Y-%m-%d')\n",
        "\n",
        "# Construct the X_train and y_train datasets\n",
        "X_train = df_eth_returns[x_var_list][training_start:training_end]\n",
        "y_train = df_eth_returns['Positive Return'][training_start:training_end]\n",
        "\n",
        "# Construct the X test and y test datasets\n",
        "X_test = df_eth_returns[x_var_list][testing_start:testing_end]\n",
        "y_test = df_eth_returns['Positive Return'][testing_start:testing_end]\n",
        "\n",
        "# Print training and testing start/end dates\n",
        "print(f\"Training Start: {training_start}\")\n",
        "print(f\"Training End: {training_end}\")\n",
        "print(f\"Testing Start: {testing_start}\")\n",
        "print(f\"Testing End: {testing_end}\")"
      ],
      "execution_count": 7,
      "outputs": [
        {
          "output_type": "stream",
          "text": [
            "Training Start: 2020-12-01\n",
            "Training End: 2021-02-15\n",
            "Testing Start: 2021-02-16\n",
            "Testing End: 2021-03-20\n"
          ],
          "name": "stdout"
        }
      ]
    },
    {
      "cell_type": "code",
      "metadata": {
        "id": "yhOlcEedqsiq"
      },
      "source": [
        "from sklearn.preprocessing import StandardScaler\n",
        "#Create the StandardScaler instance\n",
        "scaler = StandardScaler()"
      ],
      "execution_count": 8,
      "outputs": []
    },
    {
      "cell_type": "code",
      "metadata": {
        "id": "ZpSXpsbDqz4C"
      },
      "source": [
        "# Fit the Standard Scaler with the training data\n",
        "X_scaler = scaler.fit(X_train)"
      ],
      "execution_count": 9,
      "outputs": []
    },
    {
      "cell_type": "code",
      "metadata": {
        "id": "Pu9QmrSAq38x"
      },
      "source": [
        "# Scale the training and testing data\n",
        "X_train_scaled = X_scaler.transform(X_train)\n",
        "X_test_scaled = X_scaler.transform(X_test)"
      ],
      "execution_count": 10,
      "outputs": []
    },
    {
      "cell_type": "markdown",
      "metadata": {
        "id": "PaTitxthU7yh"
      },
      "source": [
        "# AdaBoost"
      ]
    },
    {
      "cell_type": "code",
      "metadata": {
        "id": "8KQD3WDoGlDu"
      },
      "source": [
        "from sklearn.ensemble import AdaBoostClassifier\n",
        "from sklearn.tree import DecisionTreeClassifier\n",
        "from sklearn.metrics import confusion_matrix, balanced_accuracy_score, accuracy_score, classification_report, precision_recall_curve, roc_auc_score, hamming_loss, jaccard_score, matthews_corrcoef"
      ],
      "execution_count": 11,
      "outputs": []
    },
    {
      "cell_type": "code",
      "metadata": {
        "id": "Uqhr3xDSVcef",
        "colab": {
          "base_uri": "https://localhost:8080/",
          "height": 1000
        },
        "outputId": "0e534cb6-a680-45c1-a58c-5a75dae2c790"
      },
      "source": [
        "# Fit a SKLearn linear regression using the training set (X_train, y_train):\n",
        "AB_model = AdaBoostClassifier(\n",
        "    DecisionTreeClassifier(max_depth=1),\n",
        "    n_estimators=100,\n",
        "    learning_rate=1,\n",
        "    random_state=0\n",
        ")\n",
        "AB_model.fit(X_train, y_train)\n",
        "\n",
        "# Make a prediction of \"y\" values from the X_test dataset\n",
        "AB_predictions = AB_model.predict(X_test)\n",
        "\n",
        "# Assemble actual y data (y_test) with predicted y data (from just above) into two columns in a dataframe:\n",
        "Results = y_test.to_frame()\n",
        "Results[\"Predicted Value\"] = AB_predictions\n",
        "Results"
      ],
      "execution_count": 12,
      "outputs": [
        {
          "output_type": "execute_result",
          "data": {
            "text/html": [
              "<div>\n",
              "<style scoped>\n",
              "    .dataframe tbody tr th:only-of-type {\n",
              "        vertical-align: middle;\n",
              "    }\n",
              "\n",
              "    .dataframe tbody tr th {\n",
              "        vertical-align: top;\n",
              "    }\n",
              "\n",
              "    .dataframe thead th {\n",
              "        text-align: right;\n",
              "    }\n",
              "</style>\n",
              "<table border=\"1\" class=\"dataframe\">\n",
              "  <thead>\n",
              "    <tr style=\"text-align: right;\">\n",
              "      <th></th>\n",
              "      <th>Positive Return</th>\n",
              "      <th>Predicted Value</th>\n",
              "    </tr>\n",
              "    <tr>\n",
              "      <th>Date</th>\n",
              "      <th></th>\n",
              "      <th></th>\n",
              "    </tr>\n",
              "  </thead>\n",
              "  <tbody>\n",
              "    <tr>\n",
              "      <th>2021-02-16</th>\n",
              "      <td>1.0</td>\n",
              "      <td>1.0</td>\n",
              "    </tr>\n",
              "    <tr>\n",
              "      <th>2021-02-17</th>\n",
              "      <td>1.0</td>\n",
              "      <td>1.0</td>\n",
              "    </tr>\n",
              "    <tr>\n",
              "      <th>2021-02-18</th>\n",
              "      <td>1.0</td>\n",
              "      <td>1.0</td>\n",
              "    </tr>\n",
              "    <tr>\n",
              "      <th>2021-02-19</th>\n",
              "      <td>1.0</td>\n",
              "      <td>0.0</td>\n",
              "    </tr>\n",
              "    <tr>\n",
              "      <th>2021-02-20</th>\n",
              "      <td>0.0</td>\n",
              "      <td>1.0</td>\n",
              "    </tr>\n",
              "    <tr>\n",
              "      <th>2021-02-21</th>\n",
              "      <td>1.0</td>\n",
              "      <td>0.0</td>\n",
              "    </tr>\n",
              "    <tr>\n",
              "      <th>2021-02-22</th>\n",
              "      <td>0.0</td>\n",
              "      <td>1.0</td>\n",
              "    </tr>\n",
              "    <tr>\n",
              "      <th>2021-02-23</th>\n",
              "      <td>0.0</td>\n",
              "      <td>1.0</td>\n",
              "    </tr>\n",
              "    <tr>\n",
              "      <th>2021-02-24</th>\n",
              "      <td>1.0</td>\n",
              "      <td>1.0</td>\n",
              "    </tr>\n",
              "    <tr>\n",
              "      <th>2021-02-25</th>\n",
              "      <td>0.0</td>\n",
              "      <td>1.0</td>\n",
              "    </tr>\n",
              "    <tr>\n",
              "      <th>2021-02-26</th>\n",
              "      <td>0.0</td>\n",
              "      <td>1.0</td>\n",
              "    </tr>\n",
              "    <tr>\n",
              "      <th>2021-02-27</th>\n",
              "      <td>1.0</td>\n",
              "      <td>1.0</td>\n",
              "    </tr>\n",
              "    <tr>\n",
              "      <th>2021-02-28</th>\n",
              "      <td>0.0</td>\n",
              "      <td>1.0</td>\n",
              "    </tr>\n",
              "    <tr>\n",
              "      <th>2021-03-01</th>\n",
              "      <td>1.0</td>\n",
              "      <td>1.0</td>\n",
              "    </tr>\n",
              "    <tr>\n",
              "      <th>2021-03-02</th>\n",
              "      <td>0.0</td>\n",
              "      <td>1.0</td>\n",
              "    </tr>\n",
              "    <tr>\n",
              "      <th>2021-03-03</th>\n",
              "      <td>1.0</td>\n",
              "      <td>1.0</td>\n",
              "    </tr>\n",
              "    <tr>\n",
              "      <th>2021-03-04</th>\n",
              "      <td>0.0</td>\n",
              "      <td>1.0</td>\n",
              "    </tr>\n",
              "    <tr>\n",
              "      <th>2021-03-05</th>\n",
              "      <td>0.0</td>\n",
              "      <td>1.0</td>\n",
              "    </tr>\n",
              "    <tr>\n",
              "      <th>2021-03-06</th>\n",
              "      <td>1.0</td>\n",
              "      <td>1.0</td>\n",
              "    </tr>\n",
              "    <tr>\n",
              "      <th>2021-03-07</th>\n",
              "      <td>1.0</td>\n",
              "      <td>1.0</td>\n",
              "    </tr>\n",
              "    <tr>\n",
              "      <th>2021-03-08</th>\n",
              "      <td>1.0</td>\n",
              "      <td>1.0</td>\n",
              "    </tr>\n",
              "    <tr>\n",
              "      <th>2021-03-09</th>\n",
              "      <td>1.0</td>\n",
              "      <td>1.0</td>\n",
              "    </tr>\n",
              "    <tr>\n",
              "      <th>2021-03-10</th>\n",
              "      <td>0.0</td>\n",
              "      <td>1.0</td>\n",
              "    </tr>\n",
              "    <tr>\n",
              "      <th>2021-03-11</th>\n",
              "      <td>1.0</td>\n",
              "      <td>1.0</td>\n",
              "    </tr>\n",
              "    <tr>\n",
              "      <th>2021-03-12</th>\n",
              "      <td>0.0</td>\n",
              "      <td>0.0</td>\n",
              "    </tr>\n",
              "    <tr>\n",
              "      <th>2021-03-13</th>\n",
              "      <td>1.0</td>\n",
              "      <td>1.0</td>\n",
              "    </tr>\n",
              "    <tr>\n",
              "      <th>2021-03-14</th>\n",
              "      <td>0.0</td>\n",
              "      <td>0.0</td>\n",
              "    </tr>\n",
              "    <tr>\n",
              "      <th>2021-03-15</th>\n",
              "      <td>0.0</td>\n",
              "      <td>0.0</td>\n",
              "    </tr>\n",
              "    <tr>\n",
              "      <th>2021-03-16</th>\n",
              "      <td>1.0</td>\n",
              "      <td>1.0</td>\n",
              "    </tr>\n",
              "    <tr>\n",
              "      <th>2021-03-17</th>\n",
              "      <td>1.0</td>\n",
              "      <td>1.0</td>\n",
              "    </tr>\n",
              "    <tr>\n",
              "      <th>2021-03-18</th>\n",
              "      <td>0.0</td>\n",
              "      <td>1.0</td>\n",
              "    </tr>\n",
              "    <tr>\n",
              "      <th>2021-03-19</th>\n",
              "      <td>1.0</td>\n",
              "      <td>1.0</td>\n",
              "    </tr>\n",
              "    <tr>\n",
              "      <th>2021-03-20</th>\n",
              "      <td>1.0</td>\n",
              "      <td>1.0</td>\n",
              "    </tr>\n",
              "  </tbody>\n",
              "</table>\n",
              "</div>"
            ],
            "text/plain": [
              "            Positive Return  Predicted Value\n",
              "Date                                        \n",
              "2021-02-16              1.0              1.0\n",
              "2021-02-17              1.0              1.0\n",
              "2021-02-18              1.0              1.0\n",
              "2021-02-19              1.0              0.0\n",
              "2021-02-20              0.0              1.0\n",
              "2021-02-21              1.0              0.0\n",
              "2021-02-22              0.0              1.0\n",
              "2021-02-23              0.0              1.0\n",
              "2021-02-24              1.0              1.0\n",
              "2021-02-25              0.0              1.0\n",
              "2021-02-26              0.0              1.0\n",
              "2021-02-27              1.0              1.0\n",
              "2021-02-28              0.0              1.0\n",
              "2021-03-01              1.0              1.0\n",
              "2021-03-02              0.0              1.0\n",
              "2021-03-03              1.0              1.0\n",
              "2021-03-04              0.0              1.0\n",
              "2021-03-05              0.0              1.0\n",
              "2021-03-06              1.0              1.0\n",
              "2021-03-07              1.0              1.0\n",
              "2021-03-08              1.0              1.0\n",
              "2021-03-09              1.0              1.0\n",
              "2021-03-10              0.0              1.0\n",
              "2021-03-11              1.0              1.0\n",
              "2021-03-12              0.0              0.0\n",
              "2021-03-13              1.0              1.0\n",
              "2021-03-14              0.0              0.0\n",
              "2021-03-15              0.0              0.0\n",
              "2021-03-16              1.0              1.0\n",
              "2021-03-17              1.0              1.0\n",
              "2021-03-18              0.0              1.0\n",
              "2021-03-19              1.0              1.0\n",
              "2021-03-20              1.0              1.0"
            ]
          },
          "metadata": {
            "tags": []
          },
          "execution_count": 12
        }
      ]
    },
    {
      "cell_type": "code",
      "metadata": {
        "colab": {
          "base_uri": "https://localhost:8080/"
        },
        "id": "ez10YLNKjpuS",
        "outputId": "a433d2c4-69c8-4ed6-a6dc-2cc6902d73c2"
      },
      "source": [
        "print(AB_model.get_params()) # looked at parameters and experimented with them to see if they made significant differences"
      ],
      "execution_count": 13,
      "outputs": [
        {
          "output_type": "stream",
          "text": [
            "{'algorithm': 'SAMME.R', 'base_estimator__ccp_alpha': 0.0, 'base_estimator__class_weight': None, 'base_estimator__criterion': 'gini', 'base_estimator__max_depth': 1, 'base_estimator__max_features': None, 'base_estimator__max_leaf_nodes': None, 'base_estimator__min_impurity_decrease': 0.0, 'base_estimator__min_impurity_split': None, 'base_estimator__min_samples_leaf': 1, 'base_estimator__min_samples_split': 2, 'base_estimator__min_weight_fraction_leaf': 0.0, 'base_estimator__presort': 'deprecated', 'base_estimator__random_state': None, 'base_estimator__splitter': 'best', 'base_estimator': DecisionTreeClassifier(ccp_alpha=0.0, class_weight=None, criterion='gini',\n",
            "                       max_depth=1, max_features=None, max_leaf_nodes=None,\n",
            "                       min_impurity_decrease=0.0, min_impurity_split=None,\n",
            "                       min_samples_leaf=1, min_samples_split=2,\n",
            "                       min_weight_fraction_leaf=0.0, presort='deprecated',\n",
            "                       random_state=None, splitter='best'), 'learning_rate': 1, 'n_estimators': 100, 'random_state': 0}\n"
          ],
          "name": "stdout"
        }
      ]
    },
    {
      "cell_type": "code",
      "metadata": {
        "colab": {
          "base_uri": "https://localhost:8080/",
          "height": 657
        },
        "id": "uNJ9j7TLEWps",
        "outputId": "9d7bc5e5-ad21-48d1-f1b1-c4fa772ac4dd"
      },
      "source": [
        "AB_Results = Results[['Positive Return','Predicted Value']]\n",
        "AB_Results.plot(figsize=(20,10))"
      ],
      "execution_count": 14,
      "outputs": [
        {
          "output_type": "execute_result",
          "data": {
            "text/plain": [
              "<matplotlib.axes._subplots.AxesSubplot at 0x7f2ac4cbe9d0>"
            ]
          },
          "metadata": {
            "tags": []
          },
          "execution_count": 14
        },
        {
          "output_type": "display_data",
          "data": {
            "image/png": "[encoded data removed]",
            "text/plain": [
              "<Figure size 1440x720 with 1 Axes>"
            ]
          },
          "metadata": {
            "tags": [],
            "needs_background": "light"
          }
        }
      ]
    },
    {
      "cell_type": "markdown",
      "metadata": {
        "id": "AUr3ujhsJRGZ"
      },
      "source": [
        "## Features"
      ]
    },
    {
      "cell_type": "code",
      "metadata": {
        "colab": {
          "base_uri": "https://localhost:8080/"
        },
        "id": "PakhnpGnSMxe",
        "outputId": "2302f54f-2de6-4750-8bc4-607c30ab7a93"
      },
      "source": [
        "AB_importances = AB_model.feature_importances_\n",
        "\n",
        "AB_importances_sorted = sorted(zip(AB_model.feature_importances_, df_eth_returns[x_var_list].columns), reverse=True)\n",
        "AB_importances_sorted"
      ],
      "execution_count": 15,
      "outputs": [
        {
          "output_type": "execute_result",
          "data": {
            "text/plain": [
              "[(0.3, 'sentiment_signal'),\n",
              " (0.17, 'vol_trend_signal'),\n",
              " (0.16, 'bollinger_signal'),\n",
              " (0.1, 'RSI_signal'),\n",
              " (0.0, 'crossover_signal')]"
            ]
          },
          "metadata": {
            "tags": []
          },
          "execution_count": 15
        }
      ]
    },
    {
      "cell_type": "markdown",
      "metadata": {
        "id": "TvhPOPq9JIID"
      },
      "source": [
        "## Metrics"
      ]
    },
    {
      "cell_type": "code",
      "metadata": {
        "id": "xJzcBVLgBl4C"
      },
      "source": [
        "# Compute confusion matrix\n",
        "AB_cm = confusion_matrix(y_test, AB_predictions)\n",
        "# Create a DataFrame with the labelled classes\n",
        "AB_cm_df = pd.DataFrame(\n",
        "    AB_cm, index=['Actual Not Positive', 'Actual Positive'], columns=['Predicted Not Positive', 'Predicted Positive']\n",
        ")\n",
        "# Set target names for the classification report\n",
        "AB_target_names = ['Not Positive', 'Positive']\n",
        "# Compute the accuracy score\n",
        "AB_acc_score = accuracy_score(y_test, AB_predictions)\n",
        "# Compute the balanced accuracy score\n",
        "AB_bal_acc_score = balanced_accuracy_score(y_test, AB_predictions)\n",
        "# Predict class probabilities for the features \n",
        "AB_probs = AB_model.predict_proba(X_test)[:,1]\n",
        "# Compute precision-recall pairs\n",
        "AB_precision, AB_recall, _ = precision_recall_curve(y_test, AB_probs, pos_label=1)\n",
        "# Compute the AUPRC - the area under the curve\n",
        "AB_auprc_score = roc_auc_score(y_test, AB_probs)\n",
        "# Compute the Matthews correlation coefficient (MCC)\n",
        "AB_MCC_score = matthews_corrcoef(y_test, AB_predictions)\n",
        "# Compute the Jaccard similarity coefficent score\n",
        "AB_J_score = jaccard_score(y_test, AB_predictions)\n",
        "# Compute the average Hamming loss\n",
        "AB_H_loss = hamming_loss(y_test, AB_predictions)"
      ],
      "execution_count": 16,
      "outputs": []
    },
    {
      "cell_type": "code",
      "metadata": {
        "id": "6UJiEc3mX9uA",
        "colab": {
          "base_uri": "https://localhost:8080/",
          "height": 682
        },
        "outputId": "e6a5f273-09a9-48d9-84af-4c252d9e196c"
      },
      "source": [
        "print(\"Accuracy Score:\", round(AB_acc_score, ndigits=3))\n",
        "print(\"Balanced Accuracy Score:\", round(AB_bal_acc_score, ndigits=3))\n",
        "print(\"Matthews correlation coefficient score:\", round(AB_MCC_score, ndigits=3))\n",
        "print(\"Jaccard similarity coefficient score:\", round(AB_J_score, ndigits=3))\n",
        "print(\"Average Hamming Loss:\", round(AB_H_loss, ndigits=3))\n",
        "print(\"Classification Report:\")\n",
        "print(classification_report(y_test, AB_predictions, target_names=AB_target_names))\n",
        "print(\"Confusion Matrix:\")\n",
        "display(AB_cm_df)\n",
        "print(\"Precision-Recall Curve\")\n",
        "print(\"Area Under the Curve:\", round(AB_auprc_score, ndigits=3))\n",
        "plt.plot(AB_recall, AB_precision, marker='*')"
      ],
      "execution_count": 17,
      "outputs": [
        {
          "output_type": "stream",
          "text": [
            "Accuracy Score: 0.606\n",
            "Balanced Accuracy Score: 0.555\n",
            "Matthews correlation coefficient score: 0.15\n",
            "Jaccard similarity coefficient score: 0.567\n",
            "Average Hamming Loss: 0.394\n",
            "Classification Report:\n",
            "              precision    recall  f1-score   support\n",
            "\n",
            "Not Positive       0.60      0.21      0.32        14\n",
            "    Positive       0.61      0.89      0.72        19\n",
            "\n",
            "    accuracy                           0.61        33\n",
            "   macro avg       0.60      0.55      0.52        33\n",
            "weighted avg       0.60      0.61      0.55        33\n",
            "\n",
            "Confusion Matrix:\n"
          ],
          "name": "stdout"
        },
        {
          "output_type": "display_data",
          "data": {
            "text/html": [
              "<div>\n",
              "<style scoped>\n",
              "    .dataframe tbody tr th:only-of-type {\n",
              "        vertical-align: middle;\n",
              "    }\n",
              "\n",
              "    .dataframe tbody tr th {\n",
              "        vertical-align: top;\n",
              "    }\n",
              "\n",
              "    .dataframe thead th {\n",
              "        text-align: right;\n",
              "    }\n",
              "</style>\n",
              "<table border=\"1\" class=\"dataframe\">\n",
              "  <thead>\n",
              "    <tr style=\"text-align: right;\">\n",
              "      <th></th>\n",
              "      <th>Predicted Not Positive</th>\n",
              "      <th>Predicted Positive</th>\n",
              "    </tr>\n",
              "  </thead>\n",
              "  <tbody>\n",
              "    <tr>\n",
              "      <th>Actual Not Positive</th>\n",
              "      <td>3</td>\n",
              "      <td>11</td>\n",
              "    </tr>\n",
              "    <tr>\n",
              "      <th>Actual Positive</th>\n",
              "      <td>2</td>\n",
              "      <td>17</td>\n",
              "    </tr>\n",
              "  </tbody>\n",
              "</table>\n",
              "</div>"
            ],
            "text/plain": [
              "                     Predicted Not Positive  Predicted Positive\n",
              "Actual Not Positive                       3                  11\n",
              "Actual Positive                           2                  17"
            ]
          },
          "metadata": {
            "tags": []
          }
        },
        {
          "output_type": "stream",
          "text": [
            "Precision-Recall Curve\n",
            "Area Under the Curve: 0.669\n"
          ],
          "name": "stdout"
        },
        {
          "output_type": "execute_result",
          "data": {
            "text/plain": [
              "[<matplotlib.lines.Line2D at 0x7f2ac2419210>]"
            ]
          },
          "metadata": {
            "tags": []
          },
          "execution_count": 17
        },
        {
          "output_type": "display_data",
          "data": {
            "image/png": "[encoded data removed]",
            "text/plain": [
              "<Figure size 432x288 with 1 Axes>"
            ]
          },
          "metadata": {
            "tags": [],
            "needs_background": "light"
          }
        }
      ]
    },
    {
      "cell_type": "markdown",
      "metadata": {
        "id": "YO38Uo4c7NJO"
      },
      "source": [
        "## Save Model"
      ]
    },
    {
      "cell_type": "code",
      "metadata": {
        "id": "JNPZ7-c63ZXD"
      },
      "source": [
        "# Save the model once satisfied with results\n",
        "# from joblib import dump, load\n",
        "# dump(AB_model, 'AdaBoost_model.joblib') \n",
        "\n",
        "# Load saved model to use on other datasets\n",
        "# AB_model = load('AdaBoost_model.joblib') \n"
      ],
      "execution_count": 18,
      "outputs": []
    },
    {
      "cell_type": "markdown",
      "metadata": {
        "id": "Fzdzw0jyVBC6"
      },
      "source": [
        "# Random Forest"
      ]
    },
    {
      "cell_type": "code",
      "metadata": {
        "id": "PzyM8iljVDR8"
      },
      "source": [
        "from sklearn.ensemble import RandomForestClassifier\n",
        "from sklearn.datasets import make_classification"
      ],
      "execution_count": 19,
      "outputs": []
    },
    {
      "cell_type": "code",
      "metadata": {
        "id": "pL2vnbw4WGYv",
        "colab": {
          "base_uri": "https://localhost:8080/",
          "height": 1000
        },
        "outputId": "ccfb912a-386e-461b-85e4-f43c869f1d60"
      },
      "source": [
        "# Fit a SKLearn linear regression using just the training set (X_train, y_train):\n",
        "RF_model = RandomForestClassifier(n_estimators=100, \n",
        "                               max_depth=1,\n",
        "                               criterion='gini', # gini or entropy, gini is default\n",
        "                               random_state=0)\n",
        "RF_model.fit(X_train, y_train)\n",
        "\n",
        "# Make a prediction of \"y\" values from the X_test dataset\n",
        "RF_predictions = RF_model.predict(X_test)\n",
        "\n",
        "# Assemble actual y data (y_test) with predicted y data (from just above) into two columns in a dataframe:\n",
        "Results = y_test.to_frame()\n",
        "Results[\"Predicted Value\"] = RF_predictions\n",
        "Results"
      ],
      "execution_count": 20,
      "outputs": [
        {
          "output_type": "execute_result",
          "data": {
            "text/html": [
              "<div>\n",
              "<style scoped>\n",
              "    .dataframe tbody tr th:only-of-type {\n",
              "        vertical-align: middle;\n",
              "    }\n",
              "\n",
              "    .dataframe tbody tr th {\n",
              "        vertical-align: top;\n",
              "    }\n",
              "\n",
              "    .dataframe thead th {\n",
              "        text-align: right;\n",
              "    }\n",
              "</style>\n",
              "<table border=\"1\" class=\"dataframe\">\n",
              "  <thead>\n",
              "    <tr style=\"text-align: right;\">\n",
              "      <th></th>\n",
              "      <th>Positive Return</th>\n",
              "      <th>Predicted Value</th>\n",
              "    </tr>\n",
              "    <tr>\n",
              "      <th>Date</th>\n",
              "      <th></th>\n",
              "      <th></th>\n",
              "    </tr>\n",
              "  </thead>\n",
              "  <tbody>\n",
              "    <tr>\n",
              "      <th>2021-02-16</th>\n",
              "      <td>1.0</td>\n",
              "      <td>1.0</td>\n",
              "    </tr>\n",
              "    <tr>\n",
              "      <th>2021-02-17</th>\n",
              "      <td>1.0</td>\n",
              "      <td>1.0</td>\n",
              "    </tr>\n",
              "    <tr>\n",
              "      <th>2021-02-18</th>\n",
              "      <td>1.0</td>\n",
              "      <td>1.0</td>\n",
              "    </tr>\n",
              "    <tr>\n",
              "      <th>2021-02-19</th>\n",
              "      <td>1.0</td>\n",
              "      <td>0.0</td>\n",
              "    </tr>\n",
              "    <tr>\n",
              "      <th>2021-02-20</th>\n",
              "      <td>0.0</td>\n",
              "      <td>1.0</td>\n",
              "    </tr>\n",
              "    <tr>\n",
              "      <th>2021-02-21</th>\n",
              "      <td>1.0</td>\n",
              "      <td>1.0</td>\n",
              "    </tr>\n",
              "    <tr>\n",
              "      <th>2021-02-22</th>\n",
              "      <td>0.0</td>\n",
              "      <td>1.0</td>\n",
              "    </tr>\n",
              "    <tr>\n",
              "      <th>2021-02-23</th>\n",
              "      <td>0.0</td>\n",
              "      <td>1.0</td>\n",
              "    </tr>\n",
              "    <tr>\n",
              "      <th>2021-02-24</th>\n",
              "      <td>1.0</td>\n",
              "      <td>1.0</td>\n",
              "    </tr>\n",
              "    <tr>\n",
              "      <th>2021-02-25</th>\n",
              "      <td>0.0</td>\n",
              "      <td>1.0</td>\n",
              "    </tr>\n",
              "    <tr>\n",
              "      <th>2021-02-26</th>\n",
              "      <td>0.0</td>\n",
              "      <td>1.0</td>\n",
              "    </tr>\n",
              "    <tr>\n",
              "      <th>2021-02-27</th>\n",
              "      <td>1.0</td>\n",
              "      <td>1.0</td>\n",
              "    </tr>\n",
              "    <tr>\n",
              "      <th>2021-02-28</th>\n",
              "      <td>0.0</td>\n",
              "      <td>1.0</td>\n",
              "    </tr>\n",
              "    <tr>\n",
              "      <th>2021-03-01</th>\n",
              "      <td>1.0</td>\n",
              "      <td>1.0</td>\n",
              "    </tr>\n",
              "    <tr>\n",
              "      <th>2021-03-02</th>\n",
              "      <td>0.0</td>\n",
              "      <td>1.0</td>\n",
              "    </tr>\n",
              "    <tr>\n",
              "      <th>2021-03-03</th>\n",
              "      <td>1.0</td>\n",
              "      <td>1.0</td>\n",
              "    </tr>\n",
              "    <tr>\n",
              "      <th>2021-03-04</th>\n",
              "      <td>0.0</td>\n",
              "      <td>1.0</td>\n",
              "    </tr>\n",
              "    <tr>\n",
              "      <th>2021-03-05</th>\n",
              "      <td>0.0</td>\n",
              "      <td>1.0</td>\n",
              "    </tr>\n",
              "    <tr>\n",
              "      <th>2021-03-06</th>\n",
              "      <td>1.0</td>\n",
              "      <td>1.0</td>\n",
              "    </tr>\n",
              "    <tr>\n",
              "      <th>2021-03-07</th>\n",
              "      <td>1.0</td>\n",
              "      <td>1.0</td>\n",
              "    </tr>\n",
              "    <tr>\n",
              "      <th>2021-03-08</th>\n",
              "      <td>1.0</td>\n",
              "      <td>1.0</td>\n",
              "    </tr>\n",
              "    <tr>\n",
              "      <th>2021-03-09</th>\n",
              "      <td>1.0</td>\n",
              "      <td>1.0</td>\n",
              "    </tr>\n",
              "    <tr>\n",
              "      <th>2021-03-10</th>\n",
              "      <td>0.0</td>\n",
              "      <td>1.0</td>\n",
              "    </tr>\n",
              "    <tr>\n",
              "      <th>2021-03-11</th>\n",
              "      <td>1.0</td>\n",
              "      <td>1.0</td>\n",
              "    </tr>\n",
              "    <tr>\n",
              "      <th>2021-03-12</th>\n",
              "      <td>0.0</td>\n",
              "      <td>1.0</td>\n",
              "    </tr>\n",
              "    <tr>\n",
              "      <th>2021-03-13</th>\n",
              "      <td>1.0</td>\n",
              "      <td>1.0</td>\n",
              "    </tr>\n",
              "    <tr>\n",
              "      <th>2021-03-14</th>\n",
              "      <td>0.0</td>\n",
              "      <td>1.0</td>\n",
              "    </tr>\n",
              "    <tr>\n",
              "      <th>2021-03-15</th>\n",
              "      <td>0.0</td>\n",
              "      <td>1.0</td>\n",
              "    </tr>\n",
              "    <tr>\n",
              "      <th>2021-03-16</th>\n",
              "      <td>1.0</td>\n",
              "      <td>1.0</td>\n",
              "    </tr>\n",
              "    <tr>\n",
              "      <th>2021-03-17</th>\n",
              "      <td>1.0</td>\n",
              "      <td>1.0</td>\n",
              "    </tr>\n",
              "    <tr>\n",
              "      <th>2021-03-18</th>\n",
              "      <td>0.0</td>\n",
              "      <td>1.0</td>\n",
              "    </tr>\n",
              "    <tr>\n",
              "      <th>2021-03-19</th>\n",
              "      <td>1.0</td>\n",
              "      <td>1.0</td>\n",
              "    </tr>\n",
              "    <tr>\n",
              "      <th>2021-03-20</th>\n",
              "      <td>1.0</td>\n",
              "      <td>1.0</td>\n",
              "    </tr>\n",
              "  </tbody>\n",
              "</table>\n",
              "</div>"
            ],
            "text/plain": [
              "            Positive Return  Predicted Value\n",
              "Date                                        \n",
              "2021-02-16              1.0              1.0\n",
              "2021-02-17              1.0              1.0\n",
              "2021-02-18              1.0              1.0\n",
              "2021-02-19              1.0              0.0\n",
              "2021-02-20              0.0              1.0\n",
              "2021-02-21              1.0              1.0\n",
              "2021-02-22              0.0              1.0\n",
              "2021-02-23              0.0              1.0\n",
              "2021-02-24              1.0              1.0\n",
              "2021-02-25              0.0              1.0\n",
              "2021-02-26              0.0              1.0\n",
              "2021-02-27              1.0              1.0\n",
              "2021-02-28              0.0              1.0\n",
              "2021-03-01              1.0              1.0\n",
              "2021-03-02              0.0              1.0\n",
              "2021-03-03              1.0              1.0\n",
              "2021-03-04              0.0              1.0\n",
              "2021-03-05              0.0              1.0\n",
              "2021-03-06              1.0              1.0\n",
              "2021-03-07              1.0              1.0\n",
              "2021-03-08              1.0              1.0\n",
              "2021-03-09              1.0              1.0\n",
              "2021-03-10              0.0              1.0\n",
              "2021-03-11              1.0              1.0\n",
              "2021-03-12              0.0              1.0\n",
              "2021-03-13              1.0              1.0\n",
              "2021-03-14              0.0              1.0\n",
              "2021-03-15              0.0              1.0\n",
              "2021-03-16              1.0              1.0\n",
              "2021-03-17              1.0              1.0\n",
              "2021-03-18              0.0              1.0\n",
              "2021-03-19              1.0              1.0\n",
              "2021-03-20              1.0              1.0"
            ]
          },
          "metadata": {
            "tags": []
          },
          "execution_count": 20
        }
      ]
    },
    {
      "cell_type": "code",
      "metadata": {
        "colab": {
          "base_uri": "https://localhost:8080/"
        },
        "id": "nmil4q8ljzZm",
        "outputId": "87e6fdc3-ec26-4167-e3d4-8d872252b0c4"
      },
      "source": [
        "print(RF_model.get_params()) # looked at parameters and experimented with them to see if they made significant differences"
      ],
      "execution_count": 21,
      "outputs": [
        {
          "output_type": "stream",
          "text": [
            "{'bootstrap': True, 'ccp_alpha': 0.0, 'class_weight': None, 'criterion': 'gini', 'max_depth': 1, 'max_features': 'auto', 'max_leaf_nodes': None, 'max_samples': None, 'min_impurity_decrease': 0.0, 'min_impurity_split': None, 'min_samples_leaf': 1, 'min_samples_split': 2, 'min_weight_fraction_leaf': 0.0, 'n_estimators': 100, 'n_jobs': None, 'oob_score': False, 'random_state': 0, 'verbose': 0, 'warm_start': False}\n"
          ],
          "name": "stdout"
        }
      ]
    },
    {
      "cell_type": "code",
      "metadata": {
        "colab": {
          "base_uri": "https://localhost:8080/",
          "height": 657
        },
        "id": "ri8mFJtpFp0i",
        "outputId": "0b255168-747d-458d-9a98-67980e0c1e14"
      },
      "source": [
        "RF_Results = Results[['Positive Return','Predicted Value']]\n",
        "RF_Results.plot(figsize=(20,10))"
      ],
      "execution_count": 22,
      "outputs": [
        {
          "output_type": "execute_result",
          "data": {
            "text/plain": [
              "<matplotlib.axes._subplots.AxesSubplot at 0x7f2ac1823110>"
            ]
          },
          "metadata": {
            "tags": []
          },
          "execution_count": 22
        },
        {
          "output_type": "display_data",
          "data": {
            "image/png": "[encoded data removed]",
            "text/plain": [
              "<Figure size 1440x720 with 1 Axes>"
            ]
          },
          "metadata": {
            "tags": [],
            "needs_background": "light"
          }
        }
      ]
    },
    {
      "cell_type": "markdown",
      "metadata": {
        "id": "1FRmPtq-WYPN"
      },
      "source": [
        "## Features"
      ]
    },
    {
      "cell_type": "code",
      "metadata": {
        "colab": {
          "base_uri": "https://localhost:8080/"
        },
        "id": "h6hJMkVMV02l",
        "outputId": "e6d0e4be-c725-497c-e88c-57914bc60ee7"
      },
      "source": [
        "RF_importances = RF_model.feature_importances_\n",
        "\n",
        "RF_importances_sorted = sorted(zip(RF_model.feature_importances_, df_eth_returns[x_var_list].columns), reverse=True)\n",
        "RF_importances_sorted"
      ],
      "execution_count": 23,
      "outputs": [
        {
          "output_type": "execute_result",
          "data": {
            "text/plain": [
              "[(0.4, 'bollinger_signal'),\n",
              " (0.27, 'sentiment_signal'),\n",
              " (0.22, 'vol_trend_signal'),\n",
              " (0.11, 'RSI_signal'),\n",
              " (0.0, 'crossover_signal')]"
            ]
          },
          "metadata": {
            "tags": []
          },
          "execution_count": 23
        }
      ]
    },
    {
      "cell_type": "markdown",
      "metadata": {
        "id": "d5Nw08wVWc09"
      },
      "source": [
        "## Metrics"
      ]
    },
    {
      "cell_type": "code",
      "metadata": {
        "id": "Y4gyw8GAU6kL"
      },
      "source": [
        "# Compute confusion matrix\n",
        "RF_cm = confusion_matrix(y_test, RF_predictions)\n",
        "# Create a DataFrame with the labelled classes\n",
        "RF_cm_df = pd.DataFrame(\n",
        "    RF_cm, index=['Actual Not Positive', 'Actual Positive'], columns=['Predicted Not Positive', 'Predicted Positive']\n",
        ")\n",
        "# Set target names for the classification report\n",
        "RF_target_names = ['Not Positive', 'Positive']\n",
        "# Compute the accuracy score\n",
        "RF_acc_score = accuracy_score(y_test, RF_predictions)\n",
        "# Compute the balanced accuracy score\n",
        "RF_bal_acc_score = balanced_accuracy_score(y_test, RF_predictions)\n",
        "# Predict class probabilities for the features \n",
        "RF_probs = RF_model.predict_proba(X_test)[:,1]\n",
        "# Compute precision-recall pairs\n",
        "RF_precision, RF_recall, _ = precision_recall_curve(y_test, RF_probs, pos_label=1)\n",
        "# Compute the AUPRC - the area under the curve\n",
        "RF_auprc_score = roc_auc_score(y_test, RF_probs)\n",
        "# Compute the Matthews correlation coefficient (MCC)\n",
        "RF_MCC_score = matthews_corrcoef(y_test, RF_predictions)\n",
        "# Compute the Jaccard similarity coefficent score\n",
        "RF_J_score = jaccard_score(y_test, RF_predictions)\n",
        "# Compute the average Hamming loss\n",
        "RF_H_loss = hamming_loss(y_test, RF_predictions)"
      ],
      "execution_count": 24,
      "outputs": []
    },
    {
      "cell_type": "code",
      "metadata": {
        "colab": {
          "base_uri": "https://localhost:8080/",
          "height": 682
        },
        "id": "ttrOdCqKU_TX",
        "outputId": "9fe756ad-e774-4065-b0d0-cb3b9d659cfa"
      },
      "source": [
        "print(\"Accuracy Score:\", round(RF_acc_score, ndigits=3))\n",
        "print(\"Balanced Accuracy Score:\", round(RF_bal_acc_score, ndigits=3))\n",
        "print(\"Matthews correlation coefficient score:\", round(RF_MCC_score, ndigits=3))\n",
        "print(\"Jaccard similarity coefficient score:\", round(RF_J_score, ndigits=3))\n",
        "print(\"Average Hamming Loss:\", round(RF_H_loss, ndigits=3))\n",
        "print(\"Classification Report:\")\n",
        "print(classification_report(y_test, RF_predictions, target_names=RF_target_names))\n",
        "print(\"Confusion Matrix:\")\n",
        "display(RF_cm_df)\n",
        "print(\"Precision-Recall Curve\")\n",
        "print(\"Area Under the Curve:\", round(RF_auprc_score, ndigits=3))\n",
        "plt.plot(RF_recall, RF_precision, marker='x')"
      ],
      "execution_count": 25,
      "outputs": [
        {
          "output_type": "stream",
          "text": [
            "Accuracy Score: 0.545\n",
            "Balanced Accuracy Score: 0.474\n",
            "Matthews correlation coefficient score: -0.152\n",
            "Jaccard similarity coefficient score: 0.545\n",
            "Average Hamming Loss: 0.455\n",
            "Classification Report:\n",
            "              precision    recall  f1-score   support\n",
            "\n",
            "Not Positive       0.00      0.00      0.00        14\n",
            "    Positive       0.56      0.95      0.71        19\n",
            "\n",
            "    accuracy                           0.55        33\n",
            "   macro avg       0.28      0.47      0.35        33\n",
            "weighted avg       0.32      0.55      0.41        33\n",
            "\n",
            "Confusion Matrix:\n"
          ],
          "name": "stdout"
        },
        {
          "output_type": "display_data",
          "data": {
            "text/html": [
              "<div>\n",
              "<style scoped>\n",
              "    .dataframe tbody tr th:only-of-type {\n",
              "        vertical-align: middle;\n",
              "    }\n",
              "\n",
              "    .dataframe tbody tr th {\n",
              "        vertical-align: top;\n",
              "    }\n",
              "\n",
              "    .dataframe thead th {\n",
              "        text-align: right;\n",
              "    }\n",
              "</style>\n",
              "<table border=\"1\" class=\"dataframe\">\n",
              "  <thead>\n",
              "    <tr style=\"text-align: right;\">\n",
              "      <th></th>\n",
              "      <th>Predicted Not Positive</th>\n",
              "      <th>Predicted Positive</th>\n",
              "    </tr>\n",
              "  </thead>\n",
              "  <tbody>\n",
              "    <tr>\n",
              "      <th>Actual Not Positive</th>\n",
              "      <td>0</td>\n",
              "      <td>14</td>\n",
              "    </tr>\n",
              "    <tr>\n",
              "      <th>Actual Positive</th>\n",
              "      <td>1</td>\n",
              "      <td>18</td>\n",
              "    </tr>\n",
              "  </tbody>\n",
              "</table>\n",
              "</div>"
            ],
            "text/plain": [
              "                     Predicted Not Positive  Predicted Positive\n",
              "Actual Not Positive                       0                  14\n",
              "Actual Positive                           1                  18"
            ]
          },
          "metadata": {
            "tags": []
          }
        },
        {
          "output_type": "stream",
          "text": [
            "Precision-Recall Curve\n",
            "Area Under the Curve: 0.677\n"
          ],
          "name": "stdout"
        },
        {
          "output_type": "execute_result",
          "data": {
            "text/plain": [
              "[<matplotlib.lines.Line2D at 0x7f2ac16ff810>]"
            ]
          },
          "metadata": {
            "tags": []
          },
          "execution_count": 25
        },
        {
          "output_type": "display_data",
          "data": {
            "image/png": "[encoded data removed]",
            "text/plain": [
              "<Figure size 432x288 with 1 Axes>"
            ]
          },
          "metadata": {
            "tags": [],
            "needs_background": "light"
          }
        }
      ]
    },
    {
      "cell_type": "markdown",
      "metadata": {
        "id": "9wBlKfGn7ewX"
      },
      "source": [
        "## Save Random Forest Model"
      ]
    },
    {
      "cell_type": "code",
      "metadata": {
        "id": "4-eiG6WL7Yyy"
      },
      "source": [
        "# Save the model once satisfied with results\n",
        "# from joblib import dump, load\n",
        "# dump(RF_model, 'RandomForest_model.joblib') \n",
        "\n",
        "# Load saved model to use on other datasets\n",
        "# RF_model = load('RandomForest_model.joblib') \n"
      ],
      "execution_count": 26,
      "outputs": []
    }
  ]
}