{
  "nbformat": 4,
  "nbformat_minor": 0,
  "metadata": {
    "colab": {
      "name": "ML_models_technical_sentiment.ipynb",
      "provenance": [],
      "collapsed_sections": [],
      "toc_visible": true
    },
    "kernelspec": {
      "name": "python3",
      "display_name": "Python 3"
    }
  },
  "cells": [
    {
      "cell_type": "markdown",
      "metadata": {
        "id": "view-in-github"
      },
      "source": [
        "<a href=\"https://colab.research.google.com/github/maxla777/Project-2/blob/Monique/Monique/ML_models.ipynb\" target=\"_parent\"><img src=\"https://colab.research.google.com/assets/colab-badge.svg\" alt=\"Open In Colab\"/></a>"
      ]
    },
    {
      "cell_type": "code",
      "metadata": {
        "id": "znboOVVmH1OV",
        "colab": {
          "base_uri": "https://localhost:8080/"
        },
        "outputId": "3d69c45d-dc5e-40e3-8bd9-d086874fd634"
      },
      "source": [
        "from google.colab import drive\n",
        "drive.mount('/content/drive')"
      ],
      "execution_count": 1,
      "outputs": [
        {
          "output_type": "stream",
          "text": [
            "Drive already mounted at /content/drive; to attempt to forcibly remount, call drive.mount(\"/content/drive\", force_remount=True).\n"
          ],
          "name": "stdout"
        }
      ]
    },
    {
      "cell_type": "code",
      "metadata": {
        "id": "FwjCBgPjmMxA"
      },
      "source": [
        "import pandas as pd\n",
        "import numpy as np\n",
        "from pathlib import Path\n",
        "import matplotlib.pyplot as plt\n",
        "%matplotlib inline"
      ],
      "execution_count": 2,
      "outputs": []
    },
    {
      "cell_type": "markdown",
      "metadata": {
        "id": "FhQZZjrIXlez"
      },
      "source": [
        "# Machine Learning Models"
      ]
    },
    {
      "cell_type": "code",
      "metadata": {
        "colab": {
          "base_uri": "https://localhost:8080/",
          "height": 235
        },
        "id": "28bSNabN_rmS",
        "outputId": "a2d9a0cd-f484-4ea1-a623-5148f82131ef"
      },
      "source": [
        "csv_path = Path('/content/drive/MyDrive/Colab Notebooks/ETH_bull_bear_signals.csv')\n",
        "df_crypto_news=pd.read_csv(csv_path)\n",
        "df_crypto_news.set_index(pd.to_datetime(df_crypto_news['date'], infer_datetime_format=True), inplace=True)\n",
        "df_crypto_news.drop(columns=['date'], inplace=True)\n",
        "df_crypto_news.head()"
      ],
      "execution_count": 3,
      "outputs": [
        {
          "output_type": "execute_result",
          "data": {
            "text/html": [
              "<div>\n",
              "<style scoped>\n",
              "    .dataframe tbody tr th:only-of-type {\n",
              "        vertical-align: middle;\n",
              "    }\n",
              "\n",
              "    .dataframe tbody tr th {\n",
              "        vertical-align: top;\n",
              "    }\n",
              "\n",
              "    .dataframe thead th {\n",
              "        text-align: right;\n",
              "    }\n",
              "</style>\n",
              "<table border=\"1\" class=\"dataframe\">\n",
              "  <thead>\n",
              "    <tr style=\"text-align: right;\">\n",
              "      <th></th>\n",
              "      <th>signal</th>\n",
              "    </tr>\n",
              "    <tr>\n",
              "      <th>date</th>\n",
              "      <th></th>\n",
              "    </tr>\n",
              "  </thead>\n",
              "  <tbody>\n",
              "    <tr>\n",
              "      <th>2020-12-01</th>\n",
              "      <td>1.0</td>\n",
              "    </tr>\n",
              "    <tr>\n",
              "      <th>2020-12-02</th>\n",
              "      <td>0.0</td>\n",
              "    </tr>\n",
              "    <tr>\n",
              "      <th>2020-12-03</th>\n",
              "      <td>0.0</td>\n",
              "    </tr>\n",
              "    <tr>\n",
              "      <th>2020-12-04</th>\n",
              "      <td>1.0</td>\n",
              "    </tr>\n",
              "    <tr>\n",
              "      <th>2020-12-05</th>\n",
              "      <td>0.0</td>\n",
              "    </tr>\n",
              "  </tbody>\n",
              "</table>\n",
              "</div>"
            ],
            "text/plain": [
              "            signal\n",
              "date              \n",
              "2020-12-01     1.0\n",
              "2020-12-02     0.0\n",
              "2020-12-03     0.0\n",
              "2020-12-04     1.0\n",
              "2020-12-05     0.0"
            ]
          },
          "metadata": {
            "tags": []
          },
          "execution_count": 3
        }
      ]
    },
    {
      "cell_type": "code",
      "metadata": {
        "colab": {
          "base_uri": "https://localhost:8080/",
          "height": 235
        },
        "id": "9Z4Zv02TBbZm",
        "outputId": "4aa0d14f-a79b-4131-c654-3cefbf8f5cca"
      },
      "source": [
        "df_crypto_news.tail()"
      ],
      "execution_count": 4,
      "outputs": [
        {
          "output_type": "execute_result",
          "data": {
            "text/html": [
              "<div>\n",
              "<style scoped>\n",
              "    .dataframe tbody tr th:only-of-type {\n",
              "        vertical-align: middle;\n",
              "    }\n",
              "\n",
              "    .dataframe tbody tr th {\n",
              "        vertical-align: top;\n",
              "    }\n",
              "\n",
              "    .dataframe thead th {\n",
              "        text-align: right;\n",
              "    }\n",
              "</style>\n",
              "<table border=\"1\" class=\"dataframe\">\n",
              "  <thead>\n",
              "    <tr style=\"text-align: right;\">\n",
              "      <th></th>\n",
              "      <th>signal</th>\n",
              "    </tr>\n",
              "    <tr>\n",
              "      <th>date</th>\n",
              "      <th></th>\n",
              "    </tr>\n",
              "  </thead>\n",
              "  <tbody>\n",
              "    <tr>\n",
              "      <th>2021-03-17</th>\n",
              "      <td>0.0</td>\n",
              "    </tr>\n",
              "    <tr>\n",
              "      <th>2021-03-18</th>\n",
              "      <td>0.0</td>\n",
              "    </tr>\n",
              "    <tr>\n",
              "      <th>2021-03-19</th>\n",
              "      <td>0.0</td>\n",
              "    </tr>\n",
              "    <tr>\n",
              "      <th>2021-03-20</th>\n",
              "      <td>-1.0</td>\n",
              "    </tr>\n",
              "    <tr>\n",
              "      <th>2021-03-21</th>\n",
              "      <td>-1.0</td>\n",
              "    </tr>\n",
              "  </tbody>\n",
              "</table>\n",
              "</div>"
            ],
            "text/plain": [
              "            signal\n",
              "date              \n",
              "2021-03-17     0.0\n",
              "2021-03-18     0.0\n",
              "2021-03-19     0.0\n",
              "2021-03-20    -1.0\n",
              "2021-03-21    -1.0"
            ]
          },
          "metadata": {
            "tags": []
          },
          "execution_count": 4
        }
      ]
    },
    {
      "cell_type": "code",
      "metadata": {
        "colab": {
          "base_uri": "https://localhost:8080/",
          "height": 337
        },
        "id": "U0jCV9xHB1dO",
        "outputId": "f7c672b0-060c-4df6-a169-0895d75f4c20"
      },
      "source": [
        "csv_path = Path('/content/drive/MyDrive/Colab Notebooks/kraken_pull_EthExample_03212021.csv')\n",
        "df_eth_returns=pd.read_csv(csv_path)\n",
        "df_eth_returns.set_index(pd.to_datetime(df_eth_returns['Date'], infer_datetime_format=True), inplace=True)\n",
        "df_eth_returns.drop(columns=['Date'], inplace=True)\n",
        "df_eth_returns = df_eth_returns[['crossover_signal', 'vol_trend_signal', 'bollinger_signal', 'RSI_signal','Positive Return']].copy()\n",
        "df_eth_returns['sentiment_signal'] = df_crypto_news[['signal']].copy()\n",
        "df_eth_returns.head()"
      ],
      "execution_count": 5,
      "outputs": [
        {
          "output_type": "execute_result",
          "data": {
            "text/html": [
              "<div>\n",
              "<style scoped>\n",
              "    .dataframe tbody tr th:only-of-type {\n",
              "        vertical-align: middle;\n",
              "    }\n",
              "\n",
              "    .dataframe tbody tr th {\n",
              "        vertical-align: top;\n",
              "    }\n",
              "\n",
              "    .dataframe thead th {\n",
              "        text-align: right;\n",
              "    }\n",
              "</style>\n",
              "<table border=\"1\" class=\"dataframe\">\n",
              "  <thead>\n",
              "    <tr style=\"text-align: right;\">\n",
              "      <th></th>\n",
              "      <th>crossover_signal</th>\n",
              "      <th>vol_trend_signal</th>\n",
              "      <th>bollinger_signal</th>\n",
              "      <th>RSI_signal</th>\n",
              "      <th>Positive Return</th>\n",
              "      <th>sentiment_signal</th>\n",
              "    </tr>\n",
              "    <tr>\n",
              "      <th>Date</th>\n",
              "      <th></th>\n",
              "      <th></th>\n",
              "      <th></th>\n",
              "      <th></th>\n",
              "      <th></th>\n",
              "      <th></th>\n",
              "    </tr>\n",
              "  </thead>\n",
              "  <tbody>\n",
              "    <tr>\n",
              "      <th>2020-11-12</th>\n",
              "      <td>1.0</td>\n",
              "      <td>1.0</td>\n",
              "      <td>0.0</td>\n",
              "      <td>0.0</td>\n",
              "      <td>0.0</td>\n",
              "      <td>NaN</td>\n",
              "    </tr>\n",
              "    <tr>\n",
              "      <th>2020-11-13</th>\n",
              "      <td>1.0</td>\n",
              "      <td>1.0</td>\n",
              "      <td>0.0</td>\n",
              "      <td>0.0</td>\n",
              "      <td>1.0</td>\n",
              "      <td>NaN</td>\n",
              "    </tr>\n",
              "    <tr>\n",
              "      <th>2020-11-14</th>\n",
              "      <td>1.0</td>\n",
              "      <td>1.0</td>\n",
              "      <td>0.0</td>\n",
              "      <td>0.0</td>\n",
              "      <td>0.0</td>\n",
              "      <td>NaN</td>\n",
              "    </tr>\n",
              "    <tr>\n",
              "      <th>2020-11-15</th>\n",
              "      <td>1.0</td>\n",
              "      <td>-1.0</td>\n",
              "      <td>0.0</td>\n",
              "      <td>0.0</td>\n",
              "      <td>0.0</td>\n",
              "      <td>NaN</td>\n",
              "    </tr>\n",
              "    <tr>\n",
              "      <th>2020-11-16</th>\n",
              "      <td>1.0</td>\n",
              "      <td>1.0</td>\n",
              "      <td>0.0</td>\n",
              "      <td>0.0</td>\n",
              "      <td>1.0</td>\n",
              "      <td>NaN</td>\n",
              "    </tr>\n",
              "  </tbody>\n",
              "</table>\n",
              "</div>"
            ],
            "text/plain": [
              "            crossover_signal  ...  sentiment_signal\n",
              "Date                          ...                  \n",
              "2020-11-12               1.0  ...               NaN\n",
              "2020-11-13               1.0  ...               NaN\n",
              "2020-11-14               1.0  ...               NaN\n",
              "2020-11-15               1.0  ...               NaN\n",
              "2020-11-16               1.0  ...               NaN\n",
              "\n",
              "[5 rows x 6 columns]"
            ]
          },
          "metadata": {
            "tags": []
          },
          "execution_count": 5
        }
      ]
    },
    {
      "cell_type": "code",
      "metadata": {
        "colab": {
          "base_uri": "https://localhost:8080/",
          "height": 337
        },
        "id": "UUqbtytlDHih",
        "outputId": "ff05c893-c358-4929-922f-32f903fb9296"
      },
      "source": [
        "df_eth_returns.tail()"
      ],
      "execution_count": 6,
      "outputs": [
        {
          "output_type": "execute_result",
          "data": {
            "text/html": [
              "<div>\n",
              "<style scoped>\n",
              "    .dataframe tbody tr th:only-of-type {\n",
              "        vertical-align: middle;\n",
              "    }\n",
              "\n",
              "    .dataframe tbody tr th {\n",
              "        vertical-align: top;\n",
              "    }\n",
              "\n",
              "    .dataframe thead th {\n",
              "        text-align: right;\n",
              "    }\n",
              "</style>\n",
              "<table border=\"1\" class=\"dataframe\">\n",
              "  <thead>\n",
              "    <tr style=\"text-align: right;\">\n",
              "      <th></th>\n",
              "      <th>crossover_signal</th>\n",
              "      <th>vol_trend_signal</th>\n",
              "      <th>bollinger_signal</th>\n",
              "      <th>RSI_signal</th>\n",
              "      <th>Positive Return</th>\n",
              "      <th>sentiment_signal</th>\n",
              "    </tr>\n",
              "    <tr>\n",
              "      <th>Date</th>\n",
              "      <th></th>\n",
              "      <th></th>\n",
              "      <th></th>\n",
              "      <th></th>\n",
              "      <th></th>\n",
              "      <th></th>\n",
              "    </tr>\n",
              "  </thead>\n",
              "  <tbody>\n",
              "    <tr>\n",
              "      <th>2021-03-18</th>\n",
              "      <td>1.0</td>\n",
              "      <td>1.0</td>\n",
              "      <td>0.0</td>\n",
              "      <td>0.0</td>\n",
              "      <td>0.0</td>\n",
              "      <td>0.0</td>\n",
              "    </tr>\n",
              "    <tr>\n",
              "      <th>2021-03-19</th>\n",
              "      <td>1.0</td>\n",
              "      <td>1.0</td>\n",
              "      <td>0.0</td>\n",
              "      <td>0.0</td>\n",
              "      <td>1.0</td>\n",
              "      <td>0.0</td>\n",
              "    </tr>\n",
              "    <tr>\n",
              "      <th>2021-03-20</th>\n",
              "      <td>1.0</td>\n",
              "      <td>1.0</td>\n",
              "      <td>0.0</td>\n",
              "      <td>0.0</td>\n",
              "      <td>0.0</td>\n",
              "      <td>-1.0</td>\n",
              "    </tr>\n",
              "    <tr>\n",
              "      <th>2021-03-21</th>\n",
              "      <td>1.0</td>\n",
              "      <td>1.0</td>\n",
              "      <td>0.0</td>\n",
              "      <td>0.0</td>\n",
              "      <td>0.0</td>\n",
              "      <td>-1.0</td>\n",
              "    </tr>\n",
              "    <tr>\n",
              "      <th>2021-03-22</th>\n",
              "      <td>1.0</td>\n",
              "      <td>1.0</td>\n",
              "      <td>0.0</td>\n",
              "      <td>0.0</td>\n",
              "      <td>0.0</td>\n",
              "      <td>NaN</td>\n",
              "    </tr>\n",
              "  </tbody>\n",
              "</table>\n",
              "</div>"
            ],
            "text/plain": [
              "            crossover_signal  ...  sentiment_signal\n",
              "Date                          ...                  \n",
              "2021-03-18               1.0  ...               0.0\n",
              "2021-03-19               1.0  ...               0.0\n",
              "2021-03-20               1.0  ...              -1.0\n",
              "2021-03-21               1.0  ...              -1.0\n",
              "2021-03-22               1.0  ...               NaN\n",
              "\n",
              "[5 rows x 6 columns]"
            ]
          },
          "metadata": {
            "tags": []
          },
          "execution_count": 6
        }
      ]
    },
    {
      "cell_type": "code",
      "metadata": {
        "colab": {
          "base_uri": "https://localhost:8080/",
          "height": 337
        },
        "id": "tN37lZErff4-",
        "outputId": "f09b698f-2513-45d4-8b9b-d232ddda8084"
      },
      "source": [
        "df_eth_returns.dropna(inplace=True)\n",
        "# df_eth_returns.isna().sum()\n",
        "# df_eth_returns.head()\n",
        "df_eth_returns.tail()"
      ],
      "execution_count": 7,
      "outputs": [
        {
          "output_type": "execute_result",
          "data": {
            "text/html": [
              "<div>\n",
              "<style scoped>\n",
              "    .dataframe tbody tr th:only-of-type {\n",
              "        vertical-align: middle;\n",
              "    }\n",
              "\n",
              "    .dataframe tbody tr th {\n",
              "        vertical-align: top;\n",
              "    }\n",
              "\n",
              "    .dataframe thead th {\n",
              "        text-align: right;\n",
              "    }\n",
              "</style>\n",
              "<table border=\"1\" class=\"dataframe\">\n",
              "  <thead>\n",
              "    <tr style=\"text-align: right;\">\n",
              "      <th></th>\n",
              "      <th>crossover_signal</th>\n",
              "      <th>vol_trend_signal</th>\n",
              "      <th>bollinger_signal</th>\n",
              "      <th>RSI_signal</th>\n",
              "      <th>Positive Return</th>\n",
              "      <th>sentiment_signal</th>\n",
              "    </tr>\n",
              "    <tr>\n",
              "      <th>Date</th>\n",
              "      <th></th>\n",
              "      <th></th>\n",
              "      <th></th>\n",
              "      <th></th>\n",
              "      <th></th>\n",
              "      <th></th>\n",
              "    </tr>\n",
              "  </thead>\n",
              "  <tbody>\n",
              "    <tr>\n",
              "      <th>2021-03-17</th>\n",
              "      <td>1.0</td>\n",
              "      <td>1.0</td>\n",
              "      <td>0.0</td>\n",
              "      <td>0.0</td>\n",
              "      <td>1.0</td>\n",
              "      <td>0.0</td>\n",
              "    </tr>\n",
              "    <tr>\n",
              "      <th>2021-03-18</th>\n",
              "      <td>1.0</td>\n",
              "      <td>1.0</td>\n",
              "      <td>0.0</td>\n",
              "      <td>0.0</td>\n",
              "      <td>0.0</td>\n",
              "      <td>0.0</td>\n",
              "    </tr>\n",
              "    <tr>\n",
              "      <th>2021-03-19</th>\n",
              "      <td>1.0</td>\n",
              "      <td>1.0</td>\n",
              "      <td>0.0</td>\n",
              "      <td>0.0</td>\n",
              "      <td>1.0</td>\n",
              "      <td>0.0</td>\n",
              "    </tr>\n",
              "    <tr>\n",
              "      <th>2021-03-20</th>\n",
              "      <td>1.0</td>\n",
              "      <td>1.0</td>\n",
              "      <td>0.0</td>\n",
              "      <td>0.0</td>\n",
              "      <td>0.0</td>\n",
              "      <td>-1.0</td>\n",
              "    </tr>\n",
              "    <tr>\n",
              "      <th>2021-03-21</th>\n",
              "      <td>1.0</td>\n",
              "      <td>1.0</td>\n",
              "      <td>0.0</td>\n",
              "      <td>0.0</td>\n",
              "      <td>0.0</td>\n",
              "      <td>-1.0</td>\n",
              "    </tr>\n",
              "  </tbody>\n",
              "</table>\n",
              "</div>"
            ],
            "text/plain": [
              "            crossover_signal  ...  sentiment_signal\n",
              "Date                          ...                  \n",
              "2021-03-17               1.0  ...               0.0\n",
              "2021-03-18               1.0  ...               0.0\n",
              "2021-03-19               1.0  ...               0.0\n",
              "2021-03-20               1.0  ...              -1.0\n",
              "2021-03-21               1.0  ...              -1.0\n",
              "\n",
              "[5 rows x 6 columns]"
            ]
          },
          "metadata": {
            "tags": []
          },
          "execution_count": 7
        }
      ]
    },
    {
      "cell_type": "code",
      "metadata": {
        "id": "g1dgJDiijHt0",
        "colab": {
          "base_uri": "https://localhost:8080/"
        },
        "outputId": "a33779e9-52d9-43c6-b309-1527ca7be26b"
      },
      "source": [
        "# Set x variable list of features\n",
        "x_var_list = ['crossover_signal', 'vol_trend_signal', 'bollinger_signal', 'RSI_signal','sentiment_signal']\n",
        "\n",
        "# Construct training start and end dates\n",
        "training_start = df_eth_returns.index.min().strftime(format= '%Y-%m-%d')\n",
        "training_end = '2021-02-16'\n",
        "\n",
        "# Construct testing start and end dates\n",
        "testing_start =  '2021-02-17'\n",
        "testing_end = df_eth_returns.index.max().strftime(format= '%Y-%m-%d')\n",
        "\n",
        "# Construct the X_train and y_train datasets\n",
        "X_train = df_eth_returns[x_var_list][training_start:training_end]\n",
        "y_train = df_eth_returns['Positive Return'][training_start:training_end]\n",
        "\n",
        "# Construct the X test and y test datasets\n",
        "X_test = df_eth_returns[x_var_list][testing_start:testing_end]\n",
        "y_test = df_eth_returns['Positive Return'][testing_start:testing_end]\n",
        "\n",
        "# Print training and testing start/end dates\n",
        "print(f\"Training Start: {training_start}\")\n",
        "print(f\"Training End: {training_end}\")\n",
        "print(f\"Testing Start: {testing_start}\")\n",
        "print(f\"Testing End: {testing_end}\")"
      ],
      "execution_count": 8,
      "outputs": [
        {
          "output_type": "stream",
          "text": [
            "Training Start: 2020-12-01\n",
            "Training End: 2021-02-16\n",
            "Testing Start: 2021-02-17\n",
            "Testing End: 2021-03-21\n"
          ],
          "name": "stdout"
        }
      ]
    },
    {
      "cell_type": "code",
      "metadata": {
        "id": "yhOlcEedqsiq"
      },
      "source": [
        "from sklearn.preprocessing import StandardScaler\n",
        "#Create the StandardScaler instance\n",
        "scaler = StandardScaler()"
      ],
      "execution_count": 9,
      "outputs": []
    },
    {
      "cell_type": "code",
      "metadata": {
        "id": "ZpSXpsbDqz4C"
      },
      "source": [
        "# Fit the Standard Scaler with the training data\n",
        "X_scaler = scaler.fit(X_train)"
      ],
      "execution_count": 10,
      "outputs": []
    },
    {
      "cell_type": "code",
      "metadata": {
        "id": "Pu9QmrSAq38x"
      },
      "source": [
        "# Scale the training and testing data\n",
        "X_train_scaled = X_scaler.transform(X_train)\n",
        "X_test_scaled = X_scaler.transform(X_test)"
      ],
      "execution_count": 11,
      "outputs": []
    },
    {
      "cell_type": "markdown",
      "metadata": {
        "id": "PaTitxthU7yh"
      },
      "source": [
        "# AdaBoost"
      ]
    },
    {
      "cell_type": "code",
      "metadata": {
        "id": "8KQD3WDoGlDu"
      },
      "source": [
        "from sklearn.ensemble import AdaBoostClassifier\n",
        "from sklearn.tree import DecisionTreeClassifier\n",
        "from sklearn.metrics import confusion_matrix, balanced_accuracy_score, accuracy_score, classification_report, precision_recall_curve, roc_auc_score, hamming_loss, jaccard_score, matthews_corrcoef, ConfusionMatrixDisplay"
      ],
      "execution_count": 12,
      "outputs": []
    },
    {
      "cell_type": "code",
      "metadata": {
        "id": "Uqhr3xDSVcef",
        "colab": {
          "base_uri": "https://localhost:8080/",
          "height": 1000
        },
        "outputId": "033fc969-a232-4d21-b469-25a477e5ffb4"
      },
      "source": [
        "# Fit a SKLearn linear regression using the training set (X_train, y_train):\n",
        "AB_model = AdaBoostClassifier(\n",
        "    DecisionTreeClassifier(max_depth=2),\n",
        "    n_estimators=100,\n",
        "    learning_rate=1,\n",
        "    random_state=0\n",
        ")\n",
        "AB_model.fit(X_train, y_train)\n",
        "\n",
        "# Make a prediction of \"y\" values from the X_test dataset\n",
        "AB_predictions = AB_model.predict(X_test)\n",
        "\n",
        "# Assemble actual y data (y_test) with predicted y data (from just above) into two columns in a dataframe:\n",
        "Results = y_test.to_frame()\n",
        "Results[\"Predicted Value\"] = AB_predictions\n",
        "Results"
      ],
      "execution_count": 13,
      "outputs": [
        {
          "output_type": "execute_result",
          "data": {
            "text/html": [
              "<div>\n",
              "<style scoped>\n",
              "    .dataframe tbody tr th:only-of-type {\n",
              "        vertical-align: middle;\n",
              "    }\n",
              "\n",
              "    .dataframe tbody tr th {\n",
              "        vertical-align: top;\n",
              "    }\n",
              "\n",
              "    .dataframe thead th {\n",
              "        text-align: right;\n",
              "    }\n",
              "</style>\n",
              "<table border=\"1\" class=\"dataframe\">\n",
              "  <thead>\n",
              "    <tr style=\"text-align: right;\">\n",
              "      <th></th>\n",
              "      <th>Positive Return</th>\n",
              "      <th>Predicted Value</th>\n",
              "    </tr>\n",
              "    <tr>\n",
              "      <th>Date</th>\n",
              "      <th></th>\n",
              "      <th></th>\n",
              "    </tr>\n",
              "  </thead>\n",
              "  <tbody>\n",
              "    <tr>\n",
              "      <th>2021-02-17</th>\n",
              "      <td>1.0</td>\n",
              "      <td>1.0</td>\n",
              "    </tr>\n",
              "    <tr>\n",
              "      <th>2021-02-18</th>\n",
              "      <td>1.0</td>\n",
              "      <td>1.0</td>\n",
              "    </tr>\n",
              "    <tr>\n",
              "      <th>2021-02-19</th>\n",
              "      <td>1.0</td>\n",
              "      <td>0.0</td>\n",
              "    </tr>\n",
              "    <tr>\n",
              "      <th>2021-02-20</th>\n",
              "      <td>0.0</td>\n",
              "      <td>0.0</td>\n",
              "    </tr>\n",
              "    <tr>\n",
              "      <th>2021-02-21</th>\n",
              "      <td>1.0</td>\n",
              "      <td>1.0</td>\n",
              "    </tr>\n",
              "    <tr>\n",
              "      <th>2021-02-22</th>\n",
              "      <td>0.0</td>\n",
              "      <td>1.0</td>\n",
              "    </tr>\n",
              "    <tr>\n",
              "      <th>2021-02-23</th>\n",
              "      <td>0.0</td>\n",
              "      <td>0.0</td>\n",
              "    </tr>\n",
              "    <tr>\n",
              "      <th>2021-02-24</th>\n",
              "      <td>1.0</td>\n",
              "      <td>1.0</td>\n",
              "    </tr>\n",
              "    <tr>\n",
              "      <th>2021-02-25</th>\n",
              "      <td>0.0</td>\n",
              "      <td>1.0</td>\n",
              "    </tr>\n",
              "    <tr>\n",
              "      <th>2021-02-26</th>\n",
              "      <td>0.0</td>\n",
              "      <td>1.0</td>\n",
              "    </tr>\n",
              "    <tr>\n",
              "      <th>2021-02-27</th>\n",
              "      <td>1.0</td>\n",
              "      <td>1.0</td>\n",
              "    </tr>\n",
              "    <tr>\n",
              "      <th>2021-02-28</th>\n",
              "      <td>0.0</td>\n",
              "      <td>1.0</td>\n",
              "    </tr>\n",
              "    <tr>\n",
              "      <th>2021-03-01</th>\n",
              "      <td>1.0</td>\n",
              "      <td>1.0</td>\n",
              "    </tr>\n",
              "    <tr>\n",
              "      <th>2021-03-02</th>\n",
              "      <td>0.0</td>\n",
              "      <td>0.0</td>\n",
              "    </tr>\n",
              "    <tr>\n",
              "      <th>2021-03-03</th>\n",
              "      <td>1.0</td>\n",
              "      <td>1.0</td>\n",
              "    </tr>\n",
              "    <tr>\n",
              "      <th>2021-03-04</th>\n",
              "      <td>0.0</td>\n",
              "      <td>1.0</td>\n",
              "    </tr>\n",
              "    <tr>\n",
              "      <th>2021-03-05</th>\n",
              "      <td>0.0</td>\n",
              "      <td>0.0</td>\n",
              "    </tr>\n",
              "    <tr>\n",
              "      <th>2021-03-06</th>\n",
              "      <td>1.0</td>\n",
              "      <td>1.0</td>\n",
              "    </tr>\n",
              "    <tr>\n",
              "      <th>2021-03-07</th>\n",
              "      <td>1.0</td>\n",
              "      <td>0.0</td>\n",
              "    </tr>\n",
              "    <tr>\n",
              "      <th>2021-03-08</th>\n",
              "      <td>1.0</td>\n",
              "      <td>1.0</td>\n",
              "    </tr>\n",
              "    <tr>\n",
              "      <th>2021-03-09</th>\n",
              "      <td>1.0</td>\n",
              "      <td>1.0</td>\n",
              "    </tr>\n",
              "    <tr>\n",
              "      <th>2021-03-10</th>\n",
              "      <td>0.0</td>\n",
              "      <td>1.0</td>\n",
              "    </tr>\n",
              "    <tr>\n",
              "      <th>2021-03-11</th>\n",
              "      <td>1.0</td>\n",
              "      <td>1.0</td>\n",
              "    </tr>\n",
              "    <tr>\n",
              "      <th>2021-03-12</th>\n",
              "      <td>0.0</td>\n",
              "      <td>1.0</td>\n",
              "    </tr>\n",
              "    <tr>\n",
              "      <th>2021-03-13</th>\n",
              "      <td>1.0</td>\n",
              "      <td>1.0</td>\n",
              "    </tr>\n",
              "    <tr>\n",
              "      <th>2021-03-14</th>\n",
              "      <td>0.0</td>\n",
              "      <td>1.0</td>\n",
              "    </tr>\n",
              "    <tr>\n",
              "      <th>2021-03-15</th>\n",
              "      <td>0.0</td>\n",
              "      <td>0.0</td>\n",
              "    </tr>\n",
              "    <tr>\n",
              "      <th>2021-03-16</th>\n",
              "      <td>1.0</td>\n",
              "      <td>1.0</td>\n",
              "    </tr>\n",
              "    <tr>\n",
              "      <th>2021-03-17</th>\n",
              "      <td>1.0</td>\n",
              "      <td>1.0</td>\n",
              "    </tr>\n",
              "    <tr>\n",
              "      <th>2021-03-18</th>\n",
              "      <td>0.0</td>\n",
              "      <td>1.0</td>\n",
              "    </tr>\n",
              "    <tr>\n",
              "      <th>2021-03-19</th>\n",
              "      <td>1.0</td>\n",
              "      <td>1.0</td>\n",
              "    </tr>\n",
              "    <tr>\n",
              "      <th>2021-03-20</th>\n",
              "      <td>0.0</td>\n",
              "      <td>1.0</td>\n",
              "    </tr>\n",
              "    <tr>\n",
              "      <th>2021-03-21</th>\n",
              "      <td>0.0</td>\n",
              "      <td>1.0</td>\n",
              "    </tr>\n",
              "  </tbody>\n",
              "</table>\n",
              "</div>"
            ],
            "text/plain": [
              "            Positive Return  Predicted Value\n",
              "Date                                        \n",
              "2021-02-17              1.0              1.0\n",
              "2021-02-18              1.0              1.0\n",
              "2021-02-19              1.0              0.0\n",
              "2021-02-20              0.0              0.0\n",
              "2021-02-21              1.0              1.0\n",
              "2021-02-22              0.0              1.0\n",
              "2021-02-23              0.0              0.0\n",
              "2021-02-24              1.0              1.0\n",
              "2021-02-25              0.0              1.0\n",
              "2021-02-26              0.0              1.0\n",
              "2021-02-27              1.0              1.0\n",
              "2021-02-28              0.0              1.0\n",
              "2021-03-01              1.0              1.0\n",
              "2021-03-02              0.0              0.0\n",
              "2021-03-03              1.0              1.0\n",
              "2021-03-04              0.0              1.0\n",
              "2021-03-05              0.0              0.0\n",
              "2021-03-06              1.0              1.0\n",
              "2021-03-07              1.0              0.0\n",
              "2021-03-08              1.0              1.0\n",
              "2021-03-09              1.0              1.0\n",
              "2021-03-10              0.0              1.0\n",
              "2021-03-11              1.0              1.0\n",
              "2021-03-12              0.0              1.0\n",
              "2021-03-13              1.0              1.0\n",
              "2021-03-14              0.0              1.0\n",
              "2021-03-15              0.0              0.0\n",
              "2021-03-16              1.0              1.0\n",
              "2021-03-17              1.0              1.0\n",
              "2021-03-18              0.0              1.0\n",
              "2021-03-19              1.0              1.0\n",
              "2021-03-20              0.0              1.0\n",
              "2021-03-21              0.0              1.0"
            ]
          },
          "metadata": {
            "tags": []
          },
          "execution_count": 13
        }
      ]
    },
    {
      "cell_type": "code",
      "metadata": {
        "colab": {
          "base_uri": "https://localhost:8080/"
        },
        "id": "ez10YLNKjpuS",
        "outputId": "91403258-8e23-41ce-8b0c-6a4f80afaee7"
      },
      "source": [
        "print(AB_model.get_params()) # looked at parameters and experimented with them to see if they made significant differences"
      ],
      "execution_count": 14,
      "outputs": [
        {
          "output_type": "stream",
          "text": [
            "{'algorithm': 'SAMME.R', 'base_estimator__ccp_alpha': 0.0, 'base_estimator__class_weight': None, 'base_estimator__criterion': 'gini', 'base_estimator__max_depth': 2, 'base_estimator__max_features': None, 'base_estimator__max_leaf_nodes': None, 'base_estimator__min_impurity_decrease': 0.0, 'base_estimator__min_impurity_split': None, 'base_estimator__min_samples_leaf': 1, 'base_estimator__min_samples_split': 2, 'base_estimator__min_weight_fraction_leaf': 0.0, 'base_estimator__presort': 'deprecated', 'base_estimator__random_state': None, 'base_estimator__splitter': 'best', 'base_estimator': DecisionTreeClassifier(ccp_alpha=0.0, class_weight=None, criterion='gini',\n",
            "                       max_depth=2, max_features=None, max_leaf_nodes=None,\n",
            "                       min_impurity_decrease=0.0, min_impurity_split=None,\n",
            "                       min_samples_leaf=1, min_samples_split=2,\n",
            "                       min_weight_fraction_leaf=0.0, presort='deprecated',\n",
            "                       random_state=None, splitter='best'), 'learning_rate': 1, 'n_estimators': 100, 'random_state': 0}\n"
          ],
          "name": "stdout"
        }
      ]
    },
    {
      "cell_type": "code",
      "metadata": {
        "colab": {
          "base_uri": "https://localhost:8080/",
          "height": 477
        },
        "id": "uNJ9j7TLEWps",
        "outputId": "91000f13-5b69-4fba-e104-24a4d156f89a"
      },
      "source": [
        "AB_Results = Results[['Positive Return','Predicted Value']].plot(figsize=(20,10))\n",
        "AB_Results.get_figure().savefig('/content/drive/MyDrive/Colab Notebooks/AB_results_combined', bbox_inches=\"tight\")\n",
        "AB_Results.plot(figsize=(20,10))"
      ],
      "execution_count": 15,
      "outputs": [
        {
          "output_type": "execute_result",
          "data": {
            "text/plain": [
              "[]"
            ]
          },
          "metadata": {
            "tags": []
          },
          "execution_count": 15
        },
        {
          "output_type": "display_data",
          "data": {
            "image/png": "[encoded data removed]",
            "text/plain": [
              "<Figure size 1440x720 with 1 Axes>"
            ]
          },
          "metadata": {
            "tags": [],
            "needs_background": "light"
          }
        }
      ]
    },
    {
      "cell_type": "markdown",
      "metadata": {
        "id": "AUr3ujhsJRGZ"
      },
      "source": [
        "## Features"
      ]
    },
    {
      "cell_type": "code",
      "metadata": {
        "colab": {
          "base_uri": "https://localhost:8080/"
        },
        "id": "PakhnpGnSMxe",
        "outputId": "cd599474-d896-49cb-be4c-9f21eea033b4"
      },
      "source": [
        "AB_importances = AB_model.feature_importances_\n",
        "\n",
        "AB_importances_sorted = sorted(zip(AB_model.feature_importances_, df_eth_returns[x_var_list].columns), reverse=True)\n",
        "AB_importances_sorted"
      ],
      "execution_count": 16,
      "outputs": [
        {
          "output_type": "execute_result",
          "data": {
            "text/plain": [
              "[(0.4042126583332544, 'sentiment_signal'),\n",
              " (0.2682678601979184, 'bollinger_signal'),\n",
              " (0.22700940418124727, 'RSI_signal'),\n",
              " (0.10051007728757998, 'vol_trend_signal'),\n",
              " (0.0, 'crossover_signal')]"
            ]
          },
          "metadata": {
            "tags": []
          },
          "execution_count": 16
        }
      ]
    },
    {
      "cell_type": "markdown",
      "metadata": {
        "id": "TvhPOPq9JIID"
      },
      "source": [
        "## Metrics"
      ]
    },
    {
      "cell_type": "code",
      "metadata": {
        "id": "xJzcBVLgBl4C",
        "colab": {
          "base_uri": "https://localhost:8080/",
          "height": 460
        },
        "outputId": "f2f1f596-97bd-4c1e-864c-2e881cf04180"
      },
      "source": [
        "# Compute confusion matrix\n",
        "AB_cm = confusion_matrix(y_test, AB_predictions)\n",
        "# Create a DataFrame with the labelled classes\n",
        "AB_cm_df = pd.DataFrame(\n",
        "    AB_cm, index=['Actual Not Positive', 'Actual Positive'], columns=['Predicted Not Positive', 'Predicted Positive']\n",
        ")\n",
        "# Set target names for the classification report\n",
        "AB_target_names = ['Not Positive', 'Positive']\n",
        "# Compute the accuracy score\n",
        "AB_acc_score = accuracy_score(y_test, AB_predictions)\n",
        "# Compute the balanced accuracy score\n",
        "AB_bal_acc_score = balanced_accuracy_score(y_test, AB_predictions)\n",
        "# Predict class probabilities for the features \n",
        "AB_probs = AB_model.predict_proba(X_test)[:,1]\n",
        "# Compute precision-recall pairs\n",
        "AB_precision, AB_recall, _ = precision_recall_curve(y_test, AB_probs, pos_label=1)\n",
        "# Compute the AUPRC - the area under the curve\n",
        "AB_auprc_score = roc_auc_score(y_test, AB_probs)\n",
        "# Compute the Matthews correlation coefficient (MCC)\n",
        "AB_MCC_score = matthews_corrcoef(y_test, AB_predictions)\n",
        "# Compute the Jaccard similarity coefficent score\n",
        "AB_J_score = jaccard_score(y_test, AB_predictions)\n",
        "# Compute the average Hamming loss\n",
        "AB_H_loss = hamming_loss(y_test, AB_predictions)\n",
        "\n",
        "# Plotting the confusion matrix and saving the figure\n",
        "AB_disp = ConfusionMatrixDisplay(confusion_matrix=AB_cm, display_labels=AB_target_names)\n",
        "# AB_disp.plot()\n",
        "# AB_disp.show()\n",
        "AB_disp.plot().savefig('/content/drive/MyDrive/Colab Notebooks/AB_confusion_matrix.png')"
      ],
      "execution_count": 17,
      "outputs": [
        {
          "output_type": "error",
          "ename": "AttributeError",
          "evalue": "ignored",
          "traceback": [
            "\u001b[0;31m---------------------------------------------------------------------------\u001b[0m",
            "\u001b[0;31mAttributeError\u001b[0m                            Traceback (most recent call last)",
            "\u001b[0;32m<ipython-input-17-384724b45e3b>\u001b[0m in \u001b[0;36m<module>\u001b[0;34m()\u001b[0m\n\u001b[1;32m     28\u001b[0m \u001b[0;31m# AB_disp.plot()\u001b[0m\u001b[0;34m\u001b[0m\u001b[0;34m\u001b[0m\u001b[0;34m\u001b[0m\u001b[0m\n\u001b[1;32m     29\u001b[0m \u001b[0;31m# AB_disp.show()\u001b[0m\u001b[0;34m\u001b[0m\u001b[0;34m\u001b[0m\u001b[0;34m\u001b[0m\u001b[0m\n\u001b[0;32m---> 30\u001b[0;31m \u001b[0mAB_disp\u001b[0m\u001b[0;34m.\u001b[0m\u001b[0mplot\u001b[0m\u001b[0;34m(\u001b[0m\u001b[0;34m)\u001b[0m\u001b[0;34m.\u001b[0m\u001b[0msavefig\u001b[0m\u001b[0;34m(\u001b[0m\u001b[0;34m'/content/drive/MyDrive/Colab Notebooks/AB_confusion_matrix.png'\u001b[0m\u001b[0;34m)\u001b[0m\u001b[0;34m\u001b[0m\u001b[0;34m\u001b[0m\u001b[0m\n\u001b[0m",
            "\u001b[0;31mAttributeError\u001b[0m: 'ConfusionMatrixDisplay' object has no attribute 'savefig'"
          ]
        },
        {
          "output_type": "display_data",
          "data": {
            "image/png": "[encoded data removed]",
            "text/plain": [
              "<Figure size 432x288 with 2 Axes>"
            ]
          },
          "metadata": {
            "tags": [],
            "needs_background": "light"
          }
        }
      ]
    },
    {
      "cell_type": "code",
      "metadata": {
        "id": "6UJiEc3mX9uA"
      },
      "source": [
        "print(\"Accuracy Score:\", round(AB_acc_score, ndigits=3))\n",
        "print(\"Balanced Accuracy Score:\", round(AB_bal_acc_score, ndigits=3))\n",
        "print(\"Matthews correlation coefficient score:\", round(AB_MCC_score, ndigits=3))\n",
        "print(\"Jaccard similarity coefficient score:\", round(AB_J_score, ndigits=3))\n",
        "print(\"Average Hamming Loss:\", round(AB_H_loss, ndigits=3))\n",
        "print(\"Classification Report:\")\n",
        "print(classification_report(y_test, AB_predictions, target_names=AB_target_names))\n",
        "print(\"Confusion Matrix:\")\n",
        "display(AB_cm_df)\n",
        "print(\"Precision-Recall Curve\")\n",
        "print(\"Area Under the Curve:\", round(AB_auprc_score, ndigits=3))\n",
        "plt.plot(AB_recall, AB_precision, marker='*')\n",
        "plt.savefig('/content/drive/MyDrive/Colab Notebooks/AB_PR_Curve.png')"
      ],
      "execution_count": null,
      "outputs": []
    },
    {
      "cell_type": "markdown",
      "metadata": {
        "id": "YO38Uo4c7NJO"
      },
      "source": [
        "## Save Model"
      ]
    },
    {
      "cell_type": "code",
      "metadata": {
        "id": "JNPZ7-c63ZXD"
      },
      "source": [
        "# Save the model once satisfied with results\n",
        "# from joblib import dump, load\n",
        "# dump(AB_model, 'AdaBoost_model.joblib') \n",
        "\n",
        "# Load saved model to use on other datasets\n",
        "# AB_model = load('AdaBoost_model.joblib') \n"
      ],
      "execution_count": null,
      "outputs": []
    },
    {
      "cell_type": "markdown",
      "metadata": {
        "id": "Fzdzw0jyVBC6"
      },
      "source": [
        "# Random Forest"
      ]
    },
    {
      "cell_type": "code",
      "metadata": {
        "id": "PzyM8iljVDR8"
      },
      "source": [
        "from sklearn.ensemble import RandomForestClassifier\n",
        "from sklearn.datasets import make_classification"
      ],
      "execution_count": null,
      "outputs": []
    },
    {
      "cell_type": "code",
      "metadata": {
        "id": "pL2vnbw4WGYv"
      },
      "source": [
        "# Fit a SKLearn linear regression using just the training set (X_train, y_train):\n",
        "RF_model = RandomForestClassifier(n_estimators=100, \n",
        "                               max_depth=2, # when max_depth = 1, nothing is predicted not positive\n",
        "                               criterion='gini', # gini or entropy, gini is default\n",
        "                               random_state=0)\n",
        "RF_model.fit(X_train, y_train)\n",
        "\n",
        "# Make a prediction of \"y\" values from the X_test dataset\n",
        "RF_predictions = RF_model.predict(X_test)\n",
        "\n",
        "# Assemble actual y data (y_test) with predicted y data (from just above) into two columns in a dataframe:\n",
        "Results = y_test.to_frame()\n",
        "Results[\"Predicted Value\"] = RF_predictions\n",
        "Results"
      ],
      "execution_count": null,
      "outputs": []
    },
    {
      "cell_type": "code",
      "metadata": {
        "id": "nmil4q8ljzZm"
      },
      "source": [
        "print(RF_model.get_params()) # looked at parameters and experimented with them to see if they made significant differences"
      ],
      "execution_count": null,
      "outputs": []
    },
    {
      "cell_type": "code",
      "metadata": {
        "id": "ri8mFJtpFp0i"
      },
      "source": [
        "RF_Results = Results[['Positive Return','Predicted Value']].plot(figsize=(20,10))\n",
        "RF_Results.get_figure().savefig('/content/drive/MyDrive/Colab Notebooks/RF_results_combined', bbox_inches=\"tight\")\n",
        "RF_Results.plot(figsize=(20,10))"
      ],
      "execution_count": null,
      "outputs": []
    },
    {
      "cell_type": "markdown",
      "metadata": {
        "id": "1FRmPtq-WYPN"
      },
      "source": [
        "## Features"
      ]
    },
    {
      "cell_type": "code",
      "metadata": {
        "id": "h6hJMkVMV02l"
      },
      "source": [
        "RF_importances = RF_model.feature_importances_\n",
        "\n",
        "RF_importances_sorted = sorted(zip(RF_model.feature_importances_, df_eth_returns[x_var_list].columns), reverse=True)\n",
        "RF_importances_sorted"
      ],
      "execution_count": null,
      "outputs": []
    },
    {
      "cell_type": "markdown",
      "metadata": {
        "id": "d5Nw08wVWc09"
      },
      "source": [
        "## Metrics"
      ]
    },
    {
      "cell_type": "code",
      "metadata": {
        "id": "Y4gyw8GAU6kL"
      },
      "source": [
        "# Compute confusion matrix\n",
        "RF_cm = confusion_matrix(y_test, RF_predictions)\n",
        "# Create a DataFrame with the labelled classes\n",
        "RF_cm_df = pd.DataFrame(\n",
        "    RF_cm, index=['Actual Not Positive', 'Actual Positive'], columns=['Predicted Not Positive', 'Predicted Positive']\n",
        ")\n",
        "# Set target names for the classification report\n",
        "RF_target_names = ['Not Positive', 'Positive']\n",
        "# Compute the accuracy score\n",
        "RF_acc_score = accuracy_score(y_test, RF_predictions)\n",
        "# Compute the balanced accuracy score\n",
        "RF_bal_acc_score = balanced_accuracy_score(y_test, RF_predictions)\n",
        "# Predict class probabilities for the features \n",
        "RF_probs = RF_model.predict_proba(X_test)[:,1]\n",
        "# Compute precision-recall pairs\n",
        "RF_precision, RF_recall, _ = precision_recall_curve(y_test, RF_probs, pos_label=1)\n",
        "# Compute the AUPRC - the area under the curve\n",
        "RF_auprc_score = roc_auc_score(y_test, RF_probs)\n",
        "# Compute the Matthews correlation coefficient (MCC)\n",
        "RF_MCC_score = matthews_corrcoef(y_test, RF_predictions)\n",
        "# Compute the Jaccard similarity coefficent score\n",
        "RF_J_score = jaccard_score(y_test, RF_predictions)\n",
        "# Compute the average Hamming loss\n",
        "RF_H_loss = hamming_loss(y_test, RF_predictions)\n",
        "\n",
        "# Plotting the confusion matrix and saving the figure\n",
        "RF_disp = ConfusionMatrixDisplay(confusion_matrix=RF_cm, display_labels=RF_target_names)\n",
        "RF_disp.plot().savefig('/content/drive/MyDrive/Colab Notebooks/RF_confusion_matrix.png')\n",
        "# plt.show()\n",
        "# plt.savefig('/content/drive/MyDrive/Colab Notebooks/RF_confusion_matrix.png')"
      ],
      "execution_count": null,
      "outputs": []
    },
    {
      "cell_type": "code",
      "metadata": {
        "id": "ttrOdCqKU_TX"
      },
      "source": [
        "print(\"Accuracy Score:\", round(RF_acc_score, ndigits=3))\n",
        "print(\"Balanced Accuracy Score:\", round(RF_bal_acc_score, ndigits=3))\n",
        "print(\"Matthews correlation coefficient score:\", round(RF_MCC_score, ndigits=3))\n",
        "print(\"Jaccard similarity coefficient score:\", round(RF_J_score, ndigits=3))\n",
        "print(\"Average Hamming Loss:\", round(RF_H_loss, ndigits=3))\n",
        "print(\"Classification Report:\")\n",
        "print(classification_report(y_test, RF_predictions, target_names=RF_target_names))\n",
        "print(\"Confusion Matrix:\")\n",
        "display(RF_cm_df)\n",
        "print(\"Precision-Recall Curve\")\n",
        "print(\"Area Under the Curve:\", round(RF_auprc_score, ndigits=3))\n",
        "plt.plot(RF_recall, RF_precision, marker='x')\n",
        "plt.savefig('/content/drive/MyDrive/Colab Notebooks/RF_PR_Curve.png')"
      ],
      "execution_count": null,
      "outputs": []
    },
    {
      "cell_type": "markdown",
      "metadata": {
        "id": "9wBlKfGn7ewX"
      },
      "source": [
        "## Save Random Forest Model"
      ]
    },
    {
      "cell_type": "code",
      "metadata": {
        "id": "4-eiG6WL7Yyy"
      },
      "source": [
        "# Save the model once satisfied with results\n",
        "# from joblib import dump, load\n",
        "# dump(RF_model, 'RandomForest_model.joblib') \n",
        "\n",
        "# Load saved model to use on other datasets\n",
        "# RF_model = load('RandomForest_model.joblib') \n"
      ],
      "execution_count": null,
      "outputs": []
    }
  ]
}