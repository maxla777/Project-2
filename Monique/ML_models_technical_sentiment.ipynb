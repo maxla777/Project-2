{
  "nbformat": 4,
  "nbformat_minor": 0,
  "metadata": {
    "colab": {
      "name": "ML_models_technical_sentiment.ipynb",
      "provenance": [],
      "collapsed_sections": []
    },
    "kernelspec": {
      "name": "python3",
      "display_name": "Python 3"
    }
  },
  "cells": [
    {
      "cell_type": "markdown",
      "metadata": {
        "id": "view-in-github"
      },
      "source": [
        "<a href=\"https://colab.research.google.com/github/maxla777/Project-2/blob/Monique/Monique/ML_models.ipynb\" target=\"_parent\"><img src=\"https://colab.research.google.com/assets/colab-badge.svg\" alt=\"Open In Colab\"/></a>"
      ]
    },
    {
      "cell_type": "code",
      "metadata": {
        "id": "znboOVVmH1OV",
        "colab": {
          "base_uri": "https://localhost:8080/"
        },
        "outputId": "631007fc-b341-4bf9-ca06-bd91578ff4a1"
      },
      "source": [
        "# Mount Google Drive with Colab Notebook\n",
        "from google.colab import drive\n",
        "drive.mount('/content/drive')"
      ],
      "execution_count": 1,
      "outputs": [
        {
          "output_type": "stream",
          "text": [
            "Drive already mounted at /content/drive; to attempt to forcibly remount, call drive.mount(\"/content/drive\", force_remount=True).\n"
          ],
          "name": "stdout"
        }
      ]
    },
    {
      "cell_type": "code",
      "metadata": {
        "id": "FwjCBgPjmMxA"
      },
      "source": [
        "# Import the needed libraries\n",
        "import pandas as pd\n",
        "import numpy as np\n",
        "from pathlib import Path\n",
        "import matplotlib.pyplot as plt\n",
        "%matplotlib inline"
      ],
      "execution_count": 2,
      "outputs": []
    },
    {
      "cell_type": "code",
      "metadata": {
        "id": "7vYZocaqoLuu"
      },
      "source": [
        "# Import to scale the data\n",
        "from sklearn.preprocessing import StandardScaler\n",
        "\n",
        "# Imports for the AdaBoost Classifier\n",
        "from sklearn.ensemble import AdaBoostClassifier\n",
        "from sklearn.tree import DecisionTreeClassifier\n",
        "\n",
        "# Import Random Forest Classifier\n",
        "from sklearn.ensemble import RandomForestClassifier\n",
        "\n",
        "# Imports for evaluation metrics\n",
        "from sklearn.metrics import confusion_matrix, ConfusionMatrixDisplay, balanced_accuracy_score, accuracy_score, classification_report, precision_recall_curve, roc_auc_score, hamming_loss, jaccard_score, matthews_corrcoef"
      ],
      "execution_count": 3,
      "outputs": []
    },
    {
      "cell_type": "markdown",
      "metadata": {
        "id": "FhQZZjrIXlez"
      },
      "source": [
        "# Data Preparation"
      ]
    },
    {
      "cell_type": "code",
      "metadata": {
        "colab": {
          "base_uri": "https://localhost:8080/",
          "height": 235
        },
        "id": "28bSNabN_rmS",
        "outputId": "f7409aaf-f633-4c00-b512-5e3ac5a98807"
      },
      "source": [
        "# Load the sentiment signals data and check the data\n",
        "# Set the file path\n",
        "csv_path = Path('/content/drive/MyDrive/Colab Notebooks/ETH_bull_bear_signals.csv')\n",
        "# Read the data\n",
        "df_crypto_news=pd.read_csv(csv_path)\n",
        "# Set the date column as the index\n",
        "df_crypto_news.set_index(pd.to_datetime(df_crypto_news['date'], infer_datetime_format=True), inplace=True)\n",
        "# Drop the date column since the date is now the index\n",
        "df_crypto_news.drop(columns=['date'], inplace=True)\n",
        "# Display the DataFrame - first few rows\n",
        "df_crypto_news.head()"
      ],
      "execution_count": 4,
      "outputs": [
        {
          "output_type": "execute_result",
          "data": {
            "text/html": [
              "<div>\n",
              "<style scoped>\n",
              "    .dataframe tbody tr th:only-of-type {\n",
              "        vertical-align: middle;\n",
              "    }\n",
              "\n",
              "    .dataframe tbody tr th {\n",
              "        vertical-align: top;\n",
              "    }\n",
              "\n",
              "    .dataframe thead th {\n",
              "        text-align: right;\n",
              "    }\n",
              "</style>\n",
              "<table border=\"1\" class=\"dataframe\">\n",
              "  <thead>\n",
              "    <tr style=\"text-align: right;\">\n",
              "      <th></th>\n",
              "      <th>signal</th>\n",
              "    </tr>\n",
              "    <tr>\n",
              "      <th>date</th>\n",
              "      <th></th>\n",
              "    </tr>\n",
              "  </thead>\n",
              "  <tbody>\n",
              "    <tr>\n",
              "      <th>2020-12-01</th>\n",
              "      <td>1.0</td>\n",
              "    </tr>\n",
              "    <tr>\n",
              "      <th>2020-12-02</th>\n",
              "      <td>0.0</td>\n",
              "    </tr>\n",
              "    <tr>\n",
              "      <th>2020-12-03</th>\n",
              "      <td>0.0</td>\n",
              "    </tr>\n",
              "    <tr>\n",
              "      <th>2020-12-04</th>\n",
              "      <td>1.0</td>\n",
              "    </tr>\n",
              "    <tr>\n",
              "      <th>2020-12-05</th>\n",
              "      <td>0.0</td>\n",
              "    </tr>\n",
              "  </tbody>\n",
              "</table>\n",
              "</div>"
            ],
            "text/plain": [
              "            signal\n",
              "date              \n",
              "2020-12-01     1.0\n",
              "2020-12-02     0.0\n",
              "2020-12-03     0.0\n",
              "2020-12-04     1.0\n",
              "2020-12-05     0.0"
            ]
          },
          "metadata": {
            "tags": []
          },
          "execution_count": 4
        }
      ]
    },
    {
      "cell_type": "code",
      "metadata": {
        "colab": {
          "base_uri": "https://localhost:8080/",
          "height": 235
        },
        "id": "9Z4Zv02TBbZm",
        "outputId": "0a1bffdb-3667-4964-9634-32b44910630d"
      },
      "source": [
        "# Display the DataFrame - last few rows\n",
        "df_crypto_news.tail()"
      ],
      "execution_count": 5,
      "outputs": [
        {
          "output_type": "execute_result",
          "data": {
            "text/html": [
              "<div>\n",
              "<style scoped>\n",
              "    .dataframe tbody tr th:only-of-type {\n",
              "        vertical-align: middle;\n",
              "    }\n",
              "\n",
              "    .dataframe tbody tr th {\n",
              "        vertical-align: top;\n",
              "    }\n",
              "\n",
              "    .dataframe thead th {\n",
              "        text-align: right;\n",
              "    }\n",
              "</style>\n",
              "<table border=\"1\" class=\"dataframe\">\n",
              "  <thead>\n",
              "    <tr style=\"text-align: right;\">\n",
              "      <th></th>\n",
              "      <th>signal</th>\n",
              "    </tr>\n",
              "    <tr>\n",
              "      <th>date</th>\n",
              "      <th></th>\n",
              "    </tr>\n",
              "  </thead>\n",
              "  <tbody>\n",
              "    <tr>\n",
              "      <th>2021-03-17</th>\n",
              "      <td>0.0</td>\n",
              "    </tr>\n",
              "    <tr>\n",
              "      <th>2021-03-18</th>\n",
              "      <td>0.0</td>\n",
              "    </tr>\n",
              "    <tr>\n",
              "      <th>2021-03-19</th>\n",
              "      <td>0.0</td>\n",
              "    </tr>\n",
              "    <tr>\n",
              "      <th>2021-03-20</th>\n",
              "      <td>-1.0</td>\n",
              "    </tr>\n",
              "    <tr>\n",
              "      <th>2021-03-21</th>\n",
              "      <td>-1.0</td>\n",
              "    </tr>\n",
              "  </tbody>\n",
              "</table>\n",
              "</div>"
            ],
            "text/plain": [
              "            signal\n",
              "date              \n",
              "2021-03-17     0.0\n",
              "2021-03-18     0.0\n",
              "2021-03-19     0.0\n",
              "2021-03-20    -1.0\n",
              "2021-03-21    -1.0"
            ]
          },
          "metadata": {
            "tags": []
          },
          "execution_count": 5
        }
      ]
    },
    {
      "cell_type": "code",
      "metadata": {
        "colab": {
          "base_uri": "https://localhost:8080/",
          "height": 235
        },
        "id": "U0jCV9xHB1dO",
        "outputId": "74bbe06c-649f-498d-f0a9-3114512ba04e"
      },
      "source": [
        "# Load the technical signals data and check the data\n",
        "# Set the file path\n",
        "csv_path = Path('/content/drive/MyDrive/Colab Notebooks/kraken_pull_EthExample_03212021.csv')\n",
        "# Read the data\n",
        "df_eth_returns=pd.read_csv(csv_path)\n",
        "# Set the Date column as the index\n",
        "df_eth_returns.set_index(pd.to_datetime(df_eth_returns['Date'], infer_datetime_format=True), inplace=True)\n",
        "# Drop the Date column since it is now the index\n",
        "df_eth_returns.drop(columns=['Date'], inplace=True)\n",
        "# Copy the crossover signal, volume trend signal, bollinger signal, RSI signal, and Positive Return columns\n",
        "df_eth_returns = df_eth_returns[['crossover_signal', 'vol_trend_signal', 'bollinger_signal', 'RSI_signal','Positive Return']].copy()\n",
        "# Add in the sentiment signal to the DataFrame\n",
        "df_eth_returns['sentiment_signal'] = df_crypto_news[['signal']].copy()\n",
        "# Display the DataFrame - first few rows\n",
        "df_eth_returns.head()"
      ],
      "execution_count": 6,
      "outputs": [
        {
          "output_type": "execute_result",
          "data": {
            "text/html": [
              "<div>\n",
              "<style scoped>\n",
              "    .dataframe tbody tr th:only-of-type {\n",
              "        vertical-align: middle;\n",
              "    }\n",
              "\n",
              "    .dataframe tbody tr th {\n",
              "        vertical-align: top;\n",
              "    }\n",
              "\n",
              "    .dataframe thead th {\n",
              "        text-align: right;\n",
              "    }\n",
              "</style>\n",
              "<table border=\"1\" class=\"dataframe\">\n",
              "  <thead>\n",
              "    <tr style=\"text-align: right;\">\n",
              "      <th></th>\n",
              "      <th>crossover_signal</th>\n",
              "      <th>vol_trend_signal</th>\n",
              "      <th>bollinger_signal</th>\n",
              "      <th>RSI_signal</th>\n",
              "      <th>Positive Return</th>\n",
              "      <th>sentiment_signal</th>\n",
              "    </tr>\n",
              "    <tr>\n",
              "      <th>Date</th>\n",
              "      <th></th>\n",
              "      <th></th>\n",
              "      <th></th>\n",
              "      <th></th>\n",
              "      <th></th>\n",
              "      <th></th>\n",
              "    </tr>\n",
              "  </thead>\n",
              "  <tbody>\n",
              "    <tr>\n",
              "      <th>2020-11-12</th>\n",
              "      <td>1.0</td>\n",
              "      <td>1.0</td>\n",
              "      <td>0.0</td>\n",
              "      <td>0.0</td>\n",
              "      <td>0.0</td>\n",
              "      <td>NaN</td>\n",
              "    </tr>\n",
              "    <tr>\n",
              "      <th>2020-11-13</th>\n",
              "      <td>1.0</td>\n",
              "      <td>1.0</td>\n",
              "      <td>0.0</td>\n",
              "      <td>0.0</td>\n",
              "      <td>1.0</td>\n",
              "      <td>NaN</td>\n",
              "    </tr>\n",
              "    <tr>\n",
              "      <th>2020-11-14</th>\n",
              "      <td>1.0</td>\n",
              "      <td>1.0</td>\n",
              "      <td>0.0</td>\n",
              "      <td>0.0</td>\n",
              "      <td>0.0</td>\n",
              "      <td>NaN</td>\n",
              "    </tr>\n",
              "    <tr>\n",
              "      <th>2020-11-15</th>\n",
              "      <td>1.0</td>\n",
              "      <td>-1.0</td>\n",
              "      <td>0.0</td>\n",
              "      <td>0.0</td>\n",
              "      <td>0.0</td>\n",
              "      <td>NaN</td>\n",
              "    </tr>\n",
              "    <tr>\n",
              "      <th>2020-11-16</th>\n",
              "      <td>1.0</td>\n",
              "      <td>1.0</td>\n",
              "      <td>0.0</td>\n",
              "      <td>0.0</td>\n",
              "      <td>1.0</td>\n",
              "      <td>NaN</td>\n",
              "    </tr>\n",
              "  </tbody>\n",
              "</table>\n",
              "</div>"
            ],
            "text/plain": [
              "            crossover_signal  ...  sentiment_signal\n",
              "Date                          ...                  \n",
              "2020-11-12               1.0  ...               NaN\n",
              "2020-11-13               1.0  ...               NaN\n",
              "2020-11-14               1.0  ...               NaN\n",
              "2020-11-15               1.0  ...               NaN\n",
              "2020-11-16               1.0  ...               NaN\n",
              "\n",
              "[5 rows x 6 columns]"
            ]
          },
          "metadata": {
            "tags": []
          },
          "execution_count": 6
        }
      ]
    },
    {
      "cell_type": "code",
      "metadata": {
        "colab": {
          "base_uri": "https://localhost:8080/",
          "height": 235
        },
        "id": "UUqbtytlDHih",
        "outputId": "621d839e-fd72-4c0a-9dfe-18b709dae1f6"
      },
      "source": [
        "# Display the DataFrame - last few rows\n",
        "df_eth_returns.tail()"
      ],
      "execution_count": 7,
      "outputs": [
        {
          "output_type": "execute_result",
          "data": {
            "text/html": [
              "<div>\n",
              "<style scoped>\n",
              "    .dataframe tbody tr th:only-of-type {\n",
              "        vertical-align: middle;\n",
              "    }\n",
              "\n",
              "    .dataframe tbody tr th {\n",
              "        vertical-align: top;\n",
              "    }\n",
              "\n",
              "    .dataframe thead th {\n",
              "        text-align: right;\n",
              "    }\n",
              "</style>\n",
              "<table border=\"1\" class=\"dataframe\">\n",
              "  <thead>\n",
              "    <tr style=\"text-align: right;\">\n",
              "      <th></th>\n",
              "      <th>crossover_signal</th>\n",
              "      <th>vol_trend_signal</th>\n",
              "      <th>bollinger_signal</th>\n",
              "      <th>RSI_signal</th>\n",
              "      <th>Positive Return</th>\n",
              "      <th>sentiment_signal</th>\n",
              "    </tr>\n",
              "    <tr>\n",
              "      <th>Date</th>\n",
              "      <th></th>\n",
              "      <th></th>\n",
              "      <th></th>\n",
              "      <th></th>\n",
              "      <th></th>\n",
              "      <th></th>\n",
              "    </tr>\n",
              "  </thead>\n",
              "  <tbody>\n",
              "    <tr>\n",
              "      <th>2021-03-18</th>\n",
              "      <td>1.0</td>\n",
              "      <td>1.0</td>\n",
              "      <td>0.0</td>\n",
              "      <td>0.0</td>\n",
              "      <td>0.0</td>\n",
              "      <td>0.0</td>\n",
              "    </tr>\n",
              "    <tr>\n",
              "      <th>2021-03-19</th>\n",
              "      <td>1.0</td>\n",
              "      <td>1.0</td>\n",
              "      <td>0.0</td>\n",
              "      <td>0.0</td>\n",
              "      <td>1.0</td>\n",
              "      <td>0.0</td>\n",
              "    </tr>\n",
              "    <tr>\n",
              "      <th>2021-03-20</th>\n",
              "      <td>1.0</td>\n",
              "      <td>1.0</td>\n",
              "      <td>0.0</td>\n",
              "      <td>0.0</td>\n",
              "      <td>0.0</td>\n",
              "      <td>-1.0</td>\n",
              "    </tr>\n",
              "    <tr>\n",
              "      <th>2021-03-21</th>\n",
              "      <td>1.0</td>\n",
              "      <td>1.0</td>\n",
              "      <td>0.0</td>\n",
              "      <td>0.0</td>\n",
              "      <td>0.0</td>\n",
              "      <td>-1.0</td>\n",
              "    </tr>\n",
              "    <tr>\n",
              "      <th>2021-03-22</th>\n",
              "      <td>1.0</td>\n",
              "      <td>1.0</td>\n",
              "      <td>0.0</td>\n",
              "      <td>0.0</td>\n",
              "      <td>0.0</td>\n",
              "      <td>NaN</td>\n",
              "    </tr>\n",
              "  </tbody>\n",
              "</table>\n",
              "</div>"
            ],
            "text/plain": [
              "            crossover_signal  ...  sentiment_signal\n",
              "Date                          ...                  \n",
              "2021-03-18               1.0  ...               0.0\n",
              "2021-03-19               1.0  ...               0.0\n",
              "2021-03-20               1.0  ...              -1.0\n",
              "2021-03-21               1.0  ...              -1.0\n",
              "2021-03-22               1.0  ...               NaN\n",
              "\n",
              "[5 rows x 6 columns]"
            ]
          },
          "metadata": {
            "tags": []
          },
          "execution_count": 7
        }
      ]
    },
    {
      "cell_type": "code",
      "metadata": {
        "colab": {
          "base_uri": "https://localhost:8080/",
          "height": 235
        },
        "id": "tN37lZErff4-",
        "outputId": "4557106e-4661-4700-f746-5a41e64fce6c"
      },
      "source": [
        "# Drop the NAs\n",
        "df_eth_returns.dropna(inplace=True)\n",
        "# df_eth_returns.isna().sum()\n",
        "# df_eth_returns.head() # Check the first few rows\n",
        "df_eth_returns.tail() # Check the last few rows"
      ],
      "execution_count": 8,
      "outputs": [
        {
          "output_type": "execute_result",
          "data": {
            "text/html": [
              "<div>\n",
              "<style scoped>\n",
              "    .dataframe tbody tr th:only-of-type {\n",
              "        vertical-align: middle;\n",
              "    }\n",
              "\n",
              "    .dataframe tbody tr th {\n",
              "        vertical-align: top;\n",
              "    }\n",
              "\n",
              "    .dataframe thead th {\n",
              "        text-align: right;\n",
              "    }\n",
              "</style>\n",
              "<table border=\"1\" class=\"dataframe\">\n",
              "  <thead>\n",
              "    <tr style=\"text-align: right;\">\n",
              "      <th></th>\n",
              "      <th>crossover_signal</th>\n",
              "      <th>vol_trend_signal</th>\n",
              "      <th>bollinger_signal</th>\n",
              "      <th>RSI_signal</th>\n",
              "      <th>Positive Return</th>\n",
              "      <th>sentiment_signal</th>\n",
              "    </tr>\n",
              "    <tr>\n",
              "      <th>Date</th>\n",
              "      <th></th>\n",
              "      <th></th>\n",
              "      <th></th>\n",
              "      <th></th>\n",
              "      <th></th>\n",
              "      <th></th>\n",
              "    </tr>\n",
              "  </thead>\n",
              "  <tbody>\n",
              "    <tr>\n",
              "      <th>2021-03-17</th>\n",
              "      <td>1.0</td>\n",
              "      <td>1.0</td>\n",
              "      <td>0.0</td>\n",
              "      <td>0.0</td>\n",
              "      <td>1.0</td>\n",
              "      <td>0.0</td>\n",
              "    </tr>\n",
              "    <tr>\n",
              "      <th>2021-03-18</th>\n",
              "      <td>1.0</td>\n",
              "      <td>1.0</td>\n",
              "      <td>0.0</td>\n",
              "      <td>0.0</td>\n",
              "      <td>0.0</td>\n",
              "      <td>0.0</td>\n",
              "    </tr>\n",
              "    <tr>\n",
              "      <th>2021-03-19</th>\n",
              "      <td>1.0</td>\n",
              "      <td>1.0</td>\n",
              "      <td>0.0</td>\n",
              "      <td>0.0</td>\n",
              "      <td>1.0</td>\n",
              "      <td>0.0</td>\n",
              "    </tr>\n",
              "    <tr>\n",
              "      <th>2021-03-20</th>\n",
              "      <td>1.0</td>\n",
              "      <td>1.0</td>\n",
              "      <td>0.0</td>\n",
              "      <td>0.0</td>\n",
              "      <td>0.0</td>\n",
              "      <td>-1.0</td>\n",
              "    </tr>\n",
              "    <tr>\n",
              "      <th>2021-03-21</th>\n",
              "      <td>1.0</td>\n",
              "      <td>1.0</td>\n",
              "      <td>0.0</td>\n",
              "      <td>0.0</td>\n",
              "      <td>0.0</td>\n",
              "      <td>-1.0</td>\n",
              "    </tr>\n",
              "  </tbody>\n",
              "</table>\n",
              "</div>"
            ],
            "text/plain": [
              "            crossover_signal  ...  sentiment_signal\n",
              "Date                          ...                  \n",
              "2021-03-17               1.0  ...               0.0\n",
              "2021-03-18               1.0  ...               0.0\n",
              "2021-03-19               1.0  ...               0.0\n",
              "2021-03-20               1.0  ...              -1.0\n",
              "2021-03-21               1.0  ...              -1.0\n",
              "\n",
              "[5 rows x 6 columns]"
            ]
          },
          "metadata": {
            "tags": []
          },
          "execution_count": 8
        }
      ]
    },
    {
      "cell_type": "code",
      "metadata": {
        "id": "g1dgJDiijHt0",
        "colab": {
          "base_uri": "https://localhost:8080/"
        },
        "outputId": "0a3deac0-5611-410a-d854-309b7be671dc"
      },
      "source": [
        "# Set x variable list of features\n",
        "x_var_list = ['crossover_signal', 'vol_trend_signal', 'bollinger_signal', 'RSI_signal','sentiment_signal']\n",
        "\n",
        "# Construct training start and end dates\n",
        "training_start = df_eth_returns.index.min().strftime(format= '%Y-%m-%d')\n",
        "training_end = '2021-02-16'\n",
        "\n",
        "# Construct testing start and end dates\n",
        "testing_start =  '2021-02-17'\n",
        "testing_end = df_eth_returns.index.max().strftime(format= '%Y-%m-%d')\n",
        "\n",
        "# Construct the X_train and y_train datasets\n",
        "X_train = df_eth_returns[x_var_list][training_start:training_end]\n",
        "y_train = df_eth_returns['Positive Return'][training_start:training_end]\n",
        "\n",
        "# Construct the X test and y test datasets\n",
        "X_test = df_eth_returns[x_var_list][testing_start:testing_end]\n",
        "y_test = df_eth_returns['Positive Return'][testing_start:testing_end]\n",
        "\n",
        "# Print training and testing start/end dates\n",
        "print(f\"Training Start: {training_start}\")\n",
        "print(f\"Training End: {training_end}\")\n",
        "print(f\"Testing Start: {testing_start}\")\n",
        "print(f\"Testing End: {testing_end}\")"
      ],
      "execution_count": 9,
      "outputs": [
        {
          "output_type": "stream",
          "text": [
            "Training Start: 2020-12-01\n",
            "Training End: 2021-02-16\n",
            "Testing Start: 2021-02-17\n",
            "Testing End: 2021-03-21\n"
          ],
          "name": "stdout"
        }
      ]
    },
    {
      "cell_type": "code",
      "metadata": {
        "id": "yhOlcEedqsiq"
      },
      "source": [
        "#Create the StandardScaler instance\n",
        "scaler = StandardScaler()"
      ],
      "execution_count": 10,
      "outputs": []
    },
    {
      "cell_type": "code",
      "metadata": {
        "id": "ZpSXpsbDqz4C"
      },
      "source": [
        "# Fit the Standard Scaler with the training data\n",
        "X_scaler = scaler.fit(X_train)"
      ],
      "execution_count": 11,
      "outputs": []
    },
    {
      "cell_type": "code",
      "metadata": {
        "id": "Pu9QmrSAq38x"
      },
      "source": [
        "# Scale the training and testing data\n",
        "X_train_scaled = X_scaler.transform(X_train)\n",
        "X_test_scaled = X_scaler.transform(X_test)"
      ],
      "execution_count": 12,
      "outputs": []
    },
    {
      "cell_type": "markdown",
      "metadata": {
        "id": "YIsrsV5mp-Qr"
      },
      "source": [
        "# Evaluation Metrics Functions"
      ]
    },
    {
      "cell_type": "code",
      "metadata": {
        "id": "sPYNg31NqEhT"
      },
      "source": [
        "# Create function to calculate and display the confusion matrix\n",
        "def get_confusion_matrix(y_test, predictions):\n",
        "  cm = confusion_matrix(y_test, predictions) # calculate the confusion matrix\n",
        "  # Create a DataFrame for the confusion matrix\n",
        "  cm_df = pd.DataFrame(\n",
        "      cm, index=['Actual Not Positive', 'Actual Positive'],\n",
        "      columns=['Predicted Not Positive', 'Predicted Positive']\n",
        "  )\n",
        "  # Print a header for the confusion matrix\n",
        "  print(\"Confusion Matrix\")\n",
        "  # Display the confusion matrix\n",
        "  display(cm_df)"
      ],
      "execution_count": 13,
      "outputs": []
    },
    {
      "cell_type": "code",
      "metadata": {
        "id": "hF3ZB093qGwM"
      },
      "source": [
        "# Create a function to calculate and display the evaluation metrics\n",
        "def get_scores(X_test, y_test, predictions, model):\n",
        "  # Calculate the accuracy score\n",
        "  acc_score = accuracy_score(y_test, predictions)\n",
        "  # Calculate the balanced accuracy score\n",
        "  bal_acc_score = balanced_accuracy_score(y_test, predictions)\n",
        "  # Predict the class probabilities\n",
        "  probs = model.predict_proba(X_test)[:,1]\n",
        "  # Calculate the precision-recall pairs\n",
        "  precision, recall, _ = precision_recall_curve(y_test, probs, pos_label=1)\n",
        "  # Calculate the area under the curve AUPRC\n",
        "  auprc_score = roc_auc_score(y_test, probs)\n",
        "  # Calculate the Matthews correlation coefficient MCC\n",
        "  MCC_score = matthews_corrcoef(y_test, predictions)\n",
        "  # Calculate the Jaccard similarity coefficient\n",
        "  J_score = jaccard_score(y_test, predictions)\n",
        "  # Calculate the average Hamming loss\n",
        "  H_loss = hamming_loss(y_test, predictions)\n",
        "  # Create a DataFrame for the accuracy, balanced accuracy, MCC, Jaccard, and average Hamming loss scores\n",
        "  scores_df = pd.DataFrame(\n",
        "      [acc_score, bal_acc_score, MCC_score, J_score, H_loss], \n",
        "      index=['Accuray', 'Balanced Accuracy', 'Matthews Correlation Coefficient', 'Jaccard Similarity Coefficient', 'Average Hamming Loss'],\n",
        "      columns=['Scores']\n",
        "  )\n",
        "  # Create a classification report\n",
        "  class_report = classification_report(y_test, predictions, target_names= ['Not Positive', 'Positive'])\n",
        "  # Set up to plot the precision-recall curve\n",
        "  plt.plot(recall, precision, marker='o')\n",
        "  # Display the scores DataFrame\n",
        "  display(scores_df)\n",
        "  # Print the classification report\n",
        "  print('Classification Report:')\n",
        "  print(class_report)\n",
        "  # Print the precision-recall curve header\n",
        "  print('Precision-Recall Curve')\n",
        "  # Print the area under the curve score\n",
        "  print('Area Under the Curve:', auprc_score)\n",
        "  # Show the precision-recall curve plot\n",
        "  plt.show()"
      ],
      "execution_count": 14,
      "outputs": []
    },
    {
      "cell_type": "markdown",
      "metadata": {
        "id": "PaTitxthU7yh"
      },
      "source": [
        "# AdaBoost"
      ]
    },
    {
      "cell_type": "code",
      "metadata": {
        "id": "Uqhr3xDSVcef",
        "colab": {
          "base_uri": "https://localhost:8080/",
          "height": 1000
        },
        "outputId": "ae460621-3a9f-46e4-ff0d-c987751c2727"
      },
      "source": [
        "# Fit a SKLearn linear regression using the training set (X_train, y_train):\n",
        "AB_model = AdaBoostClassifier(\n",
        "    DecisionTreeClassifier(max_depth=2),\n",
        "    n_estimators=100,\n",
        "    learning_rate=1,\n",
        "    random_state=0\n",
        ")\n",
        "AB_model.fit(X_train, y_train)\n",
        "\n",
        "# Make a prediction of \"y\" values from the X_test dataset\n",
        "AB_predictions = AB_model.predict(X_test)\n",
        "\n",
        "# Assemble actual y data (y_test) with predicted y data (from just above) into two columns in a dataframe:\n",
        "Results = y_test.to_frame()\n",
        "Results[\"Predicted Value\"] = AB_predictions\n",
        "Results"
      ],
      "execution_count": 15,
      "outputs": [
        {
          "output_type": "execute_result",
          "data": {
            "text/html": [
              "<div>\n",
              "<style scoped>\n",
              "    .dataframe tbody tr th:only-of-type {\n",
              "        vertical-align: middle;\n",
              "    }\n",
              "\n",
              "    .dataframe tbody tr th {\n",
              "        vertical-align: top;\n",
              "    }\n",
              "\n",
              "    .dataframe thead th {\n",
              "        text-align: right;\n",
              "    }\n",
              "</style>\n",
              "<table border=\"1\" class=\"dataframe\">\n",
              "  <thead>\n",
              "    <tr style=\"text-align: right;\">\n",
              "      <th></th>\n",
              "      <th>Positive Return</th>\n",
              "      <th>Predicted Value</th>\n",
              "    </tr>\n",
              "    <tr>\n",
              "      <th>Date</th>\n",
              "      <th></th>\n",
              "      <th></th>\n",
              "    </tr>\n",
              "  </thead>\n",
              "  <tbody>\n",
              "    <tr>\n",
              "      <th>2021-02-17</th>\n",
              "      <td>1.0</td>\n",
              "      <td>1.0</td>\n",
              "    </tr>\n",
              "    <tr>\n",
              "      <th>2021-02-18</th>\n",
              "      <td>1.0</td>\n",
              "      <td>1.0</td>\n",
              "    </tr>\n",
              "    <tr>\n",
              "      <th>2021-02-19</th>\n",
              "      <td>1.0</td>\n",
              "      <td>0.0</td>\n",
              "    </tr>\n",
              "    <tr>\n",
              "      <th>2021-02-20</th>\n",
              "      <td>0.0</td>\n",
              "      <td>0.0</td>\n",
              "    </tr>\n",
              "    <tr>\n",
              "      <th>2021-02-21</th>\n",
              "      <td>1.0</td>\n",
              "      <td>1.0</td>\n",
              "    </tr>\n",
              "    <tr>\n",
              "      <th>2021-02-22</th>\n",
              "      <td>0.0</td>\n",
              "      <td>1.0</td>\n",
              "    </tr>\n",
              "    <tr>\n",
              "      <th>2021-02-23</th>\n",
              "      <td>0.0</td>\n",
              "      <td>1.0</td>\n",
              "    </tr>\n",
              "    <tr>\n",
              "      <th>2021-02-24</th>\n",
              "      <td>1.0</td>\n",
              "      <td>1.0</td>\n",
              "    </tr>\n",
              "    <tr>\n",
              "      <th>2021-02-25</th>\n",
              "      <td>0.0</td>\n",
              "      <td>1.0</td>\n",
              "    </tr>\n",
              "    <tr>\n",
              "      <th>2021-02-26</th>\n",
              "      <td>0.0</td>\n",
              "      <td>1.0</td>\n",
              "    </tr>\n",
              "    <tr>\n",
              "      <th>2021-02-27</th>\n",
              "      <td>1.0</td>\n",
              "      <td>1.0</td>\n",
              "    </tr>\n",
              "    <tr>\n",
              "      <th>2021-02-28</th>\n",
              "      <td>0.0</td>\n",
              "      <td>1.0</td>\n",
              "    </tr>\n",
              "    <tr>\n",
              "      <th>2021-03-01</th>\n",
              "      <td>1.0</td>\n",
              "      <td>1.0</td>\n",
              "    </tr>\n",
              "    <tr>\n",
              "      <th>2021-03-02</th>\n",
              "      <td>0.0</td>\n",
              "      <td>1.0</td>\n",
              "    </tr>\n",
              "    <tr>\n",
              "      <th>2021-03-03</th>\n",
              "      <td>1.0</td>\n",
              "      <td>1.0</td>\n",
              "    </tr>\n",
              "    <tr>\n",
              "      <th>2021-03-04</th>\n",
              "      <td>0.0</td>\n",
              "      <td>1.0</td>\n",
              "    </tr>\n",
              "    <tr>\n",
              "      <th>2021-03-05</th>\n",
              "      <td>0.0</td>\n",
              "      <td>0.0</td>\n",
              "    </tr>\n",
              "    <tr>\n",
              "      <th>2021-03-06</th>\n",
              "      <td>1.0</td>\n",
              "      <td>1.0</td>\n",
              "    </tr>\n",
              "    <tr>\n",
              "      <th>2021-03-07</th>\n",
              "      <td>1.0</td>\n",
              "      <td>0.0</td>\n",
              "    </tr>\n",
              "    <tr>\n",
              "      <th>2021-03-08</th>\n",
              "      <td>1.0</td>\n",
              "      <td>1.0</td>\n",
              "    </tr>\n",
              "    <tr>\n",
              "      <th>2021-03-09</th>\n",
              "      <td>1.0</td>\n",
              "      <td>1.0</td>\n",
              "    </tr>\n",
              "    <tr>\n",
              "      <th>2021-03-10</th>\n",
              "      <td>0.0</td>\n",
              "      <td>1.0</td>\n",
              "    </tr>\n",
              "    <tr>\n",
              "      <th>2021-03-11</th>\n",
              "      <td>1.0</td>\n",
              "      <td>1.0</td>\n",
              "    </tr>\n",
              "    <tr>\n",
              "      <th>2021-03-12</th>\n",
              "      <td>0.0</td>\n",
              "      <td>1.0</td>\n",
              "    </tr>\n",
              "    <tr>\n",
              "      <th>2021-03-13</th>\n",
              "      <td>1.0</td>\n",
              "      <td>1.0</td>\n",
              "    </tr>\n",
              "    <tr>\n",
              "      <th>2021-03-14</th>\n",
              "      <td>0.0</td>\n",
              "      <td>1.0</td>\n",
              "    </tr>\n",
              "    <tr>\n",
              "      <th>2021-03-15</th>\n",
              "      <td>0.0</td>\n",
              "      <td>1.0</td>\n",
              "    </tr>\n",
              "    <tr>\n",
              "      <th>2021-03-16</th>\n",
              "      <td>1.0</td>\n",
              "      <td>1.0</td>\n",
              "    </tr>\n",
              "    <tr>\n",
              "      <th>2021-03-17</th>\n",
              "      <td>1.0</td>\n",
              "      <td>1.0</td>\n",
              "    </tr>\n",
              "    <tr>\n",
              "      <th>2021-03-18</th>\n",
              "      <td>0.0</td>\n",
              "      <td>1.0</td>\n",
              "    </tr>\n",
              "    <tr>\n",
              "      <th>2021-03-19</th>\n",
              "      <td>1.0</td>\n",
              "      <td>1.0</td>\n",
              "    </tr>\n",
              "    <tr>\n",
              "      <th>2021-03-20</th>\n",
              "      <td>0.0</td>\n",
              "      <td>1.0</td>\n",
              "    </tr>\n",
              "    <tr>\n",
              "      <th>2021-03-21</th>\n",
              "      <td>0.0</td>\n",
              "      <td>1.0</td>\n",
              "    </tr>\n",
              "  </tbody>\n",
              "</table>\n",
              "</div>"
            ],
            "text/plain": [
              "            Positive Return  Predicted Value\n",
              "Date                                        \n",
              "2021-02-17              1.0              1.0\n",
              "2021-02-18              1.0              1.0\n",
              "2021-02-19              1.0              0.0\n",
              "2021-02-20              0.0              0.0\n",
              "2021-02-21              1.0              1.0\n",
              "2021-02-22              0.0              1.0\n",
              "2021-02-23              0.0              1.0\n",
              "2021-02-24              1.0              1.0\n",
              "2021-02-25              0.0              1.0\n",
              "2021-02-26              0.0              1.0\n",
              "2021-02-27              1.0              1.0\n",
              "2021-02-28              0.0              1.0\n",
              "2021-03-01              1.0              1.0\n",
              "2021-03-02              0.0              1.0\n",
              "2021-03-03              1.0              1.0\n",
              "2021-03-04              0.0              1.0\n",
              "2021-03-05              0.0              0.0\n",
              "2021-03-06              1.0              1.0\n",
              "2021-03-07              1.0              0.0\n",
              "2021-03-08              1.0              1.0\n",
              "2021-03-09              1.0              1.0\n",
              "2021-03-10              0.0              1.0\n",
              "2021-03-11              1.0              1.0\n",
              "2021-03-12              0.0              1.0\n",
              "2021-03-13              1.0              1.0\n",
              "2021-03-14              0.0              1.0\n",
              "2021-03-15              0.0              1.0\n",
              "2021-03-16              1.0              1.0\n",
              "2021-03-17              1.0              1.0\n",
              "2021-03-18              0.0              1.0\n",
              "2021-03-19              1.0              1.0\n",
              "2021-03-20              0.0              1.0\n",
              "2021-03-21              0.0              1.0"
            ]
          },
          "metadata": {
            "tags": []
          },
          "execution_count": 15
        }
      ]
    },
    {
      "cell_type": "code",
      "metadata": {
        "colab": {
          "base_uri": "https://localhost:8080/"
        },
        "id": "ez10YLNKjpuS",
        "outputId": "3625ae5e-c9cf-42e1-d59b-54e2883c172c"
      },
      "source": [
        "print(AB_model.get_params()) # looked at parameters and experimented with them to see if they made significant differences"
      ],
      "execution_count": 16,
      "outputs": [
        {
          "output_type": "stream",
          "text": [
            "{'algorithm': 'SAMME.R', 'base_estimator__ccp_alpha': 0.0, 'base_estimator__class_weight': None, 'base_estimator__criterion': 'gini', 'base_estimator__max_depth': 2, 'base_estimator__max_features': None, 'base_estimator__max_leaf_nodes': None, 'base_estimator__min_impurity_decrease': 0.0, 'base_estimator__min_impurity_split': None, 'base_estimator__min_samples_leaf': 1, 'base_estimator__min_samples_split': 2, 'base_estimator__min_weight_fraction_leaf': 0.0, 'base_estimator__presort': 'deprecated', 'base_estimator__random_state': None, 'base_estimator__splitter': 'best', 'base_estimator': DecisionTreeClassifier(ccp_alpha=0.0, class_weight=None, criterion='gini',\n",
            "                       max_depth=2, max_features=None, max_leaf_nodes=None,\n",
            "                       min_impurity_decrease=0.0, min_impurity_split=None,\n",
            "                       min_samples_leaf=1, min_samples_split=2,\n",
            "                       min_weight_fraction_leaf=0.0, presort='deprecated',\n",
            "                       random_state=None, splitter='best'), 'learning_rate': 1, 'n_estimators': 100, 'random_state': 0}\n"
          ],
          "name": "stdout"
        }
      ]
    },
    {
      "cell_type": "code",
      "metadata": {
        "colab": {
          "base_uri": "https://localhost:8080/",
          "height": 640
        },
        "id": "uNJ9j7TLEWps",
        "outputId": "6767d247-0606-4e33-eb2d-350a4c7a8b8a"
      },
      "source": [
        "# Assign results to the AB_Results variable and plot\n",
        "AB_Results = Results[['Positive Return','Predicted Value']].plot(figsize=(20,10))\n",
        "# Save the plot\n",
        "AB_Results.get_figure().savefig('/content/drive/MyDrive/Colab Notebooks/AB_results_combined', bbox_inches=\"tight\")\n",
        "# Display the plot\n",
        "AB_Results.plot(figsize=(20,10))"
      ],
      "execution_count": 17,
      "outputs": [
        {
          "output_type": "execute_result",
          "data": {
            "text/plain": [
              "[]"
            ]
          },
          "metadata": {
            "tags": []
          },
          "execution_count": 17
        },
        {
          "output_type": "display_data",
          "data": {
            "image/png": "[encoded data removed]",
            "text/plain": [
              "<Figure size 1440x720 with 1 Axes>"
            ]
          },
          "metadata": {
            "tags": [],
            "needs_background": "light"
          }
        }
      ]
    },
    {
      "cell_type": "markdown",
      "metadata": {
        "id": "AUr3ujhsJRGZ"
      },
      "source": [
        "## Features"
      ]
    },
    {
      "cell_type": "code",
      "metadata": {
        "colab": {
          "base_uri": "https://localhost:8080/"
        },
        "id": "PakhnpGnSMxe",
        "outputId": "a74ecdc4-540d-40d1-e940-9006865006de"
      },
      "source": [
        "# Look at the feature importances\n",
        "AB_importances = AB_model.feature_importances_\n",
        "\n",
        "AB_importances_sorted = sorted(zip(AB_model.feature_importances_, df_eth_returns[x_var_list].columns), reverse=True)\n",
        "AB_importances_sorted"
      ],
      "execution_count": 18,
      "outputs": [
        {
          "output_type": "execute_result",
          "data": {
            "text/plain": [
              "[(0.40421254866613593, 'sentiment_signal'),\n",
              " (0.2682679330478492, 'bollinger_signal'),\n",
              " (0.22700938145128313, 'RSI_signal'),\n",
              " (0.10051013683473174, 'vol_trend_signal'),\n",
              " (0.0, 'crossover_signal')]"
            ]
          },
          "metadata": {
            "tags": []
          },
          "execution_count": 18
        }
      ]
    },
    {
      "cell_type": "markdown",
      "metadata": {
        "id": "TvhPOPq9JIID"
      },
      "source": [
        "## Metrics"
      ]
    },
    {
      "cell_type": "code",
      "metadata": {
        "colab": {
          "base_uri": "https://localhost:8080/",
          "height": 128
        },
        "id": "zX8lFktLqssK",
        "outputId": "b48ead8a-59a0-492c-8bf9-7862aec76aa9"
      },
      "source": [
        "# Calculate the confusion matrix using the defined function\n",
        "get_confusion_matrix(y_test, AB_predictions)"
      ],
      "execution_count": 19,
      "outputs": [
        {
          "output_type": "stream",
          "text": [
            "Confusion Matrix\n"
          ],
          "name": "stdout"
        },
        {
          "output_type": "display_data",
          "data": {
            "text/html": [
              "<div>\n",
              "<style scoped>\n",
              "    .dataframe tbody tr th:only-of-type {\n",
              "        vertical-align: middle;\n",
              "    }\n",
              "\n",
              "    .dataframe tbody tr th {\n",
              "        vertical-align: top;\n",
              "    }\n",
              "\n",
              "    .dataframe thead th {\n",
              "        text-align: right;\n",
              "    }\n",
              "</style>\n",
              "<table border=\"1\" class=\"dataframe\">\n",
              "  <thead>\n",
              "    <tr style=\"text-align: right;\">\n",
              "      <th></th>\n",
              "      <th>Predicted Not Positive</th>\n",
              "      <th>Predicted Positive</th>\n",
              "    </tr>\n",
              "  </thead>\n",
              "  <tbody>\n",
              "    <tr>\n",
              "      <th>Actual Not Positive</th>\n",
              "      <td>2</td>\n",
              "      <td>14</td>\n",
              "    </tr>\n",
              "    <tr>\n",
              "      <th>Actual Positive</th>\n",
              "      <td>2</td>\n",
              "      <td>15</td>\n",
              "    </tr>\n",
              "  </tbody>\n",
              "</table>\n",
              "</div>"
            ],
            "text/plain": [
              "                     Predicted Not Positive  Predicted Positive\n",
              "Actual Not Positive                       2                  14\n",
              "Actual Positive                           2                  15"
            ]
          },
          "metadata": {
            "tags": []
          }
        }
      ]
    },
    {
      "cell_type": "code",
      "metadata": {
        "colab": {
          "base_uri": "https://localhost:8080/",
          "height": 296
        },
        "id": "AlOxo9vJrsSu",
        "outputId": "273622f1-32d3-443a-8a2b-04105a1dc7cd"
      },
      "source": [
        "# Plotting the confusion matrix and saving the figure\n",
        "AB_disp = ConfusionMatrixDisplay(confusion_matrix=confusion_matrix(y_test, AB_predictions), display_labels=['Not Positive', 'Positive'])\n",
        "AB_disp.plot()\n",
        "# AB_disp.show()\n",
        "# AB_disp.plot().savefig('/content/drive/MyDrive/Colab Notebooks/AB_confusion_matrix.png')"
      ],
      "execution_count": 20,
      "outputs": [
        {
          "output_type": "execute_result",
          "data": {
            "text/plain": [
              "<sklearn.metrics._plot.confusion_matrix.ConfusionMatrixDisplay at 0x7f01b75e8550>"
            ]
          },
          "metadata": {
            "tags": []
          },
          "execution_count": 20
        },
        {
          "output_type": "display_data",
          "data": {
            "image/png": "[encoded data removed]",
            "text/plain": [
              "<Figure size 432x288 with 2 Axes>"
            ]
          },
          "metadata": {
            "tags": [],
            "needs_background": "light"
          }
        }
      ]
    },
    {
      "cell_type": "code",
      "metadata": {
        "colab": {
          "base_uri": "https://localhost:8080/",
          "height": 656
        },
        "id": "JgEseesaq00h",
        "outputId": "cff2a32c-33e3-4947-dcbe-69532daaf07d"
      },
      "source": [
        "# Calculate all the evaluation metrics using the defined score function\n",
        "get_scores(X_test, y_test, AB_predictions, AB_model)"
      ],
      "execution_count": 21,
      "outputs": [
        {
          "output_type": "display_data",
          "data": {
            "text/html": [
              "<div>\n",
              "<style scoped>\n",
              "    .dataframe tbody tr th:only-of-type {\n",
              "        vertical-align: middle;\n",
              "    }\n",
              "\n",
              "    .dataframe tbody tr th {\n",
              "        vertical-align: top;\n",
              "    }\n",
              "\n",
              "    .dataframe thead th {\n",
              "        text-align: right;\n",
              "    }\n",
              "</style>\n",
              "<table border=\"1\" class=\"dataframe\">\n",
              "  <thead>\n",
              "    <tr style=\"text-align: right;\">\n",
              "      <th></th>\n",
              "      <th>Scores</th>\n",
              "    </tr>\n",
              "  </thead>\n",
              "  <tbody>\n",
              "    <tr>\n",
              "      <th>Accuray</th>\n",
              "      <td>0.515152</td>\n",
              "    </tr>\n",
              "    <tr>\n",
              "      <th>Balanced Accuracy</th>\n",
              "      <td>0.503676</td>\n",
              "    </tr>\n",
              "    <tr>\n",
              "      <th>Matthews Correlation Coefficient</th>\n",
              "      <td>0.011259</td>\n",
              "    </tr>\n",
              "    <tr>\n",
              "      <th>Jaccard Similarity Coefficient</th>\n",
              "      <td>0.483871</td>\n",
              "    </tr>\n",
              "    <tr>\n",
              "      <th>Average Hamming Loss</th>\n",
              "      <td>0.484848</td>\n",
              "    </tr>\n",
              "  </tbody>\n",
              "</table>\n",
              "</div>"
            ],
            "text/plain": [
              "                                    Scores\n",
              "Accuray                           0.515152\n",
              "Balanced Accuracy                 0.503676\n",
              "Matthews Correlation Coefficient  0.011259\n",
              "Jaccard Similarity Coefficient    0.483871\n",
              "Average Hamming Loss              0.484848"
            ]
          },
          "metadata": {
            "tags": []
          }
        },
        {
          "output_type": "stream",
          "text": [
            "Classification Report:\n",
            "              precision    recall  f1-score   support\n",
            "\n",
            "Not Positive       0.50      0.12      0.20        16\n",
            "    Positive       0.52      0.88      0.65        17\n",
            "\n",
            "    accuracy                           0.52        33\n",
            "   macro avg       0.51      0.50      0.43        33\n",
            "weighted avg       0.51      0.52      0.43        33\n",
            "\n",
            "Precision-Recall Curve\n",
            "Area Under the Curve: 0.5220588235294118\n"
          ],
          "name": "stdout"
        },
        {
          "output_type": "display_data",
          "data": {
            "image/png": "[encoded data removed]",
            "text/plain": [
              "<Figure size 432x288 with 1 Axes>"
            ]
          },
          "metadata": {
            "tags": [],
            "needs_background": "light"
          }
        }
      ]
    },
    {
      "cell_type": "code",
      "metadata": {
        "id": "6UJiEc3mX9uA",
        "colab": {
          "base_uri": "https://localhost:8080/",
          "height": 265
        },
        "outputId": "a1798262-7424-4057-b25b-ded1967bab4b"
      },
      "source": [
        "# Predict class probabilities for the features \n",
        "# AB_probs = AB_model.predict_proba(X_test)[:,1]\n",
        "# Compute precision-recall pairs\n",
        "# AB_precision, AB_recall, _ = precision_recall_curve(y_test, AB_probs, pos_label=1)\n",
        "# plt.plot(AB_recall, AB_precision, marker='*')\n",
        "# plt.savefig('/content/drive/MyDrive/Colab Notebooks/AB_PR_Curve.png')"
      ],
      "execution_count": 22,
      "outputs": [
        {
          "output_type": "display_data",
          "data": {
            "image/png": "[encoded data removed]",
            "text/plain": [
              "<Figure size 432x288 with 1 Axes>"
            ]
          },
          "metadata": {
            "tags": [],
            "needs_background": "light"
          }
        }
      ]
    },
    {
      "cell_type": "markdown",
      "metadata": {
        "id": "YO38Uo4c7NJO"
      },
      "source": [
        "## Save Model"
      ]
    },
    {
      "cell_type": "code",
      "metadata": {
        "id": "JNPZ7-c63ZXD"
      },
      "source": [
        "# Save the model once satisfied with results\n",
        "# from joblib import dump, load\n",
        "# dump(AB_model, 'AdaBoost_model.joblib') \n",
        "\n",
        "# Load saved model to use on other datasets\n",
        "# AB_model = load('AdaBoost_model.joblib') \n"
      ],
      "execution_count": 23,
      "outputs": []
    },
    {
      "cell_type": "markdown",
      "metadata": {
        "id": "Fzdzw0jyVBC6"
      },
      "source": [
        "# Random Forest"
      ]
    },
    {
      "cell_type": "code",
      "metadata": {
        "id": "pL2vnbw4WGYv",
        "colab": {
          "base_uri": "https://localhost:8080/",
          "height": 1000
        },
        "outputId": "2e260a9d-b87f-4dd1-f263-f968fdf9e77f"
      },
      "source": [
        "# Fit a SKLearn linear regression using just the training set (X_train, y_train):\n",
        "RF_model = RandomForestClassifier(n_estimators=100, \n",
        "                               max_depth=2, # when max_depth = 1, nothing is predicted not positive\n",
        "                               criterion='gini', # gini or entropy, gini is default\n",
        "                               random_state=0)\n",
        "RF_model.fit(X_train, y_train)\n",
        "\n",
        "# Make a prediction of \"y\" values from the X_test dataset\n",
        "RF_predictions = RF_model.predict(X_test)\n",
        "\n",
        "# Assemble actual y data (y_test) with predicted y data (from just above) into two columns in a dataframe:\n",
        "Results = y_test.to_frame()\n",
        "Results[\"Predicted Value\"] = RF_predictions\n",
        "Results"
      ],
      "execution_count": 24,
      "outputs": [
        {
          "output_type": "execute_result",
          "data": {
            "text/html": [
              "<div>\n",
              "<style scoped>\n",
              "    .dataframe tbody tr th:only-of-type {\n",
              "        vertical-align: middle;\n",
              "    }\n",
              "\n",
              "    .dataframe tbody tr th {\n",
              "        vertical-align: top;\n",
              "    }\n",
              "\n",
              "    .dataframe thead th {\n",
              "        text-align: right;\n",
              "    }\n",
              "</style>\n",
              "<table border=\"1\" class=\"dataframe\">\n",
              "  <thead>\n",
              "    <tr style=\"text-align: right;\">\n",
              "      <th></th>\n",
              "      <th>Positive Return</th>\n",
              "      <th>Predicted Value</th>\n",
              "    </tr>\n",
              "    <tr>\n",
              "      <th>Date</th>\n",
              "      <th></th>\n",
              "      <th></th>\n",
              "    </tr>\n",
              "  </thead>\n",
              "  <tbody>\n",
              "    <tr>\n",
              "      <th>2021-02-17</th>\n",
              "      <td>1.0</td>\n",
              "      <td>1.0</td>\n",
              "    </tr>\n",
              "    <tr>\n",
              "      <th>2021-02-18</th>\n",
              "      <td>1.0</td>\n",
              "      <td>1.0</td>\n",
              "    </tr>\n",
              "    <tr>\n",
              "      <th>2021-02-19</th>\n",
              "      <td>1.0</td>\n",
              "      <td>0.0</td>\n",
              "    </tr>\n",
              "    <tr>\n",
              "      <th>2021-02-20</th>\n",
              "      <td>0.0</td>\n",
              "      <td>1.0</td>\n",
              "    </tr>\n",
              "    <tr>\n",
              "      <th>2021-02-21</th>\n",
              "      <td>1.0</td>\n",
              "      <td>1.0</td>\n",
              "    </tr>\n",
              "    <tr>\n",
              "      <th>2021-02-22</th>\n",
              "      <td>0.0</td>\n",
              "      <td>1.0</td>\n",
              "    </tr>\n",
              "    <tr>\n",
              "      <th>2021-02-23</th>\n",
              "      <td>0.0</td>\n",
              "      <td>1.0</td>\n",
              "    </tr>\n",
              "    <tr>\n",
              "      <th>2021-02-24</th>\n",
              "      <td>1.0</td>\n",
              "      <td>1.0</td>\n",
              "    </tr>\n",
              "    <tr>\n",
              "      <th>2021-02-25</th>\n",
              "      <td>0.0</td>\n",
              "      <td>1.0</td>\n",
              "    </tr>\n",
              "    <tr>\n",
              "      <th>2021-02-26</th>\n",
              "      <td>0.0</td>\n",
              "      <td>1.0</td>\n",
              "    </tr>\n",
              "    <tr>\n",
              "      <th>2021-02-27</th>\n",
              "      <td>1.0</td>\n",
              "      <td>1.0</td>\n",
              "    </tr>\n",
              "    <tr>\n",
              "      <th>2021-02-28</th>\n",
              "      <td>0.0</td>\n",
              "      <td>1.0</td>\n",
              "    </tr>\n",
              "    <tr>\n",
              "      <th>2021-03-01</th>\n",
              "      <td>1.0</td>\n",
              "      <td>1.0</td>\n",
              "    </tr>\n",
              "    <tr>\n",
              "      <th>2021-03-02</th>\n",
              "      <td>0.0</td>\n",
              "      <td>1.0</td>\n",
              "    </tr>\n",
              "    <tr>\n",
              "      <th>2021-03-03</th>\n",
              "      <td>1.0</td>\n",
              "      <td>1.0</td>\n",
              "    </tr>\n",
              "    <tr>\n",
              "      <th>2021-03-04</th>\n",
              "      <td>0.0</td>\n",
              "      <td>1.0</td>\n",
              "    </tr>\n",
              "    <tr>\n",
              "      <th>2021-03-05</th>\n",
              "      <td>0.0</td>\n",
              "      <td>0.0</td>\n",
              "    </tr>\n",
              "    <tr>\n",
              "      <th>2021-03-06</th>\n",
              "      <td>1.0</td>\n",
              "      <td>1.0</td>\n",
              "    </tr>\n",
              "    <tr>\n",
              "      <th>2021-03-07</th>\n",
              "      <td>1.0</td>\n",
              "      <td>0.0</td>\n",
              "    </tr>\n",
              "    <tr>\n",
              "      <th>2021-03-08</th>\n",
              "      <td>1.0</td>\n",
              "      <td>1.0</td>\n",
              "    </tr>\n",
              "    <tr>\n",
              "      <th>2021-03-09</th>\n",
              "      <td>1.0</td>\n",
              "      <td>1.0</td>\n",
              "    </tr>\n",
              "    <tr>\n",
              "      <th>2021-03-10</th>\n",
              "      <td>0.0</td>\n",
              "      <td>1.0</td>\n",
              "    </tr>\n",
              "    <tr>\n",
              "      <th>2021-03-11</th>\n",
              "      <td>1.0</td>\n",
              "      <td>1.0</td>\n",
              "    </tr>\n",
              "    <tr>\n",
              "      <th>2021-03-12</th>\n",
              "      <td>0.0</td>\n",
              "      <td>1.0</td>\n",
              "    </tr>\n",
              "    <tr>\n",
              "      <th>2021-03-13</th>\n",
              "      <td>1.0</td>\n",
              "      <td>1.0</td>\n",
              "    </tr>\n",
              "    <tr>\n",
              "      <th>2021-03-14</th>\n",
              "      <td>0.0</td>\n",
              "      <td>1.0</td>\n",
              "    </tr>\n",
              "    <tr>\n",
              "      <th>2021-03-15</th>\n",
              "      <td>0.0</td>\n",
              "      <td>1.0</td>\n",
              "    </tr>\n",
              "    <tr>\n",
              "      <th>2021-03-16</th>\n",
              "      <td>1.0</td>\n",
              "      <td>1.0</td>\n",
              "    </tr>\n",
              "    <tr>\n",
              "      <th>2021-03-17</th>\n",
              "      <td>1.0</td>\n",
              "      <td>1.0</td>\n",
              "    </tr>\n",
              "    <tr>\n",
              "      <th>2021-03-18</th>\n",
              "      <td>0.0</td>\n",
              "      <td>1.0</td>\n",
              "    </tr>\n",
              "    <tr>\n",
              "      <th>2021-03-19</th>\n",
              "      <td>1.0</td>\n",
              "      <td>1.0</td>\n",
              "    </tr>\n",
              "    <tr>\n",
              "      <th>2021-03-20</th>\n",
              "      <td>0.0</td>\n",
              "      <td>1.0</td>\n",
              "    </tr>\n",
              "    <tr>\n",
              "      <th>2021-03-21</th>\n",
              "      <td>0.0</td>\n",
              "      <td>1.0</td>\n",
              "    </tr>\n",
              "  </tbody>\n",
              "</table>\n",
              "</div>"
            ],
            "text/plain": [
              "            Positive Return  Predicted Value\n",
              "Date                                        \n",
              "2021-02-17              1.0              1.0\n",
              "2021-02-18              1.0              1.0\n",
              "2021-02-19              1.0              0.0\n",
              "2021-02-20              0.0              1.0\n",
              "2021-02-21              1.0              1.0\n",
              "2021-02-22              0.0              1.0\n",
              "2021-02-23              0.0              1.0\n",
              "2021-02-24              1.0              1.0\n",
              "2021-02-25              0.0              1.0\n",
              "2021-02-26              0.0              1.0\n",
              "2021-02-27              1.0              1.0\n",
              "2021-02-28              0.0              1.0\n",
              "2021-03-01              1.0              1.0\n",
              "2021-03-02              0.0              1.0\n",
              "2021-03-03              1.0              1.0\n",
              "2021-03-04              0.0              1.0\n",
              "2021-03-05              0.0              0.0\n",
              "2021-03-06              1.0              1.0\n",
              "2021-03-07              1.0              0.0\n",
              "2021-03-08              1.0              1.0\n",
              "2021-03-09              1.0              1.0\n",
              "2021-03-10              0.0              1.0\n",
              "2021-03-11              1.0              1.0\n",
              "2021-03-12              0.0              1.0\n",
              "2021-03-13              1.0              1.0\n",
              "2021-03-14              0.0              1.0\n",
              "2021-03-15              0.0              1.0\n",
              "2021-03-16              1.0              1.0\n",
              "2021-03-17              1.0              1.0\n",
              "2021-03-18              0.0              1.0\n",
              "2021-03-19              1.0              1.0\n",
              "2021-03-20              0.0              1.0\n",
              "2021-03-21              0.0              1.0"
            ]
          },
          "metadata": {
            "tags": []
          },
          "execution_count": 24
        }
      ]
    },
    {
      "cell_type": "code",
      "metadata": {
        "id": "nmil4q8ljzZm",
        "colab": {
          "base_uri": "https://localhost:8080/"
        },
        "outputId": "1a322f66-9ea7-404e-afd3-e2e5cee381a8"
      },
      "source": [
        "print(RF_model.get_params()) # looked at parameters and experimented with them to see if they made significant differences"
      ],
      "execution_count": 25,
      "outputs": [
        {
          "output_type": "stream",
          "text": [
            "{'bootstrap': True, 'ccp_alpha': 0.0, 'class_weight': None, 'criterion': 'gini', 'max_depth': 2, 'max_features': 'auto', 'max_leaf_nodes': None, 'max_samples': None, 'min_impurity_decrease': 0.0, 'min_impurity_split': None, 'min_samples_leaf': 1, 'min_samples_split': 2, 'min_weight_fraction_leaf': 0.0, 'n_estimators': 100, 'n_jobs': None, 'oob_score': False, 'random_state': 0, 'verbose': 0, 'warm_start': False}\n"
          ],
          "name": "stdout"
        }
      ]
    },
    {
      "cell_type": "code",
      "metadata": {
        "id": "ri8mFJtpFp0i",
        "colab": {
          "base_uri": "https://localhost:8080/",
          "height": 640
        },
        "outputId": "944728c0-14a3-42ae-9dce-aa1bea34ae36"
      },
      "source": [
        "# Assigned results to the RF_Results variable and plotted the results\n",
        "RF_Results = Results[['Positive Return','Predicted Value']].plot(figsize=(20,10))\n",
        "# Saved the plot\n",
        "RF_Results.get_figure().savefig('/content/drive/MyDrive/Colab Notebooks/RF_results_combined', bbox_inches=\"tight\")\n",
        "RF_Results.plot(figsize=(20,10))"
      ],
      "execution_count": 26,
      "outputs": [
        {
          "output_type": "execute_result",
          "data": {
            "text/plain": [
              "[]"
            ]
          },
          "metadata": {
            "tags": []
          },
          "execution_count": 26
        },
        {
          "output_type": "display_data",
          "data": {
            "image/png": "[encoded data removed]",
            "text/plain": [
              "<Figure size 1440x720 with 1 Axes>"
            ]
          },
          "metadata": {
            "tags": [],
            "needs_background": "light"
          }
        }
      ]
    },
    {
      "cell_type": "markdown",
      "metadata": {
        "id": "1FRmPtq-WYPN"
      },
      "source": [
        "## Features"
      ]
    },
    {
      "cell_type": "code",
      "metadata": {
        "id": "h6hJMkVMV02l",
        "colab": {
          "base_uri": "https://localhost:8080/"
        },
        "outputId": "230d390a-00f2-4a2f-959d-ad7de04b521c"
      },
      "source": [
        "# Looked at the feature importances\n",
        "RF_importances = RF_model.feature_importances_\n",
        "\n",
        "RF_importances_sorted = sorted(zip(RF_model.feature_importances_, df_eth_returns[x_var_list].columns), reverse=True)\n",
        "RF_importances_sorted"
      ],
      "execution_count": 27,
      "outputs": [
        {
          "output_type": "execute_result",
          "data": {
            "text/plain": [
              "[(0.3585310895686061, 'vol_trend_signal'),\n",
              " (0.28998011122438416, 'sentiment_signal'),\n",
              " (0.18285333769021012, 'bollinger_signal'),\n",
              " (0.16863546151679973, 'RSI_signal'),\n",
              " (0.0, 'crossover_signal')]"
            ]
          },
          "metadata": {
            "tags": []
          },
          "execution_count": 27
        }
      ]
    },
    {
      "cell_type": "markdown",
      "metadata": {
        "id": "d5Nw08wVWc09"
      },
      "source": [
        "## Metrics"
      ]
    },
    {
      "cell_type": "code",
      "metadata": {
        "colab": {
          "base_uri": "https://localhost:8080/",
          "height": 128
        },
        "id": "Qz1yR7vDuGP7",
        "outputId": "6d428f62-4d26-4bb0-f734-40bef0a08886"
      },
      "source": [
        "# Calculate the confusion matrix using the defined function\n",
        "get_confusion_matrix(y_test, RF_predictions)"
      ],
      "execution_count": 28,
      "outputs": [
        {
          "output_type": "stream",
          "text": [
            "Confusion Matrix\n"
          ],
          "name": "stdout"
        },
        {
          "output_type": "display_data",
          "data": {
            "text/html": [
              "<div>\n",
              "<style scoped>\n",
              "    .dataframe tbody tr th:only-of-type {\n",
              "        vertical-align: middle;\n",
              "    }\n",
              "\n",
              "    .dataframe tbody tr th {\n",
              "        vertical-align: top;\n",
              "    }\n",
              "\n",
              "    .dataframe thead th {\n",
              "        text-align: right;\n",
              "    }\n",
              "</style>\n",
              "<table border=\"1\" class=\"dataframe\">\n",
              "  <thead>\n",
              "    <tr style=\"text-align: right;\">\n",
              "      <th></th>\n",
              "      <th>Predicted Not Positive</th>\n",
              "      <th>Predicted Positive</th>\n",
              "    </tr>\n",
              "  </thead>\n",
              "  <tbody>\n",
              "    <tr>\n",
              "      <th>Actual Not Positive</th>\n",
              "      <td>1</td>\n",
              "      <td>15</td>\n",
              "    </tr>\n",
              "    <tr>\n",
              "      <th>Actual Positive</th>\n",
              "      <td>2</td>\n",
              "      <td>15</td>\n",
              "    </tr>\n",
              "  </tbody>\n",
              "</table>\n",
              "</div>"
            ],
            "text/plain": [
              "                     Predicted Not Positive  Predicted Positive\n",
              "Actual Not Positive                       1                  15\n",
              "Actual Positive                           2                  15"
            ]
          },
          "metadata": {
            "tags": []
          }
        }
      ]
    },
    {
      "cell_type": "code",
      "metadata": {
        "colab": {
          "base_uri": "https://localhost:8080/",
          "height": 296
        },
        "id": "YIRxkciIuQ6l",
        "outputId": "1ff6a37b-bc06-4c8d-ac2d-4947474dd914"
      },
      "source": [
        "# Plotting the confusion matrix and saving the figure\n",
        "RF_disp = ConfusionMatrixDisplay(confusion_matrix=confusion_matrix(y_test, RF_predictions), display_labels=['Not Positive', 'Positive'])\n",
        "RF_disp.plot()\n",
        "# RF_disp.show()\n",
        "# RF_disp.plot().savefig('/content/drive/MyDrive/Colab Notebooks/RF_confusion_matrix.png')"
      ],
      "execution_count": 29,
      "outputs": [
        {
          "output_type": "execute_result",
          "data": {
            "text/plain": [
              "<sklearn.metrics._plot.confusion_matrix.ConfusionMatrixDisplay at 0x7f01b5b12ed0>"
            ]
          },
          "metadata": {
            "tags": []
          },
          "execution_count": 29
        },
        {
          "output_type": "display_data",
          "data": {
            "image/png": "[encoded data removed]",
            "text/plain": [
              "<Figure size 432x288 with 2 Axes>"
            ]
          },
          "metadata": {
            "tags": [],
            "needs_background": "light"
          }
        }
      ]
    },
    {
      "cell_type": "code",
      "metadata": {
        "colab": {
          "base_uri": "https://localhost:8080/",
          "height": 656
        },
        "id": "Kf0j-gKQudmT",
        "outputId": "1efd385e-146e-43bd-fa1c-36c3073b60c4"
      },
      "source": [
        "# Calculate all the evaluation metrics using the defined score function\n",
        "get_scores(X_test, y_test, RF_predictions, RF_model)"
      ],
      "execution_count": 30,
      "outputs": [
        {
          "output_type": "display_data",
          "data": {
            "text/html": [
              "<div>\n",
              "<style scoped>\n",
              "    .dataframe tbody tr th:only-of-type {\n",
              "        vertical-align: middle;\n",
              "    }\n",
              "\n",
              "    .dataframe tbody tr th {\n",
              "        vertical-align: top;\n",
              "    }\n",
              "\n",
              "    .dataframe thead th {\n",
              "        text-align: right;\n",
              "    }\n",
              "</style>\n",
              "<table border=\"1\" class=\"dataframe\">\n",
              "  <thead>\n",
              "    <tr style=\"text-align: right;\">\n",
              "      <th></th>\n",
              "      <th>Scores</th>\n",
              "    </tr>\n",
              "  </thead>\n",
              "  <tbody>\n",
              "    <tr>\n",
              "      <th>Accuray</th>\n",
              "      <td>0.484848</td>\n",
              "    </tr>\n",
              "    <tr>\n",
              "      <th>Balanced Accuracy</th>\n",
              "      <td>0.472426</td>\n",
              "    </tr>\n",
              "    <tr>\n",
              "      <th>Matthews Correlation Coefficient</th>\n",
              "      <td>-0.095871</td>\n",
              "    </tr>\n",
              "    <tr>\n",
              "      <th>Jaccard Similarity Coefficient</th>\n",
              "      <td>0.468750</td>\n",
              "    </tr>\n",
              "    <tr>\n",
              "      <th>Average Hamming Loss</th>\n",
              "      <td>0.515152</td>\n",
              "    </tr>\n",
              "  </tbody>\n",
              "</table>\n",
              "</div>"
            ],
            "text/plain": [
              "                                    Scores\n",
              "Accuray                           0.484848\n",
              "Balanced Accuracy                 0.472426\n",
              "Matthews Correlation Coefficient -0.095871\n",
              "Jaccard Similarity Coefficient    0.468750\n",
              "Average Hamming Loss              0.515152"
            ]
          },
          "metadata": {
            "tags": []
          }
        },
        {
          "output_type": "stream",
          "text": [
            "Classification Report:\n",
            "              precision    recall  f1-score   support\n",
            "\n",
            "Not Positive       0.33      0.06      0.11        16\n",
            "    Positive       0.50      0.88      0.64        17\n",
            "\n",
            "    accuracy                           0.48        33\n",
            "   macro avg       0.42      0.47      0.37        33\n",
            "weighted avg       0.42      0.48      0.38        33\n",
            "\n",
            "Precision-Recall Curve\n",
            "Area Under the Curve: 0.3713235294117647\n"
          ],
          "name": "stdout"
        },
        {
          "output_type": "display_data",
          "data": {
            "image/png": "[encoded data removed]",
            "text/plain": [
              "<Figure size 432x288 with 1 Axes>"
            ]
          },
          "metadata": {
            "tags": [],
            "needs_background": "light"
          }
        }
      ]
    },
    {
      "cell_type": "code",
      "metadata": {
        "colab": {
          "base_uri": "https://localhost:8080/",
          "height": 265
        },
        "id": "bEKLy6Juuzhx",
        "outputId": "afb4f17f-94e8-470f-c91e-bee4ac722759"
      },
      "source": [
        "# Predict class probabilities for the features \n",
        "# RF_probs = RF_model.predict_proba(X_test)[:,1]\n",
        "# Compute precision-recall pairs\n",
        "# RF_precision, RF_recall, _ = precision_recall_curve(y_test, RF_probs, pos_label=1)\n",
        "# plt.plot(RF_recall, RF_precision, marker='x')\n",
        "# plt.savefig('/content/drive/MyDrive/Colab Notebooks/RF_PR_Curve.png')"
      ],
      "execution_count": 31,
      "outputs": [
        {
          "output_type": "display_data",
          "data": {
            "image/png": "[encoded data removed]",
            "text/plain": [
              "<Figure size 432x288 with 1 Axes>"
            ]
          },
          "metadata": {
            "tags": [],
            "needs_background": "light"
          }
        }
      ]
    },
    {
      "cell_type": "markdown",
      "metadata": {
        "id": "9wBlKfGn7ewX"
      },
      "source": [
        "## Save Random Forest Model"
      ]
    },
    {
      "cell_type": "code",
      "metadata": {
        "id": "4-eiG6WL7Yyy"
      },
      "source": [
        "# Save the model once satisfied with results\n",
        "# from joblib import dump, load\n",
        "# dump(RF_model, 'RandomForest_model.joblib') \n",
        "\n",
        "# Load saved model to use on other datasets\n",
        "# RF_model = load('RandomForest_model.joblib') \n"
      ],
      "execution_count": 32,
      "outputs": []
    }
  ]
}